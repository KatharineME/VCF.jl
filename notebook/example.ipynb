{
 "cells": [
  {
   "cell_type": "markdown",
   "metadata": {},
   "source": [
    "## TO DO\n",
    "\n",
    "1. Dagger save and loading in make vcf functions\n",
    "\n",
    "2. filter vcf lines to return important bits\n",
    "\n",
    "3. check reference chromosome\n",
    "\n",
    "4. pull data from gene and variant databases (prefereably already hosted online)"
   ]
  },
  {
   "cell_type": "code",
   "execution_count": 1,
   "metadata": {},
   "outputs": [
    {
     "name": "stderr",
     "output_type": "stream",
     "text": [
      "┌ Info: Precompiling VCFTool [8f8d80d9-e796-45a3-8ef2-c0461a3110a4]\n",
      "└ @ Base loading.jl:1278\n",
      "WARNING: using IndexedTables.rename in module VCFTool conflicts with an existing identifier.\n"
     ]
    }
   ],
   "source": [
    "using VCFTool"
   ]
  },
  {
   "cell_type": "code",
   "execution_count": 2,
   "metadata": {},
   "outputs": [
    {
     "data": {
      "text/plain": [
       "false"
      ]
     },
     "execution_count": 2,
     "metadata": {},
     "output_type": "execute_result"
    }
   ],
   "source": [
    "# For viewing DataFrames\n",
    "\n",
    "ENV[\"COLUMNS\"]=100\n",
    "\n",
    "ENV[\"LINES\"]=200\n",
    "\n",
    "# For viewing JuliaDB tables and arrays\n",
    "\n",
    "using IndexedTables\n",
    "\n",
    "IndexedTables.set_show_compact!(false)"
   ]
  },
  {
   "cell_type": "code",
   "execution_count": 3,
   "metadata": {},
   "outputs": [
    {
     "data": {
      "text/plain": [
       "\"../input/738_variants.vcf.gz\""
      ]
     },
     "execution_count": 3,
     "metadata": {},
     "output_type": "execute_result"
    }
   ],
   "source": [
    "input_dir = \"../input/\"\n",
    "\n",
    "vcf_738_file_path = joinpath(input_dir, \"738_variants.vcf.gz\")\n",
    "\n",
    "vcf_738_1000_file_path = joinpath(input_dir, \"738_variants_1000.vcf.gz\")\n",
    "\n",
    "vcf_769_3_file_path = joinpath(input_dir, \"769_3_variants.vcf.gz\")\n",
    "\n",
    "vcf_test_file_path = joinpath(input_dir, \"test.vcf.gz\")\n",
    "\n",
    "vcf_file_path_to_use = vcf_738_file_path"
   ]
  },
  {
   "cell_type": "code",
   "execution_count": null,
   "metadata": {},
   "outputs": [],
   "source": [
    "# timerinfo, tmp = tracktime() do\n",
    "#          println(\"yes\")\n",
    "# end"
   ]
  },
  {
   "cell_type": "markdown",
   "metadata": {},
   "source": [
    "## Search by Variant"
   ]
  },
  {
   "cell_type": "code",
   "execution_count": 4,
   "metadata": {},
   "outputs": [
    {
     "data": {
      "text/plain": [
       "1-d NDSparse with 5217068 values (10 field named tuples):\n",
       "1       │ CHROM   POS         ID   REF          ALT                QUAL    FILTER                                INFO                                                    FORMAT                                     GERM\n",
       "────────┼──────────────────────────────────────────────────────────────────────────────────────────────────────────────────────────────────────────────────────────────────────────────────────────────────────────────────────────────────────────────────────────────────────────────────────────\n",
       "2       │ \"chr1\"  \"10439\"     \".\"  \"AC\"         \"A\"                \"72\"    \"PASS\"                                \"CIGAR=1M1D;RU=C;REFREP=4;IDREP=3;MQ=9\"                 \"GT:GQ:GQX:DPI:AD:ADF:ADR:FT:PL\"           \"0/1:31:5:7:2,5:0,1:2,4:PASS:108,0,28\"\n",
       "3       │ \"chr1\"  \"13284\"     \".\"  \"G\"          \"A\"                \"60\"    \"LowGQX;NoPassedVariantGTs\"           \"SNVHPOL=4;MQ=17\"                                       \"GT:GQ:GQX:DP:DPF:AD:ADF:ADR:SB:FT:PL\"     \"0/1:93:1:30:1:19,11:12,8:7,3:-9.2:LowGQX:95,0,157\"\n",
       "4       │ \"chr1\"  \"13868\"     \".\"  \"A\"          \"G\"                \"1\"     \"LowGQX;LowDepth;NoPassedVariantGTs\"  \"SNVHPOL=3;MQ=4\"                                        \"GT:GQ:GQX:DP:DPF:AD:ADF:ADR:SB:FT:PL\"     \"0/1:3:0:1:0:0,1:0,0:0,1:0.0:LowGQX;LowDepth:28,3,0\"\n",
       "5       │ \"chr1\"  \"15274\"     \".\"  \"A\"          \"G\"                \"1\"     \"LowGQX;LowDepth;NoPassedVariantGTs\"  \"SNVHPOL=2;MQ=3\"                                        \"GT:GQ:GQX:DP:DPF:AD:ADF:ADR:SB:FT:PL\"     \"0/1:3:0:1:0:0,1:0,0:0,1:0.0:LowGQX;LowDepth:27,3,0\"\n",
       "6       │ \"chr1\"  \"15903\"     \".\"  \"G\"          \"GC\"               \"209\"   \"PASS\"                                \"CIGAR=1M1I;RU=C;REFREP=2;IDREP=3;MQ=17\"                \"GT:GQ:GQX:DPI:AD:ADF:ADR:FT:PL\"           \"1/1:24:17:9:0,9:0,9:0,0:PASS:255,27,0\"\n",
       "7       │ \"chr1\"  \"16683\"     \".\"  \"T\"          \"G\"                \"0\"     \"LowGQX;NoPassedVariantGTs\"           \"SNVHPOL=7;MQ=10\"                                       \"GT:GQ:GQX:DP:DPF:AD:ADF:ADR:SB:FT:PL\"     \"0/1:20:0:3:1:2,1:0,0:2,1:0.0:LowGQX:23,0,42\"\n",
       "8       │ \"chr1\"  \"16713\"     \".\"  \"T\"          \"G\"                \"0\"     \"LowGQX;LowDepth;NoPassedVariantGTs\"  \"SNVHPOL=6;MQ=11\"                                       \"GT:GQ:GQX:DP:DPF:AD:ADF:ADR:SB:FT:PL\"     \"0/1:16:0:2:2:1,1:0,0:1,1:0.0:LowGQX;LowDepth:21,0,20\"\n",
       "9       │ \"chr1\"  \"16731\"     \".\"  \"C\"          \"G\"                \"0\"     \"LowGQX;NoPassedVariantGTs\"           \"SNVHPOL=8;MQ=16\"                                       \"GT:GQ:GQX:DP:DPF:AD:ADF:ADR:SB:FT:PL\"     \"0/1:22:0:6:10:4,2:0,0:4,2:0.0:LowGQX:25,0,58\"\n",
       "10      │ \"chr1\"  \"16734\"     \".\"  \"T\"          \"G\"                \"4\"     \"LowGQX;NoPassedVariantGTs\"           \"SNVHPOL=8;MQ=15\"                                       \"GT:GQ:GQX:DP:DPF:AD:ADF:ADR:SB:FT:PL\"     \"0/1:33:0:6:9:3,3:0,0:3,3:0.0:LowGQX:37,0,35\"\n",
       "11      │ \"chr1\"  \"19322\"     \".\"  \"C\"          \"T\"                \"0\"     \"LowGQX;NoPassedVariantGTs\"           \"SNVHPOL=3;MQ=13\"                                       \"GT:GQ:GQX:DP:DPF:AD:ADF:ADR:SB:FT:PL\"     \"0/1:15:0:17:0:14,3:10,1:4,2:0.0:LowGQX:17,0,146\"\n",
       "12      │ \"chr1\"  \"19795\"     \".\"  \"T\"          \"C\"                \"14\"    \"LowGQX;NoPassedVariantGTs\"           \"SNVHPOL=4;MQ=18\"                                       \"GT:GQ:GQX:DP:DPF:AD:ADF:ADR:SB:FT:PL\"     \"0/1:47:1:11:0:9,2:2,1:7,1:-3.2:LowGQX:48,0,130\"\n",
       "13      │ \"chr1\"  \"28494\"     \".\"  \"T\"          \"C\"                \"1\"     \"LowGQX;LowDepth;NoPassedVariantGTs\"  \"SNVHPOL=3;MQ=5\"                                        \"GT:GQ:GQX:DP:DPF:AD:ADF:ADR:SB:FT:PL\"     \"0/1:3:0:1:0:0,1:0,1:0,0:0.0:LowGQX;LowDepth:27,3,0\"\n",
       "14      │ \"chr1\"  \"28511\"     \".\"  \"G\"          \"A\"                \"1\"     \"LowGQX;LowDepth;NoPassedVariantGTs\"  \"SNVHPOL=2;MQ=5\"                                        \"GT:GQ:GQX:DP:DPF:AD:ADF:ADR:SB:FT:PL\"     \"0/1:3:0:1:0:0,1:0,1:0,0:0.0:LowGQX;LowDepth:27,3,0\"\n",
       "15      │ \"chr1\"  \"28558\"     \".\"  \"C\"          \"T\"                \"1\"     \"LowGQX;LowDepth;NoPassedVariantGTs\"  \"SNVHPOL=5;MQ=6\"                                        \"GT:GQ:GQX:DP:DPF:AD:ADF:ADR:SB:FT:PL\"     \"0/1:3:0:1:0:0,1:0,1:0,0:0.0:LowGQX;LowDepth:27,3,0\"\n",
       "16      │ \"chr1\"  \"28563\"     \".\"  \"A\"          \"G\"                \"1\"     \"LowGQX;LowDepth;NoPassedVariantGTs\"  \"SNVHPOL=3;MQ=7\"                                        \"GT:GQ:GQX:DP:DPF:AD:ADF:ADR:SB:FT:PL\"     \"0/1:3:0:1:0:0,1:0,1:0,0:0.0:LowGQX;LowDepth:27,3,0\"\n",
       "17      │ \"chr1\"  \"31029\"     \".\"  \"G\"          \"A\"                \"1\"     \"LowGQX;LowDepth;NoPassedVariantGTs\"  \"SNVHPOL=3;MQ=7\"                                        \"GT:GQ:GQX:DP:DPF:AD:ADF:ADR:SB:FT:PL\"     \"0/1:3:0:1:0:0,1:0,0:0,1:0.0:LowGQX;LowDepth:28,3,0\"\n",
       "18      │ \"chr1\"  \"38928\"     \".\"  \"A\"          \"T\"                \"0\"     \"LowGQX;LowDepth;NoPassedVariantGTs\"  \"SNVHPOL=3;MQ=13\"                                       \"GT:GQ:GQX:DP:DPF:AD:ADF:ADR:SB:FT:PL\"     \"0/1:17:0:2:0:1,1:1,1:0,0:0.0:LowGQX;LowDepth:22,0,20\"\n",
       "19      │ \"chr1\"  \"39015\"     \".\"  \"A\"          \"C\"                \"0\"     \"LowGQX;NoPassedVariantGTs\"           \"SNVHPOL=5;MQ=11\"                                       \"GT:GQ:GQX:DP:DPF:AD:ADF:ADR:SB:FT:PL\"     \"0/1:11:0:5:0:4,1:4,1:0,0:0.0:LowGQX:13,0,50\"\n",
       "20      │ \"chr1\"  \"39255\"     \".\"  \"A\"          \"C\"                \"156\"   \"LowGQX;NoPassedVariantGTs\"           \"SNVHPOL=2;MQ=15\"                                       \"GT:GQ:GQX:DP:DPF:AD:ADF:ADR:SB:FT:PL:PS\"  \"0|1:80:0:34:0:13,21:6,10:7,11:-21.5:LowGQX:191,0,77:39255\"\n",
       "21      │ \"chr1\"  \"39261\"     \".\"  \"T\"          \"C\"                \"217\"   \"LowGQX;NoPassedVariantGTs\"           \"SNVHPOL=3;MQ=15\"                                       \"GT:GQ:GQX:DP:DPF:AD:ADF:ADR:SB:FT:PL:PS\"  \"0|1:23:0:34:0:6,28:3,13:3,15:-28.5:LowGQX:252,0,20:39255\"\n",
       "22      │ \"chr1\"  \"39292\"     \".\"  \"G\"          \"T\"                \"0\"     \"LowGQX;NoPassedVariantGTs\"           \"SNVHPOL=5;MQ=15\"                                       \"GT:GQ:GQX:DP:DPF:AD:ADF:ADR:SB:FT:PL\"     \"0/1:10:0:33:0:28,5:12,3:16,2:0.0:LowGQX:11,0,260\"\n",
       "23      │ \"chr1\"  \"39430\"     \".\"  \"A\"          \"C\"                \"0\"     \"LowGQX;NoPassedVariantGTs\"           \"SNVHPOL=3;MQ=6\"                                        \"GT:GQ:GQX:DP:DPF:AD:ADF:ADR:SB:FT:PL\"     \"0/1:12:0:4:0:3,1:0,0:3,1:0.0:LowGQX:14,0,49\"\n",
       "24      │ \"chr1\"  \"39487\"     \".\"  \"A\"          \"C\"                \"0\"     \"LowGQX;NoPassedVariantGTs\"           \"SNVHPOL=6;MQ=8\"                                        \"GT:GQ:GQX:DP:DPF:AD:ADF:ADR:SB:FT:PL\"     \"0/1:5:0:6:0:5,1:0,0:5,1:0.0:LowGQX:6,0,60\"\n",
       "25      │ \"chr1\"  \"39578\"     \".\"  \"C\"          \"T\"                \"25\"    \"LowGQX;NoPassedVariantGTs\"           \"SNVHPOL=5;MQ=5\"                                        \"GT:GQ:GQX:DP:DPF:AD:ADF:ADR:SB:FT:PL\"     \"1/1:9:0:4:0:0,4:0,0:0,4:0.0:LowGQX:62,12,0\"\n",
       "26      │ \"chr1\"  \"47138\"     \".\"  \"T\"          \"G\"                \"0\"     \"LowGQX;NoPassedVariantGTs\"           \"SNVHPOL=3;MQ=16\"                                       \"GT:GQ:GQX:DP:DPF:AD:ADF:ADR:SB:FT:PL\"     \"0/1:9:0:7:0:6,1:5,1:1,0:0.0:LowGQX:11,0,105\"\n",
       "27      │ \"chr1\"  \"47461\"     \".\"  \"T\"          \"G\"                \"0\"     \"LowGQX;NoPassedVariantGTs\"           \"SNVHPOL=2;MQ=8\"                                        \"GT:GQ:GQX:DP:DPF:AD:ADF:ADR:SB:FT:PL\"     \"0/1:7:0:5:0:4,1:0,0:4,1:0.0:LowGQX:9,0,53\"\n",
       "28      │ \"chr1\"  \"48324\"     \".\"  \"T\"          \"G\"                \"0\"     \"LowGQX;LowDepth;NoPassedVariantGTs\"  \"SNVHPOL=2;MQ=6\"                                        \"GT:GQ:GQX:DP:DPF:AD:ADF:ADR:SB:FT:PL\"     \"0/1:3:0:1:0:0,1:0,0:0,1:0.0:LowGQX;LowDepth:24,3,0\"\n",
       "29      │ \"chr1\"  \"48953\"     \".\"  \"C\"          \"T\"                \"0\"     \"LowGQX;NoPassedVariantGTs\"           \"SNVHPOL=2;MQ=13\"                                       \"GT:GQ:GQX:DP:DPF:AD:ADF:ADR:SB:FT:PL\"     \"0/1:4:0:7:0:6,1:6,1:0,0:0.0:LowGQX:4,0,92\"\n",
       "30      │ \"chr1\"  \"49094\"     \".\"  \"T\"          \"G\"                \"0\"     \"LowGQX;NoPassedVariantGTs\"           \"SNVHPOL=3;MQ=9\"                                        \"GT:GQ:GQX:DP:DPF:AD:ADF:ADR:SB:FT:PL\"     \"0/1:11:0:5:0:4,1:4,1:0,0:0.0:LowGQX:13,0,59\"\n",
       "31      │ \"chr1\"  \"49298\"     \".\"  \"T\"          \"C\"                \"258\"   \"PASS\"                                \"SNVHPOL=5;MQ=23\"                                       \"GT:GQ:GQX:DP:DPF:AD:ADF:ADR:SB:FT:PL\"     \"1/1:57:14:20:1:0,20:0,12:0,8:-32.3:PASS:296,60,0\"\n",
       "32      │ \"chr1\"  \"51803\"     \".\"  \"T\"          \"C\"                \"475\"   \"PASS\"                                \"SNVHPOL=3;MQ=32\"                                       \"GT:GQ:GQX:DP:DPF:AD:ADF:ADR:SB:FT:PL\"     \"1/1:105:8:36:2:0,36:0,26:0,10:-35.9:PASS:370,108,0\"\n",
       "33      │ \"chr1\"  \"52238\"     \".\"  \"T\"          \"G\"                \"238\"   \"PASS\"                                \"SNVHPOL=2;MQ=36\"                                       \"GT:GQ:GQX:DP:DPF:AD:ADF:ADR:SB:FT:PL\"     \"1/1:45:14:16:1:0,16:0,2:0,14:-14.1:PASS:275,48,0\"\n",
       "34      │ \"chr1\"  \"52343\"     \".\"  \"T\"          \"C\"                \"0\"     \"LowGQX;NoPassedVariantGTs\"           \"SNVHPOL=3;MQ=24\"                                       \"GT:GQ:GQX:DP:DPF:AD:ADF:ADR:SB:FT:PL\"     \"0/1:3:0:13:0:12,1:0,0:12,1:0.0:LowGQX:3,0,153\"\n",
       "35      │ \"chr1\"  \"52704\"     \".\"  \"A\"          \"C\"                \"0\"     \"LowGQX;NoPassedVariantGTs\"           \"SNVHPOL=2;MQ=17\"                                       \"GT:GQ:GQX:DP:DPF:AD:ADF:ADR:SB:FT:PL\"     \"0/1:7:0:7:0:6,1:4,0:2,1:0.0:LowGQX:8,0,102\"\n",
       "36      │ \"chr1\"  \"54712\"     \".\"  \"TTTTCTTTC\"  \"T\"                \"206\"   \"PASS\"                                \"CIGAR=1M8D;RU=TTTC;REFREP=15;IDREP=13;MQ=59\"           \"GT:GQ:GQX:DPI:AD:ADF:ADR:FT:PL\"           \"0/1:156:19:40:11,15:2,8:9,7:PASS:211,0,153\"\n",
       "37      │ \"chr1\"  \"55164\"     \".\"  \"C\"          \"A\"                \"180\"   \"PASS\"                                \"SNVHPOL=5;MQ=35\"                                       \"GT:GQ:GQX:DP:DPF:AD:ADF:ADR:SB:FT:PL\"     \"1/1:30:14:11:1:0,11:0,10:0,1:-10.8:PASS:218,33,0\"\n",
       "38      │ \"chr1\"  \"55926\"     \".\"  \"T\"          \"C\"                \"428\"   \"PASS\"                                \"SNVHPOL=2;MQ=34\"                                       \"GT:GQ:GQX:DP:DPF:AD:ADF:ADR:SB:FT:PL\"     \"1/1:90:14:31:0:0,31:0,16:0,15:-52.8:PASS:370,93,0\"\n",
       "39      │ \"chr1\"  \"57952\"     \".\"  \"A\"          \"C\"                \"117\"   \"PASS\"                                \"SNVHPOL=3;MQ=18\"                                       \"GT:GQ:GQX:DP:DPF:AD:ADF:ADR:SB:FT:PL\"     \"1/1:24:4:9:0:0,9:0,2:0,7:-11.1:PASS:154,27,0\"\n",
       "40      │ \"chr1\"  \"58176\"     \".\"  \"G\"          \"A\"                \"124\"   \"PASS\"                                \"SNVHPOL=3;MQ=20\"                                       \"GT:GQ:GQX:DP:DPF:AD:ADF:ADR:SB:FT:PL\"     \"1/1:27:5:10:0:0,10:0,9:0,1:-5.9:PASS:162,30,0\"\n",
       "41      │ \"chr1\"  \"58211\"     \".\"  \"A\"          \"G\"                \"81\"    \"LowGQX;NoPassedVariantGTs\"           \"SNVHPOL=2;MQ=20\"                                       \"GT:GQ:GQX:DP:DPF:AD:ADF:ADR:SB:FT:PL\"     \"1/1:24:2:9:0:0,9:0,9:0,0:0.0:LowGQX:118,27,0\"\n",
       "42      │ \"chr1\"  \"59804\"     \".\"  \"G\"          \"T\"                \"0\"     \"LowGQX;NoPassedVariantGTs\"           \"SNVHPOL=4;MQ=8\"                                        \"GT:GQ:GQX:DP:DPF:AD:ADF:ADR:SB:FT:PL\"     \"0/1:4:0:7:0:6,1:0,0:6,1:0.0:LowGQX:4,0,66\"\n",
       "43      │ \"chr1\"  \"60905\"     \".\"  \"A\"          \"C\"                \"147\"   \"PASS\"                                \"SNVHPOL=6;MQ=29\"                                       \"GT:GQ:GQX:DP:DPF:AD:ADF:ADR:SB:FT:PL\"     \"0/1:147:6:19:0:8,11:4,6:4,5:-20.4:PASS:182,0,144\"\n",
       "44      │ \"chr1\"  \"61350\"     \".\"  \"TA\"         \"T\"                \"59\"    \"PASS\"                                \"CIGAR=1M1D;RU=A;REFREP=11;IDREP=10;MQ=26\"              \"GT:GQ:GQX:DPI:AD:ADF:ADR:FT:PL\"           \"1/1:9:8:9:0,4:0,4:0,0:PASS:69,12,0\"\n",
       "45      │ \"chr1\"  \"61442\"     \".\"  \"A\"          \"G\"                \"218\"   \"PASS\"                                \"SNVHPOL=5;MQ=31\"                                       \"GT:GQ:GQX:DP:DPF:AD:ADF:ADR:SB:FT:PL\"     \"1/1:39:17:14:0:0,14:0,5:0,9:-24.5:PASS:256,42,0\"\n",
       "46      │ \"chr1\"  \"63680\"     \".\"  \"C\"          \"T\"                \"88\"    \"LowGQX;NoPassedVariantGTs\"           \"SNVHPOL=2;MQ=27\"                                       \"GT:GQ:GQX:DP:DPF:AD:ADF:ADR:SB:FT:PL\"     \"0/1:121:2:22:0:15,7:4,3:11,4:-13.9:LowGQX:123,0,196\"\n",
       "47      │ \"chr1\"  \"63735\"     \".\"  \"CCTA\"       \"C\"                \"322\"   \"PASS\"                                \"CIGAR=1M3D;RU=CTA;REFREP=2;IDREP=1;MQ=28\"              \"GT:GQ:GQX:DPI:AD:ADF:ADR:FT:PL\"           \"1/1:46:20:17:0,16:0,3:0,13:PASS:367,49,0\"\n",
       "48      │ \"chr1\"  \"66160\"     \".\"  \"T\"          \"TTA\"              \"119\"   \"PASS\"                                \"CIGAR=1M2I;RU=TA;REFREP=7;IDREP=8;MQ=47\"               \"GT:GQ:GQX:DPI:AD:ADF:ADR:FT:PL\"           \"0/1:113:17:23:10,9:1,0:9,9:PASS:131,0,110\"\n",
       "49      │ \"chr1\"  \"66507\"     \".\"  \"T\"          \"A\"                \"127\"   \"PASS\"                                \"SNVHPOL=2;MQ=50\"                                       \"GT:GQ:GQX:DP:DPF:AD:ADF:ADR:SB:FT:PL\"     \"1/1:24:8:9:0:0,9:0,9:0,0:0.0:PASS:165,27,0\"\n",
       "50      │ \"chr1\"  \"69270\"     \".\"  \"A\"          \"G\"                \"52\"    \"LowGQX;NoPassedVariantGTs\"           \"SNVHPOL=3;MQ=12\"                                       \"GT:GQ:GQX:DP:DPF:AD:ADF:ADR:SB:FT:PL\"     \"1/1:7:1:3:0:0,3:0,3:0,0:0.0:LowGQX:89,9,0\"\n",
       "51      │ \"chr1\"  \"69511\"     \".\"  \"A\"          \"G\"                \"152\"   \"PASS\"                                \"SNVHPOL=3;MQ=21\"                                       \"GT:GQ:GQX:DP:DPF:AD:ADF:ADR:SB:FT:PL\"     \"1/1:21:8:8:0:0,8:0,3:0,5:-17.4:PASS:190,24,0\"\n",
       "52      │ \"chr1\"  \"69894\"     \".\"  \"T\"          \"G\"                \"0\"     \"LowGQX;NoPassedVariantGTs\"           \"SNVHPOL=2;MQ=6\"                                        \"GT:GQ:GQX:DP:DPF:AD:ADF:ADR:SB:FT:PL\"     \"0/1:14:0:3:0:2,1:2,0:0,1:0.0:LowGQX:17,0,30\"\n",
       "53      │ \"chr1\"  \"69897\"     \".\"  \"T\"          \"C\"                \"1\"     \"LowGQX;NoPassedVariantGTs\"           \"SNVHPOL=2;MQ=6\"                                        \"GT:GQ:GQX:DP:DPF:AD:ADF:ADR:SB:FT:PL\"     \"0/1:22:0:3:0:2,1:2,0:0,1:0.0:LowGQX:26,0,30\"\n",
       "54      │ \"chr1\"  \"72297\"     \".\"  \"G\"          \"GTAT\"             \"164\"   \"PASS\"                                \"CIGAR=1M3I;RU=TAT;REFREP=1;IDREP=2;MQ=24\"              \"GT:GQ:GQX:DPI:AD:ADF:ADR:FT:PL\"           \"0/1:206:14:33:19,13:7,5:12,8:PASS:203,0,293\"\n",
       "55      │ \"chr1\"  \"72353\"     \".\"  \"G\"          \"A\"                \"41\"    \"LowGQX;NoPassedVariantGTs\"           \"SNVHPOL=3;MQ=20\"                                       \"GT:GQ:GQX:DP:DPF:AD:ADF:ADR:SB:FT:PL\"     \"0/1:74:3:18:0:12,6:3,3:9,3:-6.7:LowGQX:76,0,177\"\n",
       "56      │ \"chr1\"  \"74681\"     \".\"  \"G\"          \"T\"                \"65\"    \"LowGQX;NoPassedVariantGTs\"           \"SNVHPOL=5;MQ=15\"                                       \"GT:GQ:GQX:DP:DPF:AD:ADF:ADR:SB:FT:PL\"     \"1/1:10:3:4:0:0,4:0,4:0,0:0.0:LowGQX:102,12,0\"\n",
       "57      │ \"chr1\"  \"76024\"     \".\"  \"C\"          \"A\"                \"32\"    \"LowGQX;NoPassedVariantGTs\"           \"SNVHPOL=2;MQ=16\"                                       \"GT:GQ:GQX:DP:DPF:AD:ADF:ADR:SB:FT:PL\"     \"0/1:65:1:17:0:12,5:6,1:6,4:-4.5:LowGQX:66,0,163\"\n",
       "58      │ \"chr1\"  \"76240\"     \".\"  \"A\"          \"G\"                \"0\"     \"LowGQX;NoPassedVariantGTs\"           \"SNVHPOL=3;MQ=11\"                                       \"GT:GQ:GQX:DP:DPF:AD:ADF:ADR:SB:FT:PL\"     \"0/1:16:0:7:0:6,1:0,0:6,1:0.0:LowGQX:18,0,85\"\n",
       "59      │ \"chr1\"  \"76308\"     \".\"  \"C\"          \"T\"                \"1\"     \"LowGQX;NoPassedVariantGTs\"           \"SNVHPOL=2;MQ=10\"                                       \"GT:GQ:GQX:DP:DPF:AD:ADF:ADR:SB:FT:PL\"     \"0/1:25:0:4:0:3,1:0,0:3,1:0.0:LowGQX:28,0,65\"\n",
       "60      │ \"chr1\"  \"76752\"     \".\"  \"A\"          \"T\"                \"30\"    \"LowGQX;NoPassedVariantGTs\"           \"SNVHPOL=3;MQ=17\"                                       \"GT:GQ:GQX:DP:DPF:AD:ADF:ADR:SB:FT:PL\"     \"0/1:63:2:8:1:6,2:4,1:2,1:-7.1:LowGQX:64,0,120\"\n",
       "61      │ \"chr1\"  \"76766\"     \".\"  \"A\"          \"T\"                \"21\"    \"LowGQX;NoPassedVariantGTs\"           \"SNVHPOL=4;MQ=20\"                                       \"GT:GQ:GQX:DP:DPF:AD:ADF:ADR:SB:FT:PL\"     \"0/1:54:2:11:1:9,2:6,1:3,1:-5.7:LowGQX:55,0,156\"\n",
       "62      │ \"chr1\"  \"77089\"     \".\"  \"C\"          \"T\"                \"1\"     \"LowGQX;NoPassedVariantGTs\"           \"SNVHPOL=2;MQ=19\"                                       \"GT:GQ:GQX:DP:DPF:AD:ADF:ADR:SB:FT:PL\"     \"0/1:29:0:9:1:7,2:2,0:5,2:0.0:LowGQX:31,0,133\"\n",
       "63      │ \"chr1\"  \"77961\"     \".\"  \"G\"          \"A\"                \"24\"    \"LowGQX;NoPassedVariantGTs\"           \"SNVHPOL=3;MQ=39\"                                       \"GT:GQ:GQX:DP:DPF:AD:ADF:ADR:SB:FT:PL\"     \"0/1:57:0:35:1:29,6:16,3:13,3:-2.5:LowGQX:58,0,348\"\n",
       "64      │ \"chr1\"  \"79033\"     \".\"  \"A\"          \"G\"                \"85\"    \"LowGQX;NoPassedVariantGTs\"           \"SNVHPOL=5;MQ=17\"                                       \"GT:GQ:GQX:DP:DPF:AD:ADF:ADR:SB:FT:PL\"     \"1/1:24:1:9:0:0,9:0,9:0,0:0.0:LowGQX:122,27,0\"\n",
       "65      │ \"chr1\"  \"79050\"     \".\"  \"G\"          \"T\"                \"188\"   \"PASS\"                                \"SNVHPOL=3;MQ=25\"                                       \"GT:GQ:GQX:DP:DPF:AD:ADF:ADR:SB:FT:PL\"     \"1/1:36:10:13:0:0,13:0,11:0,2:-17.3:PASS:226,39,0\"\n",
       "66      │ \"chr1\"  \"80346\"     \".\"  \"C\"          \"G\"                \"87\"    \"PASS\"                                \"SNVHPOL=2;MQ=21\"                                       \"GT:GQ:GQX:DP:DPF:AD:ADF:ADR:SB:FT:PL\"     \"0/1:120:7:17:0:10,7:8,4:2,3:-12.1:PASS:121,0,148\"\n",
       "67      │ \"chr1\"  \"80857\"     \".\"  \"C\"          \"T\"                \"1\"     \"LowGQX;NoPassedVariantGTs\"           \"SNVHPOL=6;MQ=10\"                                       \"GT:GQ:GQX:DP:DPF:AD:ADF:ADR:SB:FT:PL\"     \"0/1:25:0:4:0:3,1:1,1:2,0:0.0:LowGQX:28,0,87\"\n",
       "68      │ \"chr1\"  \"81343\"     \".\"  \"A\"          \"G\"                \"113\"   \"PASS\"                                \"SNVHPOL=3;MQ=46\"                                       \"GT:GQ:GQX:DP:DPF:AD:ADF:ADR:SB:FT:PL\"     \"0/1:146:18:44:1:30,14:14,6:16,8:-15.0:PASS:147,0,334\"\n",
       "69      │ \"chr1\"  \"81782\"     \".\"  \"G\"          \"A\"                \"0\"     \"LowGQX;NoPassedVariantGTs\"           \"SNVHPOL=6;MQ=19\"                                       \"GT:GQ:GQX:DP:DPF:AD:ADF:ADR:SB:FT:PL\"     \"0/1:7:0:8:0:7,1:6,0:1,1:0.0:LowGQX:8,0,148\"\n",
       "70      │ \"chr1\"  \"82133\"     \".\"  \"CAA\"        \"C\"                \"424\"   \"PASS\"                                \"CIGAR=1M2D;RU=A;REFREP=21;IDREP=19;MQ=49\"              \"GT:GQ:GQX:DPI:AD:ADF:ADR:FT:PL\"           \"1/1:104:10:48:0,45:0,22:0,23:PASS:428,107,0\"\n",
       "71      │ \"chr1\"  \"83057\"     \".\"  \"T\"          \"A\"                \"0\"     \"LowGQX;NoPassedVariantGTs\"           \"SNVHPOL=5;MQ=24\"                                       \"GT:GQ:GQX:DP:DPF:AD:ADF:ADR:SB:FT:PL\"     \"0/1:5:0:14:0:13,1:4,0:9,1:0.0:LowGQX:5,0,215\"\n",
       "72      │ \"chr1\"  \"83084\"     \".\"  \"T\"          \"A\"                \"208\"   \"PASS\"                                \"SNVHPOL=7;MQ=21\"                                       \"GT:GQ:GQX:DP:DPF:AD:ADF:ADR:SB:FT:PL\"     \"1/1:36:8:13:0:0,13:0,6:0,7:-25.5:PASS:246,39,0\"\n",
       "73      │ \"chr1\"  \"83514\"     \".\"  \"C\"          \"T\"                \"22\"    \"LowGQX;NoPassedVariantGTs\"           \"SNVHPOL=3;MQ=16\"                                       \"GT:GQ:GQX:DP:DPF:AD:ADF:ADR:SB:FT:PL\"     \"0/1:55:2:9:1:6,3:6,3:0,0:0.0:LowGQX:57,0,95\"\n",
       "74      │ \"chr1\"  \"83829\"     \".\"  \"G\"          \"GAGAA\"            \"268\"   \"PASS\"                                \"CIGAR=1M4I;RU=AGAA;REFREP=11;IDREP=12;MQ=48\"           \"GT:GQ:GQX:DPI:AD:ADF:ADR:FT:PL\"           \"0/1:160:6:51:12,23:5,14:7,9:PASS:276,0,157\"\n",
       "75      │ \"chr1\"  \"83974\"     \".\"  \"A\"          \"AAG\"              \"51\"    \"LowGQX;NoPassedVariantGTs\"           \"CIGAR=1M2I;RU=AG;REFREP=0;IDREP=1;MQ=46\"               \"GT:GQ:GQX:DPI:AD:ADF:ADR:FT:PL\"           \"0/1:93:1:53:37,12:24,4:13,8:LowGQX:90,0,595\"\n",
       "76      │ \"chr1\"  \"84010\"     \".\"  \"G\"          \"A\"                \"10\"    \"PASS\"                                \"SNVHPOL=7;MQ=43\"                                       \"GT:GQ:GQX:DP:DPF:AD:ADF:ADR:SB:FT:PL\"     \"0/1:43:4:49:2:40,9:18,8:22,1:8.4:PASS:45,0,370\"\n",
       "77      │ \"chr1\"  \"84014\"     \".\"  \"G\"          \"A\"                \"58\"    \"PASS\"                                \"SNVHPOL=7;MQ=43\"                                       \"GT:GQ:GQX:DP:DPF:AD:ADF:ADR:SB:FT:PL\"     \"0/1:91:6:47:2:37,10:19,6:18,4:-8.3:PASS:92,0,370\"\n",
       "78      │ \"chr1\"  \"84030\"     \".\"  \"G\"          \"GA\"               \"15\"    \"LowGQX;NoPassedVariantGTs\"           \"CIGAR=1M1I;RU=A;REFREP=3;IDREP=4;MQ=44\"                \"GT:GQ:GQX:DPI:AD:ADF:ADR:FT:PL\"           \"0/1:57:1:50:39,7:18,4:21,3:LowGQX:54,0,748\"\n",
       "79      │ \"chr1\"  \"85529\"     \".\"  \"G\"          \"A\"                \"48\"    \"PASS\"                                \"SNVHPOL=3;MQ=38\"                                       \"GT:GQ:GQX:DP:DPF:AD:ADF:ADR:SB:FT:PL\"     \"0/1:81:6:32:0:26,6:12,3:14,3:-8.6:PASS:82,0,323\"\n",
       "80      │ \"chr1\"  \"86749\"     \".\"  \"A\"          \"G\"                \"105\"   \"PASS\"                                \"SNVHPOL=3;MQ=30\"                                       \"GT:GQ:GQX:DP:DPF:AD:ADF:ADR:SB:FT:PL\"     \"0/1:138:7:32:0:21,11:16,9:5,2:-12.8:PASS:140,0,248\"\n",
       "81      │ \"chr1\"  \"87190\"     \".\"  \"G\"          \"A\"                \"89\"    \"LowGQX;NoPassedVariantGTs\"           \"SNVHPOL=2;MQ=54\"                                       \"GT:GQ:GQX:DP:DPF:AD:ADF:ADR:SB:FT:PL\"     \"0/1:122:2:60:1:44,16:27,8:17,8:-9.6:LowGQX:123,0,370\"\n",
       "82      │ \"chr1\"  \"88169\"     \".\"  \"C\"          \"T\"                \"132\"   \"PASS\"                                \"SNVHPOL=3;MQ=54\"                                       \"GT:GQ:GQX:DP:DPF:AD:ADF:ADR:SB:FT:PL\"     \"0/1:165:14:44:0:29,15:19,8:10,7:-17.1:PASS:166,0,356\"\n",
       "83      │ \"chr1\"  \"90339\"     \".\"  \"A\"          \"C\"                \"0\"     \"LowGQX;NoPassedVariantGTs\"           \"SNVHPOL=3;MQ=8\"                                        \"GT:GQ:GQX:DP:DPF:AD:ADF:ADR:SB:FT:PL\"     \"0/1:15:0:3:1:2,1:0,1:2,0:0.0:LowGQX:18,0,54\"\n",
       "84      │ \"chr1\"  \"92638\"     \".\"  \"A\"          \"T\"                \"0\"     \"LowGQX;NoPassedVariantGTs\"           \"SNVHPOL=3;MQ=47\"                                       \"GT:GQ:GQX:DP:DPF:AD:ADF:ADR:SB:FT:PL\"     \"0/1:9:0:49:0:42,7:20,6:22,1:0.0:LowGQX:10,0,370\"\n",
       "85      │ \"chr1\"  \"93578\"     \".\"  \"C\"          \"G\"                \"0\"     \"LowGQX;LowDepth;NoPassedVariantGTs\"  \"SNVHPOL=2;MQ=6\"                                        \"GT:GQ:GQX:DP:DPF:AD:ADF:ADR:SB:FT:PL\"     \"0/1:17:0:2:0:1,1:0,0:1,1:0.0:LowGQX;LowDepth:22,0,24\"\n",
       "86      │ \"chr1\"  \"94824\"     \".\"  \"CT\"         \"C\"                \"141\"   \"PASS\"                                \"CIGAR=1M1D;RU=T;REFREP=23;IDREP=22;MQ=30\"              \"GT:GQ:GQX:DPI:AD:ADF:ADR:FT:PL\"           \"0/1:50:3:49:16,24:15,16:1,8:PASS:142,0,47\"\n",
       "87      │ \"chr1\"  \"96124\"     \".\"  \"C\"          \"T\"                \"0\"     \"LowGQX;LowDepth;NoPassedVariantGTs\"  \"SNVHPOL=2;MQ=5\"                                        \"GT:GQ:GQX:DP:DPF:AD:ADF:ADR:SB:FT:PL\"     \"0/1:17:0:2:0:1,1:0,1:1,0:0.0:LowGQX;LowDepth:22,0,21\"\n",
       "88      │ \"chr1\"  \"96163\"     \".\"  \"C\"          \"T\"                \"0\"     \"LowGQX;NoPassedVariantGTs\"           \"SNVHPOL=3;MQ=9\"                                        \"GT:GQ:GQX:DP:DPF:AD:ADF:ADR:SB:FT:PL\"     \"0/1:11:0:6:0:5,1:3,1:2,0:0.0:LowGQX:13,0,95\"\n",
       "89      │ \"chr1\"  \"96355\"     \".\"  \"G\"          \"A\"                \"0\"     \"LowGQX;NoPassedVariantGTs\"           \"SNVHPOL=2;MQ=8\"                                        \"GT:GQ:GQX:DP:DPF:AD:ADF:ADR:SB:FT:PL\"     \"0/1:15:0:4:0:3,1:3,1:0,0:0.0:LowGQX:18,0,57\"\n",
       "90      │ \"chr1\"  \"98583\"     \".\"  \"T\"          \"A\"                \"122\"   \"LowGQX;NoPassedVariantGTs\"           \"SNVHPOL=2;MQ=27\"                                       \"GT:GQ:GQX:DP:DPF:AD:ADF:ADR:SB:FT:PL\"     \"0/1:155:2:56:0:34,22:19,13:15,9:-16.6:LowGQX:156,0,279\"\n",
       "91      │ \"chr1\"  \"98945\"     \".\"  \"C\"          \"T\"                \"0\"     \"LowGQX;NoPassedVariantGTs\"           \"SNVHPOL=2;MQ=31\"                                       \"GT:GQ:GQX:DP:DPF:AD:ADF:ADR:SB:FT:PL\"     \"0/1:13:0:52:1:45,7:14,4:31,3:0.0:LowGQX:15,0,370\"\n",
       "92      │ \"chr1\"  \"98999\"     \".\"  \"T\"          \"TTTTA\"            \"713\"   \"PASS\"                                \"CIGAR=1M4I;RU=TTTA;REFREP=10;IDREP=11;MQ=34\"           \"GT:GQ:GQX:DPI:AD:ADF:ADR:FT:PL\"           \"0/1:100:4:67:12,39:6,23:6,16:PASS:723,0,97\"\n",
       "93      │ \"chr1\"  \"99117\"     \".\"  \"G\"          \"T\"                \"5\"     \"LowGQX;NoPassedVariantGTs\"           \"SNVHPOL=25;MQ=18\"                                      \"GT:GQ:GQX:DP:DPF:AD:ADF:ADR:SB:FT:PL\"     \"0/1:37:0:17:1:13,4:0,4:13,0:9.0:LowGQX:38,0,146\"\n",
       "94      │ \"chr1\"  \"99118\"     \".\"  \"G\"          \"T\"                \"0\"     \"LowGQX;NoPassedVariantGTs\"           \"SNVHPOL=2;MQ=16\"                                       \"GT:GQ:GQX:DP:DPF:AD:ADF:ADR:SB:FT:PL\"     \"0/1:15:0:15:1:13,2:0,2:13,0:0.0:LowGQX:17,0,149\"\n",
       "95      │ \"chr1\"  \"99874\"     \".\"  \"C\"          \"T\"                \"0\"     \"LowGQX;NoPassedVariantGTs\"           \"SNVHPOL=2;MQ=15\"                                       \"GT:GQ:GQX:DP:DPF:AD:ADF:ADR:SB:FT:PL\"     \"0/1:5:0:14:0:12,2:0,0:12,2:0.0:LowGQX:5,0,143\"\n",
       "96      │ \"chr1\"  \"99887\"     \".\"  \"C\"          \"G\"                \"0\"     \"LowGQX;NoPassedVariantGTs\"           \"SNVHPOL=2;MQ=14\"                                       \"GT:GQ:GQX:DP:DPF:AD:ADF:ADR:SB:FT:PL\"     \"0/1:8:0:13:0:11,2:0,0:11,2:0.0:LowGQX:9,0,130\"\n",
       "97      │ \"chr1\"  \"100483\"    \".\"  \"C\"          \"T\"                \"27\"    \"LowGQX;NoPassedVariantGTs\"           \"SNVHPOL=2;MQ=14\"                                       \"GT:GQ:GQX:DP:DPF:AD:ADF:ADR:SB:FT:PL\"     \"0/1:60:0:16:0:9,7:9,7:0,0:0.0:LowGQX:62,0,94\"\n",
       "98      │ \"chr1\"  \"101375\"    \".\"  \"T\"          \"A\"                \"1\"     \"LowGQX;LowDepth;NoPassedVariantGTs\"  \"SNVHPOL=2;MQ=6\"                                        \"GT:GQ:GQX:DP:DPF:AD:ADF:ADR:SB:FT:PL\"     \"0/1:3:0:1:0:0,1:0,1:0,0:0.0:LowGQX;LowDepth:26,3,0\"\n",
       "        ⋮\n",
       "5216974 │ \"chrY\"  \"56884190\"  \".\"  \"T\"          \"C\"                \"247\"   \"LowGQX;NoPassedVariantGTs\"           \"SNVHPOL=4;MQ=37\"                                       \"GT:GQ:GQX:DP:DPF:AD:ADF:ADR:SB:FT:PL\"     \"0/1:211:0:47:0:18,29:7,8:11,21:-18.0:LowGQX:282,0,208\"\n",
       "5216975 │ \"chrY\"  \"56884237\"  \".\"  \"G\"          \"A\"                \"139\"   \"LowGQX;NoPassedVariantGTs\"           \"SNVHPOL=3;MQ=31\"                                       \"GT:GQ:GQX:DP:DPF:AD:ADF:ADR:SB:FT:PL\"     \"0/1:172:0:47:0:26,21:13,7:13,14:-10.4:LowGQX:174,0,293\"\n",
       "5216976 │ \"chrY\"  \"56884258\"  \".\"  \"G\"          \"T\"                \"0\"     \"LowGQX;NoPassedVariantGTs\"           \"SNVHPOL=3;MQ=30\"                                       \"GT:GQ:GQX:DP:DPF:AD:ADF:ADR:SB:FT:PL\"     \"0/1:5:0:41:1:36,5:16,3:20,2:0.0:LowGQX:6,0,370\"\n",
       "5216977 │ \"chrY\"  \"56884279\"  \".\"  \"G\"          \"A\"                \"182\"   \"LowGQX;NoPassedVariantGTs\"           \"SNVHPOL=3;MQ=29\"                                       \"GT:GQ:GQX:DP:DPF:AD:ADF:ADR:SB:FT:PL\"     \"0/1:215:1:42:1:20,22:9,8:11,14:-20.2:LowGQX:217,0,224\"\n",
       "5216978 │ \"chrY\"  \"56884298\"  \".\"  \"G\"          \"T\"                \"187\"   \"LowGQX;NoPassedVariantGTs\"           \"SNVHPOL=3;MQ=30\"                                       \"GT:GQ:GQX:DP:DPF:AD:ADF:ADR:SB:FT:PL\"     \"0/1:212:1:46:3:20,26:9,9:11,17:-19.6:LowGQX:222,0,209\"\n",
       "5216979 │ \"chrY\"  \"56884331\"  \".\"  \"A\"          \"AAAAC\"            \"438\"   \"PASS\"                                \"CIGAR=1M4I;RU=AAAC;REFREP=6;IDREP=7;MQ=31\"             \"GT:GQ:GQX:DPI:AD:ADF:ADR:FT:PL\"           \"0/1:139:10:50:12,25:6,8:6,17:PASS:465,0,136\"\n",
       "5216980 │ \"chrY\"  \"56884371\"  \".\"  \"C\"          \"T\"                \"112\"   \"LowGQX;NoPassedVariantGTs\"           \"SNVHPOL=5;MQ=32\"                                       \"GT:GQ:GQX:DP:DPF:AD:ADF:ADR:SB:FT:PL\"     \"0/1:145:1:43:2:28,15:15,3:13,12:-8.0:LowGQX:147,0,319\"\n",
       "5216981 │ \"chrY\"  \"56884424\"  \".\"  \"T\"          \"A\"                \"9\"     \"LowGQX;NoPassedVariantGTs\"           \"SNVHPOL=8;MQ=35\"                                       \"GT:GQ:GQX:DP:DPF:AD:ADF:ADR:SB:FT:PL\"     \"0/1:41:0:36:7:26,10:16,0:10,10:11.1:LowGQX:43,0,314\"\n",
       "5216982 │ \"chrY\"  \"56884425\"  \".\"  \"T\"          \"A\"                \"59\"    \"LowGQX;NoPassedVariantGTs\"           \"SNVHPOL=8;MQ=35\"                                       \"GT:GQ:GQX:DP:DPF:AD:ADF:ADR:SB:FT:PL\"     \"0/1:92:0:34:8:21,13:13,3:8,10:-0.9:LowGQX:93,0,273\"\n",
       "5216983 │ \"chrY\"  \"56884526\"  \".\"  \"G\"          \"A\"                \"13\"    \"LowGQX;NoPassedVariantGTs\"           \"SNVHPOL=6;MQ=39\"                                       \"GT:GQ:GQX:DP:DPF:AD:ADF:ADR:SB:FT:PL\"     \"0/1:45:0:19:1:15,4:4,0:11,4:2.8:LowGQX:47,0,242\"\n",
       "5216984 │ \"chrY\"  \"56884644\"  \".\"  \"G\"          \"GA\"               \"16\"    \"LowGQX;NoPassedVariantGTs\"           \"CIGAR=1M1I;RU=A;REFREP=10;IDREP=11;MQ=23\"              \"GT:GQ:GQX:DPI:AD:ADF:ADR:FT:PL\"           \"0/1:29:1:22:16,7:6,5:10,2:LowGQX:26,0,175\"\n",
       "5216985 │ \"chrY\"  \"56884752\"  \".\"  \"T\"          \"G\"                \"35\"    \"LowGQX;NoPassedVariantGTs\"           \"SNVHPOL=7;MQ=28\"                                       \"GT:GQ:GQX:DP:DPF:AD:ADF:ADR:SB:FT:PL:PS\"  \"0|1:68:1:23:0:14,9:10,9:4,0:2.8:LowGQX:69,0,221:56884752\"\n",
       "5216986 │ \"chrY\"  \"56884775\"  \".\"  \"A\"          \"G\"                \"74\"    \"LowGQX;NoPassedVariantGTs\"           \"SNVHPOL=3;MQ=30\"                                       \"GT:GQ:GQX:DP:DPF:AD:ADF:ADR:SB:FT:PL:PS\"  \"0|1:107:1:21:0:11,10:10,9:1,1:-4.8:LowGQX:109,0,169:56884752\"\n",
       "5216987 │ \"chrY\"  \"56884831\"  \".\"  \"G\"          \"A\"                \"0\"     \"LowGQX;NoPassedVariantGTs\"           \"SNVHPOL=4;MQ=24\"                                       \"GT:GQ:GQX:DP:DPF:AD:ADF:ADR:SB:FT:PL:PS\"  \"0|1:6:0:29:0:23,4:16,4:7,0:0.0:LowGQX:6,0,294:56884831\"\n",
       "5216988 │ \"chrY\"  \"56884836\"  \".\"  \"C\"          \"T\"                \"0\"     \"LowGQX;NoPassedVariantGTs\"           \"SNVHPOL=3;MQ=23\"                                       \"GT:GQ:GQX:DP:DPF:AD:ADF:ADR:SB:FT:PL:PS\"  \"0|1:4:0:28:1:24,4:17,4:7,0:0.0:LowGQX:3,0,291:56884831\"\n",
       "5216989 │ \"chrY\"  \"56884951\"  \".\"  \"T\"          \"C\"                \"6\"     \"LowGQX;NoPassedVariantGTs\"           \"SNVHPOL=3;MQ=28\"                                       \"GT:GQ:GQX:DP:DPF:AD:ADF:ADR:SB:FT:PL\"     \"0/1:37:0:72:1:58,14:45,6:13,8:11.1:LowGQX:39,0,370\"\n",
       "5216990 │ \"chrY\"  \"56885018\"  \".\"  \"G\"          \"C\"                \"120\"   \"LowGQX;NoPassedVariantGTs\"           \"SNVHPOL=3;MQ=31\"                                       \"GT:GQ:GQX:DP:DPF:AD:ADF:ADR:SB:FT:PL\"     \"0/1:153:1:88:1:59,29:46,27:13,2:0.5:LowGQX:154,0,370\"\n",
       "5216991 │ \"chrY\"  \"56885135\"  \".\"  \"C\"          \"G\"                \"163\"   \"LowGQX;NoPassedVariantGTs\"           \"SNVHPOL=3;MQ=31\"                                       \"GT:GQ:GQX:DP:DPF:AD:ADF:ADR:SB:FT:PL\"     \"0/1:196:1:127:1:86,41:42,25:44,16:-11.3:LowGQX:198,0,370\"\n",
       "5216992 │ \"chrY\"  \"56885181\"  \".\"  \"A\"          \"G\"                \"149\"   \"LowGQX;NoPassedVariantGTs\"           \"SNVHPOL=5;MQ=39\"                                       \"GT:GQ:GQX:DP:DPF:AD:ADF:ADR:SB:FT:PL\"     \"0/1:182:0:166:1:119,47:61,25:58,22:-17.6:LowGQX:183,0,370\"\n",
       "5216993 │ \"chrY\"  \"56885248\"  \".\"  \"T\"          \"A\"                \"154\"   \"LowGQX;NoPassedVariantGTs\"           \"SNVHPOL=2;MQ=44\"                                       \"GT:GQ:GQX:DP:DPF:AD:ADF:ADR:SB:FT:PL\"     \"0/1:187:0:173:0:120,53:58,21:62,32:-11.8:LowGQX:189,0,370\"\n",
       "5216994 │ \"chrY\"  \"56885366\"  \".\"  \"C\"          \"G\"                \"292\"   \"LowGQX;NoPassedVariantGTs\"           \"SNVHPOL=2;MQ=33\"                                       \"GT:GQ:GQX:DP:DPF:AD:ADF:ADR:SB:FT:PL:PS\"  \"0|1:154:1:47:0:14,33:6,11:8,22:-30.7:LowGQX:327,0,151:56885366\"\n",
       "5216995 │ \"chrY\"  \"56885367\"  \".\"  \"C\"          \"G\"                \"294\"   \"LowGQX;NoPassedVariantGTs\"           \"SNVHPOL=3;MQ=33\"                                       \"GT:GQ:GQX:DP:DPF:AD:ADF:ADR:SB:FT:PL:PS\"  \"0|1:153:1:47:0:14,33:6,11:8,22:-30.3:LowGQX:329,0,150:56885366\"\n",
       "5216996 │ \"chrY\"  \"56885400\"  \".\"  \"A\"          \"C\"                \"383\"   \"LowGQX;NoPassedVariantGTs\"           \"SNVHPOL=4;MQ=37\"                                       \"GT:GQ:GQX:DP:DPF:AD:ADF:ADR:SB:FT:PL\"     \"0/1:119:1:56:1:13,43:5,18:8,25:-43.0:LowGQX:370,0,116\"\n",
       "5216997 │ \"chrY\"  \"56885419\"  \".\"  \"T\"          \"A\"                \"17\"    \"LowGQX;NoPassedVariantGTs\"           \"SNVHPOL=3;MQ=37\"                                       \"GT:GQ:GQX:DP:DPF:AD:ADF:ADR:SB:FT:PL\"     \"0/1:49:0:57:1:45,12:13,9:32,3:7.8:LowGQX:51,0,370\"\n",
       "5216998 │ \"chrY\"  \"56885482\"  \".\"  \"T\"          \"G\"                \"402\"   \"LowGQX;NoPassedVariantGTs\"           \"SNVHPOL=2;MQ=41\"                                       \"GT:GQ:GQX:DP:DPF:AD:ADF:ADR:SB:FT:PL\"     \"0/1:250:0:79:1:33,46:12,17:21,29:-41.7:LowGQX:370,0,247\"\n",
       "5216999 │ \"chrY\"  \"56885513\"  \".\"  \"T\"          \"C\"                \"551\"   \"LowGQX;NoPassedVariantGTs\"           \"SNVHPOL=3;MQ=42\"                                       \"GT:GQ:GQX:DP:DPF:AD:ADF:ADR:SB:FT:PL:PS\"  \"0|1:130:0:83:0:20,63:11,15:9,48:-36.3:LowGQX:370,0,127:56885513\"\n",
       "5217000 │ \"chrY\"  \"56885517\"  \".\"  \"T\"          \"C\"                \"558\"   \"LowGQX;NoPassedVariantGTs\"           \"SNVHPOL=2;MQ=43\"                                       \"GT:GQ:GQX:DP:DPF:AD:ADF:ADR:SB:FT:PL:PS\"  \"0|1:128:0:84:0:20,64:11,17:9,47:-40.9:LowGQX:370,0,125:56885513\"\n",
       "5217001 │ \"chrY\"  \"56885633\"  \".\"  \"T\"          \"TAA\"              \"629\"   \"PASS\"                                \"CIGAR=1M2I;RU=A;REFREP=10;IDREP=12;MQ=42\"              \"GT:GQ:GQX:DPI:AD:ADF:ADR:FT:PL\"           \"1/1:15:12:59:10,45:5,19:5,26:PASS:642,18,0\"\n",
       "5217002 │ \"chrY\"  \"56885653\"  \".\"  \"G\"          \"T\"                \"363\"   \"LowGQX;NoPassedVariantGTs\"           \"SNVHPOL=3;MQ=40\"                                       \"GT:GQ:GQX:DP:DPF:AD:ADF:ADR:SB:FT:PL\"     \"0/1:98:0:51:1:11,40:5,18:6,22:-40.5:LowGQX:370,0,95\"\n",
       "5217003 │ \"chrY\"  \"56885714\"  \".\"  \"T\"          \"G\"                \"238\"   \"LowGQX;NoPassedVariantGTs\"           \"SNVHPOL=3;MQ=35\"                                       \"GT:GQ:GQX:DP:DPF:AD:ADF:ADR:SB:FT:PL\"     \"0/1:195:0:46:0:18,28:7,12:11,16:-27.3:LowGQX:273,0,192\"\n",
       "5217004 │ \"chrY\"  \"56885797\"  \".\"  \"T\"          \"C\"                \"131\"   \"LowGQX;NoPassedVariantGTs\"           \"SNVHPOL=4;MQ=36\"                                       \"GT:GQ:GQX:DP:DPF:AD:ADF:ADR:SB:FT:PL\"     \"0/1:164:0:37:1:19,18:9,12:10,6:-13.6:LowGQX:166,0,237\"\n",
       "5217005 │ \"chrY\"  \"56885812\"  \".\"  \"T\"          \"C\"                \"147\"   \"LowGQX;NoPassedVariantGTs\"           \"SNVHPOL=3;MQ=36\"                                       \"GT:GQ:GQX:DP:DPF:AD:ADF:ADR:SB:FT:PL\"     \"0/1:180:0:41:0:21,20:10,13:11,7:-15.2:LowGQX:182,0,250\"\n",
       "5217006 │ \"chrY\"  \"56885832\"  \".\"  \"T\"          \"C\"                \"130\"   \"LowGQX;NoPassedVariantGTs\"           \"SNVHPOL=2;MQ=37\"                                       \"GT:GQ:GQX:DP:DPF:AD:ADF:ADR:SB:FT:PL\"     \"0/1:163:0:37:0:20,17:11,12:9,5:-13.7:LowGQX:164,0,257\"\n",
       "5217007 │ \"chrY\"  \"56885839\"  \".\"  \"G\"          \"C\"                \"3\"     \"LowGQX;NoPassedVariantGTs\"           \"SNVHPOL=4;MQ=37\"                                       \"GT:GQ:GQX:DP:DPF:AD:ADF:ADR:SB:FT:PL\"     \"0/1:34:0:36:0:32,4:20,2:12,2:-1.0:LowGQX:36,0,370\"\n",
       "5217008 │ \"chrY\"  \"56885861\"  \".\"  \"G\"          \"A\"                \"177\"   \"LowGQX;NoPassedVariantGTs\"           \"SNVHPOL=2;MQ=36\"                                       \"GT:GQ:GQX:DP:DPF:AD:ADF:ADR:SB:FT:PL\"     \"0/1:210:2:36:0:18,18:13,10:5,8:-23.8:LowGQX:212,0,233\"\n",
       "5217009 │ \"chrY\"  \"56885917\"  \".\"  \"A\"          \"G\"                \"56\"    \"LowGQX;NoPassedVariantGTs\"           \"SNVHPOL=4;MQ=41\"                                       \"GT:GQ:GQX:DP:DPF:AD:ADF:ADR:SB:FT:PL\"     \"0/1:89:0:33:0:26,7:17,4:9,3:-10.4:LowGQX:91,0,324\"\n",
       "5217010 │ \"chrY\"  \"56885951\"  \".\"  \"C\"          \"A\"                \"219\"   \"LowGQX;NoPassedVariantGTs\"           \"SNVHPOL=2;MQ=43\"                                       \"GT:GQ:GQX:DP:DPF:AD:ADF:ADR:SB:FT:PL\"     \"0/1:245:0:43:0:21,22:15,9:6,13:-23.6:LowGQX:253,0,243\"\n",
       "5217011 │ \"chrY\"  \"56886087\"  \".\"  \"C\"          \"T\"                \"114\"   \"LowGQX;NoPassedVariantGTs\"           \"SNVHPOL=3;MQ=49\"                                       \"GT:GQ:GQX:DP:DPF:AD:ADF:ADR:SB:FT:PL:PS\"  \"0|1:147:0:32:6:20,12:9,7:11,5:-13.8:LowGQX:149,0,275:56886087\"\n",
       "5217012 │ \"chrY\"  \"56886106\"  \".\"  \"A\"          \"AACAAAAAAAAAACT\"  \"79\"    \"PASS\"                                \"CIGAR=1M14I;RU=ACAAAAAAAAAACT;REFREP=0;IDREP=1;MQ=51\"  \"GT:GQ:GQX:DPI:AD:ADF:ADR:FT:PL:PS\"        \"0|1:121:4:35:20,9:4,4:16,5:PASS:118,0,320:56886087\"\n",
       "5217013 │ \"chrY\"  \"56886184\"  \".\"  \"T\"          \"C\"                \"75\"    \"LowGQX;NoPassedVariantGTs\"           \"SNVHPOL=3;MQ=48\"                                       \"GT:GQ:GQX:DP:DPF:AD:ADF:ADR:SB:FT:PL:PS\"  \"0|1:108:2:22:0:13,9:1,1:12,8:-5.0:LowGQX:110,0,191:56886184\"\n",
       "5217014 │ \"chrY\"  \"56886193\"  \".\"  \"T\"          \"C\"                \"73\"    \"LowGQX;NoPassedVariantGTs\"           \"SNVHPOL=2;MQ=48\"                                       \"GT:GQ:GQX:DP:DPF:AD:ADF:ADR:SB:FT:PL:PS\"  \"0|1:106:0:23:0:14,9:2,1:12,8:-4.3:LowGQX:107,0,219:56886184\"\n",
       "5217015 │ \"chrY\"  \"56886217\"  \".\"  \"C\"          \"T\"                \"133\"   \"LowGQX;NoPassedVariantGTs\"           \"SNVHPOL=2;MQ=44\"                                       \"GT:GQ:GQX:DP:DPF:AD:ADF:ADR:SB:FT:PL\"     \"0/1:166:1:30:0:16,14:4,3:12,11:-11.1:LowGQX:168,0,233\"\n",
       "5217016 │ \"chrY\"  \"56886310\"  \".\"  \"T\"          \"C\"                \"337\"   \"LowGQX;NoPassedVariantGTs\"           \"SNVHPOL=3;MQ=41\"                                       \"GT:GQ:GQX:DP:DPF:AD:ADF:ADR:SB:FT:PL\"     \"0/1:155:2:52:0:15,37:9,30:6,7:-23.6:LowGQX:370,0,152\"\n",
       "5217017 │ \"chrY\"  \"56886366\"  \".\"  \"T\"          \"C\"                \"73\"    \"LowGQX;NoPassedVariantGTs\"           \"SNVHPOL=6;MQ=43\"                                       \"GT:GQ:GQX:DP:DPF:AD:ADF:ADR:SB:FT:PL\"     \"0/1:106:0:57:1:42,15:31,12:11,3:-10.7:LowGQX:107,0,370\"\n",
       "5217018 │ \"chrY\"  \"56886408\"  \".\"  \"C\"          \"T\"                \"340\"   \"LowGQX;NoPassedVariantGTs\"           \"SNVHPOL=2;MQ=41\"                                       \"GT:GQ:GQX:DP:DPF:AD:ADF:ADR:SB:FT:PL\"     \"0/1:100:3:43:0:9,34:5,25:4,9:-28.9:LowGQX:370,0,97\"\n",
       "5217019 │ \"chrY\"  \"56886518\"  \".\"  \"A\"          \"G\"                \"148\"   \"LowGQX;NoPassedVariantGTs\"           \"SNVHPOL=2;MQ=34\"                                       \"GT:GQ:GQX:DP:DPF:AD:ADF:ADR:SB:FT:PL\"     \"0/1:181:2:33:0:15,18:8,3:7,15:-8.2:LowGQX:183,0,203\"\n",
       "5217020 │ \"chrY\"  \"56886638\"  \".\"  \"A\"          \"G\"                \"266\"   \"LowGQX;NoPassedVariantGTs\"           \"SNVHPOL=2;MQ=36\"                                       \"GT:GQ:GQX:DP:DPF:AD:ADF:ADR:SB:FT:PL\"     \"0/1:154:2:41:2:12,28:8,13:4,15:-30.2:LowGQX:301,0,151\"\n",
       "5217021 │ \"chrY\"  \"56886662\"  \".\"  \"A\"          \"C\"                \"296\"   \"LowGQX;NoPassedVariantGTs\"           \"SNVHPOL=4;MQ=36\"                                       \"GT:GQ:GQX:DP:DPF:AD:ADF:ADR:SB:FT:PL\"     \"0/1:170:1:48:3:15,33:9,16:6,17:-35.6:LowGQX:331,0,167\"\n",
       "5217022 │ \"chrY\"  \"56886800\"  \".\"  \"G\"          \"GT\"               \"615\"   \"PASS\"                                \"CIGAR=1M1I;RU=T;REFREP=2;IDREP=3;MQ=41\"                \"GT:GQ:GQX:DPI:AD:ADF:ADR:FT:PL\"           \"0/1:285:4:48:17,28:8,25:9,3:PASS:657,0,282\"\n",
       "5217023 │ \"chrY\"  \"56886884\"  \".\"  \"C\"          \"A\"                \"62\"    \"LowGQX;NoPassedVariantGTs\"           \"SNVHPOL=4;MQ=41\"                                       \"GT:GQ:GQX:DP:DPF:AD:ADF:ADR:SB:FT:PL\"     \"0/1:95:0:49:1:38,11:20,9:18,2:-3.6:LowGQX:97,0,370\"\n",
       "5217024 │ \"chrY\"  \"56886894\"  \".\"  \"C\"          \"T\"                \"19\"    \"LowGQX;NoPassedVariantGTs\"           \"SNVHPOL=3;MQ=42\"                                       \"GT:GQ:GQX:DP:DPF:AD:ADF:ADR:SB:FT:PL:PS\"  \"0|1:52:0:48:3:41,7:20,4:21,3:-3.4:LowGQX:53,0,370:56886894\"\n",
       "5217025 │ \"chrY\"  \"56886905\"  \".\"  \"C\"          \"T\"                \"307\"   \"LowGQX;NoPassedVariantGTs\"           \"SNVHPOL=2;MQ=42\"                                       \"GT:GQ:GQX:DP:DPF:AD:ADF:ADR:SB:FT:PL:PS\"  \"0|1:215:0:50:3:19,31:7,18:12,13:-31.4:LowGQX:342,0,212:56886894\"\n",
       "5217026 │ \"chrY\"  \"56886944\"  \".\"  \"C\"          \"T\"                \"318\"   \"LowGQX;NoPassedVariantGTs\"           \"SNVHPOL=2;MQ=48\"                                       \"GT:GQ:GQX:DP:DPF:AD:ADF:ADR:SB:FT:PL:PS\"  \"0|1:236:0:55:1:22,33:12,15:10,18:-38.2:LowGQX:353,0,233:56886944\"\n",
       "5217027 │ \"chrY\"  \"56886952\"  \".\"  \"T\"          \"C\"                \"319\"   \"LowGQX;NoPassedVariantGTs\"           \"SNVHPOL=2;MQ=49\"                                       \"GT:GQ:GQX:DP:DPF:AD:ADF:ADR:SB:FT:PL:PS\"  \"0|1:250:0:59:2:24,35:13,16:11,19:-38.7:LowGQX:354,0,247:56886944\"\n",
       "5217028 │ \"chrY\"  \"56886963\"  \".\"  \"A\"          \"T\"                \"385\"   \"LowGQX;NoPassedVariantGTs\"           \"SNVHPOL=8;MQ=52\"                                       \"GT:GQ:GQX:DP:DPF:AD:ADF:ADR:SB:FT:PL:PS\"  \"0|1:212:0:63:2:22,41:10,19:12,22:-45.8:LowGQX:370,0,209:56886944\"\n",
       "5217029 │ \"chrY\"  \"56886992\"  \".\"  \"T\"          \"C\"                \"504\"   \"LowGQX;NoPassedVariantGTs\"           \"SNVHPOL=4;MQ=55\"                                       \"GT:GQ:GQX:DP:DPF:AD:ADF:ADR:SB:FT:PL\"     \"0/1:164:1:70:1:20,50:9,26:11,24:-59.1:LowGQX:370,0,161\"\n",
       "5217030 │ \"chrY\"  \"56887043\"  \".\"  \"C\"          \"T\"                \"131\"   \"LowGQX;NoPassedVariantGTs\"           \"SNVHPOL=3;MQ=54\"                                       \"GT:GQ:GQX:DP:DPF:AD:ADF:ADR:SB:FT:PL\"     \"0/1:164:0:72:1:51,21:23,12:28,9:-13.8:LowGQX:166,0,370\"\n",
       "5217031 │ \"chrY\"  \"56887138\"  \".\"  \"TGT\"        \"TG,TT\"            \"474\"   \"PASS\"                                \"CIGAR=2M1D,1M1D1M;RU=T,G;REFREP=5,1;IDREP=4,0;MQ=50\"   \"GT:GQ:GQX:DPI:AD:ADF:ADR:FT:PL\"           \"0/1:15:7:50:11,25,11:6,6,4:5,19,7:PASS:523,17,168,268,0,386\"\n",
       "5217032 │ \"chrY\"  \"56887153\"  \".\"  \"C\"          \"T\"                \"339\"   \"LowGQX;NoPassedVariantGTs\"           \"SNVHPOL=3;MQ=50\"                                       \"GT:GQ:GQX:DP:DPF:AD:ADF:ADR:SB:FT:PL\"     \"0/1:145:1:48:2:13,35:7,9:6,26:-22.1:LowGQX:370,0,142\"\n",
       "5217033 │ \"chrY\"  \"56887210\"  \".\"  \"A\"          \"C\"                \"94\"    \"LowGQX;NoPassedVariantGTs\"           \"SNVHPOL=2;MQ=49\"                                       \"GT:GQ:GQX:DP:DPF:AD:ADF:ADR:SB:FT:PL\"     \"0/1:127:0:34:6:21,13:13,4:8,9:-7.6:LowGQX:129,0,274\"\n",
       "5217034 │ \"chrY\"  \"56887228\"  \".\"  \"T\"          \"C\"                \"108\"   \"LowGQX;NoPassedVariantGTs\"           \"SNVHPOL=3;MQ=48\"                                       \"GT:GQ:GQX:DP:DPF:AD:ADF:ADR:SB:FT:PL\"     \"0/1:141:0:37:6:22,15:14,3:8,12:-1.6:LowGQX:143,0,290\"\n",
       "5217035 │ \"chrY\"  \"56887276\"  \".\"  \"T\"          \"TC\"               \"347\"   \"LowGQX;NoPassedVariantGTs\"           \"CIGAR=1M1I;RU=C;REFREP=5;IDREP=6;MQ=48\"                \"GT:GQ:GQX:DPI:AD:ADF:ADR:FT:PL:PS\"        \"0|1:266:1:40:18,20:12,1:6,19:LowGQX:379,0,263:56887276\"\n",
       "5217036 │ \"chrY\"  \"56887285\"  \".\"  \"A\"          \"C\"                \"170\"   \"LowGQX;NoPassedVariantGTs\"           \"SNVHPOL=6;MQ=49\"                                       \"GT:GQ:GQX:DP:DPF:AD:ADF:ADR:SB:FT:PL:PS\"  \"0|1:120:0:29:9:10,19:3,1:7,18:-5.7:LowGQX:205,0,117:56887276\"\n",
       "5217037 │ \"chrY\"  \"56887316\"  \".\"  \"G\"          \"A\"                \"144\"   \"LowGQX;NoPassedVariantGTs\"           \"SNVHPOL=4;MQ=46\"                                       \"GT:GQ:GQX:DP:DPF:AD:ADF:ADR:SB:FT:PL\"     \"0/1:144:0:26:6:9,17:3,0:6,17:2.1:LowGQX:179,0,141\"\n",
       "5217038 │ \"chrY\"  \"56887463\"  \".\"  \"C\"          \"A\"                \"0\"     \"LowGQX;NoPassedVariantGTs\"           \"SNVHPOL=2;MQ=42\"                                       \"GT:GQ:GQX:DP:DPF:AD:ADF:ADR:SB:FT:PL\"     \"0/1:4:0:23:0:20,3:7,0:13,3:0.0:LowGQX:3,0,287\"\n",
       "5217039 │ \"chrY\"  \"56887583\"  \".\"  \"G\"          \"A\"                \"271\"   \"PASS\"                                \"SNVHPOL=2;MQ=46\"                                       \"GT:GQ:GQX:DP:DPF:AD:ADF:ADR:SB:FT:PL\"     \"1/1:45:18:16:0:0,16:0,5:0,11:-25.9:PASS:309,48,0\"\n",
       "5217040 │ \"chrM\"  \"73\"        \".\"  \"A\"          \"G\"                \"3070\"  \"PASS\"                                \"SNVHPOL=3;MQ=60\"                                       \"GT:GQ:GQX:DP:DPF:AD:ADF:ADR:SB:FT:PL\"     \"1/1:3070:15:1476:14:0,1476:0,1338:0,138:-99.0:PASS:370,370,0\"\n",
       "5217041 │ \"chrM\"  \"152\"       \".\"  \"T\"          \"C\"                \"3070\"  \"PASS\"                                \"SNVHPOL=3;MQ=60\"                                       \"GT:GQ:GQX:DP:DPF:AD:ADF:ADR:SB:FT:PL\"     \"1/1:3070:22:3461:45:8,3453:7,2784:1,669:-99.0:PASS:370,370,0\"\n",
       "5217042 │ \"chrM\"  \"263\"       \".\"  \"A\"          \"G\"                \"3070\"  \"PASS\"                                \"SNVHPOL=4;MQ=60\"                                       \"GT:GQ:GQX:DP:DPF:AD:ADF:ADR:SB:FT:PL\"     \"1/1:3070:22:4560:219:2,4558:2,2704:0,1854:-99.0:PASS:370,370,0\"\n",
       "5217043 │ \"chrM\"  \"285\"       \".\"  \"CA\"         \"C\"                \"3070\"  \"PASS\"                                \"CIGAR=1M1D;RU=A;REFREP=6;IDREP=5;MQ=59\"                \"GT:GQ:GQX:DPI:AD:ADF:ADR:FT:PL\"           \"1/1:3070:13:4888:19,4307:12,2221:7,2086:PASS:999,999,0\"\n",
       "5217044 │ \"chrM\"  \"302\"       \".\"  \"A\"          \"AC,ACC\"           \"3070\"  \"PASS\"                                \"CIGAR=1M1I,1M2I;RU=C,C;REFREP=7,7;IDREP=8,9;MQ=59\"     \"GT:GQ:GQX:DPI:AD:ADF:ADR:FT:PL\"           \"1/2:3070:3:4534:88,2191,853:36,459,640:52,1732,213:PASS:999,999,999,999,0,999\"\n",
       "5217045 │ \"chrM\"  \"310\"       \".\"  \"T\"          \"TC\"               \"3070\"  \"PASS\"                                \"CIGAR=1M1I;RU=C;REFREP=5;IDREP=6;MQ=59\"                \"GT:GQ:GQX:DPI:AD:ADF:ADR:FT:PL\"           \"1/1:3070:10:3929:196,3183:184,1016:12,2167:PASS:999,999,0\"\n",
       "5217046 │ \"chrM\"  \"750\"       \".\"  \"A\"          \"G\"                \"3070\"  \"PASS\"                                \"SNVHPOL=3;MQ=60\"                                       \"GT:GQ:GQX:DP:DPF:AD:ADF:ADR:SB:FT:PL\"     \"1/1:3070:22:6025:66:1,6023:1,3182:0,2841:-99.0:PASS:370,370,0\"\n",
       "5217047 │ \"chrM\"  \"1438\"      \".\"  \"A\"          \"G\"                \"3070\"  \"PASS\"                                \"SNVHPOL=2;MQ=60\"                                       \"GT:GQ:GQX:DP:DPF:AD:ADF:ADR:SB:FT:PL\"     \"1/1:3070:22:6203:91:2,6201:1,3081:1,3120:-99.0:PASS:370,370,0\"\n",
       "5217048 │ \"chrM\"  \"1700\"      \".\"  \"T\"          \"C\"                \"3070\"  \"PASS\"                                \"SNVHPOL=3;MQ=60\"                                       \"GT:GQ:GQX:DP:DPF:AD:ADF:ADR:SB:FT:PL\"     \"1/1:3070:22:5980:98:15,5964:6,2742:9,3222:-99.0:PASS:370,370,0\"\n",
       "5217049 │ \"chrM\"  \"2706\"      \".\"  \"A\"          \"G\"                \"3070\"  \"PASS\"                                \"SNVHPOL=2;MQ=60\"                                       \"GT:GQ:GQX:DP:DPF:AD:ADF:ADR:SB:FT:PL\"     \"1/1:3070:22:6443:88:1,6441:0,2902:1,3539:-99.0:PASS:370,370,0\"\n",
       "5217050 │ \"chrM\"  \"3197\"      \".\"  \"T\"          \"C\"                \"3070\"  \"PASS\"                                \"SNVHPOL=2;MQ=60\"                                       \"GT:GQ:GQX:DP:DPF:AD:ADF:ADR:SB:FT:PL\"     \"1/1:3070:22:6094:96:13,6080:6,2821:7,3259:-99.0:PASS:370,370,0\"\n",
       "5217051 │ \"chrM\"  \"3816\"      \".\"  \"A\"          \"G\"                \"3070\"  \"PASS\"                                \"SNVHPOL=2;MQ=60\"                                       \"GT:GQ:GQX:DP:DPF:AD:ADF:ADR:SB:FT:PL\"     \"1/1:3070:22:5212:111:8,5204:4,2625:4,2579:-99.0:PASS:370,370,0\"\n",
       "5217052 │ \"chrM\"  \"4769\"      \".\"  \"A\"          \"G\"                \"3070\"  \"PASS\"                                \"SNVHPOL=2;MQ=43\"                                       \"GT:GQ:GQX:DP:DPF:AD:ADF:ADR:SB:FT:PL\"     \"1/1:3070:15:4036:85:0,4036:0,2797:0,1239:-99.0:PASS:370,370,0\"\n",
       "5217053 │ \"chrM\"  \"5495\"      \".\"  \"T\"          \"C\"                \"3070\"  \"PASS\"                                \"SNVHPOL=4;MQ=59\"                                       \"GT:GQ:GQX:DP:DPF:AD:ADF:ADR:SB:FT:PL\"     \"1/1:3070:22:6160:121:13,6146:10,3102:3,3044:-99.0:PASS:370,370,0\"\n",
       "5217054 │ \"chrM\"  \"7028\"      \".\"  \"C\"          \"T\"                \"3070\"  \"PASS\"                                \"SNVHPOL=3;MQ=47\"                                       \"GT:GQ:GQX:DP:DPF:AD:ADF:ADR:SB:FT:PL\"     \"1/1:3070:18:5566:84:9,5556:4,2848:5,2708:-99.0:PASS:370,370,0\"\n",
       "5217055 │ \"chrM\"  \"8860\"      \".\"  \"A\"          \"G\"                \"3070\"  \"PASS\"                                \"SNVHPOL=3;MQ=38\"                                       \"GT:GQ:GQX:DP:DPF:AD:ADF:ADR:SB:FT:PL\"     \"1/1:3070:17:4250:64:1,4249:0,2001:1,2248:-99.0:PASS:370,370,0\"\n",
       "5217056 │ \"chrM\"  \"9477\"      \".\"  \"G\"          \"A\"                \"3070\"  \"PASS\"                                \"SNVHPOL=8;MQ=58\"                                       \"GT:GQ:GQX:DP:DPF:AD:ADF:ADR:SB:FT:PL\"     \"1/1:3070:18:5891:165:16,5873:9,2873:7,3000:-99.0:PASS:370,370,0\"\n",
       "5217057 │ \"chrM\"  \"11467\"     \".\"  \"A\"          \"G\"                \"3070\"  \"PASS\"                                \"SNVHPOL=4;MQ=60\"                                       \"GT:GQ:GQX:DP:DPF:AD:ADF:ADR:SB:FT:PL\"     \"1/1:3070:22:5771:85:16,5755:11,2939:5,2816:-99.0:PASS:370,370,0\"\n",
       "5217058 │ \"chrM\"  \"11719\"     \".\"  \"G\"          \"A\"                \"3070\"  \"PASS\"                                \"SNVHPOL=3;MQ=60\"                                       \"GT:GQ:GQX:DP:DPF:AD:ADF:ADR:SB:FT:PL\"     \"1/1:3070:22:5701:145:8,5692:3,2747:5,2945:-99.0:PASS:370,370,0\"\n",
       "5217059 │ \"chrM\"  \"12308\"     \".\"  \"A\"          \"G\"                \"3070\"  \"PASS\"                                \"SNVHPOL=5;MQ=60\"                                       \"GT:GQ:GQX:DP:DPF:AD:ADF:ADR:SB:FT:PL\"     \"1/1:3070:22:5726:124:12,5714:6,2719:6,2995:-99.0:PASS:370,370,0\"\n",
       "5217060 │ \"chrM\"  \"12372\"     \".\"  \"G\"          \"A\"                \"3070\"  \"PASS\"                                \"SNVHPOL=2;MQ=60\"                                       \"GT:GQ:GQX:DP:DPF:AD:ADF:ADR:SB:FT:PL\"     \"1/1:3070:22:5607:229:22,5585:16,2945:6,2640:-99.0:PASS:370,370,0\"\n",
       "5217061 │ \"chrM\"  \"13617\"     \".\"  \"T\"          \"C\"                \"3070\"  \"PASS\"                                \"SNVHPOL=2;MQ=60\"                                       \"GT:GQ:GQX:DP:DPF:AD:ADF:ADR:SB:FT:PL\"     \"1/1:3070:22:5798:70:16,5780:6,2768:10,3012:-99.0:PASS:370,370,0\"\n",
       "5217062 │ \"chrM\"  \"14766\"     \".\"  \"C\"          \"T\"                \"3070\"  \"PASS\"                                \"SNVHPOL=5;MQ=60\"                                       \"GT:GQ:GQX:DP:DPF:AD:ADF:ADR:SB:FT:PL\"     \"1/1:3070:22:5787:241:9,5777:5,3004:4,2773:-99.0:PASS:370,370,0\"\n",
       "5217063 │ \"chrM\"  \"14793\"     \".\"  \"A\"          \"G\"                \"3070\"  \"PASS\"                                \"SNVHPOL=4;MQ=60\"                                       \"GT:GQ:GQX:DP:DPF:AD:ADF:ADR:SB:FT:PL\"     \"1/1:3070:22:5954:138:16,5937:8,3259:8,2678:-99.0:PASS:370,370,0\"\n",
       "5217064 │ \"chrM\"  \"15218\"     \".\"  \"A\"          \"G\"                \"3070\"  \"PASS\"                                \"SNVHPOL=4;MQ=60\"                                       \"GT:GQ:GQX:DP:DPF:AD:ADF:ADR:SB:FT:PL\"     \"1/1:3070:22:6169:77:7,6162:4,3113:3,3049:-99.0:PASS:370,370,0\"\n",
       "5217065 │ \"chrM\"  \"15326\"     \".\"  \"A\"          \"G\"                \"3070\"  \"PASS\"                                \"SNVHPOL=2;MQ=60\"                                       \"GT:GQ:GQX:DP:DPF:AD:ADF:ADR:SB:FT:PL\"     \"1/1:3070:22:5782:129:1,5781:1,2863:0,2918:-99.0:PASS:370,370,0\"\n",
       "5217066 │ \"chrM\"  \"15924\"     \".\"  \"A\"          \"G\"                \"3070\"  \"PASS\"                                \"SNVHPOL=3;MQ=60\"                                       \"GT:GQ:GQX:DP:DPF:AD:ADF:ADR:SB:FT:PL\"     \"1/1:3070:22:6489:88:12,6474:7,3260:5,3214:-99.0:PASS:370,370,0\"\n",
       "5217067 │ \"chrM\"  \"16256\"     \".\"  \"C\"          \"T\"                \"3070\"  \"PASS\"                                \"SNVHPOL=2;MQ=60\"                                       \"GT:GQ:GQX:DP:DPF:AD:ADF:ADR:SB:FT:PL\"     \"1/1:3070:22:5511:382:15,5494:8,2324:7,3170:-99.0:PASS:370,370,0\"\n",
       "5217068 │ \"chrM\"  \"16270\"     \".\"  \"C\"          \"T\"                \"3070\"  \"PASS\"                                \"SNVHPOL=2;MQ=60\"                                       \"GT:GQ:GQX:DP:DPF:AD:ADF:ADR:SB:FT:PL\"     \"1/1:3070:22:5351:345:12,5338:6,2092:6,3246:-99.0:PASS:370,370,0\"\n",
       "5217069 │ \"chrM\"  \"16399\"     \".\"  \"A\"          \"G\"                \"3070\"  \"PASS\"                                \"SNVHPOL=3;MQ=60\"                                       \"GT:GQ:GQX:DP:DPF:AD:ADF:ADR:SB:FT:PL\"     \"1/1:3070:22:4188:83:8,4179:3,876:5,3303:-99.0:PASS:370,370,0\""
      ]
     },
     "execution_count": 4,
     "metadata": {},
     "output_type": "execute_result"
    }
   ],
   "source": [
    "vcf = make_vcf_ndsparse(vcf_file_path_to_use)"
   ]
  },
  {
   "cell_type": "code",
   "execution_count": 5,
   "metadata": {},
   "outputs": [
    {
     "ename": "LoadError",
     "evalue": "InterruptException:\ntable(::Val{:serial}, ::NamedTuple{(:CHROM, :POS, :ID, :REF, :ALT, :QUAL, :FILTER, :INFO, :FORMAT, :GERM),NTuple{10,WeakRefStrings.StringArray{String,1}}}; pkey::Tuple{Int64}, chunks::Nothing, perms::Array{IndexedTables.Perm,1}, presorted::Bool, copy::Bool, cardinality::Array{Missing,1}) at /Users/kate/.julia/packages/IndexedTables/tRvfu/src/indexedtable.jl:101\ntable(::NamedTuple{(:CHROM, :POS, :ID, :REF, :ALT, :QUAL, :FILTER, :INFO, :FORMAT, :GERM),NTuple{10,WeakRefStrings.StringArray{String,1}}}; chunks::Nothing, kwargs::Base.Iterators.Pairs{Symbol,Any,Tuple{Symbol,Symbol},NamedTuple{(:pkey, :copy),Tuple{Tuple{Int64},Bool}}}) at /Users/kate/.julia/packages/IndexedTables/tRvfu/src/indexedtable.jl:137\ntable(::StructArrays.StructArray{NamedTuple{(:CHROM, :POS, :ID, :REF, :ALT, :QUAL, :FILTER, :INFO, :FORMAT, :GERM),NTuple{10,String}},1,NamedTuple{(:CHROM, :POS, :ID, :REF, :ALT, :QUAL, :FILTER, :INFO, :FORMAT, :GERM),NTuple{10,WeakRefStrings.StringArray{String,1}}},Int64}; kwargs::Base.Iterators.Pairs{Symbol,Any,Tuple{Symbol,Symbol},NamedTuple{(:pkey, :copy),Tuple{Tuple{Int64},Bool}}}) at /Users/kate/.julia/packages/IndexedTables/tRvfu/src/indexedtable.jl:140\nconvert(::Type{IndexedTable}, ::StructArrays.StructArray{NamedTuple{(:CHROM,),Tuple{String}},1,NamedTuple{(:CHROM,),Tuple{WeakRefStrings.StringArray{String,1}}},Int64}, ::StructArrays.StructArray{NamedTuple{(:POS, :ID, :REF, :ALT, :QUAL, :FILTER, :INFO, :FORMAT, :GERM),NTuple{9,String}},1,NamedTuple{(:POS, :ID, :REF, :ALT, :QUAL, :FILTER, :INFO, :FORMAT, :GERM),NTuple{9,WeakRefStrings.StringArray{String,1}}},Int64}; pkey::Tuple{}, kwargs::Base.Iterators.Pairs{Symbol,Bool,Tuple{Symbol},NamedTuple{(:copy,),Tuple{Bool}}}) at /Users/kate/.julia/packages/IndexedTables/tRvfu/src/indexedtable.jl:388\n_loadtable_serial(::Type{T} where T, ::Array{String,1}; delim::Char, indexcols::Array{Symbol,1}, datacols::Nothing, filenamecol::Nothing, agg::Nothing, presorted::Bool, copy::Bool, csvread::typeof(TextParse.csvread), kwargs::Base.Iterators.Pairs{Symbol,Any,Tuple{Symbol,Symbol},NamedTuple{(:header_exists, :colnames),Tuple{Bool,Array{Symbol,1}}}}) at /Users/kate/.julia/packages/JuliaDB/7cG1k/src/util.jl:183\n(::JuliaDB.var\"#190#193\"{Array{Symbol,1},Base.Iterators.Pairs{Symbol,Any,Tuple{Symbol,Symbol,Symbol},NamedTuple{(:delim, :header_exists, :colnames),Tuple{Char,Bool,Array{Symbol,1}}}},UnionAll})(::Array{String,1}) at /Users/kate/.julia/packages/JuliaDB/7cG1k/src/io.jl:131\ndo_task(::Dagger.Context, ::Dagger.OSProc, ::Int64, ::Function, ::Tuple{Array{String,1}}, ::Bool, ::Bool, ::Bool) at /Users/kate/.julia/packages/Dagger/sdZXi/src/scheduler.jl:259\n#137 at /Users/julia/buildbot/worker/package_macos64/build/usr/share/julia/stdlib/v1.5/Distributed/src/remotecall.jl:354 [inlined]\nrun_work_thunk(::Distributed.var\"#137#138\"{typeof(Dagger.Sch.do_task),Tuple{Dagger.Context,Dagger.OSProc,Int64,JuliaDB.var\"#190#193\"{Array{Symbol,1},Base.Iterators.Pairs{Symbol,Any,Tuple{Symbol,Symbol,Symbol},NamedTuple{(:delim, :header_exists, :colnames),Tuple{Char,Bool,Array{Symbol,1}}}},UnionAll},Tuple{Array{String,1}},Bool,Bool,Bool},Base.Iterators.Pairs{Union{},Union{},Tuple{},NamedTuple{(),Tuple{}}}}, ::Bool) at /Users/julia/buildbot/worker/package_macos64/build/usr/share/julia/stdlib/v1.5/Distributed/src/process_messages.jl:79\nremotecall_fetch(::Function, ::Distributed.LocalProcess, ::Dagger.Context, ::Vararg{Any,N} where N; kwargs::Base.Iterators.Pairs{Union{},Union{},Tuple{},NamedTuple{(),Tuple{}}}) at /Users/julia/buildbot/worker/package_macos64/build/usr/share/julia/stdlib/v1.5/Distributed/src/remotecall.jl:379\nremotecall_fetch(::Function, ::Distributed.LocalProcess, ::Dagger.Context, ::Vararg{Any,N} where N) at /Users/julia/buildbot/worker/package_macos64/build/usr/share/julia/stdlib/v1.5/Distributed/src/remotecall.jl:379\nremotecall_fetch(::Function, ::Int64, ::Dagger.Context, ::Vararg{Any,N} where N; kwargs::Base.Iterators.Pairs{Union{},Union{},Tuple{},NamedTuple{(),Tuple{}}}) at /Users/julia/buildbot/worker/package_macos64/build/usr/share/julia/stdlib/v1.5/Distributed/src/remotecall.jl:421\nremotecall_fetch at /Users/julia/buildbot/worker/package_macos64/build/usr/share/julia/stdlib/v1.5/Distributed/src/remotecall.jl:421 [inlined]\nmacro expansion at /Users/kate/.julia/packages/Dagger/sdZXi/src/scheduler.jl:272 [inlined]\n(::Dagger.Sch.var\"#13#14\"{Dagger.Context,Dagger.OSProc,Int64,JuliaDB.var\"#190#193\"{Array{Symbol,1},Base.Iterators.Pairs{Symbol,Any,Tuple{Symbol,Symbol,Symbol},NamedTuple{(:delim, :header_exists, :colnames),Tuple{Char,Bool,Array{Symbol,1}}}},UnionAll},Tuple{Array{String,1}},Channel{Any},Bool,Bool,Bool})() at ./task.jl:356",
     "output_type": "error",
     "traceback": [
      "InterruptException:\ntable(::Val{:serial}, ::NamedTuple{(:CHROM, :POS, :ID, :REF, :ALT, :QUAL, :FILTER, :INFO, :FORMAT, :GERM),NTuple{10,WeakRefStrings.StringArray{String,1}}}; pkey::Tuple{Int64}, chunks::Nothing, perms::Array{IndexedTables.Perm,1}, presorted::Bool, copy::Bool, cardinality::Array{Missing,1}) at /Users/kate/.julia/packages/IndexedTables/tRvfu/src/indexedtable.jl:101\ntable(::NamedTuple{(:CHROM, :POS, :ID, :REF, :ALT, :QUAL, :FILTER, :INFO, :FORMAT, :GERM),NTuple{10,WeakRefStrings.StringArray{String,1}}}; chunks::Nothing, kwargs::Base.Iterators.Pairs{Symbol,Any,Tuple{Symbol,Symbol},NamedTuple{(:pkey, :copy),Tuple{Tuple{Int64},Bool}}}) at /Users/kate/.julia/packages/IndexedTables/tRvfu/src/indexedtable.jl:137\ntable(::StructArrays.StructArray{NamedTuple{(:CHROM, :POS, :ID, :REF, :ALT, :QUAL, :FILTER, :INFO, :FORMAT, :GERM),NTuple{10,String}},1,NamedTuple{(:CHROM, :POS, :ID, :REF, :ALT, :QUAL, :FILTER, :INFO, :FORMAT, :GERM),NTuple{10,WeakRefStrings.StringArray{String,1}}},Int64}; kwargs::Base.Iterators.Pairs{Symbol,Any,Tuple{Symbol,Symbol},NamedTuple{(:pkey, :copy),Tuple{Tuple{Int64},Bool}}}) at /Users/kate/.julia/packages/IndexedTables/tRvfu/src/indexedtable.jl:140\nconvert(::Type{IndexedTable}, ::StructArrays.StructArray{NamedTuple{(:CHROM,),Tuple{String}},1,NamedTuple{(:CHROM,),Tuple{WeakRefStrings.StringArray{String,1}}},Int64}, ::StructArrays.StructArray{NamedTuple{(:POS, :ID, :REF, :ALT, :QUAL, :FILTER, :INFO, :FORMAT, :GERM),NTuple{9,String}},1,NamedTuple{(:POS, :ID, :REF, :ALT, :QUAL, :FILTER, :INFO, :FORMAT, :GERM),NTuple{9,WeakRefStrings.StringArray{String,1}}},Int64}; pkey::Tuple{}, kwargs::Base.Iterators.Pairs{Symbol,Bool,Tuple{Symbol},NamedTuple{(:copy,),Tuple{Bool}}}) at /Users/kate/.julia/packages/IndexedTables/tRvfu/src/indexedtable.jl:388\n_loadtable_serial(::Type{T} where T, ::Array{String,1}; delim::Char, indexcols::Array{Symbol,1}, datacols::Nothing, filenamecol::Nothing, agg::Nothing, presorted::Bool, copy::Bool, csvread::typeof(TextParse.csvread), kwargs::Base.Iterators.Pairs{Symbol,Any,Tuple{Symbol,Symbol},NamedTuple{(:header_exists, :colnames),Tuple{Bool,Array{Symbol,1}}}}) at /Users/kate/.julia/packages/JuliaDB/7cG1k/src/util.jl:183\n(::JuliaDB.var\"#190#193\"{Array{Symbol,1},Base.Iterators.Pairs{Symbol,Any,Tuple{Symbol,Symbol,Symbol},NamedTuple{(:delim, :header_exists, :colnames),Tuple{Char,Bool,Array{Symbol,1}}}},UnionAll})(::Array{String,1}) at /Users/kate/.julia/packages/JuliaDB/7cG1k/src/io.jl:131\ndo_task(::Dagger.Context, ::Dagger.OSProc, ::Int64, ::Function, ::Tuple{Array{String,1}}, ::Bool, ::Bool, ::Bool) at /Users/kate/.julia/packages/Dagger/sdZXi/src/scheduler.jl:259\n#137 at /Users/julia/buildbot/worker/package_macos64/build/usr/share/julia/stdlib/v1.5/Distributed/src/remotecall.jl:354 [inlined]\nrun_work_thunk(::Distributed.var\"#137#138\"{typeof(Dagger.Sch.do_task),Tuple{Dagger.Context,Dagger.OSProc,Int64,JuliaDB.var\"#190#193\"{Array{Symbol,1},Base.Iterators.Pairs{Symbol,Any,Tuple{Symbol,Symbol,Symbol},NamedTuple{(:delim, :header_exists, :colnames),Tuple{Char,Bool,Array{Symbol,1}}}},UnionAll},Tuple{Array{String,1}},Bool,Bool,Bool},Base.Iterators.Pairs{Union{},Union{},Tuple{},NamedTuple{(),Tuple{}}}}, ::Bool) at /Users/julia/buildbot/worker/package_macos64/build/usr/share/julia/stdlib/v1.5/Distributed/src/process_messages.jl:79\nremotecall_fetch(::Function, ::Distributed.LocalProcess, ::Dagger.Context, ::Vararg{Any,N} where N; kwargs::Base.Iterators.Pairs{Union{},Union{},Tuple{},NamedTuple{(),Tuple{}}}) at /Users/julia/buildbot/worker/package_macos64/build/usr/share/julia/stdlib/v1.5/Distributed/src/remotecall.jl:379\nremotecall_fetch(::Function, ::Distributed.LocalProcess, ::Dagger.Context, ::Vararg{Any,N} where N) at /Users/julia/buildbot/worker/package_macos64/build/usr/share/julia/stdlib/v1.5/Distributed/src/remotecall.jl:379\nremotecall_fetch(::Function, ::Int64, ::Dagger.Context, ::Vararg{Any,N} where N; kwargs::Base.Iterators.Pairs{Union{},Union{},Tuple{},NamedTuple{(),Tuple{}}}) at /Users/julia/buildbot/worker/package_macos64/build/usr/share/julia/stdlib/v1.5/Distributed/src/remotecall.jl:421\nremotecall_fetch at /Users/julia/buildbot/worker/package_macos64/build/usr/share/julia/stdlib/v1.5/Distributed/src/remotecall.jl:421 [inlined]\nmacro expansion at /Users/kate/.julia/packages/Dagger/sdZXi/src/scheduler.jl:272 [inlined]\n(::Dagger.Sch.var\"#13#14\"{Dagger.Context,Dagger.OSProc,Int64,JuliaDB.var\"#190#193\"{Array{Symbol,1},Base.Iterators.Pairs{Symbol,Any,Tuple{Symbol,Symbol,Symbol},NamedTuple{(:delim, :header_exists, :colnames),Tuple{Char,Bool,Array{Symbol,1}}}},UnionAll},Tuple{Array{String,1}},Channel{Any},Bool,Bool,Bool})() at ./task.jl:356",
      "",
      "Stacktrace:",
      " [1] compute_dag(::Dagger.Context, ::Dagger.Thunk) at /Users/kate/.julia/packages/Dagger/sdZXi/src/scheduler.jl:62",
      " [2] compute(::Dagger.Context, ::Dagger.Thunk) at /Users/kate/.julia/packages/Dagger/sdZXi/src/compute.jl:25",
      " [3] fromchunks(::Array{Dagger.Thunk,1}; output::Nothing, fnoffset::Int64, kwargs::Base.Iterators.Pairs{Union{},Union{},Tuple{},NamedTuple{(),Tuple{}}}) at /Users/kate/.julia/packages/JuliaDB/7cG1k/src/table.jl:148",
      " [4] _loadtable(::Type{T} where T, ::String; chunks::Nothing, output::Nothing, append::Bool, indexcols::Array{Symbol,1}, distributed::Bool, usecache::Bool, opts::Base.Iterators.Pairs{Symbol,Any,Tuple{Symbol,Symbol,Symbol},NamedTuple{(:delim, :header_exists, :colnames),Tuple{Char,Bool,Array{Symbol,1}}}}) at /Users/kate/.julia/packages/JuliaDB/7cG1k/src/io.jl:140",
      " [5] #loadtable#186 at /Users/kate/.julia/packages/JuliaDB/7cG1k/src/io.jl:63 [inlined]",
      " [6] make_vcf_indexedtable(::String) at /Users/kate/github/VCFTool.jl/src/make_vcf_indexedtable.jl:25",
      " [7] top-level scope at In[5]:1",
      " [8] include_string(::Function, ::Module, ::String, ::String) at ./loading.jl:1091"
     ]
    }
   ],
   "source": [
    "vcf_table = make_vcf_indexedtable(vcf_file_path_to_use)"
   ]
  },
  {
   "cell_type": "code",
   "execution_count": null,
   "metadata": {},
   "outputs": [],
   "source": [
    "import Pkg; Pkg.add(\"Dagger\")\n",
    "\n",
    "using Dagger\n",
    "\n",
    "Dagger.save(vcf_table, \"../input/test_vcf_table.vcf\")\n",
    "\n",
    "using Dagger\n",
    "\n",
    "dagger_load_vcf = Dagger.load(\"../input/test_vcf_ndsparse_save.vcf\")"
   ]
  },
  {
   "cell_type": "markdown",
   "metadata": {},
   "source": [
    "## Search for variant"
   ]
  },
  {
   "cell_type": "code",
   "execution_count": null,
   "metadata": {},
   "outputs": [],
   "source": [
    "using Dates\n",
    "\n",
    "start_time = now()\n",
    "\n",
    "filter(i -> (i.CHROM == 1) && (i.POS == 10144), vcf_table)\n",
    "\n",
    "end_time = now()\n",
    "\n",
    "println(\"\\nTook $(canonicalize(Dates.CompoundPeriod(end_time - start_time))).\\n\")"
   ]
  },
  {
   "cell_type": "markdown",
   "metadata": {},
   "source": [
    "## Search for region"
   ]
  },
  {
   "cell_type": "code",
   "execution_count": null,
   "metadata": {},
   "outputs": [],
   "source": [
    "using Dates\n",
    "\n",
    "start_time = now()\n",
    "\n",
    "println(filter(i -> (i.CHROM == 1) && (i.POS > 10000) && (i.POS < 100200), vcf_table))\n",
    "\n",
    "end_time = now()\n",
    "\n",
    "println(\"\\nTook $(canonicalize(Dates.CompoundPeriod(end_time - start_time))).\\n\")"
   ]
  },
  {
   "cell_type": "code",
   "execution_count": null,
   "metadata": {},
   "outputs": [],
   "source": [
    "# https://www.snpedia.com/index.php/Rs1042522\n",
    "rs1042522 = [\"chr17\", 7676154]\n",
    "\n",
    "# TP53\n",
    "tp53 = [\"chr17\", 7661779:7687550]\n",
    "\n",
    "# test set\n",
    "t = [\"chr1\", 10000:12000]"
   ]
  },
  {
   "cell_type": "markdown",
   "metadata": {},
   "source": [
    "## Get Genotype"
   ]
  },
  {
   "cell_type": "code",
   "execution_count": null,
   "metadata": {},
   "outputs": [],
   "source": [
    "using Dates\n",
    "\n",
    "start_time = now()\n",
    "\n",
    "for value in vcf[\"chr17\", 7661779]\n",
    "    \n",
    "    genotype = []\n",
    "    \n",
    "    allele_ref = value[:REF]\n",
    "    \n",
    "    allele_alt = value[:ALT]\n",
    "    \n",
    "    numeric_genotype = split(split(value[:GERM], \":\")[1], \"/\")\n",
    "    \n",
    "    if occursin(\"|\", numeric_genotype[1])\n",
    "        \n",
    "        numeric_genotype = split(numeric_genotype[1], \"|\")\n",
    "        \n",
    "    end\n",
    "    \n",
    "    counter = 1\n",
    "    \n",
    "        while counter < 3\n",
    "        \n",
    "            if \"0\" == numeric_genotype[counter]\n",
    "\n",
    "                push!(genotype, allele_ref)\n",
    "\n",
    "            elseif \"1\" == numeric_genotype[counter]\n",
    "\n",
    "                push!(genotype, split(allele_alt, \",\")[1])\n",
    "\n",
    "            elseif \"2\" == numeric_genotype[counter]\n",
    "\n",
    "                push!(genotype, split(allele_alt, \",\")[2])\n",
    "        \n",
    "            end    \n",
    "    \n",
    "        counter += 1\n",
    "        \n",
    "        end\n",
    "\n",
    "    println(\"Genotype: $genotype\")\n",
    "    \n",
    "    println(\"\\n\")\n",
    "    \n",
    "end\n",
    "  \n",
    "end_time = now()\n",
    "\n",
    "println(\"\\nTook $(canonicalize(Dates.CompoundPeriod(end_time - start_time))).\\n\")"
   ]
  },
  {
   "cell_type": "markdown",
   "metadata": {},
   "source": [
    "## Tabix Regions"
   ]
  },
  {
   "cell_type": "code",
   "execution_count": null,
   "metadata": {},
   "outputs": [],
   "source": [
    "bed_file_path = joinpath(input_dir, \"cardiotoxicity.bed\")\n",
    "\n",
    "tabix_regions_from_file(\n",
    "    bed_file_path,\n",
    "    vcf_738_file_path,\n",
    "    output_dir,\n",
    ")"
   ]
  }
 ],
 "metadata": {
  "kernelspec": {
   "display_name": "Julia 1.5.3",
   "language": "julia",
   "name": "julia-1.5"
  },
  "language_info": {
   "file_extension": ".jl",
   "mimetype": "application/julia",
   "name": "julia",
   "version": "1.5.3"
  }
 },
 "nbformat": 4,
 "nbformat_minor": 4
}
