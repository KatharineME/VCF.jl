{
 "cells": [
  {
   "cell_type": "code",
   "execution_count": 1,
   "metadata": {},
   "outputs": [
    {
     "name": "stderr",
     "output_type": "stream",
     "text": [
      "┌ Info: Precompiling VCFTool [8f8d80d9-e796-45a3-8ef2-c0461a3110a4]\n",
      "└ @ Base loading.jl:1278\n",
      "WARNING: using IndexedTables.rename in module VCFTool conflicts with an existing identifier.\n"
     ]
    }
   ],
   "source": [
    "using VCFTool"
   ]
  },
  {
   "cell_type": "code",
   "execution_count": 2,
   "metadata": {},
   "outputs": [
    {
     "data": {
      "text/plain": [
       "false"
      ]
     },
     "execution_count": 2,
     "metadata": {},
     "output_type": "execute_result"
    }
   ],
   "source": [
    "# For viewing DataFrames\n",
    "\n",
    "ENV[\"COLUMNS\"]=100\n",
    "\n",
    "ENV[\"LINES\"]=200\n",
    "\n",
    "# For viewing JuliaDB tables and arrays\n",
    "\n",
    "using IndexedTables\n",
    "\n",
    "IndexedTables.set_show_compact!(false)"
   ]
  },
  {
   "cell_type": "code",
   "execution_count": 3,
   "metadata": {},
   "outputs": [],
   "source": [
    "# JuliaDB.tracktime(f)"
   ]
  },
  {
   "cell_type": "code",
   "execution_count": 4,
   "metadata": {},
   "outputs": [
    {
     "data": {
      "text/plain": [
       "\"../input/test.vcf.gz\""
      ]
     },
     "execution_count": 4,
     "metadata": {},
     "output_type": "execute_result"
    }
   ],
   "source": [
    "input_dir = \"../input/\"\n",
    "\n",
    "vcf_738_file_path = joinpath(input_dir, \"738_variants.vcf.gz\")\n",
    "\n",
    "vcf_738_1000_file_path = joinpath(input_dir, \"738_variants_1000.vcf.gz\")\n",
    "\n",
    "vcf_769_3_file_path = joinpath(input_dir, \"769_3_variants.vcf.gz\")\n",
    "\n",
    "vcf_test_file_path = joinpath(input_dir, \"test.vcf.gz\")\n",
    "\n",
    "vcf_file_path_to_use = vcf_test_file_path"
   ]
  },
  {
   "cell_type": "markdown",
   "metadata": {},
   "source": [
    "## Search by Variant"
   ]
  },
  {
   "cell_type": "code",
   "execution_count": 5,
   "metadata": {},
   "outputs": [
    {
     "data": {
      "text/plain": [
       "1-d NDSparse with 10 values (10 field named tuples):\n",
       "1  │ CHROM   POS      ID   REF   ALT  QUAL   FILTER                                INFO                                      FORMAT                                  GERM\n",
       "───┼─────────────────────────────────────────────────────────────────────────────────────────────────────────────────────────────────────────────────────────────────────────────────────────────────────────────────────\n",
       "2  │ \"chr1\"  \"10144\"  \".\"  \"T\"   \"C\"  \"0\"    \"LowGQX;NoPassedVariantGTs\"           \"SNVHPOL=4;MQ=5\"                          \"GT:GQ:GQX:DP:DPF:AD:ADF:ADR:SB:FT:PL\"  \"0/1:16:0:3:0:2,1:2,1:0,0:0.0:LowGQX:19,0,52\"\n",
       "3  │ \"chr1\"  \"10296\"  \".\"  \"C\"   \"G\"  \"0\"    \"LowGQX;NoPassedVariantGTs\"           \"SNVHPOL=4;MQ=9\"                          \"GT:GQ:GQX:DP:DPF:AD:ADF:ADR:SB:FT:PL\"  \"0/1:22:0:3:9:2,1:0,1:2,0:0.0:LowGQX:25,0,33\"\n",
       "4  │ \"chr1\"  \"10327\"  \".\"  \"T\"   \"C\"  \"0\"    \"LowGQX;NoPassedVariantGTs\"           \"SNVHPOL=4;MQ=11\"                         \"GT:GQ:GQX:DP:DPF:AD:ADF:ADR:SB:FT:PL\"  \"0/1:11:0:5:14:4,1:1,0:3,1:0.0:LowGQX:13,0,83\"\n",
       "5  │ \"chr1\"  \"10329\"  \".\"  \"AC\"  \"A\"  \"15\"   \"LowGQX;NoPassedVariantGTs\"           \"CIGAR=1M1D;RU=C;REFREP=4;IDREP=3;MQ=10\"  \"GT:GQ:GQX:DPI:AD:ADF:ADR:FT:PL\"        \"0/1:53:1:19:7,3:2,0:5,3:LowGQX:50,0,128\"\n",
       "6  │ \"chr1\"  \"10407\"  \".\"  \"T\"   \"C\"  \"0\"    \"LowGQX;NoPassedVariantGTs\"           \"SNVHPOL=4;MQ=7\"                          \"GT:GQ:GQX:DP:DPF:AD:ADF:ADR:SB:FT:PL\"  \"0/1:13:0:5:8:4,1:1,0:3,1:0.0:LowGQX:15,0,61\"\n",
       "7  │ \"chr1\"  \"10622\"  \".\"  \"T\"   \"G\"  \"8\"    \"LowGQX;LowDepth;NoPassedVariantGTs\"  \"SNVHPOL=2;MQ=46\"                         \"GT:GQ:GQX:DP:DPF:AD:ADF:ADR:SB:FT:PL\"  \"0/1:3:0:1:0:0,1:0,0:0,1:0.0:LowGQX;LowDepth:42,3,0\"\n",
       "8  │ \"chr1\"  \"13273\"  \".\"  \"G\"   \"C\"  \"134\"  \"LowGQX;NoPassedVariantGTs\"           \"SNVHPOL=2;MQ=19\"                         \"GT:GQ:GQX:DP:DPF:AD:ADF:ADR:SB:FT:PL\"  \"1/1:27:2:10:0:0,10:0,4:0,6:-16.4:LowGQX:172,30,0\"\n",
       "9  │ \"chr1\"  \"14671\"  \".\"  \"G\"   \"C\"  \"0\"    \"LowGQX;NoPassedVariantGTs\"           \"SNVHPOL=7;MQ=17\"                         \"GT:GQ:GQX:DP:DPF:AD:ADF:ADR:SB:FT:PL\"  \"0/1:3:0:8:0:7,1:2,1:5,0:0.0:LowGQX:3,0,112\"\n",
       "10 │ \"chr1\"  \"16257\"  \".\"  \"G\"   \"C\"  \"1\"    \"LowGQX;NoPassedVariantGTs\"           \"SNVHPOL=4;MQ=26\"                         \"GT:GQ:GQX:DP:DPF:AD:ADF:ADR:SB:FT:PL\"  \"0/1:28:1:23:0:19,4:11,3:8,1:0.0:LowGQX:30,0,234\"\n",
       "11 │ \"chr1\"  \"16378\"  \".\"  \"T\"   \"C\"  \"22\"   \"LowGQX;NoPassedVariantGTs\"           \"SNVHPOL=5;MQ=21\"                         \"GT:GQ:GQX:DP:DPF:AD:ADF:ADR:SB:FT:PL\"  \"0/1:55:2:17:0:9,8:6,0:3,8:4.2:LowGQX:57,0,146\""
      ]
     },
     "execution_count": 5,
     "metadata": {},
     "output_type": "execute_result"
    }
   ],
   "source": [
    "vcf = make_vcf_ndsparse(vcf_file_path_to_use)"
   ]
  },
  {
   "cell_type": "code",
   "execution_count": 6,
   "metadata": {},
   "outputs": [],
   "source": [
    "# Convert chromosome strings to chromosome numbers\n",
    "\n",
    "chromosome_string = columns(vcf)[2]\n",
    "\n",
    "chromosome_numeric = []\n",
    "\n",
    "for item in chromosome_string\n",
    "\n",
    "    parts = split(item, \"\")\n",
    "\n",
    "    chromosome_number = parts[length(parts)]\n",
    "\n",
    "    push!(chromosome_numeric, parse(Int, chromosome_number))\n",
    "\n",
    "end"
   ]
  },
  {
   "cell_type": "code",
   "execution_count": 7,
   "metadata": {},
   "outputs": [
    {
     "data": {
      "text/plain": [
       "10-element Array{Any,1}:\n",
       " 1\n",
       " 1\n",
       " 1\n",
       " 1\n",
       " 1\n",
       " 1\n",
       " 1\n",
       " 1\n",
       " 1\n",
       " 1"
      ]
     },
     "execution_count": 7,
     "metadata": {},
     "output_type": "execute_result"
    }
   ],
   "source": []
  },
  {
   "cell_type": "code",
   "execution_count": 9,
   "metadata": {},
   "outputs": [
    {
     "data": {
      "text/plain": [
       "10-element StructArray(::WeakRefStrings.StringArray{String,1}, ::WeakRefStrings.StringArray{String,1}, ::WeakRefStrings.StringArray{String,1}, ::WeakRefStrings.StringArray{String,1}, ::WeakRefStrings.StringArray{String,1}, ::WeakRefStrings.StringArray{String,1}, ::WeakRefStrings.StringArray{String,1}, ::WeakRefStrings.StringArray{String,1}, ::WeakRefStrings.StringArray{String,1}, ::WeakRefStrings.StringArray{String,1}) with eltype NamedTuple{(:CHROM, :POS, :ID, :REF, :ALT, :QUAL, :FILTER, :INFO, :FORMAT, :GERM),NTuple{10,String}}:\n",
       " (CHROM = \"chr1\", POS = \"10144\", ID = \".\", REF = \"T\", ALT = \"C\", QUAL = \"0\", FILTER = \"LowGQX;NoPassedVariantGTs\", INFO = \"SNVHPOL=4;MQ=5\", FORMAT = \"GT:GQ:GQX:DP:DPF:AD:ADF:ADR:SB:FT:PL\", GERM = \"0/1:16:0:3:0:2,1:2,1:0,0:0.0:LowGQX:19,0,52\")\n",
       " (CHROM = \"chr1\", POS = \"10296\", ID = \".\", REF = \"C\", ALT = \"G\", QUAL = \"0\", FILTER = \"LowGQX;NoPassedVariantGTs\", INFO = \"SNVHPOL=4;MQ=9\", FORMAT = \"GT:GQ:GQX:DP:DPF:AD:ADF:ADR:SB:FT:PL\", GERM = \"0/1:22:0:3:9:2,1:0,1:2,0:0.0:LowGQX:25,0,33\")\n",
       " (CHROM = \"chr1\", POS = \"10327\", ID = \".\", REF = \"T\", ALT = \"C\", QUAL = \"0\", FILTER = \"LowGQX;NoPassedVariantGTs\", INFO = \"SNVHPOL=4;MQ=11\", FORMAT = \"GT:GQ:GQX:DP:DPF:AD:ADF:ADR:SB:FT:PL\", GERM = \"0/1:11:0:5:14:4,1:1,0:3,1:0.0:LowGQX:13,0,83\")\n",
       " (CHROM = \"chr1\", POS = \"10329\", ID = \".\", REF = \"AC\", ALT = \"A\", QUAL = \"15\", FILTER = \"LowGQX;NoPassedVariantGTs\", INFO = \"CIGAR=1M1D;RU=C;REFREP=4;IDREP=3;MQ=10\", FORMAT = \"GT:GQ:GQX:DPI:AD:ADF:ADR:FT:PL\", GERM = \"0/1:53:1:19:7,3:2,0:5,3:LowGQX:50,0,128\")\n",
       " (CHROM = \"chr1\", POS = \"10407\", ID = \".\", REF = \"T\", ALT = \"C\", QUAL = \"0\", FILTER = \"LowGQX;NoPassedVariantGTs\", INFO = \"SNVHPOL=4;MQ=7\", FORMAT = \"GT:GQ:GQX:DP:DPF:AD:ADF:ADR:SB:FT:PL\", GERM = \"0/1:13:0:5:8:4,1:1,0:3,1:0.0:LowGQX:15,0,61\")\n",
       " (CHROM = \"chr1\", POS = \"10622\", ID = \".\", REF = \"T\", ALT = \"G\", QUAL = \"8\", FILTER = \"LowGQX;LowDepth;NoPassedVariantGTs\", INFO = \"SNVHPOL=2;MQ=46\", FORMAT = \"GT:GQ:GQX:DP:DPF:AD:ADF:ADR:SB:FT:PL\", GERM = \"0/1:3:0:1:0:0,1:0,0:0,1:0.0:LowGQX;LowDepth:42,3,0\")\n",
       " (CHROM = \"chr1\", POS = \"13273\", ID = \".\", REF = \"G\", ALT = \"C\", QUAL = \"134\", FILTER = \"LowGQX;NoPassedVariantGTs\", INFO = \"SNVHPOL=2;MQ=19\", FORMAT = \"GT:GQ:GQX:DP:DPF:AD:ADF:ADR:SB:FT:PL\", GERM = \"1/1:27:2:10:0:0,10:0,4:0,6:-16.4:LowGQX:172,30,0\")\n",
       " (CHROM = \"chr1\", POS = \"14671\", ID = \".\", REF = \"G\", ALT = \"C\", QUAL = \"0\", FILTER = \"LowGQX;NoPassedVariantGTs\", INFO = \"SNVHPOL=7;MQ=17\", FORMAT = \"GT:GQ:GQX:DP:DPF:AD:ADF:ADR:SB:FT:PL\", GERM = \"0/1:3:0:8:0:7,1:2,1:5,0:0.0:LowGQX:3,0,112\")\n",
       " (CHROM = \"chr1\", POS = \"16257\", ID = \".\", REF = \"G\", ALT = \"C\", QUAL = \"1\", FILTER = \"LowGQX;NoPassedVariantGTs\", INFO = \"SNVHPOL=4;MQ=26\", FORMAT = \"GT:GQ:GQX:DP:DPF:AD:ADF:ADR:SB:FT:PL\", GERM = \"0/1:28:1:23:0:19,4:11,3:8,1:0.0:LowGQX:30,0,234\")\n",
       " (CHROM = \"chr1\", POS = \"16378\", ID = \".\", REF = \"T\", ALT = \"C\", QUAL = \"22\", FILTER = \"LowGQX;NoPassedVariantGTs\", INFO = \"SNVHPOL=5;MQ=21\", FORMAT = \"GT:GQ:GQX:DP:DPF:AD:ADF:ADR:SB:FT:PL\", GERM = \"0/1:55:2:17:0:9,8:6,0:3,8:4.2:LowGQX:57,0,146\")"
      ]
     },
     "execution_count": 9,
     "metadata": {},
     "output_type": "execute_result"
    }
   ],
   "source": [
    "# using IndexedTables\n",
    "\n",
    "# vcf_new = IndexedTables.reindex(vcf, (:CHROM, :POS))"
   ]
  },
  {
   "cell_type": "code",
   "execution_count": null,
   "metadata": {},
   "outputs": [],
   "source": [
    "rows(vcf)\n",
    "\n",
    "n_rows = length(rows(vcf))\n",
    "\n",
    "vcf_new = vcf[1:end .!=1]\n",
    "\n",
    "# keys(vcf)\n",
    "\n",
    "# IndexedTables.where()\n",
    "\n",
    "# Base.getindex()\n",
    "\n",
    "# Base.filter()\n",
    "# filter(val -> val == \"A\", vcf.:ALT)\n",
    "\n",
    "# IndexedTables.groupby()"
   ]
  },
  {
   "cell_type": "code",
   "execution_count": null,
   "metadata": {},
   "outputs": [],
   "source": [
    "# cols = columns(vcf_table)\n",
    "\n",
    "# new_cols = keys(cols)[2:end]\n",
    "\n",
    "# new_vals = values(vcf_table)[1]\n",
    "\n",
    "d = ColDict(vcf_table)\n",
    "\n",
    "pop!()\n",
    "\n",
    "# getindex(vcf_table, [:POS, :ID])\n",
    "\n",
    "# new_tuple = NamedTuple()"
   ]
  },
  {
   "cell_type": "code",
   "execution_count": null,
   "metadata": {},
   "outputs": [],
   "source": [
    "vcf_table = loadtable(\n",
    "    \"../input/test.vcf\",\n",
    "    delim='\\t',\n",
    "    header_exists=false, \n",
    "    colnames=[:CHROM, :POS, :ID, :REF, :ALT, :QUAL, :FILTER, :INFO, :FORMAT, :GERM],\n",
    "    indexcols=[:CHROM],\n",
    ")"
   ]
  },
  {
   "cell_type": "code",
   "execution_count": null,
   "metadata": {},
   "outputs": [],
   "source": [
    "using JuliaDB \n",
    "\n",
    "function make_vcf_indexedtable(vcf_gz_file_path)\n",
    "    \n",
    "    vcf_file_path = string(Array(split(vcf_gz_file_path, \".gz\"))[1])\n",
    "\n",
    "    if isfile(vcf_file_path) == false\n",
    "        \n",
    "        io_gz = open(vcf_gz_file_path)\n",
    "\n",
    "        io = GzipDecompressorStream(io_gz)\n",
    "\n",
    "        file = CSV.File(io, comment=\"##\", delim='\\t', header=1)\n",
    "\n",
    "        CSV.write(vcf_file_path, delim='\\t', file)\n",
    "\n",
    "        close(io)\n",
    "\n",
    "    end\n",
    "    \n",
    "    vcf_table = loadtable(\n",
    "        vcf_file_path,\n",
    "        delim='\\t',\n",
    "        header_exists=false, \n",
    "        colnames=[:CHROM, :POS, :ID, :REF, :ALT, :QUAL, :FILTER, :INFO, :FORMAT, :GERM],\n",
    "        indexcols=[:CHROM],\n",
    "    )\n",
    "\n",
    "    # Remove header row\n",
    "    \n",
    "    n_rows = length(rows(vcf_table))\n",
    "\n",
    "    vcf_table = vcf_table[2:n_rows]\n",
    "    \n",
    "    # Convert chromosome strings to chromosome numbers\n",
    "\n",
    "    chromosomes_string = Array(columns(vcf_table)[1])\n",
    "\n",
    "    chromosomes_numeric = []\n",
    "\n",
    "    for item in chromosomes_string\n",
    "\n",
    "        parts = split(item, \"\")\n",
    "\n",
    "        chromosome_number = parts[length(parts)]\n",
    "\n",
    "        push!(chromosomes_numeric, parse(Int, chromosome_number))\n",
    "\n",
    "    end\n",
    "end"
   ]
  },
  {
   "cell_type": "code",
   "execution_count": null,
   "metadata": {},
   "outputs": [],
   "source": [
    "# https://www.snpedia.com/index.php/Rs1042522\n",
    "rs1042522 = [\"chr17\", 7676154]\n",
    "\n",
    "# TP53\n",
    "tp53 = [\"chr17\", 7661779:7687550]\n",
    "\n",
    "# test set\n",
    "t = [\"chr1\", 10000:12000]"
   ]
  },
  {
   "cell_type": "code",
   "execution_count": null,
   "metadata": {},
   "outputs": [],
   "source": [
    "using Dates\n",
    "\n",
    "start_time = now()\n",
    "\n",
    "for value in vcf[\"chr17\", 7661779]\n",
    "    \n",
    "    genotype = []\n",
    "    \n",
    "    allele_ref = value[:REF]\n",
    "    \n",
    "    allele_alt = value[:ALT]\n",
    "    \n",
    "    numeric_genotype = split(split(value[:GERM], \":\")[1], \"/\")\n",
    "    \n",
    "    if occursin(\"|\", numeric_genotype[1])\n",
    "        \n",
    "        numeric_genotype = split(numeric_genotype[1], \"|\")\n",
    "        \n",
    "    end\n",
    "    \n",
    "    counter = 1\n",
    "    \n",
    "        while counter < 3\n",
    "        \n",
    "            if \"0\" == numeric_genotype[counter]\n",
    "\n",
    "                push!(genotype, allele_ref)\n",
    "\n",
    "            elseif \"1\" == numeric_genotype[counter]\n",
    "\n",
    "                push!(genotype, split(allele_alt, \",\")[1])\n",
    "\n",
    "            elseif \"2\" == numeric_genotype[counter]\n",
    "\n",
    "                push!(genotype, split(allele_alt, \",\")[2])\n",
    "        \n",
    "            end    \n",
    "    \n",
    "        counter += 1\n",
    "        \n",
    "        end\n",
    "\n",
    "    println(\"Genotype: $genotype\")\n",
    "    \n",
    "    println(\"\\n\")\n",
    "    \n",
    "end\n",
    "  \n",
    "end_time = now()\n",
    "\n",
    "println(\"\\nTook $(canonicalize(Dates.CompoundPeriod(end_time - start_time))).\\n\")"
   ]
  },
  {
   "cell_type": "code",
   "execution_count": null,
   "metadata": {},
   "outputs": [],
   "source": [
    "import Pkg; Pkg.add(\"Dagger\")\n",
    "\n",
    "using Dagger\n",
    "\n",
    "Dagger.save(vcf, \"../input/test_vcf_ndsparse_save.vcf\")"
   ]
  },
  {
   "cell_type": "code",
   "execution_count": null,
   "metadata": {},
   "outputs": [],
   "source": [
    "using Dagger\n",
    "\n",
    "dagger_load_vcf = Dagger.load(\"../input/test_vcf_ndsparse_save.vcf\")"
   ]
  },
  {
   "cell_type": "markdown",
   "metadata": {},
   "source": [
    "## Search by Gene"
   ]
  },
  {
   "cell_type": "markdown",
   "metadata": {},
   "source": [
    "## Search by Region"
   ]
  },
  {
   "cell_type": "markdown",
   "metadata": {},
   "source": [
    "## Tabix Regions"
   ]
  },
  {
   "cell_type": "code",
   "execution_count": null,
   "metadata": {},
   "outputs": [],
   "source": [
    "bed_file_path = joinpath(input_dir, \"cardiotoxicity.bed\")\n",
    "\n",
    "tabix_regions_from_file(\n",
    "    bed_file_path,\n",
    "    vcf_738_file_path,\n",
    "    output_dir,\n",
    ")"
   ]
  },
  {
   "cell_type": "markdown",
   "metadata": {},
   "source": [
    "## JuliaDB\n",
    "\n",
    "An unzipped VCF file can be loaded into an indextable or ndsparse array directly using loadtable() or ndsparese() respectively. However, its much faster to query variants if they are in an ndsparse array because the chromosome and position are both part of the index."
   ]
  },
  {
   "cell_type": "code",
   "execution_count": null,
   "metadata": {},
   "outputs": [],
   "source": [
    "vcf_ndsparse_738 = make_ndsparse(\"../input/738_variants.vcf.gz\")"
   ]
  },
  {
   "cell_type": "code",
   "execution_count": null,
   "metadata": {},
   "outputs": [],
   "source": [
    "for item in vcf_ndsparse_738\n",
    "    \n",
    "    println(item) \n",
    "\n",
    "    println(item[:REF])\n",
    "\n",
    "    end\n",
    "    \n",
    "end"
   ]
  }
 ],
 "metadata": {
  "kernelspec": {
   "display_name": "Julia 1.5.3",
   "language": "julia",
   "name": "julia-1.5"
  },
  "language_info": {
   "file_extension": ".jl",
   "mimetype": "application/julia",
   "name": "julia",
   "version": "1.5.3"
  }
 },
 "nbformat": 4,
 "nbformat_minor": 4
}
