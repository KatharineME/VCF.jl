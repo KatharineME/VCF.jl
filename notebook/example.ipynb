{
 "cells": [
  {
   "cell_type": "code",
   "execution_count": 44,
   "metadata": {},
   "outputs": [],
   "source": [
    "using VCFTool"
   ]
  },
  {
   "cell_type": "code",
   "execution_count": 45,
   "metadata": {},
   "outputs": [
    {
     "data": {
      "text/plain": [
       "200"
      ]
     },
     "execution_count": 45,
     "metadata": {},
     "output_type": "execute_result"
    }
   ],
   "source": [
    "# For viewing tables\n",
    "ENV[\"COLUMNS\"]=100\n",
    "ENV[\"LINES\"]=200"
   ]
  },
  {
   "cell_type": "code",
   "execution_count": 46,
   "metadata": {},
   "outputs": [
    {
     "data": {
      "text/plain": [
       "\"../input/test.vcf.gz\""
      ]
     },
     "execution_count": 46,
     "metadata": {},
     "output_type": "execute_result"
    }
   ],
   "source": [
    "input_dir = \"../input/\"\n",
    "\n",
    "vcf_738_file_path = joinpath(input_dir, \"738_variants.vcf.gz\")\n",
    "\n",
    "vcf_738_1000_file_path = joinpath(input_dir, \"738_variants_1000.vcf.gz\")\n",
    "\n",
    "vcf_769_3_file_path = joinpath(input_dir, \"769_3_variants.vcf.gz\")\n",
    "\n",
    "vcf_test_file_path = joinpath(input_dir, \"test.vcf.gz\")\n",
    "\n",
    "vcf_file_path_to_use = vcf_test_file_path"
   ]
  },
  {
   "cell_type": "markdown",
   "metadata": {},
   "source": [
    "## Search by Variant"
   ]
  },
  {
   "cell_type": "code",
   "execution_count": 47,
   "metadata": {},
   "outputs": [],
   "source": [
    "# vcf = make_vcf_ndsparse(vcf_file_path_to_use)"
   ]
  },
  {
   "cell_type": "code",
   "execution_count": 48,
   "metadata": {},
   "outputs": [
    {
     "data": {
      "text/plain": [
       "Table with 11 rows, 10 columns:\n",
       "Columns:\n",
       "\u001b[1m#   \u001b[22m\u001b[1mcolname  \u001b[22m\u001b[1mtype\u001b[22m\n",
       "───────────────────\n",
       "1   CHROM    String\n",
       "2   POS      String\n",
       "3   ID       String\n",
       "4   REF      String\n",
       "5   ALT      String\n",
       "6   QUAL     String\n",
       "7   FILTER   String\n",
       "8   INFO     String\n",
       "9   FORMAT   String\n",
       "10  GERM     String"
      ]
     },
     "execution_count": 48,
     "metadata": {},
     "output_type": "execute_result"
    }
   ],
   "source": [
    "vcf_table = loadtable(\n",
    "    \"../input/test.vcf\",\n",
    "    delim='\\t',\n",
    "    header_exists=false, \n",
    "    colnames=[:CHROM, :POS, :ID, :REF, :ALT, :QUAL, :FILTER, :INFO, :FORMAT, :GERM],\n",
    "    indexcols=[:CHROM],\n",
    ")"
   ]
  },
  {
   "cell_type": "code",
   "execution_count": 11,
   "metadata": {},
   "outputs": [
    {
     "data": {
      "text/plain": [
       "Table with 10 rows, 10 columns:\n",
       "Columns:\n",
       "\u001b[1m#   \u001b[22m\u001b[1mcolname  \u001b[22m\u001b[1mtype\u001b[22m\n",
       "───────────────────\n",
       "1   CHROM    String\n",
       "2   POS      String\n",
       "3   ID       String\n",
       "4   REF      String\n",
       "5   ALT      String\n",
       "6   QUAL     String\n",
       "7   FILTER   String\n",
       "8   INFO     String\n",
       "9   FORMAT   String\n",
       "10  GERM     String"
      ]
     },
     "execution_count": 11,
     "metadata": {},
     "output_type": "execute_result"
    }
   ],
   "source": [
    "using JuliaDB \n",
    "\n",
    "function make_vcf_indexedtable(vcf_gz_file_path)\n",
    "    \n",
    "    vcf_file_path = string(Array(split(vcf_gz_file_path, \".gz\"))[1])\n",
    "\n",
    "    if isfile(vcf_file_path) == false\n",
    "        \n",
    "        io_gz = open(vcf_gz_file_path)\n",
    "\n",
    "        io = GzipDecompressorStream(io_gz)\n",
    "\n",
    "        file = CSV.File(io, comment=\"##\", delim='\\t', header=1)\n",
    "\n",
    "        CSV.write(vcf_file_path, delim='\\t', file)\n",
    "\n",
    "        close(io)\n",
    "\n",
    "    end\n",
    "    \n",
    "    vcf_table = loadtable(\n",
    "        vcf_file_path,\n",
    "        delim='\\t',\n",
    "        header_exists=false, \n",
    "        colnames=[:CHROM, :POS, :ID, :REF, :ALT, :QUAL, :FILTER, :INFO, :FORMAT, :GERM],\n",
    "        indexcols=[:CHROM],\n",
    "    )\n",
    "\n",
    "    # Remove header row\n",
    "    \n",
    "    n_rows = length(rows(vcf_table))\n",
    "\n",
    "    vcf_table = vcf_table[2:n_rows]\n",
    "    \n",
    "    # Convert chromosome strings to chromosome numbers\n",
    "\n",
    "    chromosomes_string = Array(columns(vcf_table)[1])\n",
    "\n",
    "    chromosomes_numeric = []\n",
    "\n",
    "    for item in chromosomes_string\n",
    "\n",
    "        parts = split(item, \"\")\n",
    "\n",
    "        chromosome_number = parts[length(parts)]\n",
    "\n",
    "        push!(chromosomes_numeric, parse(Int, chromosome_number))\n",
    "\n",
    "    end\n",
    "end"
   ]
  },
  {
   "cell_type": "code",
   "execution_count": 50,
   "metadata": {},
   "outputs": [
    {
     "data": {
      "text/plain": [
       "Table with 10 rows, 10 columns:\n",
       "Columns:\n",
       "\u001b[1m#   \u001b[22m\u001b[1mcolname  \u001b[22m\u001b[1mtype\u001b[22m\n",
       "───────────────────\n",
       "1   CHROM    String\n",
       "2   POS      String\n",
       "3   ID       String\n",
       "4   REF      String\n",
       "5   ALT      String\n",
       "6   QUAL     String\n",
       "7   FILTER   String\n",
       "8   INFO     String\n",
       "9   FORMAT   String\n",
       "10  GERM     String"
      ]
     },
     "execution_count": 50,
     "metadata": {},
     "output_type": "execute_result"
    }
   ],
   "source": [
    "n_rows = length(rows(vcf_table))\n",
    "\n",
    "vcf_table = vcf_table[2:n_rows]"
   ]
  },
  {
   "cell_type": "code",
   "execution_count": 51,
   "metadata": {},
   "outputs": [],
   "source": [
    "# Convert chromosome strings to chromosome numbers\n",
    "\n",
    "chromosomes_string = Array(columns(vcf_table)[1])\n",
    "\n",
    "chromosomes_numeric = []\n",
    "\n",
    "for item in chromosomes_string\n",
    "\n",
    "    parts = split(item, \"\")\n",
    "\n",
    "    chromosome_number = parts[length(parts)]\n",
    "\n",
    "    push!(chromosomes_numeric, parse(Int, chromosome_number))\n",
    "\n",
    "end"
   ]
  },
  {
   "cell_type": "code",
   "execution_count": 93,
   "metadata": {},
   "outputs": [
    {
     "ename": "LoadError",
     "evalue": "MethodError: no method matching pop!(::NamedTuple{(:CHROM, :POS, :ID, :REF, :ALT, :QUAL, :FILTER, :INFO, :FORMAT, :GERM),NTuple{10,WeakRefStrings.StringArray{String,1}}}, ::Symbol)\nClosest candidates are:\n  pop!(!Matched::IdDict{K,V}, ::Any) where {K, V} at iddict.jl:108\n  pop!(!Matched::IdDict{K,V}, ::Any, !Matched::Any) where {K, V} at iddict.jl:96\n  pop!(!Matched::Base.IdSet, ::Any) at idset.jl:21\n  ...",
     "output_type": "error",
     "traceback": [
      "MethodError: no method matching pop!(::NamedTuple{(:CHROM, :POS, :ID, :REF, :ALT, :QUAL, :FILTER, :INFO, :FORMAT, :GERM),NTuple{10,WeakRefStrings.StringArray{String,1}}}, ::Symbol)\nClosest candidates are:\n  pop!(!Matched::IdDict{K,V}, ::Any) where {K, V} at iddict.jl:108\n  pop!(!Matched::IdDict{K,V}, ::Any, !Matched::Any) where {K, V} at iddict.jl:96\n  pop!(!Matched::Base.IdSet, ::Any) at idset.jl:21\n  ...",
      "",
      "Stacktrace:",
      " [1] top-level scope at In[93]:7",
      " [2] include_string(::Function, ::Module, ::String, ::String) at ./loading.jl:1091"
     ]
    }
   ],
   "source": [
    "d = Dict(\"a\"=>1, \"b\"=>2)\n",
    "\n",
    "cols = columns(vcf_table)\n",
    "\n",
    "new_cols = keys(cols)[2:end]\n",
    "\n",
    "pop!(cols, :CHROM)\n",
    "\n",
    "# delete!(cols, :CHROM)"
   ]
  },
  {
   "cell_type": "code",
   "execution_count": 43,
   "metadata": {},
   "outputs": [
    {
     "name": "stderr",
     "output_type": "stream",
     "text": [
      "\u001b[32m\u001b[1m  Resolving\u001b[22m\u001b[39m package versions...\n",
      "\u001b[32m\u001b[1mNo Changes\u001b[22m\u001b[39m to `~/github/VCFTool.jl/Project.toml`\n",
      "\u001b[32m\u001b[1mNo Changes\u001b[22m\u001b[39m to `~/github/VCFTool.jl/Manifest.toml`\n",
      "┌ Info: Precompiling NamedTuples [73a701b4-84e1-5df0-88ff-1968ee2ee8dc]\n",
      "└ @ Base loading.jl:1278\n",
      "ERROR: LoadError: UndefVarError: T not defined\n",
      "Stacktrace:\n",
      " [1] top-level scope at /Users/kate/.julia/packages/NamedTuples/PjIPJ/src/NamedTuples.jl:119\n",
      " [2] include(::Function, ::Module, ::String) at ./Base.jl:380\n",
      " [3] include(::Module, ::String) at ./Base.jl:368\n",
      " [4] top-level scope at none:2\n",
      " [5] eval at ./boot.jl:331 [inlined]\n",
      " [6] eval(::Expr) at ./client.jl:467\n",
      " [7] top-level scope at ./none:3\n",
      "in expression starting at /Users/kate/.julia/packages/NamedTuples/PjIPJ/src/NamedTuples.jl:119\n"
     ]
    },
    {
     "ename": "LoadError",
     "evalue": "Failed to precompile NamedTuples [73a701b4-84e1-5df0-88ff-1968ee2ee8dc] to /Users/kate/.julia/compiled/v1.5/NamedTuples/SN1pr_XQpho.ji.",
     "output_type": "error",
     "traceback": [
      "Failed to precompile NamedTuples [73a701b4-84e1-5df0-88ff-1968ee2ee8dc] to /Users/kate/.julia/compiled/v1.5/NamedTuples/SN1pr_XQpho.ji.",
      "",
      "Stacktrace:",
      " [1] error(::String) at ./error.jl:33",
      " [2] compilecache(::Base.PkgId, ::String) at ./loading.jl:1305",
      " [3] _require(::Base.PkgId) at ./loading.jl:1030",
      " [4] require(::Base.PkgId) at ./loading.jl:928",
      " [5] require(::Module, ::Symbol) at ./loading.jl:923",
      " [6] include_string(::Function, ::Module, ::String, ::String) at ./loading.jl:1091"
     ]
    }
   ],
   "source": [
    "using Pkg; Pkg.add(\"NamedTuples\")\n",
    "\n",
    "using NamedTuples\n",
    "\n",
    "# n_cols = length(columns(vcf_table))\n",
    "\n",
    "# columns(vcf_table)"
   ]
  },
  {
   "cell_type": "code",
   "execution_count": null,
   "metadata": {},
   "outputs": [],
   "source": [
    "# https://www.snpedia.com/index.php/Rs1042522\n",
    "rs1042522 = [\"chr17\", 7676154]\n",
    "\n",
    "# TP53\n",
    "tp53 = [\"chr17\", 7661779:7687550]\n",
    "\n",
    "# test set\n",
    "t = [\"chr1\", 10000:12000]"
   ]
  },
  {
   "cell_type": "code",
   "execution_count": null,
   "metadata": {},
   "outputs": [],
   "source": [
    "# x = 1:10\n",
    "# y = vcat(fill('a', 4), fill('b', 6))\n",
    "# z = randn(10);\n",
    "\n",
    "# v = ndsparse((y=y, x=x), randn(10))\n",
    "\n",
    "filter(val -> val == \"A\", vcf.:ALT)"
   ]
  },
  {
   "cell_type": "code",
   "execution_count": null,
   "metadata": {},
   "outputs": [],
   "source": [
    "using Dates\n",
    "\n",
    "start_time = now()\n",
    "\n",
    "for value in vcf[\"chr17\", 7661779]\n",
    "    \n",
    "    genotype = []\n",
    "    \n",
    "    allele_ref = value[:REF]\n",
    "    \n",
    "    allele_alt = value[:ALT]\n",
    "    \n",
    "    numeric_genotype = split(split(value[:GERM], \":\")[1], \"/\")\n",
    "    \n",
    "    if occursin(\"|\", numeric_genotype[1])\n",
    "        \n",
    "        numeric_genotype = split(numeric_genotype[1], \"|\")\n",
    "        \n",
    "    end\n",
    "    \n",
    "    counter = 1\n",
    "    \n",
    "        while counter < 3\n",
    "        \n",
    "            if \"0\" == numeric_genotype[counter]\n",
    "\n",
    "                push!(genotype, allele_ref)\n",
    "\n",
    "            elseif \"1\" == numeric_genotype[counter]\n",
    "\n",
    "                push!(genotype, split(allele_alt, \",\")[1])\n",
    "\n",
    "            elseif \"2\" == numeric_genotype[counter]\n",
    "\n",
    "                push!(genotype, split(allele_alt, \",\")[2])\n",
    "        \n",
    "            end    \n",
    "    \n",
    "        counter += 1\n",
    "        \n",
    "        end\n",
    "\n",
    "    println(\"Genotype: $genotype\")\n",
    "    \n",
    "    println(\"\\n\")\n",
    "    \n",
    "end\n",
    "  \n",
    "end_time = now()\n",
    "\n",
    "println(\"\\nTook $(canonicalize(Dates.CompoundPeriod(end_time - start_time))).\\n\")"
   ]
  },
  {
   "cell_type": "code",
   "execution_count": null,
   "metadata": {},
   "outputs": [],
   "source": [
    "import Pkg; Pkg.add(\"Dagger\")\n",
    "\n",
    "using Dagger\n",
    "\n",
    "Dagger.save(vcf, \"../input/test_vcf_ndsparse_save.vcf\")"
   ]
  },
  {
   "cell_type": "code",
   "execution_count": null,
   "metadata": {},
   "outputs": [],
   "source": [
    "using Dagger\n",
    "\n",
    "dagger_load_vcf = Dagger.load(\"../input/test_vcf_ndsparse_save.vcf\")"
   ]
  },
  {
   "cell_type": "markdown",
   "metadata": {},
   "source": [
    "## Search by Gene"
   ]
  },
  {
   "cell_type": "markdown",
   "metadata": {},
   "source": [
    "## Search by Region"
   ]
  },
  {
   "cell_type": "markdown",
   "metadata": {},
   "source": [
    "## Tabix Regions"
   ]
  },
  {
   "cell_type": "code",
   "execution_count": null,
   "metadata": {},
   "outputs": [],
   "source": [
    "bed_file_path = joinpath(input_dir, \"cardiotoxicity.bed\")\n",
    "\n",
    "tabix_regions_from_file(\n",
    "    bed_file_path,\n",
    "    vcf_738_file_path,\n",
    "    output_dir,\n",
    ")"
   ]
  },
  {
   "cell_type": "markdown",
   "metadata": {},
   "source": [
    "## JuliaDB\n",
    "\n",
    "An unzipped VCF file can be loaded into an indextable or ndsparse array directly using loadtable() or ndsparese() respectively. However, its much faster to query variants if they are in an ndsparse array because the chromosome and position are both part of the index."
   ]
  },
  {
   "cell_type": "code",
   "execution_count": null,
   "metadata": {},
   "outputs": [],
   "source": [
    "vcf_ndsparse_738 = make_ndsparse(\"../input/738_variants.vcf.gz\")"
   ]
  },
  {
   "cell_type": "code",
   "execution_count": null,
   "metadata": {},
   "outputs": [],
   "source": [
    "for item in vcf_ndsparse_738\n",
    "    \n",
    "    println(item) \n",
    "\n",
    "    println(item[:REF])\n",
    "\n",
    "    end\n",
    "    \n",
    "end"
   ]
  }
 ],
 "metadata": {
  "kernelspec": {
   "display_name": "Julia 1.5.3",
   "language": "julia",
   "name": "julia-1.5"
  },
  "language_info": {
   "file_extension": ".jl",
   "mimetype": "application/julia",
   "name": "julia",
   "version": "1.5.3"
  }
 },
 "nbformat": 4,
 "nbformat_minor": 4
}
