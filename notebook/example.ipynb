{
 "cells": [
  {
   "cell_type": "markdown",
   "metadata": {},
   "source": [
    "## TO DO\n",
    "\n",
    "1. Dagger save and loading in make vcf functions\n",
    "\n",
    "2. filter vcf lines to return important bits\n",
    "\n",
    "3. check reference chromosome\n",
    "\n",
    "4. pull data from gene and variant databases (prefereably already hosted online)\n",
    "\n",
    "5. try to integrate juliadb tracktime\n",
    "\n",
    "timerinfo, tmp = tracktime() do\n",
    "          println(\"yes\")\n",
    "end"
   ]
  },
  {
   "cell_type": "code",
   "execution_count": 12,
   "metadata": {},
   "outputs": [
    {
     "data": {
      "text/plain": [
       "false"
      ]
     },
     "execution_count": 12,
     "metadata": {},
     "output_type": "execute_result"
    }
   ],
   "source": [
    "using VCFTool\n",
    "using JuliaDB\n",
    "using IndexedTables\n",
    "\n",
    "# For viewing DataFrames\n",
    "\n",
    "ENV[\"COLUMNS\"]=100\n",
    "\n",
    "ENV[\"LINES\"]=200\n",
    "\n",
    "# For viewing JuliaDB tables and arrays\n",
    "\n",
    "IndexedTables.set_show_compact!(false)"
   ]
  },
  {
   "cell_type": "code",
   "execution_count": 13,
   "metadata": {},
   "outputs": [
    {
     "data": {
      "text/plain": [
       "\"../input/test.vcf.gz\""
      ]
     },
     "execution_count": 13,
     "metadata": {},
     "output_type": "execute_result"
    }
   ],
   "source": [
    "input_dir = \"../input/\"\n",
    "\n",
    "vcf_738_file_path = joinpath(input_dir, \"738_variants.vcf.gz\")\n",
    "\n",
    "vcf_738_1000_file_path = joinpath(input_dir, \"738_variants_1000.vcf.gz\")\n",
    "\n",
    "vcf_769_3_file_path = joinpath(input_dir, \"769_3_variants.vcf.gz\")\n",
    "\n",
    "vcf_test_file_path = joinpath(input_dir, \"test.vcf.gz\")\n",
    "\n",
    "vcf_file_path_to_use = vcf_test_file_path"
   ]
  },
  {
   "cell_type": "code",
   "execution_count": 5,
   "metadata": {},
   "outputs": [],
   "source": [
    "# vcf = make_vcf_ndsparse(vcf_file_path_to_use)"
   ]
  },
  {
   "cell_type": "code",
   "execution_count": 6,
   "metadata": {},
   "outputs": [
    {
     "data": {
      "text/plain": [
       "Table with 10 rows, 10 columns:\n",
       "\u001b[1mCHROM  \u001b[22m\u001b[1mPOS    \u001b[22mID   REF   ALT  QUAL   FILTER                                INFO                                      FORMAT                                  GERM\n",
       "─────────────────────────────────────────────────────────────────────────────────────────────────────────────────────────────────────────────────────────────────────────────────────────────────────────────────\n",
       "1      10144  \".\"  \"T\"   \"A\"  \"0\"    \"LowGQX;NoPassedVariantGTs\"           \"SNVHPOL=4;MQ=5\"                          \"GT:GQ:GQX:DP:DPF:AD:ADF:ADR:SB:FT:PL\"  \"0/1:16:0:3:0:2,1:2,1:0,0:0.0:LowGQX:19,0,52\"\n",
       "1      10296  \".\"  \"C\"   \"A\"  \"0\"    \"LowGQX;NoPassedVariantGTs\"           \"SNVHPOL=4;MQ=9\"                          \"GT:GQ:GQX:DP:DPF:AD:ADF:ADR:SB:FT:PL\"  \"0/1:22:0:3:9:2,1:0,1:2,0:0.0:LowGQX:25,0,33\"\n",
       "1      10327  \".\"  \"T\"   \"C\"  \"0\"    \"LowGQX;NoPassedVariantGTs\"           \"SNVHPOL=4;MQ=11\"                         \"GT:GQ:GQX:DP:DPF:AD:ADF:ADR:SB:FT:PL\"  \"0/1:11:0:5:14:4,1:1,0:3,1:0.0:LowGQX:13,0,83\"\n",
       "1      10329  \".\"  \"AC\"  \"A\"  \"15\"   \"LowGQX;NoPassedVariantGTs\"           \"CIGAR=1M1D;RU=C;REFREP=4;IDREP=3;MQ=10\"  \"GT:GQ:GQX:DPI:AD:ADF:ADR:FT:PL\"        \"0/1:53:1:19:7,3:2,0:5,3:LowGQX:50,0,128\"\n",
       "1      10407  \".\"  \"T\"   \"C\"  \"0\"    \"LowGQX;NoPassedVariantGTs\"           \"SNVHPOL=4;MQ=7\"                          \"GT:GQ:GQX:DP:DPF:AD:ADF:ADR:SB:FT:PL\"  \"0/1:13:0:5:8:4,1:1,0:3,1:0.0:LowGQX:15,0,61\"\n",
       "1      10622  \".\"  \"T\"   \"G\"  \"8\"    \"LowGQX;LowDepth;NoPassedVariantGTs\"  \"SNVHPOL=2;MQ=46\"                         \"GT:GQ:GQX:DP:DPF:AD:ADF:ADR:SB:FT:PL\"  \"0/1:3:0:1:0:0,1:0,0:0,1:0.0:LowGQX;LowDepth:42,3,0\"\n",
       "1      13273  \".\"  \"G\"   \"C\"  \"134\"  \"LowGQX;NoPassedVariantGTs\"           \"SNVHPOL=2;MQ=19\"                         \"GT:GQ:GQX:DP:DPF:AD:ADF:ADR:SB:FT:PL\"  \"1/1:27:2:10:0:0,10:0,4:0,6:-16.4:LowGQX:172,30,0\"\n",
       "1      14671  \".\"  \"G\"   \"C\"  \"0\"    \"LowGQX;NoPassedVariantGTs\"           \"SNVHPOL=7;MQ=17\"                         \"GT:GQ:GQX:DP:DPF:AD:ADF:ADR:SB:FT:PL\"  \"0/1:3:0:8:0:7,1:2,1:5,0:0.0:LowGQX:3,0,112\"\n",
       "1      16257  \".\"  \"G\"   \"C\"  \"1\"    \"LowGQX;NoPassedVariantGTs\"           \"SNVHPOL=4;MQ=26\"                         \"GT:GQ:GQX:DP:DPF:AD:ADF:ADR:SB:FT:PL\"  \"0/1:28:1:23:0:19,4:11,3:8,1:0.0:LowGQX:30,0,234\"\n",
       "1      16378  \".\"  \"T\"   \"C\"  \"22\"   \"LowGQX;NoPassedVariantGTs\"           \"SNVHPOL=5;MQ=21\"                         \"GT:GQ:GQX:DP:DPF:AD:ADF:ADR:SB:FT:PL\"  \"0/1:55:2:17:0:9,8:6,0:3,8:4.2:LowGQX:57,0,146\""
      ]
     },
     "execution_count": 6,
     "metadata": {},
     "output_type": "execute_result"
    }
   ],
   "source": [
    "vcf_table = make_vcf_indexedtable(vcf_file_path_to_use)"
   ]
  },
  {
   "cell_type": "code",
   "execution_count": null,
   "metadata": {},
   "outputs": [],
   "source": [
    "import Pkg; Pkg.add(\"Dagger\")\n",
    "\n",
    "using Dagger\n",
    "\n",
    "Dagger.save(vcf_table, \"../input/test.vcf.index\")"
   ]
  },
  {
   "cell_type": "code",
   "execution_count": 7,
   "metadata": {},
   "outputs": [
    {
     "data": {
      "text/plain": [
       "Table with 10 rows, 10 columns:\n",
       "\u001b[1mCHROM  \u001b[22m\u001b[1mPOS    \u001b[22mID   REF   ALT  QUAL   FILTER                                INFO                                      FORMAT                                  GERM\n",
       "─────────────────────────────────────────────────────────────────────────────────────────────────────────────────────────────────────────────────────────────────────────────────────────────────────────────────\n",
       "1      10144  \".\"  \"T\"   \"A\"  \"0\"    \"LowGQX;NoPassedVariantGTs\"           \"SNVHPOL=4;MQ=5\"                          \"GT:GQ:GQX:DP:DPF:AD:ADF:ADR:SB:FT:PL\"  \"0/1:16:0:3:0:2,1:2,1:0,0:0.0:LowGQX:19,0,52\"\n",
       "1      10296  \".\"  \"C\"   \"A\"  \"0\"    \"LowGQX;NoPassedVariantGTs\"           \"SNVHPOL=4;MQ=9\"                          \"GT:GQ:GQX:DP:DPF:AD:ADF:ADR:SB:FT:PL\"  \"0/1:22:0:3:9:2,1:0,1:2,0:0.0:LowGQX:25,0,33\"\n",
       "1      10327  \".\"  \"T\"   \"C\"  \"0\"    \"LowGQX;NoPassedVariantGTs\"           \"SNVHPOL=4;MQ=11\"                         \"GT:GQ:GQX:DP:DPF:AD:ADF:ADR:SB:FT:PL\"  \"0/1:11:0:5:14:4,1:1,0:3,1:0.0:LowGQX:13,0,83\"\n",
       "1      10329  \".\"  \"AC\"  \"A\"  \"15\"   \"LowGQX;NoPassedVariantGTs\"           \"CIGAR=1M1D;RU=C;REFREP=4;IDREP=3;MQ=10\"  \"GT:GQ:GQX:DPI:AD:ADF:ADR:FT:PL\"        \"0/1:53:1:19:7,3:2,0:5,3:LowGQX:50,0,128\"\n",
       "1      10407  \".\"  \"T\"   \"C\"  \"0\"    \"LowGQX;NoPassedVariantGTs\"           \"SNVHPOL=4;MQ=7\"                          \"GT:GQ:GQX:DP:DPF:AD:ADF:ADR:SB:FT:PL\"  \"0/1:13:0:5:8:4,1:1,0:3,1:0.0:LowGQX:15,0,61\"\n",
       "1      10622  \".\"  \"T\"   \"G\"  \"8\"    \"LowGQX;LowDepth;NoPassedVariantGTs\"  \"SNVHPOL=2;MQ=46\"                         \"GT:GQ:GQX:DP:DPF:AD:ADF:ADR:SB:FT:PL\"  \"0/1:3:0:1:0:0,1:0,0:0,1:0.0:LowGQX;LowDepth:42,3,0\"\n",
       "1      13273  \".\"  \"G\"   \"C\"  \"134\"  \"LowGQX;NoPassedVariantGTs\"           \"SNVHPOL=2;MQ=19\"                         \"GT:GQ:GQX:DP:DPF:AD:ADF:ADR:SB:FT:PL\"  \"1/1:27:2:10:0:0,10:0,4:0,6:-16.4:LowGQX:172,30,0\"\n",
       "1      14671  \".\"  \"G\"   \"C\"  \"0\"    \"LowGQX;NoPassedVariantGTs\"           \"SNVHPOL=7;MQ=17\"                         \"GT:GQ:GQX:DP:DPF:AD:ADF:ADR:SB:FT:PL\"  \"0/1:3:0:8:0:7,1:2,1:5,0:0.0:LowGQX:3,0,112\"\n",
       "1      16257  \".\"  \"G\"   \"C\"  \"1\"    \"LowGQX;NoPassedVariantGTs\"           \"SNVHPOL=4;MQ=26\"                         \"GT:GQ:GQX:DP:DPF:AD:ADF:ADR:SB:FT:PL\"  \"0/1:28:1:23:0:19,4:11,3:8,1:0.0:LowGQX:30,0,234\"\n",
       "1      16378  \".\"  \"T\"   \"C\"  \"22\"   \"LowGQX;NoPassedVariantGTs\"           \"SNVHPOL=5;MQ=21\"                         \"GT:GQ:GQX:DP:DPF:AD:ADF:ADR:SB:FT:PL\"  \"0/1:55:2:17:0:9,8:6,0:3,8:4.2:LowGQX:57,0,146\""
      ]
     },
     "execution_count": 7,
     "metadata": {},
     "output_type": "execute_result"
    }
   ],
   "source": [
    "using Dagger\n",
    "\n",
    "dagger_load_vcf = Dagger.load(\"../input/test.vcf.index\")"
   ]
  },
  {
   "cell_type": "markdown",
   "metadata": {},
   "source": [
    "## Search by Variant"
   ]
  },
  {
   "cell_type": "markdown",
   "metadata": {},
   "source": [
    "## Search for variant"
   ]
  },
  {
   "cell_type": "code",
   "execution_count": 8,
   "metadata": {},
   "outputs": [
    {
     "name": "stdout",
     "output_type": "stream",
     "text": [
      "\n",
      "Took 4 seconds, 286 milliseconds.\n",
      "\n"
     ]
    }
   ],
   "source": [
    "using Dates\n",
    "\n",
    "start_time = now()\n",
    "\n",
    "filter(i -> (i.CHROM == 1) && (i.POS == 10144), vcf_table)\n",
    "\n",
    "end_time = now()\n",
    "\n",
    "println(\"\\nTook $(canonicalize(Dates.CompoundPeriod(end_time - start_time))).\\n\")"
   ]
  },
  {
   "cell_type": "code",
   "execution_count": 9,
   "metadata": {},
   "outputs": [
    {
     "name": "stdout",
     "output_type": "stream",
     "text": [
      "\n",
      "Took 88 milliseconds.\n",
      "\n"
     ]
    }
   ],
   "source": [
    "using Dates\n",
    "\n",
    "start_time = now()\n",
    "\n",
    "filter(i -> (i.CHROM == 1) && (i.POS == 10144), dagger_load_vcf)\n",
    "\n",
    "end_time = now()\n",
    "\n",
    "println(\"\\nTook $(canonicalize(Dates.CompoundPeriod(end_time - start_time))).\\n\")"
   ]
  },
  {
   "cell_type": "markdown",
   "metadata": {},
   "source": [
    "## Search for region"
   ]
  },
  {
   "cell_type": "code",
   "execution_count": 10,
   "metadata": {},
   "outputs": [
    {
     "name": "stdout",
     "output_type": "stream",
     "text": [
      "Table with 10 rows, 10 columns:\n",
      "\u001b[1mCHROM  \u001b[22m\u001b[1mPOS    \u001b[22mID   REF   ALT  QUAL   FILTER                                INFO                                      FORMAT                                  GERM\n",
      "─────────────────────────────────────────────────────────────────────────────────────────────────────────────────────────────────────────────────────────────────────────────────────────────────────────────────\n",
      "1      10144  \".\"  \"T\"   \"A\"  \"0\"    \"LowGQX;NoPassedVariantGTs\"           \"SNVHPOL=4;MQ=5\"                          \"GT:GQ:GQX:DP:DPF:AD:ADF:ADR:SB:FT:PL\"  \"0/1:16:0:3:0:2,1:2,1:0,0:0.0:LowGQX:19,0,52\"\n",
      "1      10296  \".\"  \"C\"   \"A\"  \"0\"    \"LowGQX;NoPassedVariantGTs\"           \"SNVHPOL=4;MQ=9\"                          \"GT:GQ:GQX:DP:DPF:AD:ADF:ADR:SB:FT:PL\"  \"0/1:22:0:3:9:2,1:0,1:2,0:0.0:LowGQX:25,0,33\"\n",
      "1      10327  \".\"  \"T\"   \"C\"  \"0\"    \"LowGQX;NoPassedVariantGTs\"           \"SNVHPOL=4;MQ=11\"                         \"GT:GQ:GQX:DP:DPF:AD:ADF:ADR:SB:FT:PL\"  \"0/1:11:0:5:14:4,1:1,0:3,1:0.0:LowGQX:13,0,83\"\n",
      "1      10329  \".\"  \"AC\"  \"A\"  \"15\"   \"LowGQX;NoPassedVariantGTs\"           \"CIGAR=1M1D;RU=C;REFREP=4;IDREP=3;MQ=10\"  \"GT:GQ:GQX:DPI:AD:ADF:ADR:FT:PL\"        \"0/1:53:1:19:7,3:2,0:5,3:LowGQX:50,0,128\"\n",
      "1      10407  \".\"  \"T\"   \"C\"  \"0\"    \"LowGQX;NoPassedVariantGTs\"           \"SNVHPOL=4;MQ=7\"                          \"GT:GQ:GQX:DP:DPF:AD:ADF:ADR:SB:FT:PL\"  \"0/1:13:0:5:8:4,1:1,0:3,1:0.0:LowGQX:15,0,61\"\n",
      "1      10622  \".\"  \"T\"   \"G\"  \"8\"    \"LowGQX;LowDepth;NoPassedVariantGTs\"  \"SNVHPOL=2;MQ=46\"                         \"GT:GQ:GQX:DP:DPF:AD:ADF:ADR:SB:FT:PL\"  \"0/1:3:0:1:0:0,1:0,0:0,1:0.0:LowGQX;LowDepth:42,3,0\"\n",
      "1      13273  \".\"  \"G\"   \"C\"  \"134\"  \"LowGQX;NoPassedVariantGTs\"           \"SNVHPOL=2;MQ=19\"                         \"GT:GQ:GQX:DP:DPF:AD:ADF:ADR:SB:FT:PL\"  \"1/1:27:2:10:0:0,10:0,4:0,6:-16.4:LowGQX:172,30,0\"\n",
      "1      14671  \".\"  \"G\"   \"C\"  \"0\"    \"LowGQX;NoPassedVariantGTs\"           \"SNVHPOL=7;MQ=17\"                         \"GT:GQ:GQX:DP:DPF:AD:ADF:ADR:SB:FT:PL\"  \"0/1:3:0:8:0:7,1:2,1:5,0:0.0:LowGQX:3,0,112\"\n",
      "1      16257  \".\"  \"G\"   \"C\"  \"1\"    \"LowGQX;NoPassedVariantGTs\"           \"SNVHPOL=4;MQ=26\"                         \"GT:GQ:GQX:DP:DPF:AD:ADF:ADR:SB:FT:PL\"  \"0/1:28:1:23:0:19,4:11,3:8,1:0.0:LowGQX:30,0,234\"\n",
      "1      16378  \".\"  \"T\"   \"C\"  \"22\"   \"LowGQX;NoPassedVariantGTs\"           \"SNVHPOL=5;MQ=21\"                         \"GT:GQ:GQX:DP:DPF:AD:ADF:ADR:SB:FT:PL\"  \"0/1:55:2:17:0:9,8:6,0:3,8:4.2:LowGQX:57,0,146\"\n",
      "\n",
      "Took 502 milliseconds.\n",
      "\n"
     ]
    }
   ],
   "source": [
    "using Dates\n",
    "\n",
    "start_time = now()\n",
    "\n",
    "println(filter(i -> (i.CHROM == 1) && (i.POS > 10000) && (i.POS < 100200), vcf_table))\n",
    "\n",
    "end_time = now()\n",
    "\n",
    "println(\"\\nTook $(canonicalize(Dates.CompoundPeriod(end_time - start_time))).\\n\")"
   ]
  },
  {
   "cell_type": "code",
   "execution_count": 11,
   "metadata": {},
   "outputs": [
    {
     "name": "stdout",
     "output_type": "stream",
     "text": [
      "Table with 10 rows, 10 columns:\n",
      "\u001b[1mCHROM  \u001b[22m\u001b[1mPOS    \u001b[22mID   REF   ALT  QUAL   FILTER                                INFO                                      FORMAT                                  GERM\n",
      "─────────────────────────────────────────────────────────────────────────────────────────────────────────────────────────────────────────────────────────────────────────────────────────────────────────────────\n",
      "1      10144  \".\"  \"T\"   \"A\"  \"0\"    \"LowGQX;NoPassedVariantGTs\"           \"SNVHPOL=4;MQ=5\"                          \"GT:GQ:GQX:DP:DPF:AD:ADF:ADR:SB:FT:PL\"  \"0/1:16:0:3:0:2,1:2,1:0,0:0.0:LowGQX:19,0,52\"\n",
      "1      10296  \".\"  \"C\"   \"A\"  \"0\"    \"LowGQX;NoPassedVariantGTs\"           \"SNVHPOL=4;MQ=9\"                          \"GT:GQ:GQX:DP:DPF:AD:ADF:ADR:SB:FT:PL\"  \"0/1:22:0:3:9:2,1:0,1:2,0:0.0:LowGQX:25,0,33\"\n",
      "1      10327  \".\"  \"T\"   \"C\"  \"0\"    \"LowGQX;NoPassedVariantGTs\"           \"SNVHPOL=4;MQ=11\"                         \"GT:GQ:GQX:DP:DPF:AD:ADF:ADR:SB:FT:PL\"  \"0/1:11:0:5:14:4,1:1,0:3,1:0.0:LowGQX:13,0,83\"\n",
      "1      10329  \".\"  \"AC\"  \"A\"  \"15\"   \"LowGQX;NoPassedVariantGTs\"           \"CIGAR=1M1D;RU=C;REFREP=4;IDREP=3;MQ=10\"  \"GT:GQ:GQX:DPI:AD:ADF:ADR:FT:PL\"        \"0/1:53:1:19:7,3:2,0:5,3:LowGQX:50,0,128\"\n",
      "1      10407  \".\"  \"T\"   \"C\"  \"0\"    \"LowGQX;NoPassedVariantGTs\"           \"SNVHPOL=4;MQ=7\"                          \"GT:GQ:GQX:DP:DPF:AD:ADF:ADR:SB:FT:PL\"  \"0/1:13:0:5:8:4,1:1,0:3,1:0.0:LowGQX:15,0,61\"\n",
      "1      10622  \".\"  \"T\"   \"G\"  \"8\"    \"LowGQX;LowDepth;NoPassedVariantGTs\"  \"SNVHPOL=2;MQ=46\"                         \"GT:GQ:GQX:DP:DPF:AD:ADF:ADR:SB:FT:PL\"  \"0/1:3:0:1:0:0,1:0,0:0,1:0.0:LowGQX;LowDepth:42,3,0\"\n",
      "1      13273  \".\"  \"G\"   \"C\"  \"134\"  \"LowGQX;NoPassedVariantGTs\"           \"SNVHPOL=2;MQ=19\"                         \"GT:GQ:GQX:DP:DPF:AD:ADF:ADR:SB:FT:PL\"  \"1/1:27:2:10:0:0,10:0,4:0,6:-16.4:LowGQX:172,30,0\"\n",
      "1      14671  \".\"  \"G\"   \"C\"  \"0\"    \"LowGQX;NoPassedVariantGTs\"           \"SNVHPOL=7;MQ=17\"                         \"GT:GQ:GQX:DP:DPF:AD:ADF:ADR:SB:FT:PL\"  \"0/1:3:0:8:0:7,1:2,1:5,0:0.0:LowGQX:3,0,112\"\n",
      "1      16257  \".\"  \"G\"   \"C\"  \"1\"    \"LowGQX;NoPassedVariantGTs\"           \"SNVHPOL=4;MQ=26\"                         \"GT:GQ:GQX:DP:DPF:AD:ADF:ADR:SB:FT:PL\"  \"0/1:28:1:23:0:19,4:11,3:8,1:0.0:LowGQX:30,0,234\"\n",
      "1      16378  \".\"  \"T\"   \"C\"  \"22\"   \"LowGQX;NoPassedVariantGTs\"           \"SNVHPOL=5;MQ=21\"                         \"GT:GQ:GQX:DP:DPF:AD:ADF:ADR:SB:FT:PL\"  \"0/1:55:2:17:0:9,8:6,0:3,8:4.2:LowGQX:57,0,146\"\n",
      "\n",
      "Took 111 milliseconds.\n",
      "\n"
     ]
    }
   ],
   "source": [
    "using Dates\n",
    "\n",
    "start_time = now()\n",
    "\n",
    "println(filter(i -> (i.CHROM == 1) && (i.POS > 10000) && (i.POS < 100200), dagger_load_vcf))\n",
    "\n",
    "end_time = now()\n",
    "\n",
    "println(\"\\nTook $(canonicalize(Dates.CompoundPeriod(end_time - start_time))).\\n\")"
   ]
  },
  {
   "cell_type": "code",
   "execution_count": null,
   "metadata": {},
   "outputs": [],
   "source": [
    "# https://www.snpedia.com/index.php/Rs1042522\n",
    "rs1042522 = [\"chr17\", 7676154]\n",
    "\n",
    "# TP53\n",
    "tp53 = [\"chr17\", 7661779:7687550]\n",
    "\n",
    "# test set\n",
    "t = [\"chr1\", 10000:12000]"
   ]
  },
  {
   "cell_type": "markdown",
   "metadata": {},
   "source": [
    "## Get Genotype"
   ]
  },
  {
   "cell_type": "code",
   "execution_count": null,
   "metadata": {},
   "outputs": [],
   "source": [
    "using Dates\n",
    "\n",
    "start_time = now()\n",
    "\n",
    "for value in vcf[\"chr17\", 7661779]\n",
    "    \n",
    "    genotype = []\n",
    "    \n",
    "    allele_ref = value[:REF]\n",
    "    \n",
    "    allele_alt = value[:ALT]\n",
    "    \n",
    "    numeric_genotype = split(split(value[:GERM], \":\")[1], \"/\")\n",
    "    \n",
    "    if occursin(\"|\", numeric_genotype[1])\n",
    "        \n",
    "        numeric_genotype = split(numeric_genotype[1], \"|\")\n",
    "        \n",
    "    end\n",
    "    \n",
    "    counter = 1\n",
    "    \n",
    "        while counter < 3\n",
    "        \n",
    "            if \"0\" == numeric_genotype[counter]\n",
    "\n",
    "                push!(genotype, allele_ref)\n",
    "\n",
    "            elseif \"1\" == numeric_genotype[counter]\n",
    "\n",
    "                push!(genotype, split(allele_alt, \",\")[1])\n",
    "\n",
    "            elseif \"2\" == numeric_genotype[counter]\n",
    "\n",
    "                push!(genotype, split(allele_alt, \",\")[2])\n",
    "        \n",
    "            end    \n",
    "    \n",
    "        counter += 1\n",
    "        \n",
    "        end\n",
    "\n",
    "    println(\"Genotype: $genotype\")\n",
    "    \n",
    "    println(\"\\n\")\n",
    "    \n",
    "end\n",
    "  \n",
    "end_time = now()\n",
    "\n",
    "println(\"\\nTook $(canonicalize(Dates.CompoundPeriod(end_time - start_time))).\\n\")"
   ]
  },
  {
   "cell_type": "markdown",
   "metadata": {},
   "source": [
    "## Tabix Regions"
   ]
  },
  {
   "cell_type": "code",
   "execution_count": null,
   "metadata": {},
   "outputs": [],
   "source": [
    "bed_file_path = joinpath(input_dir, \"cardiotoxicity.bed\")\n",
    "\n",
    "tabix_regions_from_file(\n",
    "    bed_file_path,\n",
    "    vcf_738_file_path,\n",
    "    output_dir,\n",
    ")"
   ]
  }
 ],
 "metadata": {
  "kernelspec": {
   "display_name": "Julia 1.5.3",
   "language": "julia",
   "name": "julia-1.5"
  },
  "language_info": {
   "file_extension": ".jl",
   "mimetype": "application/julia",
   "name": "julia",
   "version": "1.5.3"
  }
 },
 "nbformat": 4,
 "nbformat_minor": 4
}
