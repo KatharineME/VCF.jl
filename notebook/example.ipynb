{
 "cells": [
  {
   "cell_type": "code",
   "execution_count": 5,
   "metadata": {},
   "outputs": [],
   "source": [
    "using VCFTool"
   ]
  },
  {
   "cell_type": "code",
   "execution_count": 6,
   "metadata": {},
   "outputs": [
    {
     "data": {
      "text/plain": [
       "false"
      ]
     },
     "execution_count": 6,
     "metadata": {},
     "output_type": "execute_result"
    }
   ],
   "source": [
    "# For viewing DataFrames\n",
    "\n",
    "ENV[\"COLUMNS\"]=100\n",
    "\n",
    "ENV[\"LINES\"]=200\n",
    "\n",
    "# For viewing JuliaDB tables and arrays\n",
    "\n",
    "using IndexedTables\n",
    "\n",
    "IndexedTables.set_show_compact!(false)"
   ]
  },
  {
   "cell_type": "code",
   "execution_count": 7,
   "metadata": {},
   "outputs": [],
   "source": [
    "# JuliaDB.tracktime(f)"
   ]
  },
  {
   "cell_type": "code",
   "execution_count": 8,
   "metadata": {},
   "outputs": [
    {
     "data": {
      "text/plain": [
       "\"../input/test.vcf.gz\""
      ]
     },
     "execution_count": 8,
     "metadata": {},
     "output_type": "execute_result"
    }
   ],
   "source": [
    "input_dir = \"../input/\"\n",
    "\n",
    "vcf_738_file_path = joinpath(input_dir, \"738_variants.vcf.gz\")\n",
    "\n",
    "vcf_738_1000_file_path = joinpath(input_dir, \"738_variants_1000.vcf.gz\")\n",
    "\n",
    "vcf_769_3_file_path = joinpath(input_dir, \"769_3_variants.vcf.gz\")\n",
    "\n",
    "vcf_test_file_path = joinpath(input_dir, \"test.vcf.gz\")\n",
    "\n",
    "vcf_file_path_to_use = vcf_test_file_path"
   ]
  },
  {
   "cell_type": "markdown",
   "metadata": {},
   "source": [
    "## Search by Variant"
   ]
  },
  {
   "cell_type": "code",
   "execution_count": null,
   "metadata": {},
   "outputs": [],
   "source": [
    "vcf = make_vcf_ndsparse(vcf_file_path_to_use)"
   ]
  },
  {
   "cell_type": "code",
   "execution_count": null,
   "metadata": {},
   "outputs": [],
   "source": [
    "using JuliaDB\n"
   ]
  },
  {
   "cell_type": "code",
   "execution_count": null,
   "metadata": {},
   "outputs": [],
   "source": [
    "vcf_table = loadtable(\n",
    "    \"../input/test.vcf\",\n",
    "    delim='\\t',\n",
    "    header_exists=false, \n",
    "    colnames=[:CHROM, :POS, :ID, :REF, :ALT, :QUAL, :FILTER, :INFO, :FORMAT, :GERM],\n",
    "    indexcols=[:CHROM],\n",
    ")"
   ]
  },
  {
   "cell_type": "code",
   "execution_count": null,
   "metadata": {},
   "outputs": [],
   "source": [
    "using JuliaDB \n",
    "\n",
    "function make_vcf_indexedtable(vcf_gz_file_path)\n",
    "    \n",
    "    vcf_file_path = string(Array(split(vcf_gz_file_path, \".gz\"))[1])\n",
    "\n",
    "    if isfile(vcf_file_path) == false\n",
    "        \n",
    "        io_gz = open(vcf_gz_file_path)\n",
    "\n",
    "        io = GzipDecompressorStream(io_gz)\n",
    "\n",
    "        file = CSV.File(io, comment=\"##\", delim='\\t', header=1)\n",
    "\n",
    "        CSV.write(vcf_file_path, delim='\\t', file)\n",
    "\n",
    "        close(io)\n",
    "\n",
    "    end\n",
    "    \n",
    "    vcf_table = loadtable(\n",
    "        vcf_file_path,\n",
    "        delim='\\t',\n",
    "        header_exists=false, \n",
    "        colnames=[:CHROM, :POS, :ID, :REF, :ALT, :QUAL, :FILTER, :INFO, :FORMAT, :GERM],\n",
    "        indexcols=[:CHROM],\n",
    "    )\n",
    "\n",
    "    # Remove header row\n",
    "    \n",
    "    n_rows = length(rows(vcf_table))\n",
    "\n",
    "    vcf_table = vcf_table[2:n_rows]\n",
    "    \n",
    "    # Convert chromosome strings to chromosome numbers\n",
    "\n",
    "    chromosomes_string = Array(columns(vcf_table)[1])\n",
    "\n",
    "    chromosomes_numeric = []\n",
    "\n",
    "    for item in chromosomes_string\n",
    "\n",
    "        parts = split(item, \"\")\n",
    "\n",
    "        chromosome_number = parts[length(parts)]\n",
    "\n",
    "        push!(chromosomes_numeric, parse(Int, chromosome_number))\n",
    "\n",
    "    end\n",
    "end"
   ]
  },
  {
   "cell_type": "code",
   "execution_count": null,
   "metadata": {},
   "outputs": [],
   "source": [
    "n_rows = length(rows(vcf_table))\n",
    "\n",
    "vcf_table = vcf_table[2:n_rows]"
   ]
  },
  {
   "cell_type": "code",
   "execution_count": null,
   "metadata": {},
   "outputs": [],
   "source": [
    "# Convert chromosome strings to chromosome numbers\n",
    "\n",
    "chromosomes_string = Array(columns(vcf_table)[1])\n",
    "\n",
    "chromosomes_numeric = []\n",
    "\n",
    "for item in chromosomes_string\n",
    "\n",
    "    parts = split(item, \"\")\n",
    "\n",
    "    chromosome_number = parts[length(parts)]\n",
    "\n",
    "    push!(chromosomes_numeric, parse(Int, chromosome_number))\n",
    "\n",
    "end"
   ]
  },
  {
   "cell_type": "code",
   "execution_count": null,
   "metadata": {},
   "outputs": [],
   "source": [
    "# cols = columns(vcf_table)\n",
    "\n",
    "# new_cols = keys(cols)[2:end]\n",
    "\n",
    "# new_vals = values(vcf_table)[1]\n",
    "\n",
    "d = ColDict(vcf_table)\n",
    "\n",
    "pop!()\n",
    "\n",
    "# getindex(vcf_table, [:POS, :ID])\n",
    "\n",
    "# new_tuple = NamedTuple()"
   ]
  },
  {
   "cell_type": "code",
   "execution_count": null,
   "metadata": {},
   "outputs": [],
   "source": [
    "# https://www.snpedia.com/index.php/Rs1042522\n",
    "rs1042522 = [\"chr17\", 7676154]\n",
    "\n",
    "# TP53\n",
    "tp53 = [\"chr17\", 7661779:7687550]\n",
    "\n",
    "# test set\n",
    "t = [\"chr1\", 10000:12000]"
   ]
  },
  {
   "cell_type": "code",
   "execution_count": null,
   "metadata": {},
   "outputs": [],
   "source": [
    "# x = 1:10\n",
    "# y = vcat(fill('a', 4), fill('b', 6))\n",
    "# z = randn(10);\n",
    "\n",
    "# v = ndsparse((y=y, x=x), randn(10))\n",
    "\n",
    "filter(val -> val == \"A\", vcf.:ALT)"
   ]
  },
  {
   "cell_type": "code",
   "execution_count": null,
   "metadata": {},
   "outputs": [],
   "source": [
    "using Dates\n",
    "\n",
    "start_time = now()\n",
    "\n",
    "for value in vcf[\"chr17\", 7661779]\n",
    "    \n",
    "    genotype = []\n",
    "    \n",
    "    allele_ref = value[:REF]\n",
    "    \n",
    "    allele_alt = value[:ALT]\n",
    "    \n",
    "    numeric_genotype = split(split(value[:GERM], \":\")[1], \"/\")\n",
    "    \n",
    "    if occursin(\"|\", numeric_genotype[1])\n",
    "        \n",
    "        numeric_genotype = split(numeric_genotype[1], \"|\")\n",
    "        \n",
    "    end\n",
    "    \n",
    "    counter = 1\n",
    "    \n",
    "        while counter < 3\n",
    "        \n",
    "            if \"0\" == numeric_genotype[counter]\n",
    "\n",
    "                push!(genotype, allele_ref)\n",
    "\n",
    "            elseif \"1\" == numeric_genotype[counter]\n",
    "\n",
    "                push!(genotype, split(allele_alt, \",\")[1])\n",
    "\n",
    "            elseif \"2\" == numeric_genotype[counter]\n",
    "\n",
    "                push!(genotype, split(allele_alt, \",\")[2])\n",
    "        \n",
    "            end    \n",
    "    \n",
    "        counter += 1\n",
    "        \n",
    "        end\n",
    "\n",
    "    println(\"Genotype: $genotype\")\n",
    "    \n",
    "    println(\"\\n\")\n",
    "    \n",
    "end\n",
    "  \n",
    "end_time = now()\n",
    "\n",
    "println(\"\\nTook $(canonicalize(Dates.CompoundPeriod(end_time - start_time))).\\n\")"
   ]
  },
  {
   "cell_type": "code",
   "execution_count": null,
   "metadata": {},
   "outputs": [],
   "source": [
    "import Pkg; Pkg.add(\"Dagger\")\n",
    "\n",
    "using Dagger\n",
    "\n",
    "Dagger.save(vcf, \"../input/test_vcf_ndsparse_save.vcf\")"
   ]
  },
  {
   "cell_type": "code",
   "execution_count": null,
   "metadata": {},
   "outputs": [],
   "source": [
    "using Dagger\n",
    "\n",
    "dagger_load_vcf = Dagger.load(\"../input/test_vcf_ndsparse_save.vcf\")"
   ]
  },
  {
   "cell_type": "markdown",
   "metadata": {},
   "source": [
    "## Search by Gene"
   ]
  },
  {
   "cell_type": "markdown",
   "metadata": {},
   "source": [
    "## Search by Region"
   ]
  },
  {
   "cell_type": "markdown",
   "metadata": {},
   "source": [
    "## Tabix Regions"
   ]
  },
  {
   "cell_type": "code",
   "execution_count": null,
   "metadata": {},
   "outputs": [],
   "source": [
    "bed_file_path = joinpath(input_dir, \"cardiotoxicity.bed\")\n",
    "\n",
    "tabix_regions_from_file(\n",
    "    bed_file_path,\n",
    "    vcf_738_file_path,\n",
    "    output_dir,\n",
    ")"
   ]
  },
  {
   "cell_type": "markdown",
   "metadata": {},
   "source": [
    "## JuliaDB\n",
    "\n",
    "An unzipped VCF file can be loaded into an indextable or ndsparse array directly using loadtable() or ndsparese() respectively. However, its much faster to query variants if they are in an ndsparse array because the chromosome and position are both part of the index."
   ]
  },
  {
   "cell_type": "code",
   "execution_count": null,
   "metadata": {},
   "outputs": [],
   "source": [
    "vcf_ndsparse_738 = make_ndsparse(\"../input/738_variants.vcf.gz\")"
   ]
  },
  {
   "cell_type": "code",
   "execution_count": null,
   "metadata": {},
   "outputs": [],
   "source": [
    "for item in vcf_ndsparse_738\n",
    "    \n",
    "    println(item) \n",
    "\n",
    "    println(item[:REF])\n",
    "\n",
    "    end\n",
    "    \n",
    "end"
   ]
  }
 ],
 "metadata": {
  "kernelspec": {
   "display_name": "Julia 1.5.3",
   "language": "julia",
   "name": "julia-1.5"
  },
  "language_info": {
   "file_extension": ".jl",
   "mimetype": "application/julia",
   "name": "julia",
   "version": "1.5.3"
  }
 },
 "nbformat": 4,
 "nbformat_minor": 4
}
