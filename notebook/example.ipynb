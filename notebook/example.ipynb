{
 "cells": [
  {
   "cell_type": "markdown",
   "metadata": {},
   "source": [
    "## TO DO\n",
    "\n",
    "2. filter vcf lines to return important bits\n",
    "\n",
    "3. check reference chromosome\n",
    "\n",
    "4. pull data from gene and variant databases (prefereably already hosted online)"
   ]
  },
  {
   "cell_type": "code",
   "execution_count": 82,
   "metadata": {},
   "outputs": [],
   "source": [
    "using JuliaDB\n",
    "using IndexedTables\n",
    "using Dagger\n",
    "using VCFTool\n",
    "\n",
    "# For viewing DataFrames\n",
    "\n",
    "ENV[\"COLUMNS\"]=100\n",
    "\n",
    "ENV[\"LINES\"]=200\n",
    "\n",
    "# For viewing JuliaDB tables and arrays\n",
    "\n",
    "IndexedTables.set_show_compact!(false);"
   ]
  },
  {
   "cell_type": "code",
   "execution_count": 73,
   "metadata": {},
   "outputs": [],
   "source": [
    "input_dir = \"../input/\"\n",
    "\n",
    "vcf_738_file_path = joinpath(input_dir, \"738_variants.vcf.gz\")\n",
    "\n",
    "vcf_738_1000_file_path = joinpath(input_dir, \"738_variants_1000.vcf.gz\")\n",
    "\n",
    "vcf_769_3_file_path = joinpath(input_dir, \"769_3_variants.vcf.gz\")\n",
    "\n",
    "vcf_test_file_path = joinpath(input_dir, \"test.vcf.gz\")\n",
    "\n",
    "vcf_file_path_to_use = vcf_738_1000_file_path;"
   ]
  },
  {
   "cell_type": "code",
   "execution_count": 76,
   "metadata": {},
   "outputs": [],
   "source": [
    "vcf_table = make_vcf_indexedtable(vcf_file_path_to_use);"
   ]
  },
  {
   "cell_type": "code",
   "execution_count": 33,
   "metadata": {},
   "outputs": [
    {
     "data": {
      "text/plain": [
       "2-element Array{Any,1}:\n",
       " \"chr1\"\n",
       " 10000:12000"
      ]
     },
     "execution_count": 33,
     "metadata": {},
     "output_type": "execute_result"
    }
   ],
   "source": [
    "# https://www.snpedia.com/index.php/Rs1042522\n",
    "rs1042522 = [\"chr17\", 7676154]\n",
    "\n",
    "# TP53\n",
    "tp53 = [\"chr17\", 7661779:7687550]\n",
    "\n",
    "# test set\n",
    "t = [\"chr1\", 10000:12000]"
   ]
  },
  {
   "cell_type": "markdown",
   "metadata": {},
   "source": [
    "## Search for variant"
   ]
  },
  {
   "cell_type": "code",
   "execution_count": 42,
   "metadata": {},
   "outputs": [
    {
     "data": {
      "text/plain": [
       "Table with 1 rows, 10 columns:\n",
       "\u001b[1mCHROM  \u001b[22m\u001b[1mPOS    \u001b[22mID   REF  ALT  QUAL  FILTER                                INFO              FORMAT                                  GERM\n",
       "───────────────────────────────────────────────────────────────────────────────────────────────────────────────────────────────────────────────────────────────────────────────────────\n",
       "1      13868  \".\"  \"A\"  \"G\"  \"1\"   \"LowGQX;LowDepth;NoPassedVariantGTs\"  \"SNVHPOL=3;MQ=4\"  \"GT:GQ:GQX:DP:DPF:AD:ADF:ADR:SB:FT:PL\"  \"0/1:3:0:1:0:0,1:0,0:0,1:0.0:LowGQX;LowDepth:28,3,0\""
      ]
     },
     "execution_count": 42,
     "metadata": {},
     "output_type": "execute_result"
    }
   ],
   "source": [
    "filter_variant = filter(i -> (i.CHROM == 1) && (i.POS == 13868), vcf_table)"
   ]
  },
  {
   "cell_type": "markdown",
   "metadata": {},
   "source": [
    "## Search for region"
   ]
  },
  {
   "cell_type": "code",
   "execution_count": 81,
   "metadata": {},
   "outputs": [
    {
     "data": {
      "text/plain": [
       "Table with 11 rows, 10 columns:\n",
       "\u001b[1mCHROM  \u001b[22m\u001b[1mPOS    \u001b[22mID   REF   ALT   QUAL   FILTER                                INFO                                      FORMAT                                  GERM\n",
       "────────────────────────────────────────────────────────────────────────────────────────────────────────────────────────────────────────────────────────────────────────────────────────────────────────────────────\n",
       "1      10439  \".\"  \"AC\"  \"A\"   \"72\"   \"PASS\"                                \"CIGAR=1M1D;RU=C;REFREP=4;IDREP=3;MQ=9\"   \"GT:GQ:GQX:DPI:AD:ADF:ADR:FT:PL\"        \"0/1:31:5:7:2,5:0,1:2,4:PASS:108,0,28\"\n",
       "1      13284  \".\"  \"G\"   \"A\"   \"60\"   \"LowGQX;NoPassedVariantGTs\"           \"SNVHPOL=4;MQ=17\"                         \"GT:GQ:GQX:DP:DPF:AD:ADF:ADR:SB:FT:PL\"  \"0/1:93:1:30:1:19,11:12,8:7,3:-9.2:LowGQX:95,0,157\"\n",
       "1      13868  \".\"  \"A\"   \"G\"   \"1\"    \"LowGQX;LowDepth;NoPassedVariantGTs\"  \"SNVHPOL=3;MQ=4\"                          \"GT:GQ:GQX:DP:DPF:AD:ADF:ADR:SB:FT:PL\"  \"0/1:3:0:1:0:0,1:0,0:0,1:0.0:LowGQX;LowDepth:28,3,0\"\n",
       "1      15274  \".\"  \"A\"   \"G\"   \"1\"    \"LowGQX;LowDepth;NoPassedVariantGTs\"  \"SNVHPOL=2;MQ=3\"                          \"GT:GQ:GQX:DP:DPF:AD:ADF:ADR:SB:FT:PL\"  \"0/1:3:0:1:0:0,1:0,0:0,1:0.0:LowGQX;LowDepth:27,3,0\"\n",
       "1      15903  \".\"  \"G\"   \"GC\"  \"209\"  \"PASS\"                                \"CIGAR=1M1I;RU=C;REFREP=2;IDREP=3;MQ=17\"  \"GT:GQ:GQX:DPI:AD:ADF:ADR:FT:PL\"        \"1/1:24:17:9:0,9:0,9:0,0:PASS:255,27,0\"\n",
       "1      16683  \".\"  \"T\"   \"G\"   \"0\"    \"LowGQX;NoPassedVariantGTs\"           \"SNVHPOL=7;MQ=10\"                         \"GT:GQ:GQX:DP:DPF:AD:ADF:ADR:SB:FT:PL\"  \"0/1:20:0:3:1:2,1:0,0:2,1:0.0:LowGQX:23,0,42\"\n",
       "1      16713  \".\"  \"T\"   \"G\"   \"0\"    \"LowGQX;LowDepth;NoPassedVariantGTs\"  \"SNVHPOL=6;MQ=11\"                         \"GT:GQ:GQX:DP:DPF:AD:ADF:ADR:SB:FT:PL\"  \"0/1:16:0:2:2:1,1:0,0:1,1:0.0:LowGQX;LowDepth:21,0,20\"\n",
       "1      16731  \".\"  \"C\"   \"G\"   \"0\"    \"LowGQX;NoPassedVariantGTs\"           \"SNVHPOL=8;MQ=16\"                         \"GT:GQ:GQX:DP:DPF:AD:ADF:ADR:SB:FT:PL\"  \"0/1:22:0:6:10:4,2:0,0:4,2:0.0:LowGQX:25,0,58\"\n",
       "1      16734  \".\"  \"T\"   \"G\"   \"4\"    \"LowGQX;NoPassedVariantGTs\"           \"SNVHPOL=8;MQ=15\"                         \"GT:GQ:GQX:DP:DPF:AD:ADF:ADR:SB:FT:PL\"  \"0/1:33:0:6:9:3,3:0,0:3,3:0.0:LowGQX:37,0,35\"\n",
       "1      19322  \".\"  \"C\"   \"T\"   \"0\"    \"LowGQX;NoPassedVariantGTs\"           \"SNVHPOL=3;MQ=13\"                         \"GT:GQ:GQX:DP:DPF:AD:ADF:ADR:SB:FT:PL\"  \"0/1:15:0:17:0:14,3:10,1:4,2:0.0:LowGQX:17,0,146\"\n",
       "1      19795  \".\"  \"T\"   \"C\"   \"14\"   \"LowGQX;NoPassedVariantGTs\"           \"SNVHPOL=4;MQ=18\"                         \"GT:GQ:GQX:DP:DPF:AD:ADF:ADR:SB:FT:PL\"  \"0/1:47:1:11:0:9,2:2,1:7,1:-3.2:LowGQX:48,0,130\""
      ]
     },
     "execution_count": 81,
     "metadata": {},
     "output_type": "execute_result"
    }
   ],
   "source": [
    "filter_vcf_table(vcf_table, 1, 10000, 20000)"
   ]
  },
  {
   "cell_type": "code",
   "execution_count": 56,
   "metadata": {},
   "outputs": [
    {
     "data": {
      "text/plain": [
       "IndexedTable{StructArrays.StructArray{NamedTuple{(:CHROM, :POS, :ID, :REF, :ALT, :QUAL, :FILTER, :INFO, :FORMAT, :GERM),Tuple{Any,Any,String,String,String,String,String,String,String,String}},1,NamedTuple{(:CHROM, :POS, :ID, :REF, :ALT, :QUAL, :FILTER, :INFO, :FORMAT, :GERM),Tuple{Array{Any,1},Array{Any,1},WeakRefStrings.StringArray{String,1},WeakRefStrings.StringArray{String,1},WeakRefStrings.StringArray{String,1},WeakRefStrings.StringArray{String,1},WeakRefStrings.StringArray{String,1},WeakRefStrings.StringArray{String,1},WeakRefStrings.StringArray{String,1},WeakRefStrings.StringArray{String,1}}},Int64}}"
      ]
     },
     "execution_count": 56,
     "metadata": {},
     "output_type": "execute_result"
    }
   ],
   "source": [
    "typeof(filter_region)"
   ]
  },
  {
   "cell_type": "markdown",
   "metadata": {},
   "source": [
    "## Get Genotype"
   ]
  },
  {
   "cell_type": "code",
   "execution_count": 61,
   "metadata": {},
   "outputs": [
    {
     "name": "stdout",
     "output_type": "stream",
     "text": [
      "A\n",
      "0/1:31:5:7:2,5:0,1:2,4:PASS:108,0,28\n",
      "SubString{String}[\"0\", \"1\"]\n",
      "A\n",
      "0/1:93:1:30:1:19,11:12,8:7,3:-9.2:LowGQX:95,0,157\n",
      "SubString{String}[\"0\", \"1\"]\n",
      "G\n",
      "0/1:3:0:1:0:0,1:0,0:0,1:0.0:LowGQX;LowDepth:28,3,0\n",
      "SubString{String}[\"0\", \"1\"]\n",
      "G\n",
      "0/1:3:0:1:0:0,1:0,0:0,1:0.0:LowGQX;LowDepth:27,3,0\n",
      "SubString{String}[\"0\", \"1\"]\n",
      "GC\n",
      "1/1:24:17:9:0,9:0,9:0,0:PASS:255,27,0\n",
      "SubString{String}[\"1\", \"1\"]\n",
      "G\n",
      "0/1:20:0:3:1:2,1:0,0:2,1:0.0:LowGQX:23,0,42\n",
      "SubString{String}[\"0\", \"1\"]\n",
      "G\n",
      "0/1:16:0:2:2:1,1:0,0:1,1:0.0:LowGQX;LowDepth:21,0,20\n",
      "SubString{String}[\"0\", \"1\"]\n",
      "G\n",
      "0/1:22:0:6:10:4,2:0,0:4,2:0.0:LowGQX:25,0,58\n",
      "SubString{String}[\"0\", \"1\"]\n",
      "G\n",
      "0/1:33:0:6:9:3,3:0,0:3,3:0.0:LowGQX:37,0,35\n",
      "SubString{String}[\"0\", \"1\"]\n",
      "T\n",
      "0/1:15:0:17:0:14,3:10,1:4,2:0.0:LowGQX:17,0,146\n",
      "SubString{String}[\"0\", \"1\"]\n",
      "C\n",
      "0/1:47:1:11:0:9,2:2,1:7,1:-3.2:LowGQX:48,0,130\n",
      "SubString{String}[\"0\", \"1\"]\n"
     ]
    },
    {
     "data": {
      "text/plain": [
       "11-element Array{Any,1}:\n",
       " Any[\"AC\", \"A\"]\n",
       " Any[\"G\", \"A\"]\n",
       " Any[\"A\", \"G\"]\n",
       " Any[\"A\", \"G\"]\n",
       " Any[\"GC\", \"GC\"]\n",
       " Any[\"T\", \"G\"]\n",
       " Any[\"T\", \"G\"]\n",
       " Any[\"C\", \"G\"]\n",
       " Any[\"T\", \"G\"]\n",
       " Any[\"C\", \"T\"]\n",
       " Any[\"T\", \"C\"]"
      ]
     },
     "execution_count": 61,
     "metadata": {},
     "output_type": "execute_result"
    }
   ],
   "source": [
    "function get_genotype_of_vcf_indexedtable(vcf_table)\n",
    "\n",
    "    genotypes = []\n",
    "\n",
    "    for row in vcf_table\n",
    "\n",
    "        genotype = []\n",
    "\n",
    "        allele_ref = row[:REF]\n",
    "\n",
    "        allele_alt = row[:ALT]\n",
    "\n",
    "        println(allele_alt)\n",
    "\n",
    "        println(row[:GERM])\n",
    "\n",
    "        numeric_genotype = split(split(row[:GERM], \":\")[1], \"/\")\n",
    "\n",
    "        println(numeric_genotype)\n",
    "\n",
    "        if occursin(\"|\", numeric_genotype[1])\n",
    "\n",
    "            numeric_genotype = split(numeric_genotype[1], \"|\")\n",
    "\n",
    "        end\n",
    "\n",
    "        counter = 1\n",
    "\n",
    "            while counter < 3\n",
    "\n",
    "                if \"0\" == numeric_genotype[counter]\n",
    "\n",
    "                    push!(genotype, allele_ref)\n",
    "\n",
    "                elseif \"1\" == numeric_genotype[counter]\n",
    "\n",
    "                    push!(genotype, split(allele_alt, \",\")[1])\n",
    "\n",
    "                elseif \"2\" == numeric_genotype[counter]\n",
    "\n",
    "                    push!(genotype, split(allele_alt, \",\")[2])\n",
    "\n",
    "                end    \n",
    "\n",
    "            counter += 1\n",
    "\n",
    "            end\n",
    "\n",
    "        push!(genotypes, genotype)\n",
    "\n",
    "    end\n",
    "\n",
    "return genotypes"
   ]
  },
  {
   "cell_type": "markdown",
   "metadata": {},
   "source": [
    "## Tabix Regions"
   ]
  },
  {
   "cell_type": "code",
   "execution_count": null,
   "metadata": {},
   "outputs": [],
   "source": [
    "bed_file_path = joinpath(input_dir, \"cardiotoxicity.bed\")\n",
    "\n",
    "tabix_regions_from_file(\n",
    "    bed_file_path,\n",
    "    vcf_738_file_path,\n",
    "    output_dir,\n",
    ")"
   ]
  }
 ],
 "metadata": {
  "kernelspec": {
   "display_name": "Julia 1.5.3",
   "language": "julia",
   "name": "julia-1.5"
  },
  "language_info": {
   "file_extension": ".jl",
   "mimetype": "application/julia",
   "name": "julia",
   "version": "1.5.3"
  }
 },
 "nbformat": 4,
 "nbformat_minor": 4
}
