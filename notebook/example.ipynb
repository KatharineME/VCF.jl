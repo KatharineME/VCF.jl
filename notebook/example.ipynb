{
 "cells": [
  {
   "cell_type": "code",
   "execution_count": 8,
   "metadata": {},
   "outputs": [],
   "source": [
    "using VCFTool"
   ]
  },
  {
   "cell_type": "markdown",
   "metadata": {},
   "source": [
    "## read_vcf"
   ]
  },
  {
   "cell_type": "code",
   "execution_count": null,
   "metadata": {},
   "outputs": [],
   "source": [
    "vcf_738 = read_vcf(\"../input/738_variants_copy.vcf.gz\")"
   ]
  },
  {
   "cell_type": "code",
   "execution_count": null,
   "metadata": {},
   "outputs": [],
   "source": [
    "vcf_example = read_vcf(\"../input/example.vcf.gz\")"
   ]
  },
  {
   "cell_type": "code",
   "execution_count": null,
   "metadata": {},
   "outputs": [],
   "source": [
    "vcf_to_use = vcf_738"
   ]
  },
  {
   "cell_type": "code",
   "execution_count": null,
   "metadata": {},
   "outputs": [],
   "source": [
    "using DataFrames\n",
    "\n",
    "vcf_to_use.ALT"
   ]
  },
  {
   "cell_type": "code",
   "execution_count": null,
   "metadata": {},
   "outputs": [],
   "source": [
    "names(vcf_to_use)"
   ]
  },
  {
   "cell_type": "code",
   "execution_count": 6,
   "metadata": {},
   "outputs": [
    {
     "data": {
      "text/plain": [
       "(11, 15)"
      ]
     },
     "execution_count": 6,
     "metadata": {},
     "output_type": "execute_result"
    }
   ],
   "source": [
    "size(vcf_to_use)"
   ]
  },
  {
   "cell_type": "code",
   "execution_count": 7,
   "metadata": {},
   "outputs": [
    {
     "data": {
      "text/html": [
       "<table class=\"data-frame\"><thead><tr><th></th><th>#CHROM</th><th>POS</th><th>ID</th><th>REF</th><th>ALT</th><th>QUAL</th><th>FILTER</th><th>INFO</th></tr><tr><th></th><th>String</th><th>Int64</th><th>String</th><th>String</th><th>String</th><th>Int64</th><th>String</th><th>String</th></tr></thead><tbody><p>3 rows × 15 columns (omitted printing of 7 columns)</p><tr><th>1</th><td>1</td><td>30</td><td>1:30</td><td>C</td><td>A</td><td>100</td><td>PASS</td><td>NS=6;AC=0;AN=12;AF=0.000000</td></tr><tr><th>2</th><td>1</td><td>40</td><td>1:40</td><td>A</td><td>C</td><td>100</td><td>PASS</td><td>NS=6;AC=0;AN=12;AF=0.000000</td></tr><tr><th>3</th><td>1</td><td>10000</td><td>1:10000</td><td>G</td><td>C</td><td>100</td><td>PASS</td><td>NS=6;AC=0;AN=12;AF=0.000000</td></tr></tbody></table>"
      ],
      "text/latex": [
       "\\begin{tabular}{r|ccccccccc}\n",
       "\t& \\#CHROM & POS & ID & REF & ALT & QUAL & FILTER & INFO & \\\\\n",
       "\t\\hline\n",
       "\t& String & Int64 & String & String & String & Int64 & String & String & \\\\\n",
       "\t\\hline\n",
       "\t1 & 1 & 30 & 1:30 & C & A & 100 & PASS & NS=6;AC=0;AN=12;AF=0.000000 & $\\dots$ \\\\\n",
       "\t2 & 1 & 40 & 1:40 & A & C & 100 & PASS & NS=6;AC=0;AN=12;AF=0.000000 & $\\dots$ \\\\\n",
       "\t3 & 1 & 10000 & 1:10000 & G & C & 100 & PASS & NS=6;AC=0;AN=12;AF=0.000000 & $\\dots$ \\\\\n",
       "\\end{tabular}\n"
      ],
      "text/plain": [
       "\u001b[1m3×15 DataFrame\u001b[0m\n",
       "\u001b[1m Row \u001b[0m│\u001b[1m #CHROM \u001b[0m\u001b[1m POS   \u001b[0m\u001b[1m ID      \u001b[0m\u001b[1m REF    \u001b[0m\u001b[1m ALT    \u001b[0m\u001b[1m QUAL  \u001b[0m\u001b[1m FILTER \u001b[0m\u001b[1m INFO            \u001b[0m ⋯\n",
       "\u001b[1m     \u001b[0m│\u001b[90m String \u001b[0m\u001b[90m Int64 \u001b[0m\u001b[90m String  \u001b[0m\u001b[90m String \u001b[0m\u001b[90m String \u001b[0m\u001b[90m Int64 \u001b[0m\u001b[90m String \u001b[0m\u001b[90m String          \u001b[0m ⋯\n",
       "─────┼──────────────────────────────────────────────────────────────────────────\n",
       "   1 │ 1          30  1:30     C       A         100  PASS    NS=6;AC=0;AN=12; ⋯\n",
       "   2 │ 1          40  1:40     A       C         100  PASS    NS=6;AC=0;AN=12;\n",
       "   3 │ 1       10000  1:10000  G       C         100  PASS    NS=6;AC=0;AN=12;\n",
       "\u001b[31m                                                               8 columns omitted\u001b[0m"
      ]
     },
     "execution_count": 7,
     "metadata": {},
     "output_type": "execute_result"
    }
   ],
   "source": [
    "vcf_to_use[3:5, :]"
   ]
  },
  {
   "cell_type": "code",
   "execution_count": null,
   "metadata": {},
   "outputs": [],
   "source": [
    "using Query, DataFrames\n",
    "\n",
    "x = @from i in vcf_738 begin\n",
    "    @where i.Column2=13284\n",
    "    @collect Dict\n",
    "end\n",
    "\n",
    "println(x)"
   ]
  },
  {
   "cell_type": "markdown",
   "metadata": {},
   "source": [
    "## Understanding Query.jl"
   ]
  },
  {
   "cell_type": "code",
   "execution_count": null,
   "metadata": {},
   "outputs": [],
   "source": [
    "df = DataFrame(name=[\"John\", \"Sally\", \"Kirk\"], age=[23., 42., 59.], children=[3,5,2])"
   ]
  },
  {
   "cell_type": "code",
   "execution_count": null,
   "metadata": {},
   "outputs": [],
   "source": [
    "df.column"
   ]
  },
  {
   "cell_type": "code",
   "execution_count": null,
   "metadata": {},
   "outputs": [],
   "source": [
    "using Query, DataFrames\n",
    "\n",
    "x = @from i in df begin\n",
    "    @where i.age>50\n",
    "    @select {i.name, i.children}\n",
    "    @collect Dict\n",
    "end\n",
    "\n",
    "println(x)"
   ]
  },
  {
   "cell_type": "code",
   "execution_count": null,
   "metadata": {},
   "outputs": [],
   "source": []
  }
 ],
 "metadata": {
  "kernelspec": {
   "display_name": "Julia 1.5.3",
   "language": "julia",
   "name": "julia-1.5"
  },
  "language_info": {
   "file_extension": ".jl",
   "mimetype": "application/julia",
   "name": "julia",
   "version": "1.5.3"
  }
 },
 "nbformat": 4,
 "nbformat_minor": 4
}
