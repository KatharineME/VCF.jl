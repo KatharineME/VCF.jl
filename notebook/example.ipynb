{
 "cells": [
  {
   "cell_type": "markdown",
   "metadata": {},
   "source": [
    "## TO DO\n",
    "\n",
    "2. filter vcf lines to return important bits\n",
    "\n",
    "3. check reference chromosome\n",
    "\n",
    "4. pull data from gene and variant databases (prefereably already hosted online)"
   ]
  },
  {
   "cell_type": "code",
   "execution_count": 1,
   "metadata": {},
   "outputs": [
    {
     "name": "stderr",
     "output_type": "stream",
     "text": [
      "┌ Info: Precompiling VCFTool [8f8d80d9-e796-45a3-8ef2-c0461a3110a4]\n",
      "└ @ Base loading.jl:1278\n",
      "WARNING: using IndexedTables.rename in module VCFTool conflicts with an existing identifier.\n"
     ]
    }
   ],
   "source": [
    "using JuliaDB\n",
    "using IndexedTables\n",
    "using Dagger\n",
    "using VCFTool\n",
    "\n",
    "# For viewing DataFrames\n",
    "\n",
    "ENV[\"COLUMNS\"]=100\n",
    "\n",
    "ENV[\"LINES\"]=200\n",
    "\n",
    "# For viewing JuliaDB tables and arrays\n",
    "\n",
    "IndexedTables.set_show_compact!(false);"
   ]
  },
  {
   "cell_type": "code",
   "execution_count": 2,
   "metadata": {},
   "outputs": [],
   "source": [
    "input_dir = \"../input/\"\n",
    "\n",
    "vcf_738_file_path = joinpath(input_dir, \"738_variants.vcf.gz\")\n",
    "\n",
    "vcf_738_1000_file_path = joinpath(input_dir, \"738_variants_1000.vcf.gz\")\n",
    "\n",
    "vcf_769_3_file_path = joinpath(input_dir, \"769_3_variants.vcf.gz\")\n",
    "\n",
    "vcf_test_file_path = joinpath(input_dir, \"test.vcf.gz\")\n",
    "\n",
    "vcf_file_path_to_use = vcf_738_file_path;"
   ]
  },
  {
   "cell_type": "code",
   "execution_count": 3,
   "metadata": {},
   "outputs": [
    {
     "name": "stdout",
     "output_type": "stream",
     "text": [
      "Loading Dagger file...\n",
      "\n",
      "Dagger file loaded.\n",
      "\n"
     ]
    }
   ],
   "source": [
    "vcf_table = make_vcf_indexedtable(vcf_file_path_to_use);"
   ]
  },
  {
   "cell_type": "code",
   "execution_count": null,
   "metadata": {},
   "outputs": [],
   "source": [
    "# https://www.snpedia.com/index.php/Rs1042522\n",
    "rs1042522 = [\"chr17\", 7676154]\n",
    "\n",
    "# TP53\n",
    "tp53 = [\"chr17\", 7661779:7687550]\n",
    "\n",
    "# test set\n",
    "t = [\"chr1\", 10000:12000]"
   ]
  },
  {
   "cell_type": "markdown",
   "metadata": {},
   "source": [
    "## Search for variant"
   ]
  },
  {
   "cell_type": "code",
   "execution_count": null,
   "metadata": {},
   "outputs": [],
   "source": [
    "filter_variant = filter(i -> (i.CHROM == 1) && (i.POS == 13868), vcf_table)"
   ]
  },
  {
   "cell_type": "markdown",
   "metadata": {},
   "source": [
    "## Search for region"
   ]
  },
  {
   "cell_type": "code",
   "execution_count": null,
   "metadata": {},
   "outputs": [],
   "source": [
    "filtered_vcf_table = filter_vcf_table(vcf_table, 1, 10000, 20000);"
   ]
  },
  {
   "cell_type": "code",
   "execution_count": null,
   "metadata": {},
   "outputs": [],
   "source": [
    "genotypes = get_genotype(filtered_vcf_table)"
   ]
  },
  {
   "cell_type": "markdown",
   "metadata": {},
   "source": [
    "## make_variant_dict"
   ]
  },
  {
   "cell_type": "code",
   "execution_count": null,
   "metadata": {},
   "outputs": [],
   "source": [
    "filtered_vcf_table_gt = transform(filtered_vcf_table, :GT => genotypes);"
   ]
  },
  {
   "cell_type": "markdown",
   "metadata": {},
   "source": [
    "## Tabix Regions"
   ]
  },
  {
   "cell_type": "code",
   "execution_count": null,
   "metadata": {},
   "outputs": [],
   "source": [
    "bed_file_path = joinpath(input_dir, \"cardiotoxicity.bed\")\n",
    "\n",
    "tabix_regions_from_file(\n",
    "    bed_file_path,\n",
    "    vcf_738_file_path,\n",
    "    output_dir,\n",
    ")"
   ]
  }
 ],
 "metadata": {
  "kernelspec": {
   "display_name": "Julia 1.5.3",
   "language": "julia",
   "name": "julia-1.5"
  },
  "language_info": {
   "file_extension": ".jl",
   "mimetype": "application/julia",
   "name": "julia",
   "version": "1.5.3"
  }
 },
 "nbformat": 4,
 "nbformat_minor": 4
}
