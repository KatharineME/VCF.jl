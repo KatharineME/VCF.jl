{
 "cells": [
  {
   "cell_type": "markdown",
   "metadata": {},
   "source": [
    "## TO DO\n",
    "\n",
    "2. filter vcf lines to return important bits\n",
    "\n",
    "3. check reference chromosome\n",
    "\n",
    "4. pull data from gene and variant databases (prefereably already hosted online)"
   ]
  },
  {
   "cell_type": "code",
   "execution_count": 21,
   "metadata": {},
   "outputs": [],
   "source": [
    "using JuliaDB\n",
    "using IndexedTables\n",
    "using Dagger\n",
    "using VCFTool\n",
    "\n",
    "# For viewing DataFrames\n",
    "\n",
    "ENV[\"COLUMNS\"]=100\n",
    "\n",
    "ENV[\"LINES\"]=200\n",
    "\n",
    "# For viewing JuliaDB tables and arrays\n",
    "\n",
    "IndexedTables.set_show_compact!(false);"
   ]
  },
  {
   "cell_type": "code",
   "execution_count": 31,
   "metadata": {},
   "outputs": [],
   "source": [
    "input_dir = \"../input/\"\n",
    "\n",
    "vcf_738_file_path = joinpath(input_dir, \"738_variants.vcf.gz\")\n",
    "\n",
    "vcf_738_1000_file_path = joinpath(input_dir, \"738_variants_1000.vcf.gz\")\n",
    "\n",
    "vcf_769_3_file_path = joinpath(input_dir, \"769_3_variants.vcf.gz\")\n",
    "\n",
    "vcf_test_file_path = joinpath(input_dir, \"test.vcf.gz\")\n",
    "\n",
    "vcf_file_path_to_use = vcf_738_1000_file_path;"
   ]
  },
  {
   "cell_type": "code",
   "execution_count": 32,
   "metadata": {},
   "outputs": [
    {
     "data": {
      "text/plain": [
       "Table with 999 rows, 10 columns:\n",
       "\u001b[1mCHROM  \u001b[22m\u001b[1mPOS     \u001b[22mID   REF            ALT      QUAL    FILTER                                INFO                                                FORMAT                                     GERM\n",
       "───────────────────────────────────────────────────────────────────────────────────────────────────────────────────────────────────────────────────────────────────────────────────────────────────────────────────────────────────────────────────────\n",
       "1      10439   \".\"  \"AC\"           \"A\"      \"72\"    \"PASS\"                                \"CIGAR=1M1D;RU=C;REFREP=4;IDREP=3;MQ=9\"             \"GT:GQ:GQX:DPI:AD:ADF:ADR:FT:PL\"           \"0/1:31:5:7:2,5:0,1:2,4:PASS:108,0,28\"\n",
       "1      13284   \".\"  \"G\"            \"A\"      \"60\"    \"LowGQX;NoPassedVariantGTs\"           \"SNVHPOL=4;MQ=17\"                                   \"GT:GQ:GQX:DP:DPF:AD:ADF:ADR:SB:FT:PL\"     \"0/1:93:1:30:1:19,11:12,8:7,3:-9.2:LowGQX:95,0,157\"\n",
       "1      13868   \".\"  \"A\"            \"G\"      \"1\"     \"LowGQX;LowDepth;NoPassedVariantGTs\"  \"SNVHPOL=3;MQ=4\"                                    \"GT:GQ:GQX:DP:DPF:AD:ADF:ADR:SB:FT:PL\"     \"0/1:3:0:1:0:0,1:0,0:0,1:0.0:LowGQX;LowDepth:28,3,0\"\n",
       "1      15274   \".\"  \"A\"            \"G\"      \"1\"     \"LowGQX;LowDepth;NoPassedVariantGTs\"  \"SNVHPOL=2;MQ=3\"                                    \"GT:GQ:GQX:DP:DPF:AD:ADF:ADR:SB:FT:PL\"     \"0/1:3:0:1:0:0,1:0,0:0,1:0.0:LowGQX;LowDepth:27,3,0\"\n",
       "1      15903   \".\"  \"G\"            \"GC\"     \"209\"   \"PASS\"                                \"CIGAR=1M1I;RU=C;REFREP=2;IDREP=3;MQ=17\"            \"GT:GQ:GQX:DPI:AD:ADF:ADR:FT:PL\"           \"1/1:24:17:9:0,9:0,9:0,0:PASS:255,27,0\"\n",
       "1      16683   \".\"  \"T\"            \"G\"      \"0\"     \"LowGQX;NoPassedVariantGTs\"           \"SNVHPOL=7;MQ=10\"                                   \"GT:GQ:GQX:DP:DPF:AD:ADF:ADR:SB:FT:PL\"     \"0/1:20:0:3:1:2,1:0,0:2,1:0.0:LowGQX:23,0,42\"\n",
       "1      16713   \".\"  \"T\"            \"G\"      \"0\"     \"LowGQX;LowDepth;NoPassedVariantGTs\"  \"SNVHPOL=6;MQ=11\"                                   \"GT:GQ:GQX:DP:DPF:AD:ADF:ADR:SB:FT:PL\"     \"0/1:16:0:2:2:1,1:0,0:1,1:0.0:LowGQX;LowDepth:21,0,20\"\n",
       "1      16731   \".\"  \"C\"            \"G\"      \"0\"     \"LowGQX;NoPassedVariantGTs\"           \"SNVHPOL=8;MQ=16\"                                   \"GT:GQ:GQX:DP:DPF:AD:ADF:ADR:SB:FT:PL\"     \"0/1:22:0:6:10:4,2:0,0:4,2:0.0:LowGQX:25,0,58\"\n",
       "1      16734   \".\"  \"T\"            \"G\"      \"4\"     \"LowGQX;NoPassedVariantGTs\"           \"SNVHPOL=8;MQ=15\"                                   \"GT:GQ:GQX:DP:DPF:AD:ADF:ADR:SB:FT:PL\"     \"0/1:33:0:6:9:3,3:0,0:3,3:0.0:LowGQX:37,0,35\"\n",
       "1      19322   \".\"  \"C\"            \"T\"      \"0\"     \"LowGQX;NoPassedVariantGTs\"           \"SNVHPOL=3;MQ=13\"                                   \"GT:GQ:GQX:DP:DPF:AD:ADF:ADR:SB:FT:PL\"     \"0/1:15:0:17:0:14,3:10,1:4,2:0.0:LowGQX:17,0,146\"\n",
       "1      19795   \".\"  \"T\"            \"C\"      \"14\"    \"LowGQX;NoPassedVariantGTs\"           \"SNVHPOL=4;MQ=18\"                                   \"GT:GQ:GQX:DP:DPF:AD:ADF:ADR:SB:FT:PL\"     \"0/1:47:1:11:0:9,2:2,1:7,1:-3.2:LowGQX:48,0,130\"\n",
       "1      28494   \".\"  \"T\"            \"C\"      \"1\"     \"LowGQX;LowDepth;NoPassedVariantGTs\"  \"SNVHPOL=3;MQ=5\"                                    \"GT:GQ:GQX:DP:DPF:AD:ADF:ADR:SB:FT:PL\"     \"0/1:3:0:1:0:0,1:0,1:0,0:0.0:LowGQX;LowDepth:27,3,0\"\n",
       "1      28511   \".\"  \"G\"            \"A\"      \"1\"     \"LowGQX;LowDepth;NoPassedVariantGTs\"  \"SNVHPOL=2;MQ=5\"                                    \"GT:GQ:GQX:DP:DPF:AD:ADF:ADR:SB:FT:PL\"     \"0/1:3:0:1:0:0,1:0,1:0,0:0.0:LowGQX;LowDepth:27,3,0\"\n",
       "1      28558   \".\"  \"C\"            \"T\"      \"1\"     \"LowGQX;LowDepth;NoPassedVariantGTs\"  \"SNVHPOL=5;MQ=6\"                                    \"GT:GQ:GQX:DP:DPF:AD:ADF:ADR:SB:FT:PL\"     \"0/1:3:0:1:0:0,1:0,1:0,0:0.0:LowGQX;LowDepth:27,3,0\"\n",
       "1      28563   \".\"  \"A\"            \"G\"      \"1\"     \"LowGQX;LowDepth;NoPassedVariantGTs\"  \"SNVHPOL=3;MQ=7\"                                    \"GT:GQ:GQX:DP:DPF:AD:ADF:ADR:SB:FT:PL\"     \"0/1:3:0:1:0:0,1:0,1:0,0:0.0:LowGQX;LowDepth:27,3,0\"\n",
       "1      31029   \".\"  \"G\"            \"A\"      \"1\"     \"LowGQX;LowDepth;NoPassedVariantGTs\"  \"SNVHPOL=3;MQ=7\"                                    \"GT:GQ:GQX:DP:DPF:AD:ADF:ADR:SB:FT:PL\"     \"0/1:3:0:1:0:0,1:0,0:0,1:0.0:LowGQX;LowDepth:28,3,0\"\n",
       "1      38928   \".\"  \"A\"            \"T\"      \"0\"     \"LowGQX;LowDepth;NoPassedVariantGTs\"  \"SNVHPOL=3;MQ=13\"                                   \"GT:GQ:GQX:DP:DPF:AD:ADF:ADR:SB:FT:PL\"     \"0/1:17:0:2:0:1,1:1,1:0,0:0.0:LowGQX;LowDepth:22,0,20\"\n",
       "1      39015   \".\"  \"A\"            \"C\"      \"0\"     \"LowGQX;NoPassedVariantGTs\"           \"SNVHPOL=5;MQ=11\"                                   \"GT:GQ:GQX:DP:DPF:AD:ADF:ADR:SB:FT:PL\"     \"0/1:11:0:5:0:4,1:4,1:0,0:0.0:LowGQX:13,0,50\"\n",
       "1      39255   \".\"  \"A\"            \"C\"      \"156\"   \"LowGQX;NoPassedVariantGTs\"           \"SNVHPOL=2;MQ=15\"                                   \"GT:GQ:GQX:DP:DPF:AD:ADF:ADR:SB:FT:PL:PS\"  \"0|1:80:0:34:0:13,21:6,10:7,11:-21.5:LowGQX:191,0,77:39255\"\n",
       "1      39261   \".\"  \"T\"            \"C\"      \"217\"   \"LowGQX;NoPassedVariantGTs\"           \"SNVHPOL=3;MQ=15\"                                   \"GT:GQ:GQX:DP:DPF:AD:ADF:ADR:SB:FT:PL:PS\"  \"0|1:23:0:34:0:6,28:3,13:3,15:-28.5:LowGQX:252,0,20:39255\"\n",
       "1      39292   \".\"  \"G\"            \"T\"      \"0\"     \"LowGQX;NoPassedVariantGTs\"           \"SNVHPOL=5;MQ=15\"                                   \"GT:GQ:GQX:DP:DPF:AD:ADF:ADR:SB:FT:PL\"     \"0/1:10:0:33:0:28,5:12,3:16,2:0.0:LowGQX:11,0,260\"\n",
       "1      39430   \".\"  \"A\"            \"C\"      \"0\"     \"LowGQX;NoPassedVariantGTs\"           \"SNVHPOL=3;MQ=6\"                                    \"GT:GQ:GQX:DP:DPF:AD:ADF:ADR:SB:FT:PL\"     \"0/1:12:0:4:0:3,1:0,0:3,1:0.0:LowGQX:14,0,49\"\n",
       "1      39487   \".\"  \"A\"            \"C\"      \"0\"     \"LowGQX;NoPassedVariantGTs\"           \"SNVHPOL=6;MQ=8\"                                    \"GT:GQ:GQX:DP:DPF:AD:ADF:ADR:SB:FT:PL\"     \"0/1:5:0:6:0:5,1:0,0:5,1:0.0:LowGQX:6,0,60\"\n",
       "1      39578   \".\"  \"C\"            \"T\"      \"25\"    \"LowGQX;NoPassedVariantGTs\"           \"SNVHPOL=5;MQ=5\"                                    \"GT:GQ:GQX:DP:DPF:AD:ADF:ADR:SB:FT:PL\"     \"1/1:9:0:4:0:0,4:0,0:0,4:0.0:LowGQX:62,12,0\"\n",
       "1      47138   \".\"  \"T\"            \"G\"      \"0\"     \"LowGQX;NoPassedVariantGTs\"           \"SNVHPOL=3;MQ=16\"                                   \"GT:GQ:GQX:DP:DPF:AD:ADF:ADR:SB:FT:PL\"     \"0/1:9:0:7:0:6,1:5,1:1,0:0.0:LowGQX:11,0,105\"\n",
       "1      47461   \".\"  \"T\"            \"G\"      \"0\"     \"LowGQX;NoPassedVariantGTs\"           \"SNVHPOL=2;MQ=8\"                                    \"GT:GQ:GQX:DP:DPF:AD:ADF:ADR:SB:FT:PL\"     \"0/1:7:0:5:0:4,1:0,0:4,1:0.0:LowGQX:9,0,53\"\n",
       "1      48324   \".\"  \"T\"            \"G\"      \"0\"     \"LowGQX;LowDepth;NoPassedVariantGTs\"  \"SNVHPOL=2;MQ=6\"                                    \"GT:GQ:GQX:DP:DPF:AD:ADF:ADR:SB:FT:PL\"     \"0/1:3:0:1:0:0,1:0,0:0,1:0.0:LowGQX;LowDepth:24,3,0\"\n",
       "1      48953   \".\"  \"C\"            \"T\"      \"0\"     \"LowGQX;NoPassedVariantGTs\"           \"SNVHPOL=2;MQ=13\"                                   \"GT:GQ:GQX:DP:DPF:AD:ADF:ADR:SB:FT:PL\"     \"0/1:4:0:7:0:6,1:6,1:0,0:0.0:LowGQX:4,0,92\"\n",
       "1      49094   \".\"  \"T\"            \"G\"      \"0\"     \"LowGQX;NoPassedVariantGTs\"           \"SNVHPOL=3;MQ=9\"                                    \"GT:GQ:GQX:DP:DPF:AD:ADF:ADR:SB:FT:PL\"     \"0/1:11:0:5:0:4,1:4,1:0,0:0.0:LowGQX:13,0,59\"\n",
       "1      49298   \".\"  \"T\"            \"C\"      \"258\"   \"PASS\"                                \"SNVHPOL=5;MQ=23\"                                   \"GT:GQ:GQX:DP:DPF:AD:ADF:ADR:SB:FT:PL\"     \"1/1:57:14:20:1:0,20:0,12:0,8:-32.3:PASS:296,60,0\"\n",
       "1      51803   \".\"  \"T\"            \"C\"      \"475\"   \"PASS\"                                \"SNVHPOL=3;MQ=32\"                                   \"GT:GQ:GQX:DP:DPF:AD:ADF:ADR:SB:FT:PL\"     \"1/1:105:8:36:2:0,36:0,26:0,10:-35.9:PASS:370,108,0\"\n",
       "1      52238   \".\"  \"T\"            \"G\"      \"238\"   \"PASS\"                                \"SNVHPOL=2;MQ=36\"                                   \"GT:GQ:GQX:DP:DPF:AD:ADF:ADR:SB:FT:PL\"     \"1/1:45:14:16:1:0,16:0,2:0,14:-14.1:PASS:275,48,0\"\n",
       "1      52343   \".\"  \"T\"            \"C\"      \"0\"     \"LowGQX;NoPassedVariantGTs\"           \"SNVHPOL=3;MQ=24\"                                   \"GT:GQ:GQX:DP:DPF:AD:ADF:ADR:SB:FT:PL\"     \"0/1:3:0:13:0:12,1:0,0:12,1:0.0:LowGQX:3,0,153\"\n",
       "1      52704   \".\"  \"A\"            \"C\"      \"0\"     \"LowGQX;NoPassedVariantGTs\"           \"SNVHPOL=2;MQ=17\"                                   \"GT:GQ:GQX:DP:DPF:AD:ADF:ADR:SB:FT:PL\"     \"0/1:7:0:7:0:6,1:4,0:2,1:0.0:LowGQX:8,0,102\"\n",
       "1      54712   \".\"  \"TTTTCTTTC\"    \"T\"      \"206\"   \"PASS\"                                \"CIGAR=1M8D;RU=TTTC;REFREP=15;IDREP=13;MQ=59\"       \"GT:GQ:GQX:DPI:AD:ADF:ADR:FT:PL\"           \"0/1:156:19:40:11,15:2,8:9,7:PASS:211,0,153\"\n",
       "1      55164   \".\"  \"C\"            \"A\"      \"180\"   \"PASS\"                                \"SNVHPOL=5;MQ=35\"                                   \"GT:GQ:GQX:DP:DPF:AD:ADF:ADR:SB:FT:PL\"     \"1/1:30:14:11:1:0,11:0,10:0,1:-10.8:PASS:218,33,0\"\n",
       "1      55926   \".\"  \"T\"            \"C\"      \"428\"   \"PASS\"                                \"SNVHPOL=2;MQ=34\"                                   \"GT:GQ:GQX:DP:DPF:AD:ADF:ADR:SB:FT:PL\"     \"1/1:90:14:31:0:0,31:0,16:0,15:-52.8:PASS:370,93,0\"\n",
       "1      57952   \".\"  \"A\"            \"C\"      \"117\"   \"PASS\"                                \"SNVHPOL=3;MQ=18\"                                   \"GT:GQ:GQX:DP:DPF:AD:ADF:ADR:SB:FT:PL\"     \"1/1:24:4:9:0:0,9:0,2:0,7:-11.1:PASS:154,27,0\"\n",
       "1      58176   \".\"  \"G\"            \"A\"      \"124\"   \"PASS\"                                \"SNVHPOL=3;MQ=20\"                                   \"GT:GQ:GQX:DP:DPF:AD:ADF:ADR:SB:FT:PL\"     \"1/1:27:5:10:0:0,10:0,9:0,1:-5.9:PASS:162,30,0\"\n",
       "1      58211   \".\"  \"A\"            \"G\"      \"81\"    \"LowGQX;NoPassedVariantGTs\"           \"SNVHPOL=2;MQ=20\"                                   \"GT:GQ:GQX:DP:DPF:AD:ADF:ADR:SB:FT:PL\"     \"1/1:24:2:9:0:0,9:0,9:0,0:0.0:LowGQX:118,27,0\"\n",
       "1      59804   \".\"  \"G\"            \"T\"      \"0\"     \"LowGQX;NoPassedVariantGTs\"           \"SNVHPOL=4;MQ=8\"                                    \"GT:GQ:GQX:DP:DPF:AD:ADF:ADR:SB:FT:PL\"     \"0/1:4:0:7:0:6,1:0,0:6,1:0.0:LowGQX:4,0,66\"\n",
       "1      60905   \".\"  \"A\"            \"C\"      \"147\"   \"PASS\"                                \"SNVHPOL=6;MQ=29\"                                   \"GT:GQ:GQX:DP:DPF:AD:ADF:ADR:SB:FT:PL\"     \"0/1:147:6:19:0:8,11:4,6:4,5:-20.4:PASS:182,0,144\"\n",
       "1      61350   \".\"  \"TA\"           \"T\"      \"59\"    \"PASS\"                                \"CIGAR=1M1D;RU=A;REFREP=11;IDREP=10;MQ=26\"          \"GT:GQ:GQX:DPI:AD:ADF:ADR:FT:PL\"           \"1/1:9:8:9:0,4:0,4:0,0:PASS:69,12,0\"\n",
       "1      61442   \".\"  \"A\"            \"G\"      \"218\"   \"PASS\"                                \"SNVHPOL=5;MQ=31\"                                   \"GT:GQ:GQX:DP:DPF:AD:ADF:ADR:SB:FT:PL\"     \"1/1:39:17:14:0:0,14:0,5:0,9:-24.5:PASS:256,42,0\"\n",
       "1      63680   \".\"  \"C\"            \"T\"      \"88\"    \"LowGQX;NoPassedVariantGTs\"           \"SNVHPOL=2;MQ=27\"                                   \"GT:GQ:GQX:DP:DPF:AD:ADF:ADR:SB:FT:PL\"     \"0/1:121:2:22:0:15,7:4,3:11,4:-13.9:LowGQX:123,0,196\"\n",
       "1      63735   \".\"  \"CCTA\"         \"C\"      \"322\"   \"PASS\"                                \"CIGAR=1M3D;RU=CTA;REFREP=2;IDREP=1;MQ=28\"          \"GT:GQ:GQX:DPI:AD:ADF:ADR:FT:PL\"           \"1/1:46:20:17:0,16:0,3:0,13:PASS:367,49,0\"\n",
       "1      66160   \".\"  \"T\"            \"TTA\"    \"119\"   \"PASS\"                                \"CIGAR=1M2I;RU=TA;REFREP=7;IDREP=8;MQ=47\"           \"GT:GQ:GQX:DPI:AD:ADF:ADR:FT:PL\"           \"0/1:113:17:23:10,9:1,0:9,9:PASS:131,0,110\"\n",
       "1      66507   \".\"  \"T\"            \"A\"      \"127\"   \"PASS\"                                \"SNVHPOL=2;MQ=50\"                                   \"GT:GQ:GQX:DP:DPF:AD:ADF:ADR:SB:FT:PL\"     \"1/1:24:8:9:0:0,9:0,9:0,0:0.0:PASS:165,27,0\"\n",
       "1      69270   \".\"  \"A\"            \"G\"      \"52\"    \"LowGQX;NoPassedVariantGTs\"           \"SNVHPOL=3;MQ=12\"                                   \"GT:GQ:GQX:DP:DPF:AD:ADF:ADR:SB:FT:PL\"     \"1/1:7:1:3:0:0,3:0,3:0,0:0.0:LowGQX:89,9,0\"\n",
       "1      69511   \".\"  \"A\"            \"G\"      \"152\"   \"PASS\"                                \"SNVHPOL=3;MQ=21\"                                   \"GT:GQ:GQX:DP:DPF:AD:ADF:ADR:SB:FT:PL\"     \"1/1:21:8:8:0:0,8:0,3:0,5:-17.4:PASS:190,24,0\"\n",
       "1      69894   \".\"  \"T\"            \"G\"      \"0\"     \"LowGQX;NoPassedVariantGTs\"           \"SNVHPOL=2;MQ=6\"                                    \"GT:GQ:GQX:DP:DPF:AD:ADF:ADR:SB:FT:PL\"     \"0/1:14:0:3:0:2,1:2,0:0,1:0.0:LowGQX:17,0,30\"\n",
       "1      69897   \".\"  \"T\"            \"C\"      \"1\"     \"LowGQX;NoPassedVariantGTs\"           \"SNVHPOL=2;MQ=6\"                                    \"GT:GQ:GQX:DP:DPF:AD:ADF:ADR:SB:FT:PL\"     \"0/1:22:0:3:0:2,1:2,0:0,1:0.0:LowGQX:26,0,30\"\n",
       "1      72297   \".\"  \"G\"            \"GTAT\"   \"164\"   \"PASS\"                                \"CIGAR=1M3I;RU=TAT;REFREP=1;IDREP=2;MQ=24\"          \"GT:GQ:GQX:DPI:AD:ADF:ADR:FT:PL\"           \"0/1:206:14:33:19,13:7,5:12,8:PASS:203,0,293\"\n",
       "1      72353   \".\"  \"G\"            \"A\"      \"41\"    \"LowGQX;NoPassedVariantGTs\"           \"SNVHPOL=3;MQ=20\"                                   \"GT:GQ:GQX:DP:DPF:AD:ADF:ADR:SB:FT:PL\"     \"0/1:74:3:18:0:12,6:3,3:9,3:-6.7:LowGQX:76,0,177\"\n",
       "1      74681   \".\"  \"G\"            \"T\"      \"65\"    \"LowGQX;NoPassedVariantGTs\"           \"SNVHPOL=5;MQ=15\"                                   \"GT:GQ:GQX:DP:DPF:AD:ADF:ADR:SB:FT:PL\"     \"1/1:10:3:4:0:0,4:0,4:0,0:0.0:LowGQX:102,12,0\"\n",
       "1      76024   \".\"  \"C\"            \"A\"      \"32\"    \"LowGQX;NoPassedVariantGTs\"           \"SNVHPOL=2;MQ=16\"                                   \"GT:GQ:GQX:DP:DPF:AD:ADF:ADR:SB:FT:PL\"     \"0/1:65:1:17:0:12,5:6,1:6,4:-4.5:LowGQX:66,0,163\"\n",
       "1      76240   \".\"  \"A\"            \"G\"      \"0\"     \"LowGQX;NoPassedVariantGTs\"           \"SNVHPOL=3;MQ=11\"                                   \"GT:GQ:GQX:DP:DPF:AD:ADF:ADR:SB:FT:PL\"     \"0/1:16:0:7:0:6,1:0,0:6,1:0.0:LowGQX:18,0,85\"\n",
       "1      76308   \".\"  \"C\"            \"T\"      \"1\"     \"LowGQX;NoPassedVariantGTs\"           \"SNVHPOL=2;MQ=10\"                                   \"GT:GQ:GQX:DP:DPF:AD:ADF:ADR:SB:FT:PL\"     \"0/1:25:0:4:0:3,1:0,0:3,1:0.0:LowGQX:28,0,65\"\n",
       "1      76752   \".\"  \"A\"            \"T\"      \"30\"    \"LowGQX;NoPassedVariantGTs\"           \"SNVHPOL=3;MQ=17\"                                   \"GT:GQ:GQX:DP:DPF:AD:ADF:ADR:SB:FT:PL\"     \"0/1:63:2:8:1:6,2:4,1:2,1:-7.1:LowGQX:64,0,120\"\n",
       "1      76766   \".\"  \"A\"            \"T\"      \"21\"    \"LowGQX;NoPassedVariantGTs\"           \"SNVHPOL=4;MQ=20\"                                   \"GT:GQ:GQX:DP:DPF:AD:ADF:ADR:SB:FT:PL\"     \"0/1:54:2:11:1:9,2:6,1:3,1:-5.7:LowGQX:55,0,156\"\n",
       "1      77089   \".\"  \"C\"            \"T\"      \"1\"     \"LowGQX;NoPassedVariantGTs\"           \"SNVHPOL=2;MQ=19\"                                   \"GT:GQ:GQX:DP:DPF:AD:ADF:ADR:SB:FT:PL\"     \"0/1:29:0:9:1:7,2:2,0:5,2:0.0:LowGQX:31,0,133\"\n",
       "1      77961   \".\"  \"G\"            \"A\"      \"24\"    \"LowGQX;NoPassedVariantGTs\"           \"SNVHPOL=3;MQ=39\"                                   \"GT:GQ:GQX:DP:DPF:AD:ADF:ADR:SB:FT:PL\"     \"0/1:57:0:35:1:29,6:16,3:13,3:-2.5:LowGQX:58,0,348\"\n",
       "1      79033   \".\"  \"A\"            \"G\"      \"85\"    \"LowGQX;NoPassedVariantGTs\"           \"SNVHPOL=5;MQ=17\"                                   \"GT:GQ:GQX:DP:DPF:AD:ADF:ADR:SB:FT:PL\"     \"1/1:24:1:9:0:0,9:0,9:0,0:0.0:LowGQX:122,27,0\"\n",
       "1      79050   \".\"  \"G\"            \"T\"      \"188\"   \"PASS\"                                \"SNVHPOL=3;MQ=25\"                                   \"GT:GQ:GQX:DP:DPF:AD:ADF:ADR:SB:FT:PL\"     \"1/1:36:10:13:0:0,13:0,11:0,2:-17.3:PASS:226,39,0\"\n",
       "1      80346   \".\"  \"C\"            \"G\"      \"87\"    \"PASS\"                                \"SNVHPOL=2;MQ=21\"                                   \"GT:GQ:GQX:DP:DPF:AD:ADF:ADR:SB:FT:PL\"     \"0/1:120:7:17:0:10,7:8,4:2,3:-12.1:PASS:121,0,148\"\n",
       "1      80857   \".\"  \"C\"            \"T\"      \"1\"     \"LowGQX;NoPassedVariantGTs\"           \"SNVHPOL=6;MQ=10\"                                   \"GT:GQ:GQX:DP:DPF:AD:ADF:ADR:SB:FT:PL\"     \"0/1:25:0:4:0:3,1:1,1:2,0:0.0:LowGQX:28,0,87\"\n",
       "1      81343   \".\"  \"A\"            \"G\"      \"113\"   \"PASS\"                                \"SNVHPOL=3;MQ=46\"                                   \"GT:GQ:GQX:DP:DPF:AD:ADF:ADR:SB:FT:PL\"     \"0/1:146:18:44:1:30,14:14,6:16,8:-15.0:PASS:147,0,334\"\n",
       "1      81782   \".\"  \"G\"            \"A\"      \"0\"     \"LowGQX;NoPassedVariantGTs\"           \"SNVHPOL=6;MQ=19\"                                   \"GT:GQ:GQX:DP:DPF:AD:ADF:ADR:SB:FT:PL\"     \"0/1:7:0:8:0:7,1:6,0:1,1:0.0:LowGQX:8,0,148\"\n",
       "1      82133   \".\"  \"CAA\"          \"C\"      \"424\"   \"PASS\"                                \"CIGAR=1M2D;RU=A;REFREP=21;IDREP=19;MQ=49\"          \"GT:GQ:GQX:DPI:AD:ADF:ADR:FT:PL\"           \"1/1:104:10:48:0,45:0,22:0,23:PASS:428,107,0\"\n",
       "1      83057   \".\"  \"T\"            \"A\"      \"0\"     \"LowGQX;NoPassedVariantGTs\"           \"SNVHPOL=5;MQ=24\"                                   \"GT:GQ:GQX:DP:DPF:AD:ADF:ADR:SB:FT:PL\"     \"0/1:5:0:14:0:13,1:4,0:9,1:0.0:LowGQX:5,0,215\"\n",
       "1      83084   \".\"  \"T\"            \"A\"      \"208\"   \"PASS\"                                \"SNVHPOL=7;MQ=21\"                                   \"GT:GQ:GQX:DP:DPF:AD:ADF:ADR:SB:FT:PL\"     \"1/1:36:8:13:0:0,13:0,6:0,7:-25.5:PASS:246,39,0\"\n",
       "1      83514   \".\"  \"C\"            \"T\"      \"22\"    \"LowGQX;NoPassedVariantGTs\"           \"SNVHPOL=3;MQ=16\"                                   \"GT:GQ:GQX:DP:DPF:AD:ADF:ADR:SB:FT:PL\"     \"0/1:55:2:9:1:6,3:6,3:0,0:0.0:LowGQX:57,0,95\"\n",
       "1      83829   \".\"  \"G\"            \"GAGAA\"  \"268\"   \"PASS\"                                \"CIGAR=1M4I;RU=AGAA;REFREP=11;IDREP=12;MQ=48\"       \"GT:GQ:GQX:DPI:AD:ADF:ADR:FT:PL\"           \"0/1:160:6:51:12,23:5,14:7,9:PASS:276,0,157\"\n",
       "1      83974   \".\"  \"A\"            \"AAG\"    \"51\"    \"LowGQX;NoPassedVariantGTs\"           \"CIGAR=1M2I;RU=AG;REFREP=0;IDREP=1;MQ=46\"           \"GT:GQ:GQX:DPI:AD:ADF:ADR:FT:PL\"           \"0/1:93:1:53:37,12:24,4:13,8:LowGQX:90,0,595\"\n",
       "1      84010   \".\"  \"G\"            \"A\"      \"10\"    \"PASS\"                                \"SNVHPOL=7;MQ=43\"                                   \"GT:GQ:GQX:DP:DPF:AD:ADF:ADR:SB:FT:PL\"     \"0/1:43:4:49:2:40,9:18,8:22,1:8.4:PASS:45,0,370\"\n",
       "1      84014   \".\"  \"G\"            \"A\"      \"58\"    \"PASS\"                                \"SNVHPOL=7;MQ=43\"                                   \"GT:GQ:GQX:DP:DPF:AD:ADF:ADR:SB:FT:PL\"     \"0/1:91:6:47:2:37,10:19,6:18,4:-8.3:PASS:92,0,370\"\n",
       "1      84030   \".\"  \"G\"            \"GA\"     \"15\"    \"LowGQX;NoPassedVariantGTs\"           \"CIGAR=1M1I;RU=A;REFREP=3;IDREP=4;MQ=44\"            \"GT:GQ:GQX:DPI:AD:ADF:ADR:FT:PL\"           \"0/1:57:1:50:39,7:18,4:21,3:LowGQX:54,0,748\"\n",
       "1      85529   \".\"  \"G\"            \"A\"      \"48\"    \"PASS\"                                \"SNVHPOL=3;MQ=38\"                                   \"GT:GQ:GQX:DP:DPF:AD:ADF:ADR:SB:FT:PL\"     \"0/1:81:6:32:0:26,6:12,3:14,3:-8.6:PASS:82,0,323\"\n",
       "1      86749   \".\"  \"A\"            \"G\"      \"105\"   \"PASS\"                                \"SNVHPOL=3;MQ=30\"                                   \"GT:GQ:GQX:DP:DPF:AD:ADF:ADR:SB:FT:PL\"     \"0/1:138:7:32:0:21,11:16,9:5,2:-12.8:PASS:140,0,248\"\n",
       "1      87190   \".\"  \"G\"            \"A\"      \"89\"    \"LowGQX;NoPassedVariantGTs\"           \"SNVHPOL=2;MQ=54\"                                   \"GT:GQ:GQX:DP:DPF:AD:ADF:ADR:SB:FT:PL\"     \"0/1:122:2:60:1:44,16:27,8:17,8:-9.6:LowGQX:123,0,370\"\n",
       "1      88169   \".\"  \"C\"            \"T\"      \"132\"   \"PASS\"                                \"SNVHPOL=3;MQ=54\"                                   \"GT:GQ:GQX:DP:DPF:AD:ADF:ADR:SB:FT:PL\"     \"0/1:165:14:44:0:29,15:19,8:10,7:-17.1:PASS:166,0,356\"\n",
       "1      90339   \".\"  \"A\"            \"C\"      \"0\"     \"LowGQX;NoPassedVariantGTs\"           \"SNVHPOL=3;MQ=8\"                                    \"GT:GQ:GQX:DP:DPF:AD:ADF:ADR:SB:FT:PL\"     \"0/1:15:0:3:1:2,1:0,1:2,0:0.0:LowGQX:18,0,54\"\n",
       "1      92638   \".\"  \"A\"            \"T\"      \"0\"     \"LowGQX;NoPassedVariantGTs\"           \"SNVHPOL=3;MQ=47\"                                   \"GT:GQ:GQX:DP:DPF:AD:ADF:ADR:SB:FT:PL\"     \"0/1:9:0:49:0:42,7:20,6:22,1:0.0:LowGQX:10,0,370\"\n",
       "1      93578   \".\"  \"C\"            \"G\"      \"0\"     \"LowGQX;LowDepth;NoPassedVariantGTs\"  \"SNVHPOL=2;MQ=6\"                                    \"GT:GQ:GQX:DP:DPF:AD:ADF:ADR:SB:FT:PL\"     \"0/1:17:0:2:0:1,1:0,0:1,1:0.0:LowGQX;LowDepth:22,0,24\"\n",
       "1      94824   \".\"  \"CT\"           \"C\"      \"141\"   \"PASS\"                                \"CIGAR=1M1D;RU=T;REFREP=23;IDREP=22;MQ=30\"          \"GT:GQ:GQX:DPI:AD:ADF:ADR:FT:PL\"           \"0/1:50:3:49:16,24:15,16:1,8:PASS:142,0,47\"\n",
       "1      96124   \".\"  \"C\"            \"T\"      \"0\"     \"LowGQX;LowDepth;NoPassedVariantGTs\"  \"SNVHPOL=2;MQ=5\"                                    \"GT:GQ:GQX:DP:DPF:AD:ADF:ADR:SB:FT:PL\"     \"0/1:17:0:2:0:1,1:0,1:1,0:0.0:LowGQX;LowDepth:22,0,21\"\n",
       "1      96163   \".\"  \"C\"            \"T\"      \"0\"     \"LowGQX;NoPassedVariantGTs\"           \"SNVHPOL=3;MQ=9\"                                    \"GT:GQ:GQX:DP:DPF:AD:ADF:ADR:SB:FT:PL\"     \"0/1:11:0:6:0:5,1:3,1:2,0:0.0:LowGQX:13,0,95\"\n",
       "1      96355   \".\"  \"G\"            \"A\"      \"0\"     \"LowGQX;NoPassedVariantGTs\"           \"SNVHPOL=2;MQ=8\"                                    \"GT:GQ:GQX:DP:DPF:AD:ADF:ADR:SB:FT:PL\"     \"0/1:15:0:4:0:3,1:3,1:0,0:0.0:LowGQX:18,0,57\"\n",
       "1      98583   \".\"  \"T\"            \"A\"      \"122\"   \"LowGQX;NoPassedVariantGTs\"           \"SNVHPOL=2;MQ=27\"                                   \"GT:GQ:GQX:DP:DPF:AD:ADF:ADR:SB:FT:PL\"     \"0/1:155:2:56:0:34,22:19,13:15,9:-16.6:LowGQX:156,0,279\"\n",
       "1      98945   \".\"  \"C\"            \"T\"      \"0\"     \"LowGQX;NoPassedVariantGTs\"           \"SNVHPOL=2;MQ=31\"                                   \"GT:GQ:GQX:DP:DPF:AD:ADF:ADR:SB:FT:PL\"     \"0/1:13:0:52:1:45,7:14,4:31,3:0.0:LowGQX:15,0,370\"\n",
       "1      98999   \".\"  \"T\"            \"TTTTA\"  \"713\"   \"PASS\"                                \"CIGAR=1M4I;RU=TTTA;REFREP=10;IDREP=11;MQ=34\"       \"GT:GQ:GQX:DPI:AD:ADF:ADR:FT:PL\"           \"0/1:100:4:67:12,39:6,23:6,16:PASS:723,0,97\"\n",
       "1      99117   \".\"  \"G\"            \"T\"      \"5\"     \"LowGQX;NoPassedVariantGTs\"           \"SNVHPOL=25;MQ=18\"                                  \"GT:GQ:GQX:DP:DPF:AD:ADF:ADR:SB:FT:PL\"     \"0/1:37:0:17:1:13,4:0,4:13,0:9.0:LowGQX:38,0,146\"\n",
       "1      99118   \".\"  \"G\"            \"T\"      \"0\"     \"LowGQX;NoPassedVariantGTs\"           \"SNVHPOL=2;MQ=16\"                                   \"GT:GQ:GQX:DP:DPF:AD:ADF:ADR:SB:FT:PL\"     \"0/1:15:0:15:1:13,2:0,2:13,0:0.0:LowGQX:17,0,149\"\n",
       "1      99874   \".\"  \"C\"            \"T\"      \"0\"     \"LowGQX;NoPassedVariantGTs\"           \"SNVHPOL=2;MQ=15\"                                   \"GT:GQ:GQX:DP:DPF:AD:ADF:ADR:SB:FT:PL\"     \"0/1:5:0:14:0:12,2:0,0:12,2:0.0:LowGQX:5,0,143\"\n",
       "1      99887   \".\"  \"C\"            \"G\"      \"0\"     \"LowGQX;NoPassedVariantGTs\"           \"SNVHPOL=2;MQ=14\"                                   \"GT:GQ:GQX:DP:DPF:AD:ADF:ADR:SB:FT:PL\"     \"0/1:8:0:13:0:11,2:0,0:11,2:0.0:LowGQX:9,0,130\"\n",
       "1      100483  \".\"  \"C\"            \"T\"      \"27\"    \"LowGQX;NoPassedVariantGTs\"           \"SNVHPOL=2;MQ=14\"                                   \"GT:GQ:GQX:DP:DPF:AD:ADF:ADR:SB:FT:PL\"     \"0/1:60:0:16:0:9,7:9,7:0,0:0.0:LowGQX:62,0,94\"\n",
       "1      101375  \".\"  \"T\"            \"A\"      \"1\"     \"LowGQX;LowDepth;NoPassedVariantGTs\"  \"SNVHPOL=2;MQ=6\"                                    \"GT:GQ:GQX:DP:DPF:AD:ADF:ADR:SB:FT:PL\"     \"0/1:3:0:1:0:0,1:0,1:0,0:0.0:LowGQX;LowDepth:26,3,0\"\n",
       "⋮\n",
       "1      915650  \".\"  \"G\"            \"C\"      \"244\"   \"PASS\"                                \"SNVHPOL=3;MQ=60\"                                   \"GT:GQ:GQX:DP:DPF:AD:ADF:ADR:SB:FT:PL\"     \"0/1:226:22:40:0:18,22:7,10:11,12:-31.0:PASS:279,0,223\"\n",
       "1      916119  \".\"  \"A\"            \"G\"      \"726\"   \"PASS\"                                \"SNVHPOL=3;MQ=60\"                                   \"GT:GQ:GQX:DP:DPF:AD:ADF:ADR:SB:FT:PL\"     \"1/1:150:30:51:4:0,51:0,27:0,24:-83.0:PASS:370,154,0\"\n",
       "1      916377  \".\"  \"A\"            \"G\"      \"666\"   \"PASS\"                                \"SNVHPOL=4;MQ=60\"                                   \"GT:GQ:GQX:DP:DPF:AD:ADF:ADR:SB:FT:PL\"     \"1/1:135:30:46:0:0,46:0,19:0,27:-69.4:PASS:370,138,0\"\n",
       "1      916657  \".\"  \"G\"            \"A\"      \"217\"   \"PASS\"                                \"SNVHPOL=3;MQ=60\"                                   \"GT:GQ:GQX:DP:DPF:AD:ADF:ADR:SB:FT:PL\"     \"0/1:245:30:40:0:19,20:10,10:9,10:-28.3:PASS:252,0,243\"\n",
       "1      916683  \".\"  \"G\"            \"A\"      \"209\"   \"PASS\"                                \"SNVHPOL=6;MQ=60\"                                   \"GT:GQ:GQX:DP:DPF:AD:ADF:ADR:SB:FT:PL\"     \"0/1:234:30:37:0:18,19:8,9:10,10:-27.9:PASS:243,0,232\"\n",
       "1      916753  \".\"  \"C\"            \"T\"      \"246\"   \"PASS\"                                \"SNVHPOL=5;MQ=60\"                                   \"GT:GQ:GQX:DP:DPF:AD:ADF:ADR:SB:FT:PL\"     \"0/1:266:22:48:2:23,25:13,10:10,15:-25.5:PASS:281,0,264\"\n",
       "1      917495  \".\"  \"C\"            \"T\"      \"260\"   \"PASS\"                                \"SNVHPOL=3;MQ=60\"                                   \"GT:GQ:GQX:DP:DPF:AD:ADF:ADR:SB:FT:PL\"     \"0/1:263:22:49:1:23,26:9,9:14,17:-25.3:PASS:295,0,260\"\n",
       "1      917584  \".\"  \"T\"            \"G\"      \"659\"   \"PASS\"                                \"SNVHPOL=3;MQ=60\"                                   \"GT:GQ:GQX:DP:DPF:AD:ADF:ADR:SB:FT:PL\"     \"1/1:135:30:46:0:0,46:0,22:0,24:-77.8:PASS:370,138,0\"\n",
       "1      918108  \".\"  \"G\"            \"A\"      \"203\"   \"PASS\"                                \"SNVHPOL=4;MQ=60\"                                   \"GT:GQ:GQX:DP:DPF:AD:ADF:ADR:SB:FT:PL\"     \"0/1:236:22:44:1:24,20:12,8:12,12:-22.9:PASS:238,0,288\"\n",
       "1      918574  \".\"  \"C\"            \"A\"      \"270\"   \"PASS\"                                \"SNVHPOL=5;MQ=59\"                                   \"GT:GQ:GQX:DP:DPF:AD:ADF:ADR:SB:FT:PL\"     \"0/1:255:22:49:3:22,27:10,16:12,11:-29.2:PASS:304,0,252\"\n",
       "1      918788  \".\"  \"C\"            \"T\"      \"156\"   \"PASS\"                                \"SNVHPOL=2;MQ=60\"                                   \"GT:GQ:GQX:DP:DPF:AD:ADF:ADR:SB:FT:PL\"     \"0/1:189:22:38:2:23,15:9,7:14,8:-20.7:PASS:190,0,282\"\n",
       "1      919397  \".\"  \"A\"            \"G\"      \"554\"   \"PASS\"                                \"SNVHPOL=4;MQ=60\"                                   \"GT:GQ:GQX:DP:DPF:AD:ADF:ADR:SB:FT:PL\"     \"1/1:111:22:38:1:0,38:0,18:0,20:-67.1:PASS:370,114,0\"\n",
       "1      919598  \".\"  \"A\"            \"C\"      \"208\"   \"PASS\"                                \"SNVHPOL=2;MQ=60\"                                   \"GT:GQ:GQX:DP:DPF:AD:ADF:ADR:SB:FT:PL\"     \"0/1:241:22:43:1:23,20:13,12:10,8:-24.0:PASS:243,0,266\"\n",
       "1      919695  \".\"  \"C\"            \"G\"      \"634\"   \"PASS\"                                \"SNVHPOL=3;MQ=60\"                                   \"GT:GQ:GQX:DP:DPF:AD:ADF:ADR:SB:FT:PL\"     \"1/1:129:22:44:0:0,44:0,24:0,20:-70.3:PASS:370,132,0\"\n",
       "1      919788  \".\"  \"G\"            \"A\"      \"271\"   \"PASS\"                                \"SNVHPOL=6;MQ=60\"                                   \"GT:GQ:GQX:DP:DPF:AD:ADF:ADR:SB:FT:PL\"     \"0/1:275:30:51:1:24,27:14,14:10,13:-35.1:PASS:306,0,272\"\n",
       "1      920255  \".\"  \"CCTT\"         \"C\"      \"235\"   \"PASS\"                                \"CIGAR=1M3D;RU=CTT;REFREP=2;IDREP=1;MQ=60\"          \"GT:GQ:GQX:DPI:AD:ADF:ADR:FT:PL\"           \"0/1:280:27:43:21,17:10,10:11,7:PASS:277,0,316\"\n",
       "1      920394  \".\"  \"G\"            \"A\"      \"231\"   \"PASS\"                                \"SNVHPOL=2;MQ=60\"                                   \"GT:GQ:GQX:DP:DPF:AD:ADF:ADR:SB:FT:PL\"     \"0/1:258:30:43:1:21,22:9,11:12,11:-30.3:PASS:266,0,256\"\n",
       "1      920498  \".\"  \"T\"            \"C\"      \"187\"   \"PASS\"                                \"SNVHPOL=3;MQ=60\"                                   \"GT:GQ:GQX:DP:DPF:AD:ADF:ADR:SB:FT:PL\"     \"0/1:220:30:41:1:23,18:7,10:16,8:-20.6:PASS:222,0,285\"\n",
       "1      921096  \".\"  \"A\"            \"G\"      \"381\"   \"PASS\"                                \"SNVHPOL=2;MQ=60\"                                   \"GT:GQ:GQX:DP:DPF:AD:ADF:ADR:SB:FT:PL\"     \"0/1:221:9:61:0:23,38:14,19:9,19:-46.2:PASS:370,0,218\"\n",
       "1      921797  \".\"  \"T\"            \"C\"      \"275\"   \"PASS\"                                \"SNVHPOL=4;MQ=60\"                                   \"GT:GQ:GQX:DP:DPF:AD:ADF:ADR:SB:FT:PL\"     \"0/1:302:22:58:2:29,29:8,11:21,18:-32.7:PASS:310,0,300\"\n",
       "1      921938  \".\"  \"G\"            \"GGAGT\"  \"318\"   \"PASS\"                                \"CIGAR=1M4I;RU=GAGT;REFREP=1;IDREP=2;MQ=60\"         \"GT:GQ:GQX:DPI:AD:ADF:ADR:FT:PL\"           \"0/1:307:27:44:21,21:10,8:11,13:PASS:357,0,304\"\n",
       "1      922063  \".\"  \"C\"            \"T\"      \"201\"   \"PASS\"                                \"SNVHPOL=4;MQ=60\"                                   \"GT:GQ:GQX:DP:DPF:AD:ADF:ADR:SB:FT:PL\"     \"0/1:234:30:41:1:22,19:13,11:9,8:-24.9:PASS:236,0,273\"\n",
       "1      922348  \".\"  \"T\"            \"G\"      \"638\"   \"PASS\"                                \"SNVHPOL=3;MQ=60\"                                   \"GT:GQ:GQX:DP:DPF:AD:ADF:ADR:SB:FT:PL\"     \"1/1:129:30:44:0:0,44:0,19:0,25:-69.4:PASS:370,132,0\"\n",
       "1      922769  \".\"  \"C\"            \"T\"      \"246\"   \"PASS\"                                \"SNVHPOL=2;MQ=60\"                                   \"GT:GQ:GQX:DP:DPF:AD:ADF:ADR:SB:FT:PL\"     \"0/1:256:30:44:2:21,23:9,12:12,11:-30.6:PASS:281,0,253\"\n",
       "1      923311  \".\"  \"TG\"           \"T\"      \"233\"   \"PASS\"                                \"CIGAR=1M1D;RU=G;REFREP=1;IDREP=0;MQ=60\"            \"GT:GQ:GQX:DPI:AD:ADF:ADR:FT:PL\"           \"0/1:235:27:37:16,16:9,5:7,11:PASS:272,0,232\"\n",
       "1      923421  \".\"  \"A\"            \"G\"      \"261\"   \"PASS\"                                \"SNVHPOL=4;MQ=60\"                                   \"GT:GQ:GQX:DP:DPF:AD:ADF:ADR:SB:FT:PL\"     \"0/1:241:22:45:1:20,25:12,11:8,14:-29.0:PASS:296,0,238\"\n",
       "1      924024  \".\"  \"C\"            \"G\"      \"189\"   \"PASS\"                                \"SNVHPOL=5;MQ=60\"                                   \"GT:GQ:GQX:DP:DPF:AD:ADF:ADR:SB:FT:PL\"     \"0/1:222:22:45:1:25,20:13,10:12,10:-24.5:PASS:224,0,279\"\n",
       "1      924310  \".\"  \"C\"            \"G\"      \"182\"   \"PASS\"                                \"SNVHPOL=2;MQ=60\"                                   \"GT:GQ:GQX:DP:DPF:AD:ADF:ADR:SB:FT:PL:PS\"  \"0|1:215:30:37:3:20,17:9,6:11,11:-19.1:PASS:217,0,246:924310\"\n",
       "1      924321  \".\"  \"C\"            \"G\"      \"192\"   \"PASS\"                                \"SNVHPOL=4;MQ=60\"                                   \"GT:GQ:GQX:DP:DPF:AD:ADF:ADR:SB:FT:PL:PS\"  \"0|1:225:30:37:3:19,18:10,7:9,11:-20.0:PASS:227,0,244:924310\"\n",
       "1      924533  \".\"  \"A\"            \"G\"      \"615\"   \"PASS\"                                \"SNVHPOL=3;MQ=60\"                                   \"GT:GQ:GQX:DP:DPF:AD:ADF:ADR:SB:FT:PL\"     \"1/1:123:30:42:4:0,42:0,24:0,18:-65.2:PASS:370,126,0\"\n",
       "1      925036  \".\"  \"G\"            \"A\"      \"261\"   \"PASS\"                                \"SNVHPOL=2;MQ=60\"                                   \"GT:GQ:GQX:DP:DPF:AD:ADF:ADR:SB:FT:PL\"     \"0/1:268:22:52:3:25,27:15,17:10,10:-29.4:PASS:296,0,265\"\n",
       "1      925081  \".\"  \"G\"            \"A\"      \"199\"   \"PASS\"                                \"SNVHPOL=8;MQ=60\"                                   \"GT:GQ:GQX:DP:DPF:AD:ADF:ADR:SB:FT:PL\"     \"0/1:232:22:52:5:29,23:13,11:16,12:-26.5:PASS:233,0,317\"\n",
       "1      925124  \".\"  \"G\"            \"A\"      \"183\"   \"PASS\"                                \"SNVHPOL=8;MQ=60\"                                   \"GT:GQ:GQX:DP:DPF:AD:ADF:ADR:SB:FT:PL\"     \"0/1:216:22:50:9:28,22:12,9:16,13:-23.1:PASS:218,0,286\"\n",
       "1      925141  \".\"  \"C\"            \"A\"      \"209\"   \"PASS\"                                \"SNVHPOL=3;MQ=60\"                                   \"GT:GQ:GQX:DP:DPF:AD:ADF:ADR:SB:FT:PL\"     \"0/1:242:22:55:5:31,24:14,7:17,17:-19.1:PASS:244,0,308\"\n",
       "1      925308  \".\"  \"G\"            \"A\"      \"241\"   \"PASS\"                                \"SNVHPOL=3;MQ=60\"                                   \"GT:GQ:GQX:DP:DPF:AD:ADF:ADR:SB:FT:PL\"     \"0/1:236:30:42:5:19,23:8,11:11,12:-31.7:PASS:276,0,233\"\n",
       "1      925398  \".\"  \"A\"            \"G\"      \"258\"   \"PASS\"                                \"SNVHPOL=3;MQ=60\"                                   \"GT:GQ:GQX:DP:DPF:AD:ADF:ADR:SB:FT:PL:PS\"  \"0|1:241:22:49:2:21,28:9,14:12,14:-32.2:PASS:293,0,238:925398\"\n",
       "1      925408  \".\"  \"TTGGCGCCTGC\"  \"T\"      \"465\"   \"PASS\"                                \"CIGAR=1M10D;RU=TGGCGCCTGC;REFREP=1;IDREP=0;MQ=60\"  \"GT:GQ:GQX:DPI:AD:ADF:ADR:FT:PL:PS\"        \"0|1:232:27:51:18,28:8,13:10,15:PASS:504,0,229:925398\"\n",
       "1      925419  \".\"  \"G\"            \"C\"      \"260\"   \"PASS\"                                \"SNVHPOL=3;MQ=60\"                                   \"GT:GQ:GQX:DP:DPF:AD:ADF:ADR:SB:FT:PL:PS\"  \"0|1:188:30:43:2:16,27:7,14:9,13:-32.5:PASS:295,0,185:925398\"\n",
       "1      925474  \".\"  \"T\"            \"C\"      \"703\"   \"PASS\"                                \"SNVHPOL=7;MQ=60\"                                   \"GT:GQ:GQX:DP:DPF:AD:ADF:ADR:SB:FT:PL\"     \"1/1:147:30:50:4:0,50:0,29:0,21:-72.3:PASS:370,151,0\"\n",
       "1      925628  \".\"  \"G\"            \"C\"      \"320\"   \"PASS\"                                \"SNVHPOL=3;MQ=60\"                                   \"GT:GQ:GQX:DP:DPF:AD:ADF:ADR:SB:FT:PL\"     \"0/1:203:30:51:1:20,31:10,17:10,14:-36.5:PASS:355,0,200\"\n",
       "1      926250  \".\"  \"G\"            \"A\"      \"152\"   \"PASS\"                                \"SNVHPOL=4;MQ=60\"                                   \"GT:GQ:GQX:DP:DPF:AD:ADF:ADR:SB:FT:PL\"     \"0/1:185:30:36:1:22,14:12,8:10,6:-20.1:PASS:187,0,291\"\n",
       "1      926428  \".\"  \"A\"            \"G\"      \"150\"   \"PASS\"                                \"SNVHPOL=5;MQ=60\"                                   \"GT:GQ:GQX:DP:DPF:AD:ADF:ADR:SB:FT:PL\"     \"0/1:183:30:42:0:27,15:16,5:11,10:-13.9:PASS:185,0,329\"\n",
       "1      926713  \".\"  \"T\"            \"C\"      \"133\"   \"PASS\"                                \"SNVHPOL=6;MQ=60\"                                   \"GT:GQ:GQX:DP:DPF:AD:ADF:ADR:SB:FT:PL\"     \"0/1:166:30:45:1:30,15:11,7:19,8:-18.3:PASS:167,0,366\"\n",
       "1      926744  \".\"  \"A\"            \"G\"      \"177\"   \"PASS\"                                \"SNVHPOL=2;MQ=60\"                                   \"GT:GQ:GQX:DP:DPF:AD:ADF:ADR:SB:FT:PL\"     \"0/1:210:22:49:2:30,19:10,10:20,9:-20.2:PASS:212,0,356\"\n",
       "1      926806  \".\"  \"A\"            \"G\"      \"225\"   \"PASS\"                                \"SNVHPOL=3;MQ=60\"                                   \"GT:GQ:GQX:DP:DPF:AD:ADF:ADR:SB:FT:PL\"     \"0/1:258:22:52:3:29,23:19,7:10,16:-16.5:PASS:260,0,331\"\n",
       "1      927003  \".\"  \"C\"            \"T\"      \"238\"   \"PASS\"                                \"SNVHPOL=2;MQ=60\"                                   \"GT:GQ:GQX:DP:DPF:AD:ADF:ADR:SB:FT:PL:PS\"  \"0|1:262:22:47:1:23,24:15,13:8,11:-30.9:PASS:273,0,260:927003\"\n",
       "1      927009  \".\"  \"A\"            \"G\"      \"249\"   \"PASS\"                                \"SNVHPOL=5;MQ=60\"                                   \"GT:GQ:GQX:DP:DPF:AD:ADF:ADR:SB:FT:PL:PS\"  \"0|1:276:22:49:1:24,25:16,14:8,11:-32.3:PASS:284,0,274:927003\"\n",
       "1      927486  \".\"  \"C\"            \"T\"      \"286\"   \"PASS\"                                \"SNVHPOL=3;MQ=60\"                                   \"GT:GQ:GQX:DP:DPF:AD:ADF:ADR:SB:FT:PL\"     \"0/1:319:9:63:1:32,31:19,13:13,18:-28.5:PASS:321,0,338\"\n",
       "1      927744  \".\"  \"G\"            \"T\"      \"200\"   \"PASS\"                                \"SNVHPOL=2;MQ=60\"                                   \"GT:GQ:GQX:DP:DPF:AD:ADF:ADR:SB:FT:PL\"     \"0/1:233:22:51:0:30,21:11,9:19,12:-26.7:PASS:235,0,342\"\n",
       "1      928128  \".\"  \"G\"            \"T\"      \"283\"   \"PASS\"                                \"SNVHPOL=3;MQ=56\"                                   \"GT:GQ:GQX:DP:DPF:AD:ADF:ADR:SB:FT:PL:PS\"  \"0|1:190:18:42:0:16,26:8,10:8,16:-29.3:PASS:318,0,187:928128\"\n",
       "1      928131  \".\"  \"T\"            \"C\"      \"261\"   \"PASS\"                                \"SNVHPOL=2;MQ=55\"                                   \"GT:GQ:GQX:DP:DPF:AD:ADF:ADR:SB:FT:PL:PS\"  \"0|1:205:18:43:0:18,25:9,9:9,16:-24.9:PASS:296,0,202:928128\"\n",
       "1      928176  \".\"  \"G\"            \"A\"      \"578\"   \"PASS\"                                \"SNVHPOL=2;MQ=50\"                                   \"GT:GQ:GQX:DP:DPF:AD:ADF:ADR:SB:FT:PL\"     \"1/1:120:14:41:0:0,41:0,19:0,22:-64.1:PASS:370,123,0\"\n",
       "1      928182  \".\"  \"A\"            \"C\"      \"226\"   \"PASS\"                                \"SNVHPOL=3;MQ=50\"                                   \"GT:GQ:GQX:DP:DPF:AD:ADF:ADR:SB:FT:PL\"     \"0/1:238:18:42:0:20,22:10,9:10,13:-24.9:PASS:261,0,235\"\n",
       "1      928252  \".\"  \"C\"            \"T\"      \"100\"   \"PASS\"                                \"SNVHPOL=5;MQ=48\"                                   \"GT:GQ:GQX:DP:DPF:AD:ADF:ADR:SB:FT:PL:PS\"  \"0|1:133:18:32:4:22,10:8,6:14,4:-12.4:PASS:135,0,290:928252\"\n",
       "1      928261  \".\"  \"G\"            \"A\"      \"114\"   \"PASS\"                                \"SNVHPOL=3;MQ=46\"                                   \"GT:GQ:GQX:DP:DPF:AD:ADF:ADR:SB:FT:PL:PS\"  \"0|1:147:14:36:0:23,13:9,9:14,4:-10.5:PASS:149,0,292:928252\"\n",
       "1      928264  \".\"  \"T\"            \"C\"      \"115\"   \"PASS\"                                \"SNVHPOL=5;MQ=46\"                                   \"GT:GQ:GQX:DP:DPF:AD:ADF:ADR:SB:FT:PL:PS\"  \"0|1:148:12:34:1:22,12:8,9:14,3:-9.6:PASS:150,0,273:928252\"\n",
       "1      928309  \".\"  \"A\"            \"G\"      \"202\"   \"PASS\"                                \"SNVHPOL=2;MQ=51\"                                   \"GT:GQ:GQX:DP:DPF:AD:ADF:ADR:SB:FT:PL:PS\"  \"0|1:158:18:28:2:10,18:5,9:5,9:-25.7:PASS:237,0,155:928309\"\n",
       "1      928316  \".\"  \"C\"            \"T\"      \"141\"   \"PASS\"                                \"SNVHPOL=4;MQ=51\"                                   \"GT:GQ:GQX:DP:DPF:AD:ADF:ADR:SB:FT:PL:PS\"  \"1|0:174:18:29:2:17,12:9,7:8,5:-18.7:PASS:175,0,235:928309\"\n",
       "1      928396  \".\"  \"A\"            \"C\"      \"226\"   \"PASS\"                                \"SNVHPOL=6;MQ=54\"                                   \"GT:GQ:GQX:DP:DPF:AD:ADF:ADR:SB:FT:PL\"     \"0/1:234:18:43:2:20,23:12,13:8,10:-27.3:PASS:260,0,231\"\n",
       "1      928463  \".\"  \"C\"            \"T\"      \"190\"   \"PASS\"                                \"SNVHPOL=2;MQ=58\"                                   \"GT:GQ:GQX:DP:DPF:AD:ADF:ADR:SB:FT:PL\"     \"0/1:223:18:46:1:23,23:15,13:8,10:-24.6:PASS:225,0,273\"\n",
       "1      928483  \".\"  \"G\"            \"A\"      \"143\"   \"PASS\"                                \"SNVHPOL=3;MQ=58\"                                   \"GT:GQ:GQX:DP:DPF:AD:ADF:ADR:SB:FT:PL\"     \"0/1:176:18:41:0:23,18:15,8:8,10:-16.2:PASS:177,0,287\"\n",
       "1      928598  \".\"  \"G\"            \"A\"      \"184\"   \"PASS\"                                \"SNVHPOL=4;MQ=60\"                                   \"GT:GQ:GQX:DP:DPF:AD:ADF:ADR:SB:FT:PL\"     \"0/1:217:30:45:0:26,19:16,9:10,10:-22.4:PASS:219,0,305\"\n",
       "1      929235  \".\"  \"G\"            \"A\"      \"206\"   \"PASS\"                                \"SNVHPOL=2;MQ=60\"                                   \"GT:GQ:GQX:DP:DPF:AD:ADF:ADR:SB:FT:PL\"     \"0/1:239:30:44:0:24,20:10,10:14,10:-26.4:PASS:241,0,285\"\n",
       "1      929346  \".\"  \"T\"            \"A\"      \"655\"   \"PASS\"                                \"SNVHPOL=3;MQ=60\"                                   \"GT:GQ:GQX:DP:DPF:AD:ADF:ADR:SB:FT:PL\"     \"1/1:135:30:46:1:0,46:0,24:0,22:-78.6:PASS:370,138,0\"\n",
       "1      929375  \".\"  \"A\"            \"G\"      \"291\"   \"PASS\"                                \"SNVHPOL=5;MQ=60\"                                   \"GT:GQ:GQX:DP:DPF:AD:ADF:ADR:SB:FT:PL:PS\"  \"0|1:223:21:46:0:19,27:12,16:7,11:-33.3:PASS:326,0,220:929375\"\n",
       "1      929377  \".\"  \"G\"            \"A\"      \"280\"   \"PASS\"                                \"SNVHPOL=4;MQ=60\"                                   \"GT:GQ:GQX:DP:DPF:AD:ADF:ADR:SB:FT:PL:PS\"  \"0|1:226:21:45:1:19,26:12,15:7,11:-33.3:PASS:314,0,223:929375\"\n",
       "1      929987  \".\"  \"G\"            \"T\"      \"284\"   \"PASS\"                                \"SNVHPOL=2;MQ=60\"                                   \"GT:GQ:GQX:DP:DPF:AD:ADF:ADR:SB:FT:PL\"     \"0/1:279:22:55:2:26,29:10,16:16,13:-31.6:PASS:319,0,276\"\n",
       "1      930314  \".\"  \"C\"            \"T\"      \"267\"   \"PASS\"                                \"SNVHPOL=2;MQ=60\"                                   \"GT:GQ:GQX:DP:DPF:AD:ADF:ADR:SB:FT:PL\"     \"0/1:272:30:51:1:24,27:9,13:15,14:-34.1:PASS:302,0,269\"\n",
       "1      930885  \".\"  \"G\"            \"A\"      \"133\"   \"PASS\"                                \"SNVHPOL=2;MQ=60\"                                   \"GT:GQ:GQX:DP:DPF:AD:ADF:ADR:SB:FT:PL\"     \"0/1:166:22:51:3:35,16:18,8:17,8:-19.0:PASS:168,0,370\"\n",
       "1      930939  \".\"  \"G\"            \"A\"      \"721\"   \"PASS\"                                \"SNVHPOL=4;MQ=60\"                                   \"GT:GQ:GQX:DP:DPF:AD:ADF:ADR:SB:FT:PL\"     \"1/1:147:30:50:0:0,50:0,26:0,24:-84.9:PASS:370,151,0\"\n",
       "1      931131  \".\"  \"C\"            \"CCCCT\"  \"388\"   \"PASS\"                                \"CIGAR=1M4I;RU=CCCT;REFREP=3;IDREP=4;MQ=60\"         \"GT:GQ:GQX:DPI:AD:ADF:ADR:FT:PL\"           \"0/1:346:27:67:24,26:11,9:13,17:PASS:427,0,343\"\n",
       "1      931513  \".\"  \"T\"            \"C\"      \"148\"   \"PASS\"                                \"SNVHPOL=3;MQ=60\"                                   \"GT:GQ:GQX:DP:DPF:AD:ADF:ADR:SB:FT:PL\"     \"0/1:181:30:30:2:17,13:11,6:6,7:-18.6:PASS:183,0,232\"\n",
       "1      931540  \".\"  \"A\"            \"G\"      \"449\"   \"PASS\"                                \"SNVHPOL=2;MQ=60\"                                   \"GT:GQ:GQX:DP:DPF:AD:ADF:ADR:SB:FT:PL\"     \"1/1:87:30:30:3:0,30:0,17:0,13:-51.6:PASS:370,90,0\"\n",
       "1      932204  \".\"  \"A\"            \"T\"      \"819\"   \"PASS\"                                \"SNVHPOL=2;MQ=60\"                                   \"GT:GQ:GQX:DP:DPF:AD:ADF:ADR:SB:FT:PL\"     \"1/1:172:30:58:0:0,58:0,29:0,29:-97.8:PASS:370,175,0\"\n",
       "1      932613  \".\"  \"GTTTC\"        \"G\"      \"1563\"  \"PASS\"                                \"CIGAR=1M4D;RU=TTTC;REFREP=2;IDREP=1;MQ=60\"         \"GT:GQ:GQX:DPI:AD:ADF:ADR:FT:PL\"           \"1/1:211:27:75:0,70:0,31:0,39:PASS:999,214,0\"\n",
       "1      932949  \".\"  \"A\"            \"C\"      \"766\"   \"PASS\"                                \"SNVHPOL=2;MQ=60\"                                   \"GT:GQ:GQX:DP:DPF:AD:ADF:ADR:SB:FT:PL\"     \"1/1:160:22:54:0:0,54:0,24:0,30:-83.9:PASS:370,163,0\"\n",
       "1      933024  \".\"  \"C\"            \"T\"      \"669\"   \"PASS\"                                \"SNVHPOL=5;MQ=60\"                                   \"GT:GQ:GQX:DP:DPF:AD:ADF:ADR:SB:FT:PL\"     \"1/1:138:22:47:4:0,47:0,16:0,31:-58.7:PASS:370,141,0\"\n",
       "1      933411  \".\"  \"C\"            \"T\"      \"723\"   \"PASS\"                                \"SNVHPOL=2;MQ=60\"                                   \"GT:GQ:GQX:DP:DPF:AD:ADF:ADR:SB:FT:PL\"     \"1/1:147:30:50:1:0,50:0,30:0,20:-73.1:PASS:370,151,0\"\n",
       "1      933460  \".\"  \"C\"            \"T\"      \"288\"   \"PASS\"                                \"SNVHPOL=5;MQ=60\"                                   \"GT:GQ:GQX:DP:DPF:AD:ADF:ADR:SB:FT:PL\"     \"0/1:141:22:36:1:11,25:5,21:6,4:-18.6:PASS:323,0,138\"\n",
       "1      933511  \".\"  \"A\"            \"G\"      \"506\"   \"PASS\"                                \"SNVHPOL=3;MQ=60\"                                   \"GT:GQ:GQX:DP:DPF:AD:ADF:ADR:SB:FT:PL\"     \"1/1:96:22:33:2:0,33:0,20:0,13:-51.8:PASS:370,99,0\"\n",
       "1      933548  \".\"  \"A\"            \"AG\"     \"249\"   \"PASS\"                                \"CIGAR=1M1I;RU=G;REFREP=6;IDREP=7;MQ=60\"            \"GT:GQ:GQX:DPI:AD:ADF:ADR:FT:PL\"           \"0/1:278:27:50:31,18:17,7:14,11:PASS:275,0,464\"\n",
       "1      933601  \".\"  \"C\"            \"T\"      \"151\"   \"PASS\"                                \"SNVHPOL=3;MQ=60\"                                   \"GT:GQ:GQX:DP:DPF:AD:ADF:ADR:SB:FT:PL\"     \"0/1:184:22:52:0:34,18:13,7:21,11:-19.8:PASS:186,0,370\"\n",
       "1      933741  \".\"  \"T\"            \"TG\"     \"88\"    \"PASS\"                                \"CIGAR=1M1I;RU=G;REFREP=8;IDREP=9;MQ=60\"            \"GT:GQ:GQX:DPI:AD:ADF:ADR:FT:PL\"           \"0/1:107:10:55:38,12:15,6:23,6:PASS:104,0,509\"\n",
       "1      933943  \".\"  \"T\"            \"C\"      \"544\"   \"PASS\"                                \"SNVHPOL=3;MQ=57\"                                   \"GT:GQ:GQX:DP:DPF:AD:ADF:ADR:SB:FT:PL\"     \"1/1:108:15:37:1:0,37:0,17:0,20:-62.1:PASS:370,111,0\"\n",
       "1      933989  \".\"  \"G\"            \"T\"      \"320\"   \"PASS\"                                \"SNVHPOL=2;MQ=56\"                                   \"GT:GQ:GQX:DP:DPF:AD:ADF:ADR:SB:FT:PL\"     \"1/1:63:14:22:4:0,22:0,6:0,16:-26.4:PASS:358,66,0\"\n",
       "1      933993  \".\"  \"G\"            \"C\"      \"313\"   \"PASS\"                                \"SNVHPOL=2;MQ=56\"                                   \"GT:GQ:GQX:DP:DPF:AD:ADF:ADR:SB:FT:PL\"     \"1/1:60:14:21:5:0,21:0,5:0,16:-23.9:PASS:350,63,0\"\n",
       "1      934021  \".\"  \"G\"            \"C\"      \"29\"    \"LowGQX;NoPassedVariantGTs\"           \"SNVHPOL=2;MQ=54\"                                   \"GT:GQ:GQX:DP:DPF:AD:ADF:ADR:SB:FT:PL\"     \"0/1:62:3:12:6:9,3:2,1:7,2:-4.1:LowGQX:64,0,159\"\n",
       "1      934061  \".\"  \"G\"            \"T\"      \"24\"    \"PASS\"                                \"SNVHPOL=3;MQ=56\"                                   \"GT:GQ:GQX:DP:DPF:AD:ADF:ADR:SB:FT:PL\"     \"0/1:56:4:6:0:4,2:2,0:2,2:1.4:PASS:58,0,91\"\n",
       "1      934064  \".\"  \"A\"            \"G\"      \"35\"    \"PASS\"                                \"SNVHPOL=5;MQ=55\"                                   \"GT:GQ:GQX:DP:DPF:AD:ADF:ADR:SB:FT:PL\"     \"0/1:56:5:4:1:2,2:0,1:2,1:-7.5:PASS:69,0,54\"\n",
       "1      934213  \".\"  \"G\"            \"T\"      \"4\"     \"LowGQX;LowDepth;NoPassedVariantGTs\"  \"SNVHPOL=2;MQ=60\"                                   \"GT:GQ:GQX:DP:DPF:AD:ADF:ADR:SB:FT:PL\"     \"0/1:3:0:1:1:0,1:0,0:0,1:0.0:LowGQX;LowDepth:37,3,0\"\n",
       "1      934241  \".\"  \"G\"            \"T\"      \"29\"    \"LowGQX;NoPassedVariantGTs\"           \"SNVHPOL=2;MQ=52\"                                   \"GT:GQ:GQX:DP:DPF:AD:ADF:ADR:SB:FT:PL\"     \"0/1:61:3:5:5:3,2:0,1:3,1:-4.5:LowGQX:63,0,70\"\n",
       "1      934273  \".\"  \"G\"            \"C\"      \"0\"     \"LowGQX;NoPassedVariantGTs\"           \"SNVHPOL=2;MQ=50\"                                   \"GT:GQ:GQX:DP:DPF:AD:ADF:ADR:SB:FT:PL\"     \"0/1:5:0:10:4:9,1:1,1:8,0:0.0:LowGQX:5,0,144\"\n",
       "1      934285  \".\"  \"G\"            \"T\"      \"0\"     \"LowGQX;NoPassedVariantGTs\"           \"SNVHPOL=3;MQ=50\"                                   \"GT:GQ:GQX:DP:DPF:AD:ADF:ADR:SB:FT:PL\"     \"0/1:18:0:9:9:8,1:2,0:6,1:0.0:LowGQX:20,0,145\"\n",
       "1      934316  \".\"  \"G\"            \"A\"      \"0\"     \"LowGQX;NoPassedVariantGTs\"           \"SNVHPOL=5;MQ=49\"                                   \"GT:GQ:GQX:DP:DPF:AD:ADF:ADR:SB:FT:PL\"     \"0/1:21:0:14:6:12,2:1,1:11,1:0.0:LowGQX:22,0,181\"\n",
       "1      934321  \".\"  \"A\"            \"G\"      \"0\"     \"LowGQX;NoPassedVariantGTs\"           \"SNVHPOL=8;MQ=49\"                                   \"GT:GQ:GQX:DP:DPF:AD:ADF:ADR:SB:FT:PL\"     \"0/1:12:0:11:8:10,1:1,0:9,1:0.0:LowGQX:14,0,154\"\n",
       "1      934329  \".\"  \"G\"            \"C\"      \"0\"     \"LowGQX;NoPassedVariantGTs\"           \"SNVHPOL=2;MQ=49\"                                   \"GT:GQ:GQX:DP:DPF:AD:ADF:ADR:SB:FT:PL\"     \"0/1:6:0:10:9:9,1:2,0:7,1:0.0:LowGQX:7,0,141\""
      ]
     },
     "execution_count": 32,
     "metadata": {},
     "output_type": "execute_result"
    }
   ],
   "source": [
    "vcf_table = make_vcf_indexedtable(vcf_file_path_to_use)"
   ]
  },
  {
   "cell_type": "code",
   "execution_count": 33,
   "metadata": {},
   "outputs": [
    {
     "data": {
      "text/plain": [
       "2-element Array{Any,1}:\n",
       " \"chr1\"\n",
       " 10000:12000"
      ]
     },
     "execution_count": 33,
     "metadata": {},
     "output_type": "execute_result"
    }
   ],
   "source": [
    "# https://www.snpedia.com/index.php/Rs1042522\n",
    "rs1042522 = [\"chr17\", 7676154]\n",
    "\n",
    "# TP53\n",
    "tp53 = [\"chr17\", 7661779:7687550]\n",
    "\n",
    "# test set\n",
    "t = [\"chr1\", 10000:12000]"
   ]
  },
  {
   "cell_type": "markdown",
   "metadata": {},
   "source": [
    "## Search for variant"
   ]
  },
  {
   "cell_type": "code",
   "execution_count": 42,
   "metadata": {},
   "outputs": [
    {
     "data": {
      "text/plain": [
       "Table with 1 rows, 10 columns:\n",
       "\u001b[1mCHROM  \u001b[22m\u001b[1mPOS    \u001b[22mID   REF  ALT  QUAL  FILTER                                INFO              FORMAT                                  GERM\n",
       "───────────────────────────────────────────────────────────────────────────────────────────────────────────────────────────────────────────────────────────────────────────────────────\n",
       "1      13868  \".\"  \"A\"  \"G\"  \"1\"   \"LowGQX;LowDepth;NoPassedVariantGTs\"  \"SNVHPOL=3;MQ=4\"  \"GT:GQ:GQX:DP:DPF:AD:ADF:ADR:SB:FT:PL\"  \"0/1:3:0:1:0:0,1:0,0:0,1:0.0:LowGQX;LowDepth:28,3,0\""
      ]
     },
     "execution_count": 42,
     "metadata": {},
     "output_type": "execute_result"
    }
   ],
   "source": [
    "filter_variant = filter(i -> (i.CHROM == 1) && (i.POS == 13868), vcf_table)"
   ]
  },
  {
   "cell_type": "markdown",
   "metadata": {},
   "source": [
    "## Search for region"
   ]
  },
  {
   "cell_type": "code",
   "execution_count": 50,
   "metadata": {},
   "outputs": [
    {
     "data": {
      "text/plain": [
       "Table with 11 rows, 10 columns:\n",
       "\u001b[1mCHROM  \u001b[22m\u001b[1mPOS    \u001b[22mID   REF   ALT   QUAL   FILTER                                INFO                                      FORMAT                                  GERM\n",
       "────────────────────────────────────────────────────────────────────────────────────────────────────────────────────────────────────────────────────────────────────────────────────────────────────────────────────\n",
       "1      10439  \".\"  \"AC\"  \"A\"   \"72\"   \"PASS\"                                \"CIGAR=1M1D;RU=C;REFREP=4;IDREP=3;MQ=9\"   \"GT:GQ:GQX:DPI:AD:ADF:ADR:FT:PL\"        \"0/1:31:5:7:2,5:0,1:2,4:PASS:108,0,28\"\n",
       "1      13284  \".\"  \"G\"   \"A\"   \"60\"   \"LowGQX;NoPassedVariantGTs\"           \"SNVHPOL=4;MQ=17\"                         \"GT:GQ:GQX:DP:DPF:AD:ADF:ADR:SB:FT:PL\"  \"0/1:93:1:30:1:19,11:12,8:7,3:-9.2:LowGQX:95,0,157\"\n",
       "1      13868  \".\"  \"A\"   \"G\"   \"1\"    \"LowGQX;LowDepth;NoPassedVariantGTs\"  \"SNVHPOL=3;MQ=4\"                          \"GT:GQ:GQX:DP:DPF:AD:ADF:ADR:SB:FT:PL\"  \"0/1:3:0:1:0:0,1:0,0:0,1:0.0:LowGQX;LowDepth:28,3,0\"\n",
       "1      15274  \".\"  \"A\"   \"G\"   \"1\"    \"LowGQX;LowDepth;NoPassedVariantGTs\"  \"SNVHPOL=2;MQ=3\"                          \"GT:GQ:GQX:DP:DPF:AD:ADF:ADR:SB:FT:PL\"  \"0/1:3:0:1:0:0,1:0,0:0,1:0.0:LowGQX;LowDepth:27,3,0\"\n",
       "1      15903  \".\"  \"G\"   \"GC\"  \"209\"  \"PASS\"                                \"CIGAR=1M1I;RU=C;REFREP=2;IDREP=3;MQ=17\"  \"GT:GQ:GQX:DPI:AD:ADF:ADR:FT:PL\"        \"1/1:24:17:9:0,9:0,9:0,0:PASS:255,27,0\"\n",
       "1      16683  \".\"  \"T\"   \"G\"   \"0\"    \"LowGQX;NoPassedVariantGTs\"           \"SNVHPOL=7;MQ=10\"                         \"GT:GQ:GQX:DP:DPF:AD:ADF:ADR:SB:FT:PL\"  \"0/1:20:0:3:1:2,1:0,0:2,1:0.0:LowGQX:23,0,42\"\n",
       "1      16713  \".\"  \"T\"   \"G\"   \"0\"    \"LowGQX;LowDepth;NoPassedVariantGTs\"  \"SNVHPOL=6;MQ=11\"                         \"GT:GQ:GQX:DP:DPF:AD:ADF:ADR:SB:FT:PL\"  \"0/1:16:0:2:2:1,1:0,0:1,1:0.0:LowGQX;LowDepth:21,0,20\"\n",
       "1      16731  \".\"  \"C\"   \"G\"   \"0\"    \"LowGQX;NoPassedVariantGTs\"           \"SNVHPOL=8;MQ=16\"                         \"GT:GQ:GQX:DP:DPF:AD:ADF:ADR:SB:FT:PL\"  \"0/1:22:0:6:10:4,2:0,0:4,2:0.0:LowGQX:25,0,58\"\n",
       "1      16734  \".\"  \"T\"   \"G\"   \"4\"    \"LowGQX;NoPassedVariantGTs\"           \"SNVHPOL=8;MQ=15\"                         \"GT:GQ:GQX:DP:DPF:AD:ADF:ADR:SB:FT:PL\"  \"0/1:33:0:6:9:3,3:0,0:3,3:0.0:LowGQX:37,0,35\"\n",
       "1      19322  \".\"  \"C\"   \"T\"   \"0\"    \"LowGQX;NoPassedVariantGTs\"           \"SNVHPOL=3;MQ=13\"                         \"GT:GQ:GQX:DP:DPF:AD:ADF:ADR:SB:FT:PL\"  \"0/1:15:0:17:0:14,3:10,1:4,2:0.0:LowGQX:17,0,146\"\n",
       "1      19795  \".\"  \"T\"   \"C\"   \"14\"   \"LowGQX;NoPassedVariantGTs\"           \"SNVHPOL=4;MQ=18\"                         \"GT:GQ:GQX:DP:DPF:AD:ADF:ADR:SB:FT:PL\"  \"0/1:47:1:11:0:9,2:2,1:7,1:-3.2:LowGQX:48,0,130\""
      ]
     },
     "execution_count": 50,
     "metadata": {},
     "output_type": "execute_result"
    }
   ],
   "source": [
    "filter_region = filter(i -> (i.CHROM == 1) && (i.POS > 10000) && (i.POS < 20000), vcf_table)"
   ]
  },
  {
   "cell_type": "code",
   "execution_count": 56,
   "metadata": {},
   "outputs": [
    {
     "data": {
      "text/plain": [
       "IndexedTable{StructArrays.StructArray{NamedTuple{(:CHROM, :POS, :ID, :REF, :ALT, :QUAL, :FILTER, :INFO, :FORMAT, :GERM),Tuple{Any,Any,String,String,String,String,String,String,String,String}},1,NamedTuple{(:CHROM, :POS, :ID, :REF, :ALT, :QUAL, :FILTER, :INFO, :FORMAT, :GERM),Tuple{Array{Any,1},Array{Any,1},WeakRefStrings.StringArray{String,1},WeakRefStrings.StringArray{String,1},WeakRefStrings.StringArray{String,1},WeakRefStrings.StringArray{String,1},WeakRefStrings.StringArray{String,1},WeakRefStrings.StringArray{String,1},WeakRefStrings.StringArray{String,1},WeakRefStrings.StringArray{String,1}}},Int64}}"
      ]
     },
     "execution_count": 56,
     "metadata": {},
     "output_type": "execute_result"
    }
   ],
   "source": [
    "typeof(filter_region)"
   ]
  },
  {
   "cell_type": "markdown",
   "metadata": {},
   "source": [
    "## Get Genotype"
   ]
  },
  {
   "cell_type": "code",
   "execution_count": 61,
   "metadata": {},
   "outputs": [
    {
     "name": "stdout",
     "output_type": "stream",
     "text": [
      "A\n",
      "0/1:31:5:7:2,5:0,1:2,4:PASS:108,0,28\n",
      "SubString{String}[\"0\", \"1\"]\n",
      "A\n",
      "0/1:93:1:30:1:19,11:12,8:7,3:-9.2:LowGQX:95,0,157\n",
      "SubString{String}[\"0\", \"1\"]\n",
      "G\n",
      "0/1:3:0:1:0:0,1:0,0:0,1:0.0:LowGQX;LowDepth:28,3,0\n",
      "SubString{String}[\"0\", \"1\"]\n",
      "G\n",
      "0/1:3:0:1:0:0,1:0,0:0,1:0.0:LowGQX;LowDepth:27,3,0\n",
      "SubString{String}[\"0\", \"1\"]\n",
      "GC\n",
      "1/1:24:17:9:0,9:0,9:0,0:PASS:255,27,0\n",
      "SubString{String}[\"1\", \"1\"]\n",
      "G\n",
      "0/1:20:0:3:1:2,1:0,0:2,1:0.0:LowGQX:23,0,42\n",
      "SubString{String}[\"0\", \"1\"]\n",
      "G\n",
      "0/1:16:0:2:2:1,1:0,0:1,1:0.0:LowGQX;LowDepth:21,0,20\n",
      "SubString{String}[\"0\", \"1\"]\n",
      "G\n",
      "0/1:22:0:6:10:4,2:0,0:4,2:0.0:LowGQX:25,0,58\n",
      "SubString{String}[\"0\", \"1\"]\n",
      "G\n",
      "0/1:33:0:6:9:3,3:0,0:3,3:0.0:LowGQX:37,0,35\n",
      "SubString{String}[\"0\", \"1\"]\n",
      "T\n",
      "0/1:15:0:17:0:14,3:10,1:4,2:0.0:LowGQX:17,0,146\n",
      "SubString{String}[\"0\", \"1\"]\n",
      "C\n",
      "0/1:47:1:11:0:9,2:2,1:7,1:-3.2:LowGQX:48,0,130\n",
      "SubString{String}[\"0\", \"1\"]\n"
     ]
    },
    {
     "data": {
      "text/plain": [
       "11-element Array{Any,1}:\n",
       " Any[\"AC\", \"A\"]\n",
       " Any[\"G\", \"A\"]\n",
       " Any[\"A\", \"G\"]\n",
       " Any[\"A\", \"G\"]\n",
       " Any[\"GC\", \"GC\"]\n",
       " Any[\"T\", \"G\"]\n",
       " Any[\"T\", \"G\"]\n",
       " Any[\"C\", \"G\"]\n",
       " Any[\"T\", \"G\"]\n",
       " Any[\"C\", \"T\"]\n",
       " Any[\"T\", \"C\"]"
      ]
     },
     "execution_count": 61,
     "metadata": {},
     "output_type": "execute_result"
    }
   ],
   "source": [
    "function get_genotype_of_vcf_indexedtable(vcf_table)\n",
    "\n",
    "    genotypes = []\n",
    "\n",
    "    for row in vcf_table\n",
    "\n",
    "        genotype = []\n",
    "\n",
    "        allele_ref = row[:REF]\n",
    "\n",
    "        allele_alt = row[:ALT]\n",
    "\n",
    "        println(allele_alt)\n",
    "\n",
    "        println(row[:GERM])\n",
    "\n",
    "        numeric_genotype = split(split(row[:GERM], \":\")[1], \"/\")\n",
    "\n",
    "        println(numeric_genotype)\n",
    "\n",
    "        if occursin(\"|\", numeric_genotype[1])\n",
    "\n",
    "            numeric_genotype = split(numeric_genotype[1], \"|\")\n",
    "\n",
    "        end\n",
    "\n",
    "        counter = 1\n",
    "\n",
    "            while counter < 3\n",
    "\n",
    "                if \"0\" == numeric_genotype[counter]\n",
    "\n",
    "                    push!(genotype, allele_ref)\n",
    "\n",
    "                elseif \"1\" == numeric_genotype[counter]\n",
    "\n",
    "                    push!(genotype, split(allele_alt, \",\")[1])\n",
    "\n",
    "                elseif \"2\" == numeric_genotype[counter]\n",
    "\n",
    "                    push!(genotype, split(allele_alt, \",\")[2])\n",
    "\n",
    "                end    \n",
    "\n",
    "            counter += 1\n",
    "\n",
    "            end\n",
    "\n",
    "        push!(genotypes, genotype)\n",
    "\n",
    "    end\n",
    "\n",
    "return genotypes"
   ]
  },
  {
   "cell_type": "markdown",
   "metadata": {},
   "source": [
    "## Tabix Regions"
   ]
  },
  {
   "cell_type": "code",
   "execution_count": null,
   "metadata": {},
   "outputs": [],
   "source": [
    "bed_file_path = joinpath(input_dir, \"cardiotoxicity.bed\")\n",
    "\n",
    "tabix_regions_from_file(\n",
    "    bed_file_path,\n",
    "    vcf_738_file_path,\n",
    "    output_dir,\n",
    ")"
   ]
  }
 ],
 "metadata": {
  "kernelspec": {
   "display_name": "Julia 1.5.3",
   "language": "julia",
   "name": "julia-1.5"
  },
  "language_info": {
   "file_extension": ".jl",
   "mimetype": "application/julia",
   "name": "julia",
   "version": "1.5.3"
  }
 },
 "nbformat": 4,
 "nbformat_minor": 4
}
