{
 "cells": [
  {
   "cell_type": "code",
   "execution_count": 1,
   "metadata": {},
   "outputs": [
    {
     "name": "stderr",
     "output_type": "stream",
     "text": [
      "┌ Info: Precompiling VCFTool [8f8d80d9-e796-45a3-8ef2-c0461a3110a4]\n",
      "└ @ Base loading.jl:1278\n"
     ]
    }
   ],
   "source": [
    "using VCFTool"
   ]
  },
  {
   "cell_type": "code",
   "execution_count": 2,
   "metadata": {},
   "outputs": [
    {
     "data": {
      "text/plain": [
       "\"../input/example.vcf.gz\""
      ]
     },
     "execution_count": 2,
     "metadata": {},
     "output_type": "execute_result"
    }
   ],
   "source": [
    "input_dir = \"../input/\"\n",
    "\n",
    "output_dir = \"../output/\"\n",
    "\n",
    "vcf_738_file_path = joinpath(input_dir, \"738_variants.vcf.gz\")\n",
    "\n",
    "vcf_example_file_path = joinpath(input_dir, \"example.vcf.gz\")"
   ]
  },
  {
   "cell_type": "code",
   "execution_count": 3,
   "metadata": {},
   "outputs": [
    {
     "data": {
      "text/html": [
       "<table class=\"data-frame\"><thead><tr><th></th><th>CHROM</th><th>POS</th><th>ID</th><th>REF</th><th>ALT</th><th>QUAL</th><th>FILTER</th><th>INFO</th></tr><tr><th></th><th>String</th><th>Int64</th><th>String</th><th>String</th><th>String</th><th>Int64</th><th>String</th><th>String</th></tr></thead><tbody><p>11 rows × 15 columns (omitted printing of 7 columns)</p><tr><th>1</th><td>1</td><td>10</td><td>1:10</td><td>A</td><td>T</td><td>100</td><td>PASS</td><td>NS=5;AC=0;AN=10;AF=0.000000</td></tr><tr><th>2</th><td>1</td><td>20</td><td>1:20</td><td>G</td><td>C</td><td>100</td><td>PASS</td><td>NS=0;AC=0;AN=0</td></tr><tr><th>3</th><td>1</td><td>30</td><td>1:30</td><td>C</td><td>A</td><td>100</td><td>PASS</td><td>NS=6;AC=0;AN=12;AF=0.000000</td></tr><tr><th>4</th><td>1</td><td>40</td><td>1:40</td><td>A</td><td>C</td><td>100</td><td>PASS</td><td>NS=6;AC=0;AN=12;AF=0.000000</td></tr><tr><th>5</th><td>1</td><td>10000</td><td>1:10000</td><td>G</td><td>C</td><td>100</td><td>PASS</td><td>NS=6;AC=0;AN=12;AF=0.000000</td></tr><tr><th>6</th><td>1</td><td>20000</td><td>1:20000</td><td>T</td><td>A</td><td>100</td><td>PASS</td><td>NS=6;AC=12;AN=12;AF=1.000000</td></tr><tr><th>7</th><td>4</td><td>5000</td><td>4:5000</td><td>A</td><td>T</td><td>100</td><td>PASS</td><td>NS=6;AC=12;AN=12;AF=1.000000</td></tr><tr><th>8</th><td>4</td><td>6000</td><td>4:6000</td><td>C</td><td>T</td><td>100</td><td>PASS</td><td>NS=6;AC=11;AN=12;AF=0.916667</td></tr><tr><th>9</th><td>X</td><td>800</td><td>X:800</td><td>A</td><td>C</td><td>100</td><td>PASS</td><td>NS=6;AC=12;AN=12;AF=1.000000</td></tr><tr><th>10</th><td>X</td><td>900</td><td>X:900</td><td>A</td><td>T</td><td>100</td><td>PASS</td><td>NS=6;AC=12;AN=12;AF=1.000000</td></tr><tr><th>11</th><td>X</td><td>1000</td><td>X:1000</td><td>T</td><td>G</td><td>100</td><td>PASS</td><td>NS=5;AC=10;AN=10;AF=1.000000</td></tr></tbody></table>"
      ],
      "text/latex": [
       "\\begin{tabular}{r|ccccccccc}\n",
       "\t& CHROM & POS & ID & REF & ALT & QUAL & FILTER & INFO & \\\\\n",
       "\t\\hline\n",
       "\t& String & Int64 & String & String & String & Int64 & String & String & \\\\\n",
       "\t\\hline\n",
       "\t1 & 1 & 10 & 1:10 & A & T & 100 & PASS & NS=5;AC=0;AN=10;AF=0.000000 & $\\dots$ \\\\\n",
       "\t2 & 1 & 20 & 1:20 & G & C & 100 & PASS & NS=0;AC=0;AN=0 & $\\dots$ \\\\\n",
       "\t3 & 1 & 30 & 1:30 & C & A & 100 & PASS & NS=6;AC=0;AN=12;AF=0.000000 & $\\dots$ \\\\\n",
       "\t4 & 1 & 40 & 1:40 & A & C & 100 & PASS & NS=6;AC=0;AN=12;AF=0.000000 & $\\dots$ \\\\\n",
       "\t5 & 1 & 10000 & 1:10000 & G & C & 100 & PASS & NS=6;AC=0;AN=12;AF=0.000000 & $\\dots$ \\\\\n",
       "\t6 & 1 & 20000 & 1:20000 & T & A & 100 & PASS & NS=6;AC=12;AN=12;AF=1.000000 & $\\dots$ \\\\\n",
       "\t7 & 4 & 5000 & 4:5000 & A & T & 100 & PASS & NS=6;AC=12;AN=12;AF=1.000000 & $\\dots$ \\\\\n",
       "\t8 & 4 & 6000 & 4:6000 & C & T & 100 & PASS & NS=6;AC=11;AN=12;AF=0.916667 & $\\dots$ \\\\\n",
       "\t9 & X & 800 & X:800 & A & C & 100 & PASS & NS=6;AC=12;AN=12;AF=1.000000 & $\\dots$ \\\\\n",
       "\t10 & X & 900 & X:900 & A & T & 100 & PASS & NS=6;AC=12;AN=12;AF=1.000000 & $\\dots$ \\\\\n",
       "\t11 & X & 1000 & X:1000 & T & G & 100 & PASS & NS=5;AC=10;AN=10;AF=1.000000 & $\\dots$ \\\\\n",
       "\\end{tabular}\n"
      ],
      "text/plain": [
       "11×15 DataFrame. Omitted printing of 8 columns\n",
       "│ Row │ CHROM  │ POS   │ ID      │ REF    │ ALT    │ QUAL  │ FILTER │\n",
       "│     │ \u001b[90mString\u001b[39m │ \u001b[90mInt64\u001b[39m │ \u001b[90mString\u001b[39m  │ \u001b[90mString\u001b[39m │ \u001b[90mString\u001b[39m │ \u001b[90mInt64\u001b[39m │ \u001b[90mString\u001b[39m │\n",
       "├─────┼────────┼───────┼─────────┼────────┼────────┼───────┼────────┤\n",
       "│ 1   │ 1      │ 10    │ 1:10    │ A      │ T      │ 100   │ PASS   │\n",
       "│ 2   │ 1      │ 20    │ 1:20    │ G      │ C      │ 100   │ PASS   │\n",
       "│ 3   │ 1      │ 30    │ 1:30    │ C      │ A      │ 100   │ PASS   │\n",
       "│ 4   │ 1      │ 40    │ 1:40    │ A      │ C      │ 100   │ PASS   │\n",
       "│ 5   │ 1      │ 10000 │ 1:10000 │ G      │ C      │ 100   │ PASS   │\n",
       "│ 6   │ 1      │ 20000 │ 1:20000 │ T      │ A      │ 100   │ PASS   │\n",
       "│ 7   │ 4      │ 5000  │ 4:5000  │ A      │ T      │ 100   │ PASS   │\n",
       "│ 8   │ 4      │ 6000  │ 4:6000  │ C      │ T      │ 100   │ PASS   │\n",
       "│ 9   │ X      │ 800   │ X:800   │ A      │ C      │ 100   │ PASS   │\n",
       "│ 10  │ X      │ 900   │ X:900   │ A      │ T      │ 100   │ PASS   │\n",
       "│ 11  │ X      │ 1000  │ X:1000  │ T      │ G      │ 100   │ PASS   │"
      ]
     },
     "execution_count": 3,
     "metadata": {},
     "output_type": "execute_result"
    }
   ],
   "source": [
    "vcf_738 = read_vcf(vcf_738_file_path)\n",
    "\n",
    "vcf_example = read_vcf(vcf_example_file_path)\n",
    "\n",
    "vcf_to_use = vcf_example"
   ]
  },
  {
   "cell_type": "markdown",
   "metadata": {},
   "source": [
    "## Tabix Regions"
   ]
  },
  {
   "cell_type": "code",
   "execution_count": 4,
   "metadata": {},
   "outputs": [
    {
     "name": "stdout",
     "output_type": "stream",
     "text": [
      "Checking variants in this file: ../input/cardiotoxicity.bed\n",
      "\n",
      "bed file: \n",
      "\n",
      "8×3 DataFrame\n",
      "│ Row │ Column1 │ Column2   │ Column3   │\n",
      "│     │ \u001b[90mString\u001b[39m  │ \u001b[90mInt64\u001b[39m     │ \u001b[90mInt64\u001b[39m     │\n",
      "├─────┼─────────┼───────────┼───────────┤\n",
      "│ 1   │ chr2    │ 240630709 │ 240630710 │\n",
      "│ 2   │ chr7    │ 150999022 │ 150999023 │\n",
      "│ 3   │ chr10   │ 99836238  │ 99836239  │\n",
      "│ 4   │ chr10   │ 99851536  │ 99851537  │\n",
      "│ 5   │ chr12   │ 53211760  │ 53211761  │\n",
      "│ 6   │ chr16   │ 88646827  │ 88646828  │\n",
      "│ 7   │ chr19   │ 51354483  │ 51354484  │\n",
      "│ 8   │ chr21   │ 36146407  │ 36146408  │\n",
      "\n",
      "\n",
      "pipeline(`\u001b[4mtabix\u001b[24m \u001b[4m-R\u001b[24m \u001b[4m../input/cardiotoxicity.bed\u001b[24m \u001b[4m../input/738_variants.vcf.gz\u001b[24m`, stdout>Base.FileRedirect(\"../output/cardiotoxicity.tsv\", false))\n",
      "\n",
      "Saved output at: ../output/cardiotoxicity\n",
      "\n",
      "Took 1 second, 99 milliseconds.\n",
      "\n"
     ]
    }
   ],
   "source": [
    "bed_file_path = joinpath(input_dir, \"cardiotoxicity.bed\")\n",
    "\n",
    "tabix_regions_from_file(\n",
    "    bed_file_path,\n",
    "    vcf_738_file_path,\n",
    "    output_dir,\n",
    ")"
   ]
  },
  {
   "cell_type": "markdown",
   "metadata": {},
   "source": [
    "## Julia DataFrame Query "
   ]
  },
  {
   "cell_type": "code",
   "execution_count": 6,
   "metadata": {},
   "outputs": [
    {
     "name": "stdout",
     "output_type": "stream",
     "text": [
      "chr10\n",
      "99851537\n"
     ]
    },
    {
     "ename": "LoadError",
     "evalue": "ArgumentError: The empty type does not have a well-defined number of fields since it does not have instances.",
     "output_type": "error",
     "traceback": [
      "ArgumentError: The empty type does not have a well-defined number of fields since it does not have instances.",
      "",
      "Stacktrace:",
      " [1] fieldcount(::Any) at ./reflection.jl:707",
      " [2] buildcolumns at /Users/kate/.julia/packages/Tables/8Ud85/src/fallbacks.jl:205 [inlined]",
      " [3] columns at /Users/kate/.julia/packages/Tables/8Ud85/src/fallbacks.jl:262 [inlined]",
      " [4] DataFrames.DataFrame(::QueryOperators.EnumerableMap{Union{},QueryOperators.EnumerableFilter{NamedTuple{(:CHROM, :POS, :ID, :REF, :ALT, :QUAL, :FILTER, :INFO, :FORMAT, :X1, :X2, :X3, :X4, :X5, :X6),Tuple{String,Int64,String,String,String,Int64,String,String,String,String,String,String,String,String,String}},QueryOperators.EnumerableFilter{NamedTuple{(:CHROM, :POS, :ID, :REF, :ALT, :QUAL, :FILTER, :INFO, :FORMAT, :X1, :X2, :X3, :X4, :X5, :X6),Tuple{String,Int64,String,String,String,Int64,String,String,String,String,String,String,String,String,String}},QueryOperators.EnumerableIterable{NamedTuple{(:CHROM, :POS, :ID, :REF, :ALT, :QUAL, :FILTER, :INFO, :FORMAT, :X1, :X2, :X3, :X4, :X5, :X6),Tuple{String,Int64,String,String,String,Int64,String,String,String,String,String,String,String,String,String}},Tables.DataValueRowIterator{NamedTuple{(:CHROM, :POS, :ID, :REF, :ALT, :QUAL, :FILTER, :INFO, :FORMAT, :X1, :X2, :X3, :X4, :X5, :X6),Tuple{String,Int64,String,String,String,Int64,String,String,String,String,String,String,String,String,String}},Tables.Schema{(:CHROM, :POS, :ID, :REF, :ALT, :QUAL, :FILTER, :INFO, :FORMAT, :X1, :X2, :X3, :X4, :X5, :X6),Tuple{String,Int64,String,String,String,Int64,String,String,String,String,String,String,String,String,String}},Tables.RowIterator{NamedTuple{(:CHROM, :POS, :ID, :REF, :ALT, :QUAL, :FILTER, :INFO, :FORMAT, :X1, :X2, :X3, :X4, :X5, :X6),Tuple{Array{String,1},Array{Int64,1},Array{String,1},Array{String,1},Array{String,1},Array{Int64,1},PooledArrays.PooledArray{String,UInt32,1,Array{UInt32,1}},Array{String,1},PooledArrays.PooledArray{String,UInt32,1,Array{UInt32,1}},Array{String,1},Array{String,1},Array{String,1},Array{String,1},Array{String,1},Array{String,1}}}}}},VCFTool.var\"#1#4\"{String}},VCFTool.var\"#2#5\"{Int64}},VCFTool.var\"#3#6\"}; copycols::Bool) at /Users/kate/.julia/packages/DataFrames/GtZ1l/src/other/tables.jl:43",
      " [5] DataFrames.DataFrame(::QueryOperators.EnumerableMap{Union{},QueryOperators.EnumerableFilter{NamedTuple{(:CHROM, :POS, :ID, :REF, :ALT, :QUAL, :FILTER, :INFO, :FORMAT, :X1, :X2, :X3, :X4, :X5, :X6),Tuple{String,Int64,String,String,String,Int64,String,String,String,String,String,String,String,String,String}},QueryOperators.EnumerableFilter{NamedTuple{(:CHROM, :POS, :ID, :REF, :ALT, :QUAL, :FILTER, :INFO, :FORMAT, :X1, :X2, :X3, :X4, :X5, :X6),Tuple{String,Int64,String,String,String,Int64,String,String,String,String,String,String,String,String,String}},QueryOperators.EnumerableIterable{NamedTuple{(:CHROM, :POS, :ID, :REF, :ALT, :QUAL, :FILTER, :INFO, :FORMAT, :X1, :X2, :X3, :X4, :X5, :X6),Tuple{String,Int64,String,String,String,Int64,String,String,String,String,String,String,String,String,String}},Tables.DataValueRowIterator{NamedTuple{(:CHROM, :POS, :ID, :REF, :ALT, :QUAL, :FILTER, :INFO, :FORMAT, :X1, :X2, :X3, :X4, :X5, :X6),Tuple{String,Int64,String,String,String,Int64,String,String,String,String,String,String,String,String,String}},Tables.Schema{(:CHROM, :POS, :ID, :REF, :ALT, :QUAL, :FILTER, :INFO, :FORMAT, :X1, :X2, :X3, :X4, :X5, :X6),Tuple{String,Int64,String,String,String,Int64,String,String,String,String,String,String,String,String,String}},Tables.RowIterator{NamedTuple{(:CHROM, :POS, :ID, :REF, :ALT, :QUAL, :FILTER, :INFO, :FORMAT, :X1, :X2, :X3, :X4, :X5, :X6),Tuple{Array{String,1},Array{Int64,1},Array{String,1},Array{String,1},Array{String,1},Array{Int64,1},PooledArrays.PooledArray{String,UInt32,1,Array{UInt32,1}},Array{String,1},PooledArrays.PooledArray{String,UInt32,1,Array{UInt32,1}},Array{String,1},Array{String,1},Array{String,1},Array{String,1},Array{String,1},Array{String,1}}}}}},VCFTool.var\"#1#4\"{String}},VCFTool.var\"#2#5\"{Int64}},VCFTool.var\"#3#6\"}) at /Users/kate/.julia/packages/DataFrames/GtZ1l/src/other/tables.jl:34",
      " [6] query_regions(::Dict{String,Int64}, ::DataFrames.DataFrame, ::String) at /Users/kate/github/VCFTool.jl/src/query_regions.jl:24",
      " [7] top-level scope at In[6]:11",
      " [8] include_string(::Function, ::Module, ::String, ::String) at ./loading.jl:1091"
     ]
    }
   ],
   "source": [
    "regions = Dict([\n",
    "        (\"chr2\", 240630710),\n",
    "        (\"chr7\", 150999023),\n",
    "        (\"chr10\", 99836239),\n",
    "        (\"chr10\", 99851537),\n",
    "        (\"chr16\", 88646828),\n",
    "        (\"chr19\", 51354484),\n",
    "        (\"chr21\", 36146408),\n",
    "        ])\n",
    "\n",
    "query_regions(\n",
    "    regions, \n",
    "    vcf_to_use,\n",
    "    output_dir,\n",
    ")"
   ]
  },
  {
   "cell_type": "markdown",
   "metadata": {},
   "source": [
    "## JuliaDB"
   ]
  },
  {
   "cell_type": "code",
   "execution_count": 1,
   "metadata": {},
   "outputs": [],
   "source": [
    "using JuliaDB"
   ]
  },
  {
   "cell_type": "code",
   "execution_count": 6,
   "metadata": {},
   "outputs": [
    {
     "ename": "LoadError",
     "evalue": "MethodError: no method matching run(::typeof(pwd))\nClosest candidates are:\n  run(!Matched::Base.AbstractCmd, !Matched::Any...; wait) at process.jl:437",
     "output_type": "error",
     "traceback": [
      "MethodError: no method matching run(::typeof(pwd))\nClosest candidates are:\n  run(!Matched::Base.AbstractCmd, !Matched::Any...; wait) at process.jl:437",
      "",
      "Stacktrace:",
      " [1] top-level scope at In[6]:1",
      " [2] include_string(::Function, ::Module, ::String, ::String) at ./loading.jl:1091"
     ]
    }
   ],
   "source": []
  },
  {
   "cell_type": "code",
   "execution_count": 2,
   "metadata": {},
   "outputs": [
    {
     "ename": "LoadError",
     "evalue": "ArgumentError: Specified path is neither a file, nor a directory.",
     "output_type": "error",
     "traceback": [
      "ArgumentError: Specified path is neither a file, nor a directory.",
      "",
      "Stacktrace:",
      " [1] _loadtable(::Type{T} where T, ::String; chunks::Nothing, output::Nothing, append::Bool, indexcols::Array{Any,1}, distributed::Bool, usecache::Bool, opts::Base.Iterators.Pairs{Union{},Union{},Tuple{},NamedTuple{(),Tuple{}}}) at /Users/kate/.julia/packages/JuliaDB/7cG1k/src/io.jl:101",
      " [2] _loadtable at /Users/kate/.julia/packages/JuliaDB/7cG1k/src/io.jl:95 [inlined]",
      " [3] #loadtable#186 at /Users/kate/.julia/packages/JuliaDB/7cG1k/src/io.jl:63 [inlined]",
      " [4] loadtable(::String) at /Users/kate/.julia/packages/JuliaDB/7cG1k/src/io.jl:63",
      " [5] top-level scope at In[2]:1",
      " [6] include_string(::Function, ::Module, ::String, ::String) at ./loading.jl:1091"
     ]
    }
   ],
   "source": [
    "flights = loadtable(\"~/Downloads/hflights.csv\")"
   ]
  },
  {
   "cell_type": "code",
   "execution_count": null,
   "metadata": {},
   "outputs": [],
   "source": []
  }
 ],
 "metadata": {
  "kernelspec": {
   "display_name": "Julia 1.5.3",
   "language": "julia",
   "name": "julia-1.5"
  },
  "language_info": {
   "file_extension": ".jl",
   "mimetype": "application/julia",
   "name": "julia",
   "version": "1.5.3"
  }
 },
 "nbformat": 4,
 "nbformat_minor": 4
}
