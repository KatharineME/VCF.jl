{
 "cells": [
  {
   "cell_type": "code",
   "execution_count": 8,
   "metadata": {},
   "outputs": [],
   "source": [
    "using VCFTool"
   ]
  },
  {
   "cell_type": "markdown",
   "metadata": {},
   "source": [
    "## read_vcf"
   ]
  },
  {
   "cell_type": "code",
   "execution_count": 9,
   "metadata": {
    "collapsed": true,
    "jupyter": {
     "outputs_hidden": true
    }
   },
   "outputs": [
    {
     "data": {
      "text/html": [
       "<table class=\"data-frame\"><thead><tr><th></th><th>#CHROM</th><th>POS</th><th>ID</th><th>REF</th><th>ALT</th><th>QUAL</th><th>FILTER</th></tr><tr><th></th><th>String</th><th>Int64</th><th>String</th><th>String</th><th>String</th><th>String</th><th>String</th></tr></thead><tbody><p>5,217,068 rows × 10 columns (omitted printing of 3 columns)</p><tr><th>1</th><td>chr1</td><td>10439</td><td>.</td><td>AC</td><td>A</td><td>72</td><td>PASS</td></tr><tr><th>2</th><td>chr1</td><td>13284</td><td>.</td><td>G</td><td>A</td><td>60</td><td>LowGQX;NoPassedVariantGTs</td></tr><tr><th>3</th><td>chr1</td><td>13868</td><td>.</td><td>A</td><td>G</td><td>1</td><td>LowGQX;LowDepth;NoPassedVariantGTs</td></tr><tr><th>4</th><td>chr1</td><td>15274</td><td>.</td><td>A</td><td>G</td><td>1</td><td>LowGQX;LowDepth;NoPassedVariantGTs</td></tr><tr><th>5</th><td>chr1</td><td>15903</td><td>.</td><td>G</td><td>GC</td><td>209</td><td>PASS</td></tr><tr><th>6</th><td>chr1</td><td>16683</td><td>.</td><td>T</td><td>G</td><td>0</td><td>LowGQX;NoPassedVariantGTs</td></tr><tr><th>7</th><td>chr1</td><td>16713</td><td>.</td><td>T</td><td>G</td><td>0</td><td>LowGQX;LowDepth;NoPassedVariantGTs</td></tr><tr><th>8</th><td>chr1</td><td>16731</td><td>.</td><td>C</td><td>G</td><td>0</td><td>LowGQX;NoPassedVariantGTs</td></tr><tr><th>9</th><td>chr1</td><td>16734</td><td>.</td><td>T</td><td>G</td><td>4</td><td>LowGQX;NoPassedVariantGTs</td></tr><tr><th>10</th><td>chr1</td><td>19322</td><td>.</td><td>C</td><td>T</td><td>0</td><td>LowGQX;NoPassedVariantGTs</td></tr><tr><th>11</th><td>chr1</td><td>19795</td><td>.</td><td>T</td><td>C</td><td>14</td><td>LowGQX;NoPassedVariantGTs</td></tr><tr><th>12</th><td>chr1</td><td>28494</td><td>.</td><td>T</td><td>C</td><td>1</td><td>LowGQX;LowDepth;NoPassedVariantGTs</td></tr><tr><th>13</th><td>chr1</td><td>28511</td><td>.</td><td>G</td><td>A</td><td>1</td><td>LowGQX;LowDepth;NoPassedVariantGTs</td></tr><tr><th>14</th><td>chr1</td><td>28558</td><td>.</td><td>C</td><td>T</td><td>1</td><td>LowGQX;LowDepth;NoPassedVariantGTs</td></tr><tr><th>15</th><td>chr1</td><td>28563</td><td>.</td><td>A</td><td>G</td><td>1</td><td>LowGQX;LowDepth;NoPassedVariantGTs</td></tr><tr><th>16</th><td>chr1</td><td>31029</td><td>.</td><td>G</td><td>A</td><td>1</td><td>LowGQX;LowDepth;NoPassedVariantGTs</td></tr><tr><th>17</th><td>chr1</td><td>38928</td><td>.</td><td>A</td><td>T</td><td>0</td><td>LowGQX;LowDepth;NoPassedVariantGTs</td></tr><tr><th>18</th><td>chr1</td><td>39015</td><td>.</td><td>A</td><td>C</td><td>0</td><td>LowGQX;NoPassedVariantGTs</td></tr><tr><th>19</th><td>chr1</td><td>39255</td><td>.</td><td>A</td><td>C</td><td>156</td><td>LowGQX;NoPassedVariantGTs</td></tr><tr><th>20</th><td>chr1</td><td>39261</td><td>.</td><td>T</td><td>C</td><td>217</td><td>LowGQX;NoPassedVariantGTs</td></tr><tr><th>21</th><td>chr1</td><td>39292</td><td>.</td><td>G</td><td>T</td><td>0</td><td>LowGQX;NoPassedVariantGTs</td></tr><tr><th>22</th><td>chr1</td><td>39430</td><td>.</td><td>A</td><td>C</td><td>0</td><td>LowGQX;NoPassedVariantGTs</td></tr><tr><th>23</th><td>chr1</td><td>39487</td><td>.</td><td>A</td><td>C</td><td>0</td><td>LowGQX;NoPassedVariantGTs</td></tr><tr><th>24</th><td>chr1</td><td>39578</td><td>.</td><td>C</td><td>T</td><td>25</td><td>LowGQX;NoPassedVariantGTs</td></tr><tr><th>25</th><td>chr1</td><td>47138</td><td>.</td><td>T</td><td>G</td><td>0</td><td>LowGQX;NoPassedVariantGTs</td></tr><tr><th>26</th><td>chr1</td><td>47461</td><td>.</td><td>T</td><td>G</td><td>0</td><td>LowGQX;NoPassedVariantGTs</td></tr><tr><th>27</th><td>chr1</td><td>48324</td><td>.</td><td>T</td><td>G</td><td>0</td><td>LowGQX;LowDepth;NoPassedVariantGTs</td></tr><tr><th>28</th><td>chr1</td><td>48953</td><td>.</td><td>C</td><td>T</td><td>0</td><td>LowGQX;NoPassedVariantGTs</td></tr><tr><th>29</th><td>chr1</td><td>49094</td><td>.</td><td>T</td><td>G</td><td>0</td><td>LowGQX;NoPassedVariantGTs</td></tr><tr><th>30</th><td>chr1</td><td>49298</td><td>.</td><td>T</td><td>C</td><td>258</td><td>PASS</td></tr><tr><th>&vellip;</th><td>&vellip;</td><td>&vellip;</td><td>&vellip;</td><td>&vellip;</td><td>&vellip;</td><td>&vellip;</td><td>&vellip;</td></tr></tbody></table>"
      ],
      "text/latex": [
       "\\begin{tabular}{r|cccccccc}\n",
       "\t& \\#CHROM & POS & ID & REF & ALT & QUAL & FILTER & \\\\\n",
       "\t\\hline\n",
       "\t& String & Int64 & String & String & String & String & String & \\\\\n",
       "\t\\hline\n",
       "\t1 & chr1 & 10439 & . & AC & A & 72 & PASS & $\\dots$ \\\\\n",
       "\t2 & chr1 & 13284 & . & G & A & 60 & LowGQX;NoPassedVariantGTs & $\\dots$ \\\\\n",
       "\t3 & chr1 & 13868 & . & A & G & 1 & LowGQX;LowDepth;NoPassedVariantGTs & $\\dots$ \\\\\n",
       "\t4 & chr1 & 15274 & . & A & G & 1 & LowGQX;LowDepth;NoPassedVariantGTs & $\\dots$ \\\\\n",
       "\t5 & chr1 & 15903 & . & G & GC & 209 & PASS & $\\dots$ \\\\\n",
       "\t6 & chr1 & 16683 & . & T & G & 0 & LowGQX;NoPassedVariantGTs & $\\dots$ \\\\\n",
       "\t7 & chr1 & 16713 & . & T & G & 0 & LowGQX;LowDepth;NoPassedVariantGTs & $\\dots$ \\\\\n",
       "\t8 & chr1 & 16731 & . & C & G & 0 & LowGQX;NoPassedVariantGTs & $\\dots$ \\\\\n",
       "\t9 & chr1 & 16734 & . & T & G & 4 & LowGQX;NoPassedVariantGTs & $\\dots$ \\\\\n",
       "\t10 & chr1 & 19322 & . & C & T & 0 & LowGQX;NoPassedVariantGTs & $\\dots$ \\\\\n",
       "\t11 & chr1 & 19795 & . & T & C & 14 & LowGQX;NoPassedVariantGTs & $\\dots$ \\\\\n",
       "\t12 & chr1 & 28494 & . & T & C & 1 & LowGQX;LowDepth;NoPassedVariantGTs & $\\dots$ \\\\\n",
       "\t13 & chr1 & 28511 & . & G & A & 1 & LowGQX;LowDepth;NoPassedVariantGTs & $\\dots$ \\\\\n",
       "\t14 & chr1 & 28558 & . & C & T & 1 & LowGQX;LowDepth;NoPassedVariantGTs & $\\dots$ \\\\\n",
       "\t15 & chr1 & 28563 & . & A & G & 1 & LowGQX;LowDepth;NoPassedVariantGTs & $\\dots$ \\\\\n",
       "\t16 & chr1 & 31029 & . & G & A & 1 & LowGQX;LowDepth;NoPassedVariantGTs & $\\dots$ \\\\\n",
       "\t17 & chr1 & 38928 & . & A & T & 0 & LowGQX;LowDepth;NoPassedVariantGTs & $\\dots$ \\\\\n",
       "\t18 & chr1 & 39015 & . & A & C & 0 & LowGQX;NoPassedVariantGTs & $\\dots$ \\\\\n",
       "\t19 & chr1 & 39255 & . & A & C & 156 & LowGQX;NoPassedVariantGTs & $\\dots$ \\\\\n",
       "\t20 & chr1 & 39261 & . & T & C & 217 & LowGQX;NoPassedVariantGTs & $\\dots$ \\\\\n",
       "\t21 & chr1 & 39292 & . & G & T & 0 & LowGQX;NoPassedVariantGTs & $\\dots$ \\\\\n",
       "\t22 & chr1 & 39430 & . & A & C & 0 & LowGQX;NoPassedVariantGTs & $\\dots$ \\\\\n",
       "\t23 & chr1 & 39487 & . & A & C & 0 & LowGQX;NoPassedVariantGTs & $\\dots$ \\\\\n",
       "\t24 & chr1 & 39578 & . & C & T & 25 & LowGQX;NoPassedVariantGTs & $\\dots$ \\\\\n",
       "\t25 & chr1 & 47138 & . & T & G & 0 & LowGQX;NoPassedVariantGTs & $\\dots$ \\\\\n",
       "\t26 & chr1 & 47461 & . & T & G & 0 & LowGQX;NoPassedVariantGTs & $\\dots$ \\\\\n",
       "\t27 & chr1 & 48324 & . & T & G & 0 & LowGQX;LowDepth;NoPassedVariantGTs & $\\dots$ \\\\\n",
       "\t28 & chr1 & 48953 & . & C & T & 0 & LowGQX;NoPassedVariantGTs & $\\dots$ \\\\\n",
       "\t29 & chr1 & 49094 & . & T & G & 0 & LowGQX;NoPassedVariantGTs & $\\dots$ \\\\\n",
       "\t30 & chr1 & 49298 & . & T & C & 258 & PASS & $\\dots$ \\\\\n",
       "\t$\\dots$ & $\\dots$ & $\\dots$ & $\\dots$ & $\\dots$ & $\\dots$ & $\\dots$ & $\\dots$ &  \\\\\n",
       "\\end{tabular}\n"
      ],
      "text/plain": [
       "\u001b[1m5217068×10 DataFrame\u001b[0m\n",
       "\u001b[1m     Row \u001b[0m│\u001b[1m #CHROM \u001b[0m\u001b[1m POS   \u001b[0m\u001b[1m ID     \u001b[0m\u001b[1m REF    \u001b[0m\u001b[1m ALT    \u001b[0m\u001b[1m QUAL   \u001b[0m\u001b[1m FILTER              \u001b[0m ⋯\n",
       "\u001b[1m         \u001b[0m│\u001b[90m String \u001b[0m\u001b[90m Int64 \u001b[0m\u001b[90m String \u001b[0m\u001b[90m String \u001b[0m\u001b[90m String \u001b[0m\u001b[90m String \u001b[0m\u001b[90m String              \u001b[0m ⋯\n",
       "─────────┼──────────────────────────────────────────────────────────────────────\n",
       "       1 │ chr1    10439  .       AC      A       72      PASS                 ⋯\n",
       "       2 │ chr1    13284  .       G       A       60      LowGQX;NoPassedVaria\n",
       "       3 │ chr1    13868  .       A       G       1       LowGQX;LowDepth;NoPa\n",
       "       4 │ chr1    15274  .       A       G       1       LowGQX;LowDepth;NoPa\n",
       "       5 │ chr1    15903  .       G       GC      209     PASS                 ⋯\n",
       "       6 │ chr1    16683  .       T       G       0       LowGQX;NoPassedVaria\n",
       "       7 │ chr1    16713  .       T       G       0       LowGQX;LowDepth;NoPa\n",
       "       8 │ chr1    16731  .       C       G       0       LowGQX;NoPassedVaria\n",
       "       9 │ chr1    16734  .       T       G       4       LowGQX;NoPassedVaria ⋯\n",
       "      10 │ chr1    19322  .       C       T       0       LowGQX;NoPassedVaria\n",
       "      11 │ chr1    19795  .       T       C       14      LowGQX;NoPassedVaria\n",
       "    ⋮    │   ⋮       ⋮      ⋮       ⋮       ⋮       ⋮                     ⋮    ⋱\n",
       " 5217059 │ chrM    12372  .       G       A       3070    PASS\n",
       " 5217060 │ chrM    13617  .       T       C       3070    PASS                 ⋯\n",
       " 5217061 │ chrM    14766  .       C       T       3070    PASS\n",
       " 5217062 │ chrM    14793  .       A       G       3070    PASS\n",
       " 5217063 │ chrM    15218  .       A       G       3070    PASS\n",
       " 5217064 │ chrM    15326  .       A       G       3070    PASS                 ⋯\n",
       " 5217065 │ chrM    15924  .       A       G       3070    PASS\n",
       " 5217066 │ chrM    16256  .       C       T       3070    PASS\n",
       " 5217067 │ chrM    16270  .       C       T       3070    PASS\n",
       " 5217068 │ chrM    16399  .       A       G       3070    PASS                 ⋯\n",
       "\u001b[31m                                              4 columns and 5217047 rows omitted\u001b[0m"
      ]
     },
     "execution_count": 9,
     "metadata": {},
     "output_type": "execute_result"
    }
   ],
   "source": [
    "vcf_738 = read_vcf(\"../input/738_variants_copy.vcf.gz\")"
   ]
  },
  {
   "cell_type": "code",
   "execution_count": 10,
   "metadata": {
    "collapsed": true,
    "jupyter": {
     "outputs_hidden": true
    }
   },
   "outputs": [
    {
     "data": {
      "text/html": [
       "<table class=\"data-frame\"><thead><tr><th></th><th>#CHROM</th><th>POS</th><th>ID</th><th>REF</th><th>ALT</th><th>QUAL</th><th>FILTER</th><th>INFO</th></tr><tr><th></th><th>String</th><th>Int64</th><th>String</th><th>String</th><th>String</th><th>Int64</th><th>String</th><th>String</th></tr></thead><tbody><p>11 rows × 15 columns (omitted printing of 7 columns)</p><tr><th>1</th><td>1</td><td>10</td><td>1:10</td><td>A</td><td>T</td><td>100</td><td>PASS</td><td>NS=5;AC=0;AN=10;AF=0.000000</td></tr><tr><th>2</th><td>1</td><td>20</td><td>1:20</td><td>G</td><td>C</td><td>100</td><td>PASS</td><td>NS=0;AC=0;AN=0</td></tr><tr><th>3</th><td>1</td><td>30</td><td>1:30</td><td>C</td><td>A</td><td>100</td><td>PASS</td><td>NS=6;AC=0;AN=12;AF=0.000000</td></tr><tr><th>4</th><td>1</td><td>40</td><td>1:40</td><td>A</td><td>C</td><td>100</td><td>PASS</td><td>NS=6;AC=0;AN=12;AF=0.000000</td></tr><tr><th>5</th><td>1</td><td>10000</td><td>1:10000</td><td>G</td><td>C</td><td>100</td><td>PASS</td><td>NS=6;AC=0;AN=12;AF=0.000000</td></tr><tr><th>6</th><td>1</td><td>20000</td><td>1:20000</td><td>T</td><td>A</td><td>100</td><td>PASS</td><td>NS=6;AC=12;AN=12;AF=1.000000</td></tr><tr><th>7</th><td>4</td><td>5000</td><td>4:5000</td><td>A</td><td>T</td><td>100</td><td>PASS</td><td>NS=6;AC=12;AN=12;AF=1.000000</td></tr><tr><th>8</th><td>4</td><td>6000</td><td>4:6000</td><td>C</td><td>T</td><td>100</td><td>PASS</td><td>NS=6;AC=11;AN=12;AF=0.916667</td></tr><tr><th>9</th><td>X</td><td>800</td><td>X:800</td><td>A</td><td>C</td><td>100</td><td>PASS</td><td>NS=6;AC=12;AN=12;AF=1.000000</td></tr><tr><th>10</th><td>X</td><td>900</td><td>X:900</td><td>A</td><td>T</td><td>100</td><td>PASS</td><td>NS=6;AC=12;AN=12;AF=1.000000</td></tr><tr><th>11</th><td>X</td><td>1000</td><td>X:1000</td><td>T</td><td>G</td><td>100</td><td>PASS</td><td>NS=5;AC=10;AN=10;AF=1.000000</td></tr></tbody></table>"
      ],
      "text/latex": [
       "\\begin{tabular}{r|ccccccccc}\n",
       "\t& \\#CHROM & POS & ID & REF & ALT & QUAL & FILTER & INFO & \\\\\n",
       "\t\\hline\n",
       "\t& String & Int64 & String & String & String & Int64 & String & String & \\\\\n",
       "\t\\hline\n",
       "\t1 & 1 & 10 & 1:10 & A & T & 100 & PASS & NS=5;AC=0;AN=10;AF=0.000000 & $\\dots$ \\\\\n",
       "\t2 & 1 & 20 & 1:20 & G & C & 100 & PASS & NS=0;AC=0;AN=0 & $\\dots$ \\\\\n",
       "\t3 & 1 & 30 & 1:30 & C & A & 100 & PASS & NS=6;AC=0;AN=12;AF=0.000000 & $\\dots$ \\\\\n",
       "\t4 & 1 & 40 & 1:40 & A & C & 100 & PASS & NS=6;AC=0;AN=12;AF=0.000000 & $\\dots$ \\\\\n",
       "\t5 & 1 & 10000 & 1:10000 & G & C & 100 & PASS & NS=6;AC=0;AN=12;AF=0.000000 & $\\dots$ \\\\\n",
       "\t6 & 1 & 20000 & 1:20000 & T & A & 100 & PASS & NS=6;AC=12;AN=12;AF=1.000000 & $\\dots$ \\\\\n",
       "\t7 & 4 & 5000 & 4:5000 & A & T & 100 & PASS & NS=6;AC=12;AN=12;AF=1.000000 & $\\dots$ \\\\\n",
       "\t8 & 4 & 6000 & 4:6000 & C & T & 100 & PASS & NS=6;AC=11;AN=12;AF=0.916667 & $\\dots$ \\\\\n",
       "\t9 & X & 800 & X:800 & A & C & 100 & PASS & NS=6;AC=12;AN=12;AF=1.000000 & $\\dots$ \\\\\n",
       "\t10 & X & 900 & X:900 & A & T & 100 & PASS & NS=6;AC=12;AN=12;AF=1.000000 & $\\dots$ \\\\\n",
       "\t11 & X & 1000 & X:1000 & T & G & 100 & PASS & NS=5;AC=10;AN=10;AF=1.000000 & $\\dots$ \\\\\n",
       "\\end{tabular}\n"
      ],
      "text/plain": [
       "\u001b[1m11×15 DataFrame\u001b[0m\n",
       "\u001b[1m Row \u001b[0m│\u001b[1m #CHROM \u001b[0m\u001b[1m POS   \u001b[0m\u001b[1m ID      \u001b[0m\u001b[1m REF    \u001b[0m\u001b[1m ALT    \u001b[0m\u001b[1m QUAL  \u001b[0m\u001b[1m FILTER \u001b[0m\u001b[1m INFO            \u001b[0m ⋯\n",
       "\u001b[1m     \u001b[0m│\u001b[90m String \u001b[0m\u001b[90m Int64 \u001b[0m\u001b[90m String  \u001b[0m\u001b[90m String \u001b[0m\u001b[90m String \u001b[0m\u001b[90m Int64 \u001b[0m\u001b[90m String \u001b[0m\u001b[90m String          \u001b[0m ⋯\n",
       "─────┼──────────────────────────────────────────────────────────────────────────\n",
       "   1 │ 1          10  1:10     A       T         100  PASS    NS=5;AC=0;AN=10; ⋯\n",
       "   2 │ 1          20  1:20     G       C         100  PASS    NS=0;AC=0;AN=0\n",
       "   3 │ 1          30  1:30     C       A         100  PASS    NS=6;AC=0;AN=12;\n",
       "   4 │ 1          40  1:40     A       C         100  PASS    NS=6;AC=0;AN=12;\n",
       "   5 │ 1       10000  1:10000  G       C         100  PASS    NS=6;AC=0;AN=12; ⋯\n",
       "   6 │ 1       20000  1:20000  T       A         100  PASS    NS=6;AC=12;AN=12\n",
       "   7 │ 4        5000  4:5000   A       T         100  PASS    NS=6;AC=12;AN=12\n",
       "   8 │ 4        6000  4:6000   C       T         100  PASS    NS=6;AC=11;AN=12\n",
       "   9 │ X         800  X:800    A       C         100  PASS    NS=6;AC=12;AN=12 ⋯\n",
       "  10 │ X         900  X:900    A       T         100  PASS    NS=6;AC=12;AN=12\n",
       "  11 │ X        1000  X:1000   T       G         100  PASS    NS=5;AC=10;AN=10\n",
       "\u001b[31m                                                               8 columns omitted\u001b[0m"
      ]
     },
     "execution_count": 10,
     "metadata": {},
     "output_type": "execute_result"
    }
   ],
   "source": [
    "vcf_example = read_vcf(\"../input/example.vcf.gz\")"
   ]
  },
  {
   "cell_type": "code",
   "execution_count": 29,
   "metadata": {},
   "outputs": [
    {
     "data": {
      "text/html": [
       "<table class=\"data-frame\"><thead><tr><th></th><th>#CHROM</th><th>POS</th><th>ID</th><th>REF</th><th>ALT</th><th>QUAL</th><th>FILTER</th><th>INFO</th></tr><tr><th></th><th>String</th><th>Int64</th><th>String</th><th>String</th><th>String</th><th>Int64</th><th>String</th><th>String</th></tr></thead><tbody><p>11 rows × 15 columns (omitted printing of 7 columns)</p><tr><th>1</th><td>1</td><td>10</td><td>1:10</td><td>A</td><td>T</td><td>100</td><td>PASS</td><td>NS=5;AC=0;AN=10;AF=0.000000</td></tr><tr><th>2</th><td>1</td><td>20</td><td>1:20</td><td>G</td><td>C</td><td>100</td><td>PASS</td><td>NS=0;AC=0;AN=0</td></tr><tr><th>3</th><td>1</td><td>30</td><td>1:30</td><td>C</td><td>A</td><td>100</td><td>PASS</td><td>NS=6;AC=0;AN=12;AF=0.000000</td></tr><tr><th>4</th><td>1</td><td>40</td><td>1:40</td><td>A</td><td>C</td><td>100</td><td>PASS</td><td>NS=6;AC=0;AN=12;AF=0.000000</td></tr><tr><th>5</th><td>1</td><td>10000</td><td>1:10000</td><td>G</td><td>C</td><td>100</td><td>PASS</td><td>NS=6;AC=0;AN=12;AF=0.000000</td></tr><tr><th>6</th><td>1</td><td>20000</td><td>1:20000</td><td>T</td><td>A</td><td>100</td><td>PASS</td><td>NS=6;AC=12;AN=12;AF=1.000000</td></tr><tr><th>7</th><td>4</td><td>5000</td><td>4:5000</td><td>A</td><td>T</td><td>100</td><td>PASS</td><td>NS=6;AC=12;AN=12;AF=1.000000</td></tr><tr><th>8</th><td>4</td><td>6000</td><td>4:6000</td><td>C</td><td>T</td><td>100</td><td>PASS</td><td>NS=6;AC=11;AN=12;AF=0.916667</td></tr><tr><th>9</th><td>X</td><td>800</td><td>X:800</td><td>A</td><td>C</td><td>100</td><td>PASS</td><td>NS=6;AC=12;AN=12;AF=1.000000</td></tr><tr><th>10</th><td>X</td><td>900</td><td>X:900</td><td>A</td><td>T</td><td>100</td><td>PASS</td><td>NS=6;AC=12;AN=12;AF=1.000000</td></tr><tr><th>11</th><td>X</td><td>1000</td><td>X:1000</td><td>T</td><td>G</td><td>100</td><td>PASS</td><td>NS=5;AC=10;AN=10;AF=1.000000</td></tr></tbody></table>"
      ],
      "text/latex": [
       "\\begin{tabular}{r|ccccccccc}\n",
       "\t& \\#CHROM & POS & ID & REF & ALT & QUAL & FILTER & INFO & \\\\\n",
       "\t\\hline\n",
       "\t& String & Int64 & String & String & String & Int64 & String & String & \\\\\n",
       "\t\\hline\n",
       "\t1 & 1 & 10 & 1:10 & A & T & 100 & PASS & NS=5;AC=0;AN=10;AF=0.000000 & $\\dots$ \\\\\n",
       "\t2 & 1 & 20 & 1:20 & G & C & 100 & PASS & NS=0;AC=0;AN=0 & $\\dots$ \\\\\n",
       "\t3 & 1 & 30 & 1:30 & C & A & 100 & PASS & NS=6;AC=0;AN=12;AF=0.000000 & $\\dots$ \\\\\n",
       "\t4 & 1 & 40 & 1:40 & A & C & 100 & PASS & NS=6;AC=0;AN=12;AF=0.000000 & $\\dots$ \\\\\n",
       "\t5 & 1 & 10000 & 1:10000 & G & C & 100 & PASS & NS=6;AC=0;AN=12;AF=0.000000 & $\\dots$ \\\\\n",
       "\t6 & 1 & 20000 & 1:20000 & T & A & 100 & PASS & NS=6;AC=12;AN=12;AF=1.000000 & $\\dots$ \\\\\n",
       "\t7 & 4 & 5000 & 4:5000 & A & T & 100 & PASS & NS=6;AC=12;AN=12;AF=1.000000 & $\\dots$ \\\\\n",
       "\t8 & 4 & 6000 & 4:6000 & C & T & 100 & PASS & NS=6;AC=11;AN=12;AF=0.916667 & $\\dots$ \\\\\n",
       "\t9 & X & 800 & X:800 & A & C & 100 & PASS & NS=6;AC=12;AN=12;AF=1.000000 & $\\dots$ \\\\\n",
       "\t10 & X & 900 & X:900 & A & T & 100 & PASS & NS=6;AC=12;AN=12;AF=1.000000 & $\\dots$ \\\\\n",
       "\t11 & X & 1000 & X:1000 & T & G & 100 & PASS & NS=5;AC=10;AN=10;AF=1.000000 & $\\dots$ \\\\\n",
       "\\end{tabular}\n"
      ],
      "text/plain": [
       "\u001b[1m11×15 DataFrame\u001b[0m\n",
       "\u001b[1m Row \u001b[0m│\u001b[1m #CHROM \u001b[0m\u001b[1m POS   \u001b[0m\u001b[1m ID      \u001b[0m\u001b[1m REF    \u001b[0m\u001b[1m ALT    \u001b[0m\u001b[1m QUAL  \u001b[0m\u001b[1m FILTER \u001b[0m\u001b[1m INFO            \u001b[0m ⋯\n",
       "\u001b[1m     \u001b[0m│\u001b[90m String \u001b[0m\u001b[90m Int64 \u001b[0m\u001b[90m String  \u001b[0m\u001b[90m String \u001b[0m\u001b[90m String \u001b[0m\u001b[90m Int64 \u001b[0m\u001b[90m String \u001b[0m\u001b[90m String          \u001b[0m ⋯\n",
       "─────┼──────────────────────────────────────────────────────────────────────────\n",
       "   1 │ 1          10  1:10     A       T         100  PASS    NS=5;AC=0;AN=10; ⋯\n",
       "   2 │ 1          20  1:20     G       C         100  PASS    NS=0;AC=0;AN=0\n",
       "   3 │ 1          30  1:30     C       A         100  PASS    NS=6;AC=0;AN=12;\n",
       "   4 │ 1          40  1:40     A       C         100  PASS    NS=6;AC=0;AN=12;\n",
       "   5 │ 1       10000  1:10000  G       C         100  PASS    NS=6;AC=0;AN=12; ⋯\n",
       "   6 │ 1       20000  1:20000  T       A         100  PASS    NS=6;AC=12;AN=12\n",
       "   7 │ 4        5000  4:5000   A       T         100  PASS    NS=6;AC=12;AN=12\n",
       "   8 │ 4        6000  4:6000   C       T         100  PASS    NS=6;AC=11;AN=12\n",
       "   9 │ X         800  X:800    A       C         100  PASS    NS=6;AC=12;AN=12 ⋯\n",
       "  10 │ X         900  X:900    A       T         100  PASS    NS=6;AC=12;AN=12\n",
       "  11 │ X        1000  X:1000   T       G         100  PASS    NS=5;AC=10;AN=10\n",
       "\u001b[31m                                                               8 columns omitted\u001b[0m"
      ]
     },
     "execution_count": 29,
     "metadata": {},
     "output_type": "execute_result"
    }
   ],
   "source": [
    "vcf_to_use = vcf_example"
   ]
  },
  {
   "cell_type": "code",
   "execution_count": 54,
   "metadata": {},
   "outputs": [
    {
     "ename": "LoadError",
     "evalue": "DimensionMismatch(\"Length of nms doesn't match length of x.\")",
     "output_type": "error",
     "traceback": [
      "DimensionMismatch(\"Length of nms doesn't match length of x.\")",
      "",
      "Stacktrace:",
      " [1] rename!(::DataFrames.Index, ::Array{Symbol,1}; makeunique::Bool) at /Users/kate/.julia/packages/DataFrames/yqToF/src/other/index.jl:55",
      " [2] #rename!#49 at /Users/kate/.julia/packages/DataFrames/yqToF/src/abstractdataframe/abstractdataframe.jl:172 [inlined]",
      " [3] rename!(::DataFrame, ::Array{Symbol,1}) at /Users/kate/.julia/packages/DataFrames/yqToF/src/abstractdataframe/abstractdataframe.jl:172",
      " [4] top-level scope at In[54]:3",
      " [5] include_string(::Function, ::Module, ::String, ::String) at ./loading.jl:1091"
     ]
    }
   ],
   "source": [
    "using DataFrames\n",
    "\n",
    "rename!(vcf_to_use, [Symbol(\"CHROM\", \"POS\", \"ID\", \"REF\", \"ALT\", \"QUAL\", \"FILTER\", \"INFO\")])"
   ]
  },
  {
   "cell_type": "code",
   "execution_count": 12,
   "metadata": {},
   "outputs": [
    {
     "data": {
      "text/plain": [
       "5217068-element Array{String,1}:\n",
       " \"A\"\n",
       " \"A\"\n",
       " \"G\"\n",
       " \"G\"\n",
       " \"GC\"\n",
       " \"G\"\n",
       " \"G\"\n",
       " \"G\"\n",
       " \"G\"\n",
       " \"T\"\n",
       " \"C\"\n",
       " \"C\"\n",
       " \"A\"\n",
       " ⋮\n",
       " \"A\"\n",
       " \"G\"\n",
       " \"A\"\n",
       " \"C\"\n",
       " \"T\"\n",
       " \"G\"\n",
       " \"G\"\n",
       " \"G\"\n",
       " \"G\"\n",
       " \"T\"\n",
       " \"T\"\n",
       " \"G\""
      ]
     },
     "execution_count": 12,
     "metadata": {},
     "output_type": "execute_result"
    }
   ],
   "source": [
    "using DataFrames\n",
    "\n",
    "vcf_to_use.ALT"
   ]
  },
  {
   "cell_type": "code",
   "execution_count": 57,
   "metadata": {},
   "outputs": [
    {
     "data": {
      "text/html": [
       "<table class=\"data-frame\"><thead><tr><th></th><th>CHROM</th><th>POS</th><th>ID</th><th>REF</th><th>ALT</th><th>QUAL</th><th>FILTER</th><th>INFO</th></tr><tr><th></th><th>String</th><th>Int64</th><th>String</th><th>String</th><th>String</th><th>Int64</th><th>String</th><th>String</th></tr></thead><tbody><p>11 rows × 15 columns (omitted printing of 7 columns)</p><tr><th>1</th><td>1</td><td>10</td><td>1:10</td><td>A</td><td>T</td><td>100</td><td>PASS</td><td>NS=5;AC=0;AN=10;AF=0.000000</td></tr><tr><th>2</th><td>1</td><td>20</td><td>1:20</td><td>G</td><td>C</td><td>100</td><td>PASS</td><td>NS=0;AC=0;AN=0</td></tr><tr><th>3</th><td>1</td><td>30</td><td>1:30</td><td>C</td><td>A</td><td>100</td><td>PASS</td><td>NS=6;AC=0;AN=12;AF=0.000000</td></tr><tr><th>4</th><td>1</td><td>40</td><td>1:40</td><td>A</td><td>C</td><td>100</td><td>PASS</td><td>NS=6;AC=0;AN=12;AF=0.000000</td></tr><tr><th>5</th><td>1</td><td>10000</td><td>1:10000</td><td>G</td><td>C</td><td>100</td><td>PASS</td><td>NS=6;AC=0;AN=12;AF=0.000000</td></tr><tr><th>6</th><td>1</td><td>20000</td><td>1:20000</td><td>T</td><td>A</td><td>100</td><td>PASS</td><td>NS=6;AC=12;AN=12;AF=1.000000</td></tr><tr><th>7</th><td>4</td><td>5000</td><td>4:5000</td><td>A</td><td>T</td><td>100</td><td>PASS</td><td>NS=6;AC=12;AN=12;AF=1.000000</td></tr><tr><th>8</th><td>4</td><td>6000</td><td>4:6000</td><td>C</td><td>T</td><td>100</td><td>PASS</td><td>NS=6;AC=11;AN=12;AF=0.916667</td></tr><tr><th>9</th><td>X</td><td>800</td><td>X:800</td><td>A</td><td>C</td><td>100</td><td>PASS</td><td>NS=6;AC=12;AN=12;AF=1.000000</td></tr><tr><th>10</th><td>X</td><td>900</td><td>X:900</td><td>A</td><td>T</td><td>100</td><td>PASS</td><td>NS=6;AC=12;AN=12;AF=1.000000</td></tr><tr><th>11</th><td>X</td><td>1000</td><td>X:1000</td><td>T</td><td>G</td><td>100</td><td>PASS</td><td>NS=5;AC=10;AN=10;AF=1.000000</td></tr></tbody></table>"
      ],
      "text/latex": [
       "\\begin{tabular}{r|ccccccccc}\n",
       "\t& CHROM & POS & ID & REF & ALT & QUAL & FILTER & INFO & \\\\\n",
       "\t\\hline\n",
       "\t& String & Int64 & String & String & String & Int64 & String & String & \\\\\n",
       "\t\\hline\n",
       "\t1 & 1 & 10 & 1:10 & A & T & 100 & PASS & NS=5;AC=0;AN=10;AF=0.000000 & $\\dots$ \\\\\n",
       "\t2 & 1 & 20 & 1:20 & G & C & 100 & PASS & NS=0;AC=0;AN=0 & $\\dots$ \\\\\n",
       "\t3 & 1 & 30 & 1:30 & C & A & 100 & PASS & NS=6;AC=0;AN=12;AF=0.000000 & $\\dots$ \\\\\n",
       "\t4 & 1 & 40 & 1:40 & A & C & 100 & PASS & NS=6;AC=0;AN=12;AF=0.000000 & $\\dots$ \\\\\n",
       "\t5 & 1 & 10000 & 1:10000 & G & C & 100 & PASS & NS=6;AC=0;AN=12;AF=0.000000 & $\\dots$ \\\\\n",
       "\t6 & 1 & 20000 & 1:20000 & T & A & 100 & PASS & NS=6;AC=12;AN=12;AF=1.000000 & $\\dots$ \\\\\n",
       "\t7 & 4 & 5000 & 4:5000 & A & T & 100 & PASS & NS=6;AC=12;AN=12;AF=1.000000 & $\\dots$ \\\\\n",
       "\t8 & 4 & 6000 & 4:6000 & C & T & 100 & PASS & NS=6;AC=11;AN=12;AF=0.916667 & $\\dots$ \\\\\n",
       "\t9 & X & 800 & X:800 & A & C & 100 & PASS & NS=6;AC=12;AN=12;AF=1.000000 & $\\dots$ \\\\\n",
       "\t10 & X & 900 & X:900 & A & T & 100 & PASS & NS=6;AC=12;AN=12;AF=1.000000 & $\\dots$ \\\\\n",
       "\t11 & X & 1000 & X:1000 & T & G & 100 & PASS & NS=5;AC=10;AN=10;AF=1.000000 & $\\dots$ \\\\\n",
       "\\end{tabular}\n"
      ],
      "text/plain": [
       "\u001b[1m11×15 DataFrame\u001b[0m\n",
       "\u001b[1m Row \u001b[0m│\u001b[1m CHROM  \u001b[0m\u001b[1m POS   \u001b[0m\u001b[1m ID      \u001b[0m\u001b[1m REF    \u001b[0m\u001b[1m ALT    \u001b[0m\u001b[1m QUAL  \u001b[0m\u001b[1m FILTER \u001b[0m\u001b[1m INFO            \u001b[0m ⋯\n",
       "\u001b[1m     \u001b[0m│\u001b[90m String \u001b[0m\u001b[90m Int64 \u001b[0m\u001b[90m String  \u001b[0m\u001b[90m String \u001b[0m\u001b[90m String \u001b[0m\u001b[90m Int64 \u001b[0m\u001b[90m String \u001b[0m\u001b[90m String          \u001b[0m ⋯\n",
       "─────┼──────────────────────────────────────────────────────────────────────────\n",
       "   1 │ 1          10  1:10     A       T         100  PASS    NS=5;AC=0;AN=10; ⋯\n",
       "   2 │ 1          20  1:20     G       C         100  PASS    NS=0;AC=0;AN=0\n",
       "   3 │ 1          30  1:30     C       A         100  PASS    NS=6;AC=0;AN=12;\n",
       "   4 │ 1          40  1:40     A       C         100  PASS    NS=6;AC=0;AN=12;\n",
       "   5 │ 1       10000  1:10000  G       C         100  PASS    NS=6;AC=0;AN=12; ⋯\n",
       "   6 │ 1       20000  1:20000  T       A         100  PASS    NS=6;AC=12;AN=12\n",
       "   7 │ 4        5000  4:5000   A       T         100  PASS    NS=6;AC=12;AN=12\n",
       "   8 │ 4        6000  4:6000   C       T         100  PASS    NS=6;AC=11;AN=12\n",
       "   9 │ X         800  X:800    A       C         100  PASS    NS=6;AC=12;AN=12 ⋯\n",
       "  10 │ X         900  X:900    A       T         100  PASS    NS=6;AC=12;AN=12\n",
       "  11 │ X        1000  X:1000   T       G         100  PASS    NS=5;AC=10;AN=10\n",
       "\u001b[31m                                                               8 columns omitted\u001b[0m"
      ]
     },
     "execution_count": 57,
     "metadata": {},
     "output_type": "execute_result"
    }
   ],
   "source": [
    "rename(vcf_to_use, (\"#CHROM\" => \"CHROM\"))"
   ]
  },
  {
   "cell_type": "code",
   "execution_count": 13,
   "metadata": {},
   "outputs": [
    {
     "data": {
      "text/plain": [
       "10-element Array{String,1}:\n",
       " \"#CHROM\"\n",
       " \"POS\"\n",
       " \"ID\"\n",
       " \"REF\"\n",
       " \"ALT\"\n",
       " \"QUAL\"\n",
       " \"FILTER\"\n",
       " \"INFO\"\n",
       " \"FORMAT\"\n",
       " \"Germ\""
      ]
     },
     "execution_count": 13,
     "metadata": {},
     "output_type": "execute_result"
    }
   ],
   "source": [
    "names(vcf_to_use)"
   ]
  },
  {
   "cell_type": "code",
   "execution_count": 6,
   "metadata": {},
   "outputs": [
    {
     "data": {
      "text/plain": [
       "(11, 15)"
      ]
     },
     "execution_count": 6,
     "metadata": {},
     "output_type": "execute_result"
    }
   ],
   "source": [
    "size(vcf_to_use)"
   ]
  },
  {
   "cell_type": "code",
   "execution_count": 15,
   "metadata": {},
   "outputs": [
    {
     "data": {
      "text/html": [
       "<table class=\"data-frame\"><thead><tr><th></th><th>#CHROM</th><th>POS</th><th>ID</th><th>REF</th><th>ALT</th><th>QUAL</th><th>FILTER</th></tr><tr><th></th><th>String</th><th>Int64</th><th>String</th><th>String</th><th>String</th><th>String</th><th>String</th></tr></thead><tbody><p>3 rows × 10 columns (omitted printing of 3 columns)</p><tr><th>1</th><td>chr1</td><td>13868</td><td>.</td><td>A</td><td>G</td><td>1</td><td>LowGQX;LowDepth;NoPassedVariantGTs</td></tr><tr><th>2</th><td>chr1</td><td>15274</td><td>.</td><td>A</td><td>G</td><td>1</td><td>LowGQX;LowDepth;NoPassedVariantGTs</td></tr><tr><th>3</th><td>chr1</td><td>15903</td><td>.</td><td>G</td><td>GC</td><td>209</td><td>PASS</td></tr></tbody></table>"
      ],
      "text/latex": [
       "\\begin{tabular}{r|cccccccc}\n",
       "\t& \\#CHROM & POS & ID & REF & ALT & QUAL & FILTER & \\\\\n",
       "\t\\hline\n",
       "\t& String & Int64 & String & String & String & String & String & \\\\\n",
       "\t\\hline\n",
       "\t1 & chr1 & 13868 & . & A & G & 1 & LowGQX;LowDepth;NoPassedVariantGTs & $\\dots$ \\\\\n",
       "\t2 & chr1 & 15274 & . & A & G & 1 & LowGQX;LowDepth;NoPassedVariantGTs & $\\dots$ \\\\\n",
       "\t3 & chr1 & 15903 & . & G & GC & 209 & PASS & $\\dots$ \\\\\n",
       "\\end{tabular}\n"
      ],
      "text/plain": [
       "\u001b[1m3×10 DataFrame\u001b[0m\n",
       "\u001b[1m Row \u001b[0m│\u001b[1m #CHROM \u001b[0m\u001b[1m POS   \u001b[0m\u001b[1m ID     \u001b[0m\u001b[1m REF    \u001b[0m\u001b[1m ALT    \u001b[0m\u001b[1m QUAL   \u001b[0m\u001b[1m FILTER                  \u001b[0m ⋯\n",
       "\u001b[1m     \u001b[0m│\u001b[90m String \u001b[0m\u001b[90m Int64 \u001b[0m\u001b[90m String \u001b[0m\u001b[90m String \u001b[0m\u001b[90m String \u001b[0m\u001b[90m String \u001b[0m\u001b[90m String                  \u001b[0m ⋯\n",
       "─────┼──────────────────────────────────────────────────────────────────────────\n",
       "   1 │ chr1    13868  .       A       G       1       LowGQX;LowDepth;NoPassed ⋯\n",
       "   2 │ chr1    15274  .       A       G       1       LowGQX;LowDepth;NoPassed\n",
       "   3 │ chr1    15903  .       G       GC      209     PASS\n",
       "\u001b[31m                                                               4 columns omitted\u001b[0m"
      ]
     },
     "execution_count": 15,
     "metadata": {},
     "output_type": "execute_result"
    }
   ],
   "source": [
    "vcf_to_use[3:5, :]"
   ]
  },
  {
   "cell_type": "code",
   "execution_count": 46,
   "metadata": {},
   "outputs": [
    {
     "ename": "LoadError",
     "evalue": "MethodError: no method matching getproperty(::NamedTuple{(Symbol(\"#CHROM\"), :POS, :ID, :REF, :ALT, :QUAL, :FILTER, :INFO, :FORMAT, :X1, :X2, :X3, :X4, :X5, :X6),Tuple{String,Int64,String,String,String,Int64,String,String,String,String,String,String,String,String,String}}, ::String)\nClosest candidates are:\n  getproperty(!Matched::AbstractDataFrame, ::AbstractString) at /Users/kate/.julia/packages/DataFrames/yqToF/src/abstractdataframe/abstractdataframe.jl:349\n  getproperty(!Matched::DataFrameRow, ::AbstractString) at /Users/kate/.julia/packages/DataFrames/yqToF/src/dataframerow/dataframerow.jl:296\n  getproperty(!Matched::DataFrames.GroupKey, ::AbstractString) at /Users/kate/.julia/packages/DataFrames/yqToF/src/groupeddataframe/groupeddataframe.jl:492\n  ...",
     "output_type": "error",
     "traceback": [
      "MethodError: no method matching getproperty(::NamedTuple{(Symbol(\"#CHROM\"), :POS, :ID, :REF, :ALT, :QUAL, :FILTER, :INFO, :FORMAT, :X1, :X2, :X3, :X4, :X5, :X6),Tuple{String,Int64,String,String,String,Int64,String,String,String,String,String,String,String,String,String}}, ::String)\nClosest candidates are:\n  getproperty(!Matched::AbstractDataFrame, ::AbstractString) at /Users/kate/.julia/packages/DataFrames/yqToF/src/abstractdataframe/abstractdataframe.jl:349\n  getproperty(!Matched::DataFrameRow, ::AbstractString) at /Users/kate/.julia/packages/DataFrames/yqToF/src/dataframerow/dataframerow.jl:296\n  getproperty(!Matched::DataFrames.GroupKey, ::AbstractString) at /Users/kate/.julia/packages/DataFrames/yqToF/src/groupeddataframe/groupeddataframe.jl:492\n  ...",
      "",
      "Stacktrace:",
      " [1] (::var\"#59#61\")(::NamedTuple{(Symbol(\"#CHROM\"), :POS, :ID, :REF, :ALT, :QUAL, :FILTER, :INFO, :FORMAT, :X1, :X2, :X3, :X4, :X5, :X6),Tuple{String,Int64,String,String,String,Int64,String,String,String,String,String,String,String,String,String}}) at ./none:0",
      " [2] iterate at /Users/kate/.julia/packages/QueryOperators/gDUos/src/enumerable/enumerable_filter.jl:20 [inlined]",
      " [3] iterate at /Users/kate/.julia/packages/QueryOperators/gDUos/src/enumerable/enumerable_map.jl:21 [inlined]",
      " [4] iterate at ./iterators.jl:653 [inlined]",
      " [5] iterate at ./iterators.jl:651 [inlined]",
      " [6] _collect at ./array.jl:635 [inlined]",
      " [7] collect at ./array.jl:624 [inlined]",
      " [8] |> at ./operators.jl:834 [inlined]",
      " [9] printtable(::IJulia.IJuliaStdio{Base.PipeEndpoint}, ::QueryOperators.EnumerableMap{NamedTuple{(:POS, :REF, :ALT),Tuple{Int64,String,String}},QueryOperators.EnumerableFilter{NamedTuple{(Symbol(\"#CHROM\"), :POS, :ID, :REF, :ALT, :QUAL, :FILTER, :INFO, :FORMAT, :X1, :X2, :X3, :X4, :X5, :X6),Tuple{String,Int64,String,String,String,Int64,String,String,String,String,String,String,String,String,String}},QueryOperators.EnumerableIterable{NamedTuple{(Symbol(\"#CHROM\"), :POS, :ID, :REF, :ALT, :QUAL, :FILTER, :INFO, :FORMAT, :X1, :X2, :X3, :X4, :X5, :X6),Tuple{String,Int64,String,String,String,Int64,String,String,String,String,String,String,String,String,String}},Tables.DataValueRowIterator{NamedTuple{(Symbol(\"#CHROM\"), :POS, :ID, :REF, :ALT, :QUAL, :FILTER, :INFO, :FORMAT, :X1, :X2, :X3, :X4, :X5, :X6),Tuple{String,Int64,String,String,String,Int64,String,String,String,String,String,String,String,String,String}},Tables.Schema{(Symbol(\"#CHROM\"), :POS, :ID, :REF, :ALT, :QUAL, :FILTER, :INFO, :FORMAT, :X1, :X2, :X3, :X4, :X5, :X6),Tuple{String,Int64,String,String,String,Int64,String,String,String,String,String,String,String,String,String}},Tables.RowIterator{NamedTuple{(Symbol(\"#CHROM\"), :POS, :ID, :REF, :ALT, :QUAL, :FILTER, :INFO, :FORMAT, :X1, :X2, :X3, :X4, :X5, :X6),Tuple{Array{String,1},Array{Int64,1},Array{String,1},Array{String,1},Array{String,1},Array{Int64,1},PooledArrays.PooledArray{String,UInt32,1,Array{UInt32,1}},Array{String,1},PooledArrays.PooledArray{String,UInt32,1,Array{UInt32,1}},Array{String,1},Array{String,1},Array{String,1},Array{String,1},Array{String,1},Array{String,1}}}}}},var\"#59#61\"},var\"#60#62\"}, ::String; force_unknown_rows::Bool) at /Users/kate/.julia/packages/TableShowUtils/ImkA9/src/TableShowUtils.jl:16",
      " [10] printtable at /Users/kate/.julia/packages/TableShowUtils/ImkA9/src/TableShowUtils.jl:7 [inlined]",
      " [11] show at /Users/kate/.julia/packages/QueryOperators/gDUos/src/enumerable/show.jl:35 [inlined]",
      " [12] print(::IJulia.IJuliaStdio{Base.PipeEndpoint}, ::QueryOperators.EnumerableMap{NamedTuple{(:POS, :REF, :ALT),Tuple{Int64,String,String}},QueryOperators.EnumerableFilter{NamedTuple{(Symbol(\"#CHROM\"), :POS, :ID, :REF, :ALT, :QUAL, :FILTER, :INFO, :FORMAT, :X1, :X2, :X3, :X4, :X5, :X6),Tuple{String,Int64,String,String,String,Int64,String,String,String,String,String,String,String,String,String}},QueryOperators.EnumerableIterable{NamedTuple{(Symbol(\"#CHROM\"), :POS, :ID, :REF, :ALT, :QUAL, :FILTER, :INFO, :FORMAT, :X1, :X2, :X3, :X4, :X5, :X6),Tuple{String,Int64,String,String,String,Int64,String,String,String,String,String,String,String,String,String}},Tables.DataValueRowIterator{NamedTuple{(Symbol(\"#CHROM\"), :POS, :ID, :REF, :ALT, :QUAL, :FILTER, :INFO, :FORMAT, :X1, :X2, :X3, :X4, :X5, :X6),Tuple{String,Int64,String,String,String,Int64,String,String,String,String,String,String,String,String,String}},Tables.Schema{(Symbol(\"#CHROM\"), :POS, :ID, :REF, :ALT, :QUAL, :FILTER, :INFO, :FORMAT, :X1, :X2, :X3, :X4, :X5, :X6),Tuple{String,Int64,String,String,String,Int64,String,String,String,String,String,String,String,String,String}},Tables.RowIterator{NamedTuple{(Symbol(\"#CHROM\"), :POS, :ID, :REF, :ALT, :QUAL, :FILTER, :INFO, :FORMAT, :X1, :X2, :X3, :X4, :X5, :X6),Tuple{Array{String,1},Array{Int64,1},Array{String,1},Array{String,1},Array{String,1},Array{Int64,1},PooledArrays.PooledArray{String,UInt32,1,Array{UInt32,1}},Array{String,1},PooledArrays.PooledArray{String,UInt32,1,Array{UInt32,1}},Array{String,1},Array{String,1},Array{String,1},Array{String,1},Array{String,1},Array{String,1}}}}}},var\"#59#61\"},var\"#60#62\"}) at ./strings/io.jl:35",
      " [13] print(::IJulia.IJuliaStdio{Base.PipeEndpoint}, ::QueryOperators.EnumerableMap{NamedTuple{(:POS, :REF, :ALT),Tuple{Int64,String,String}},QueryOperators.EnumerableFilter{NamedTuple{(Symbol(\"#CHROM\"), :POS, :ID, :REF, :ALT, :QUAL, :FILTER, :INFO, :FORMAT, :X1, :X2, :X3, :X4, :X5, :X6),Tuple{String,Int64,String,String,String,Int64,String,String,String,String,String,String,String,String,String}},QueryOperators.EnumerableIterable{NamedTuple{(Symbol(\"#CHROM\"), :POS, :ID, :REF, :ALT, :QUAL, :FILTER, :INFO, :FORMAT, :X1, :X2, :X3, :X4, :X5, :X6),Tuple{String,Int64,String,String,String,Int64,String,String,String,String,String,String,String,String,String}},Tables.DataValueRowIterator{NamedTuple{(Symbol(\"#CHROM\"), :POS, :ID, :REF, :ALT, :QUAL, :FILTER, :INFO, :FORMAT, :X1, :X2, :X3, :X4, :X5, :X6),Tuple{String,Int64,String,String,String,Int64,String,String,String,String,String,String,String,String,String}},Tables.Schema{(Symbol(\"#CHROM\"), :POS, :ID, :REF, :ALT, :QUAL, :FILTER, :INFO, :FORMAT, :X1, :X2, :X3, :X4, :X5, :X6),Tuple{String,Int64,String,String,String,Int64,String,String,String,String,String,String,String,String,String}},Tables.RowIterator{NamedTuple{(Symbol(\"#CHROM\"), :POS, :ID, :REF, :ALT, :QUAL, :FILTER, :INFO, :FORMAT, :X1, :X2, :X3, :X4, :X5, :X6),Tuple{Array{String,1},Array{Int64,1},Array{String,1},Array{String,1},Array{String,1},Array{Int64,1},PooledArrays.PooledArray{String,UInt32,1,Array{UInt32,1}},Array{String,1},PooledArrays.PooledArray{String,UInt32,1,Array{UInt32,1}},Array{String,1},Array{String,1},Array{String,1},Array{String,1},Array{String,1},Array{String,1}}}}}},var\"#59#61\"},var\"#60#62\"}, ::Char) at ./strings/io.jl:46",
      " [14] println(::IJulia.IJuliaStdio{Base.PipeEndpoint}, ::QueryOperators.EnumerableMap{NamedTuple{(:POS, :REF, :ALT),Tuple{Int64,String,String}},QueryOperators.EnumerableFilter{NamedTuple{(Symbol(\"#CHROM\"), :POS, :ID, :REF, :ALT, :QUAL, :FILTER, :INFO, :FORMAT, :X1, :X2, :X3, :X4, :X5, :X6),Tuple{String,Int64,String,String,String,Int64,String,String,String,String,String,String,String,String,String}},QueryOperators.EnumerableIterable{NamedTuple{(Symbol(\"#CHROM\"), :POS, :ID, :REF, :ALT, :QUAL, :FILTER, :INFO, :FORMAT, :X1, :X2, :X3, :X4, :X5, :X6),Tuple{String,Int64,String,String,String,Int64,String,String,String,String,String,String,String,String,String}},Tables.DataValueRowIterator{NamedTuple{(Symbol(\"#CHROM\"), :POS, :ID, :REF, :ALT, :QUAL, :FILTER, :INFO, :FORMAT, :X1, :X2, :X3, :X4, :X5, :X6),Tuple{String,Int64,String,String,String,Int64,String,String,String,String,String,String,String,String,String}},Tables.Schema{(Symbol(\"#CHROM\"), :POS, :ID, :REF, :ALT, :QUAL, :FILTER, :INFO, :FORMAT, :X1, :X2, :X3, :X4, :X5, :X6),Tuple{String,Int64,String,String,String,Int64,String,String,String,String,String,String,String,String,String}},Tables.RowIterator{NamedTuple{(Symbol(\"#CHROM\"), :POS, :ID, :REF, :ALT, :QUAL, :FILTER, :INFO, :FORMAT, :X1, :X2, :X3, :X4, :X5, :X6),Tuple{Array{String,1},Array{Int64,1},Array{String,1},Array{String,1},Array{String,1},Array{Int64,1},PooledArrays.PooledArray{String,UInt32,1,Array{UInt32,1}},Array{String,1},PooledArrays.PooledArray{String,UInt32,1,Array{UInt32,1}},Array{String,1},Array{String,1},Array{String,1},Array{String,1},Array{String,1},Array{String,1}}}}}},var\"#59#61\"},var\"#60#62\"}) at ./strings/io.jl:73",
      " [15] println(::QueryOperators.EnumerableMap{NamedTuple{(:POS, :REF, :ALT),Tuple{Int64,String,String}},QueryOperators.EnumerableFilter{NamedTuple{(Symbol(\"#CHROM\"), :POS, :ID, :REF, :ALT, :QUAL, :FILTER, :INFO, :FORMAT, :X1, :X2, :X3, :X4, :X5, :X6),Tuple{String,Int64,String,String,String,Int64,String,String,String,String,String,String,String,String,String}},QueryOperators.EnumerableIterable{NamedTuple{(Symbol(\"#CHROM\"), :POS, :ID, :REF, :ALT, :QUAL, :FILTER, :INFO, :FORMAT, :X1, :X2, :X3, :X4, :X5, :X6),Tuple{String,Int64,String,String,String,Int64,String,String,String,String,String,String,String,String,String}},Tables.DataValueRowIterator{NamedTuple{(Symbol(\"#CHROM\"), :POS, :ID, :REF, :ALT, :QUAL, :FILTER, :INFO, :FORMAT, :X1, :X2, :X3, :X4, :X5, :X6),Tuple{String,Int64,String,String,String,Int64,String,String,String,String,String,String,String,String,String}},Tables.Schema{(Symbol(\"#CHROM\"), :POS, :ID, :REF, :ALT, :QUAL, :FILTER, :INFO, :FORMAT, :X1, :X2, :X3, :X4, :X5, :X6),Tuple{String,Int64,String,String,String,Int64,String,String,String,String,String,String,String,String,String}},Tables.RowIterator{NamedTuple{(Symbol(\"#CHROM\"), :POS, :ID, :REF, :ALT, :QUAL, :FILTER, :INFO, :FORMAT, :X1, :X2, :X3, :X4, :X5, :X6),Tuple{Array{String,1},Array{Int64,1},Array{String,1},Array{String,1},Array{String,1},Array{Int64,1},PooledArrays.PooledArray{String,UInt32,1,Array{UInt32,1}},Array{String,1},PooledArrays.PooledArray{String,UInt32,1,Array{UInt32,1}},Array{String,1},Array{String,1},Array{String,1},Array{String,1},Array{String,1},Array{String,1}}}}}},var\"#59#61\"},var\"#60#62\"}) at ./coreio.jl:4",
      " [16] top-level scope at In[46]:8",
      " [17] include_string(::Function, ::Module, ::String, ::String) at ./loading.jl:1091"
     ]
    }
   ],
   "source": [
    "using Query, DataFrames\n",
    "\n",
    "x = @from i in vcf_to_use begin\n",
    "    @where i.\"#CHROM\"==\"chr1\"\n",
    "    @select {i.POS, i.REF, i.ALT}\n",
    "end\n",
    "\n",
    "println(x)"
   ]
  },
  {
   "cell_type": "markdown",
   "metadata": {},
   "source": [
    "## Understanding Query.jl"
   ]
  },
  {
   "cell_type": "code",
   "execution_count": 31,
   "metadata": {},
   "outputs": [
    {
     "data": {
      "text/html": [
       "<table class=\"data-frame\"><thead><tr><th></th><th>name</th><th>age</th><th>children</th></tr><tr><th></th><th>String</th><th>Float64</th><th>Int64</th></tr></thead><tbody><p>3 rows × 3 columns</p><tr><th>1</th><td>John</td><td>23.0</td><td>3</td></tr><tr><th>2</th><td>Sally</td><td>42.0</td><td>5</td></tr><tr><th>3</th><td>Kirk</td><td>59.0</td><td>2</td></tr></tbody></table>"
      ],
      "text/latex": [
       "\\begin{tabular}{r|ccc}\n",
       "\t& name & age & children\\\\\n",
       "\t\\hline\n",
       "\t& String & Float64 & Int64\\\\\n",
       "\t\\hline\n",
       "\t1 & John & 23.0 & 3 \\\\\n",
       "\t2 & Sally & 42.0 & 5 \\\\\n",
       "\t3 & Kirk & 59.0 & 2 \\\\\n",
       "\\end{tabular}\n"
      ],
      "text/plain": [
       "\u001b[1m3×3 DataFrame\u001b[0m\n",
       "\u001b[1m Row \u001b[0m│\u001b[1m name   \u001b[0m\u001b[1m age     \u001b[0m\u001b[1m children \u001b[0m\n",
       "\u001b[1m     \u001b[0m│\u001b[90m String \u001b[0m\u001b[90m Float64 \u001b[0m\u001b[90m Int64    \u001b[0m\n",
       "─────┼───────────────────────────\n",
       "   1 │ John       23.0         3\n",
       "   2 │ Sally      42.0         5\n",
       "   3 │ Kirk       59.0         2"
      ]
     },
     "execution_count": 31,
     "metadata": {},
     "output_type": "execute_result"
    }
   ],
   "source": [
    "df = DataFrame(name=[\"John\", \"Sally\", \"Kirk\"], age=[23., 42., 59.], children=[3,5,2])"
   ]
  },
  {
   "cell_type": "code",
   "execution_count": 32,
   "metadata": {},
   "outputs": [
    {
     "name": "stdout",
     "output_type": "stream",
     "text": [
      "Dict(\"Kirk\" => 2)\n"
     ]
    }
   ],
   "source": [
    "using Query, DataFrames\n",
    "\n",
    "x = @from i in df begin\n",
    "    @where i.age>50\n",
    "    @select {i.name, i.children}\n",
    "    @collect Dict\n",
    "end\n",
    "\n",
    "println(x)"
   ]
  },
  {
   "cell_type": "code",
   "execution_count": null,
   "metadata": {},
   "outputs": [],
   "source": []
  }
 ],
 "metadata": {
  "kernelspec": {
   "display_name": "Julia 1.5.3",
   "language": "julia",
   "name": "julia-1.5"
  },
  "language_info": {
   "file_extension": ".jl",
   "mimetype": "application/julia",
   "name": "julia",
   "version": "1.5.3"
  }
 },
 "nbformat": 4,
 "nbformat_minor": 4
}
