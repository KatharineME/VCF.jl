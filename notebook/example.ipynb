{
 "cells": [
  {
   "cell_type": "code",
   "execution_count": 1,
   "metadata": {},
   "outputs": [],
   "source": [
    "using VCFTool"
   ]
  },
  {
   "cell_type": "code",
   "execution_count": 2,
   "metadata": {},
   "outputs": [
    {
     "data": {
      "text/plain": [
       "\"../input/example.vcf.gz\""
      ]
     },
     "execution_count": 2,
     "metadata": {},
     "output_type": "execute_result"
    }
   ],
   "source": [
    "input_dir = \"../input/\"\n",
    "\n",
    "output_dir = \"../output/\"\n",
    "\n",
    "vcf_738_file_path = joinpath(input_dir, \"738_variants.vcf.gz\")\n",
    "\n",
    "vcf_example_file_path = joinpath(input_dir, \"example.vcf.gz\")"
   ]
  },
  {
   "cell_type": "code",
   "execution_count": 3,
   "metadata": {},
   "outputs": [
    {
     "data": {
      "text/html": [
       "<table class=\"data-frame\"><thead><tr><th></th><th>CHROM</th><th>POS</th><th>ID</th><th>REF</th><th>ALT</th><th>QUAL</th><th>FILTER</th></tr><tr><th></th><th>String</th><th>Int64</th><th>String</th><th>String</th><th>String</th><th>String</th><th>String</th></tr></thead><tbody><p>5,217,068 rows × 10 columns (omitted printing of 3 columns)</p><tr><th>1</th><td>chr1</td><td>10439</td><td>.</td><td>AC</td><td>A</td><td>72</td><td>PASS</td></tr><tr><th>2</th><td>chr1</td><td>13284</td><td>.</td><td>G</td><td>A</td><td>60</td><td>LowGQX;NoPassedVariantGTs</td></tr><tr><th>3</th><td>chr1</td><td>13868</td><td>.</td><td>A</td><td>G</td><td>1</td><td>LowGQX;LowDepth;NoPassedVariantGTs</td></tr><tr><th>4</th><td>chr1</td><td>15274</td><td>.</td><td>A</td><td>G</td><td>1</td><td>LowGQX;LowDepth;NoPassedVariantGTs</td></tr><tr><th>5</th><td>chr1</td><td>15903</td><td>.</td><td>G</td><td>GC</td><td>209</td><td>PASS</td></tr><tr><th>6</th><td>chr1</td><td>16683</td><td>.</td><td>T</td><td>G</td><td>0</td><td>LowGQX;NoPassedVariantGTs</td></tr><tr><th>7</th><td>chr1</td><td>16713</td><td>.</td><td>T</td><td>G</td><td>0</td><td>LowGQX;LowDepth;NoPassedVariantGTs</td></tr><tr><th>8</th><td>chr1</td><td>16731</td><td>.</td><td>C</td><td>G</td><td>0</td><td>LowGQX;NoPassedVariantGTs</td></tr><tr><th>9</th><td>chr1</td><td>16734</td><td>.</td><td>T</td><td>G</td><td>4</td><td>LowGQX;NoPassedVariantGTs</td></tr><tr><th>10</th><td>chr1</td><td>19322</td><td>.</td><td>C</td><td>T</td><td>0</td><td>LowGQX;NoPassedVariantGTs</td></tr><tr><th>11</th><td>chr1</td><td>19795</td><td>.</td><td>T</td><td>C</td><td>14</td><td>LowGQX;NoPassedVariantGTs</td></tr><tr><th>12</th><td>chr1</td><td>28494</td><td>.</td><td>T</td><td>C</td><td>1</td><td>LowGQX;LowDepth;NoPassedVariantGTs</td></tr><tr><th>13</th><td>chr1</td><td>28511</td><td>.</td><td>G</td><td>A</td><td>1</td><td>LowGQX;LowDepth;NoPassedVariantGTs</td></tr><tr><th>14</th><td>chr1</td><td>28558</td><td>.</td><td>C</td><td>T</td><td>1</td><td>LowGQX;LowDepth;NoPassedVariantGTs</td></tr><tr><th>15</th><td>chr1</td><td>28563</td><td>.</td><td>A</td><td>G</td><td>1</td><td>LowGQX;LowDepth;NoPassedVariantGTs</td></tr><tr><th>16</th><td>chr1</td><td>31029</td><td>.</td><td>G</td><td>A</td><td>1</td><td>LowGQX;LowDepth;NoPassedVariantGTs</td></tr><tr><th>17</th><td>chr1</td><td>38928</td><td>.</td><td>A</td><td>T</td><td>0</td><td>LowGQX;LowDepth;NoPassedVariantGTs</td></tr><tr><th>18</th><td>chr1</td><td>39015</td><td>.</td><td>A</td><td>C</td><td>0</td><td>LowGQX;NoPassedVariantGTs</td></tr><tr><th>19</th><td>chr1</td><td>39255</td><td>.</td><td>A</td><td>C</td><td>156</td><td>LowGQX;NoPassedVariantGTs</td></tr><tr><th>20</th><td>chr1</td><td>39261</td><td>.</td><td>T</td><td>C</td><td>217</td><td>LowGQX;NoPassedVariantGTs</td></tr><tr><th>21</th><td>chr1</td><td>39292</td><td>.</td><td>G</td><td>T</td><td>0</td><td>LowGQX;NoPassedVariantGTs</td></tr><tr><th>22</th><td>chr1</td><td>39430</td><td>.</td><td>A</td><td>C</td><td>0</td><td>LowGQX;NoPassedVariantGTs</td></tr><tr><th>23</th><td>chr1</td><td>39487</td><td>.</td><td>A</td><td>C</td><td>0</td><td>LowGQX;NoPassedVariantGTs</td></tr><tr><th>24</th><td>chr1</td><td>39578</td><td>.</td><td>C</td><td>T</td><td>25</td><td>LowGQX;NoPassedVariantGTs</td></tr><tr><th>25</th><td>chr1</td><td>47138</td><td>.</td><td>T</td><td>G</td><td>0</td><td>LowGQX;NoPassedVariantGTs</td></tr><tr><th>26</th><td>chr1</td><td>47461</td><td>.</td><td>T</td><td>G</td><td>0</td><td>LowGQX;NoPassedVariantGTs</td></tr><tr><th>27</th><td>chr1</td><td>48324</td><td>.</td><td>T</td><td>G</td><td>0</td><td>LowGQX;LowDepth;NoPassedVariantGTs</td></tr><tr><th>28</th><td>chr1</td><td>48953</td><td>.</td><td>C</td><td>T</td><td>0</td><td>LowGQX;NoPassedVariantGTs</td></tr><tr><th>29</th><td>chr1</td><td>49094</td><td>.</td><td>T</td><td>G</td><td>0</td><td>LowGQX;NoPassedVariantGTs</td></tr><tr><th>30</th><td>chr1</td><td>49298</td><td>.</td><td>T</td><td>C</td><td>258</td><td>PASS</td></tr><tr><th>&vellip;</th><td>&vellip;</td><td>&vellip;</td><td>&vellip;</td><td>&vellip;</td><td>&vellip;</td><td>&vellip;</td><td>&vellip;</td></tr></tbody></table>"
      ],
      "text/latex": [
       "\\begin{tabular}{r|cccccccc}\n",
       "\t& CHROM & POS & ID & REF & ALT & QUAL & FILTER & \\\\\n",
       "\t\\hline\n",
       "\t& String & Int64 & String & String & String & String & String & \\\\\n",
       "\t\\hline\n",
       "\t1 & chr1 & 10439 & . & AC & A & 72 & PASS & $\\dots$ \\\\\n",
       "\t2 & chr1 & 13284 & . & G & A & 60 & LowGQX;NoPassedVariantGTs & $\\dots$ \\\\\n",
       "\t3 & chr1 & 13868 & . & A & G & 1 & LowGQX;LowDepth;NoPassedVariantGTs & $\\dots$ \\\\\n",
       "\t4 & chr1 & 15274 & . & A & G & 1 & LowGQX;LowDepth;NoPassedVariantGTs & $\\dots$ \\\\\n",
       "\t5 & chr1 & 15903 & . & G & GC & 209 & PASS & $\\dots$ \\\\\n",
       "\t6 & chr1 & 16683 & . & T & G & 0 & LowGQX;NoPassedVariantGTs & $\\dots$ \\\\\n",
       "\t7 & chr1 & 16713 & . & T & G & 0 & LowGQX;LowDepth;NoPassedVariantGTs & $\\dots$ \\\\\n",
       "\t8 & chr1 & 16731 & . & C & G & 0 & LowGQX;NoPassedVariantGTs & $\\dots$ \\\\\n",
       "\t9 & chr1 & 16734 & . & T & G & 4 & LowGQX;NoPassedVariantGTs & $\\dots$ \\\\\n",
       "\t10 & chr1 & 19322 & . & C & T & 0 & LowGQX;NoPassedVariantGTs & $\\dots$ \\\\\n",
       "\t11 & chr1 & 19795 & . & T & C & 14 & LowGQX;NoPassedVariantGTs & $\\dots$ \\\\\n",
       "\t12 & chr1 & 28494 & . & T & C & 1 & LowGQX;LowDepth;NoPassedVariantGTs & $\\dots$ \\\\\n",
       "\t13 & chr1 & 28511 & . & G & A & 1 & LowGQX;LowDepth;NoPassedVariantGTs & $\\dots$ \\\\\n",
       "\t14 & chr1 & 28558 & . & C & T & 1 & LowGQX;LowDepth;NoPassedVariantGTs & $\\dots$ \\\\\n",
       "\t15 & chr1 & 28563 & . & A & G & 1 & LowGQX;LowDepth;NoPassedVariantGTs & $\\dots$ \\\\\n",
       "\t16 & chr1 & 31029 & . & G & A & 1 & LowGQX;LowDepth;NoPassedVariantGTs & $\\dots$ \\\\\n",
       "\t17 & chr1 & 38928 & . & A & T & 0 & LowGQX;LowDepth;NoPassedVariantGTs & $\\dots$ \\\\\n",
       "\t18 & chr1 & 39015 & . & A & C & 0 & LowGQX;NoPassedVariantGTs & $\\dots$ \\\\\n",
       "\t19 & chr1 & 39255 & . & A & C & 156 & LowGQX;NoPassedVariantGTs & $\\dots$ \\\\\n",
       "\t20 & chr1 & 39261 & . & T & C & 217 & LowGQX;NoPassedVariantGTs & $\\dots$ \\\\\n",
       "\t21 & chr1 & 39292 & . & G & T & 0 & LowGQX;NoPassedVariantGTs & $\\dots$ \\\\\n",
       "\t22 & chr1 & 39430 & . & A & C & 0 & LowGQX;NoPassedVariantGTs & $\\dots$ \\\\\n",
       "\t23 & chr1 & 39487 & . & A & C & 0 & LowGQX;NoPassedVariantGTs & $\\dots$ \\\\\n",
       "\t24 & chr1 & 39578 & . & C & T & 25 & LowGQX;NoPassedVariantGTs & $\\dots$ \\\\\n",
       "\t25 & chr1 & 47138 & . & T & G & 0 & LowGQX;NoPassedVariantGTs & $\\dots$ \\\\\n",
       "\t26 & chr1 & 47461 & . & T & G & 0 & LowGQX;NoPassedVariantGTs & $\\dots$ \\\\\n",
       "\t27 & chr1 & 48324 & . & T & G & 0 & LowGQX;LowDepth;NoPassedVariantGTs & $\\dots$ \\\\\n",
       "\t28 & chr1 & 48953 & . & C & T & 0 & LowGQX;NoPassedVariantGTs & $\\dots$ \\\\\n",
       "\t29 & chr1 & 49094 & . & T & G & 0 & LowGQX;NoPassedVariantGTs & $\\dots$ \\\\\n",
       "\t30 & chr1 & 49298 & . & T & C & 258 & PASS & $\\dots$ \\\\\n",
       "\t$\\dots$ & $\\dots$ & $\\dots$ & $\\dots$ & $\\dots$ & $\\dots$ & $\\dots$ & $\\dots$ &  \\\\\n",
       "\\end{tabular}\n"
      ],
      "text/plain": [
       "5217068×10 DataFrame. Omitted printing of 4 columns\n",
       "│ Row     │ CHROM  │ POS   │ ID     │ REF    │ ALT    │ QUAL   │\n",
       "│         │ \u001b[90mString\u001b[39m │ \u001b[90mInt64\u001b[39m │ \u001b[90mString\u001b[39m │ \u001b[90mString\u001b[39m │ \u001b[90mString\u001b[39m │ \u001b[90mString\u001b[39m │\n",
       "├─────────┼────────┼───────┼────────┼────────┼────────┼────────┤\n",
       "│ 1       │ chr1   │ 10439 │ .      │ AC     │ A      │ 72     │\n",
       "│ 2       │ chr1   │ 13284 │ .      │ G      │ A      │ 60     │\n",
       "│ 3       │ chr1   │ 13868 │ .      │ A      │ G      │ 1      │\n",
       "│ 4       │ chr1   │ 15274 │ .      │ A      │ G      │ 1      │\n",
       "│ 5       │ chr1   │ 15903 │ .      │ G      │ GC     │ 209    │\n",
       "│ 6       │ chr1   │ 16683 │ .      │ T      │ G      │ 0      │\n",
       "│ 7       │ chr1   │ 16713 │ .      │ T      │ G      │ 0      │\n",
       "│ 8       │ chr1   │ 16731 │ .      │ C      │ G      │ 0      │\n",
       "│ 9       │ chr1   │ 16734 │ .      │ T      │ G      │ 4      │\n",
       "│ 10      │ chr1   │ 19322 │ .      │ C      │ T      │ 0      │\n",
       "⋮\n",
       "│ 5217058 │ chrM   │ 12308 │ .      │ A      │ G      │ 3070   │\n",
       "│ 5217059 │ chrM   │ 12372 │ .      │ G      │ A      │ 3070   │\n",
       "│ 5217060 │ chrM   │ 13617 │ .      │ T      │ C      │ 3070   │\n",
       "│ 5217061 │ chrM   │ 14766 │ .      │ C      │ T      │ 3070   │\n",
       "│ 5217062 │ chrM   │ 14793 │ .      │ A      │ G      │ 3070   │\n",
       "│ 5217063 │ chrM   │ 15218 │ .      │ A      │ G      │ 3070   │\n",
       "│ 5217064 │ chrM   │ 15326 │ .      │ A      │ G      │ 3070   │\n",
       "│ 5217065 │ chrM   │ 15924 │ .      │ A      │ G      │ 3070   │\n",
       "│ 5217066 │ chrM   │ 16256 │ .      │ C      │ T      │ 3070   │\n",
       "│ 5217067 │ chrM   │ 16270 │ .      │ C      │ T      │ 3070   │\n",
       "│ 5217068 │ chrM   │ 16399 │ .      │ A      │ G      │ 3070   │"
      ]
     },
     "execution_count": 3,
     "metadata": {},
     "output_type": "execute_result"
    }
   ],
   "source": [
    "vcf_738 = read_vcf(vcf_738_file_path)\n",
    "\n",
    "vcf_example = read_vcf(vcf_example_file_path)\n",
    "\n",
    "vcf_to_use = vcf_738"
   ]
  },
  {
   "cell_type": "markdown",
   "metadata": {},
   "source": [
    "## Tabix Regions"
   ]
  },
  {
   "cell_type": "code",
   "execution_count": null,
   "metadata": {},
   "outputs": [],
   "source": [
    "bed_file_path = joinpath(input_dir, \"cardiotoxicity.bed\")\n",
    "\n",
    "tabix_regions_from_file(\n",
    "    bed_file_path,\n",
    "    vcf_738_file_path,\n",
    "    output_dir,\n",
    ")"
   ]
  },
  {
   "cell_type": "markdown",
   "metadata": {},
   "source": [
    "## Julia DataFrame Query "
   ]
  },
  {
   "cell_type": "code",
   "execution_count": null,
   "metadata": {},
   "outputs": [],
   "source": [
    "regions = Dict([\n",
    "        (\"chr2\", 240630710),\n",
    "        (\"chr7\", 150999023),\n",
    "        (\"chr10\", 99836239),\n",
    "        (\"chr10\", 99851537),\n",
    "        (\"chr16\", 88646828),\n",
    "        (\"chr19\", 51354484),\n",
    "        (\"chr21\", 36146408),\n",
    "        ])\n",
    "\n",
    "query_regions(\n",
    "    regions, \n",
    "    vcf_to_use,\n",
    "    output_dir,\n",
    ")"
   ]
  },
  {
   "cell_type": "markdown",
   "metadata": {},
   "source": [
    "## JuliaDB"
   ]
  },
  {
   "cell_type": "code",
   "execution_count": 4,
   "metadata": {},
   "outputs": [],
   "source": [
    "using JuliaDB"
   ]
  },
  {
   "cell_type": "code",
   "execution_count": 5,
   "metadata": {},
   "outputs": [
    {
     "data": {
      "text/plain": [
       "Table with 10 rows, 2 columns:\n",
       "\u001b[1m1      \u001b[22m2\n",
       "────────────────\n",
       "false  0.837107\n",
       "false  0.694487\n",
       "false  0.880145\n",
       "true   0.16975\n",
       "true   0.150182\n",
       "true   0.337319\n",
       "true   0.0063954\n",
       "true   0.94541\n",
       "true   0.345\n",
       "true   0.939661"
      ]
     },
     "execution_count": 5,
     "metadata": {},
     "output_type": "execute_result"
    }
   ],
   "source": [
    "t = table(rand(Bool, 10), rand(10), pkey=1)"
   ]
  },
  {
   "cell_type": "code",
   "execution_count": null,
   "metadata": {},
   "outputs": [],
   "source": [
    "using DataFrames\n",
    "\n",
    "using CSV: File\n",
    "\n",
    "io = open(vcf_738_file_path)\n",
    "\n",
    "vcf = DataFrame(File(io; delim='\\t', header=false))\n",
    "\n",
    "print(vcf)\n",
    "\n",
    "close(io)"
   ]
  },
  {
   "cell_type": "code",
   "execution_count": null,
   "metadata": {},
   "outputs": [],
   "source": [
    "vcf_example = loadtable(vcf_738_file_path, skiplines_begin=\"#\")"
   ]
  }
 ],
 "metadata": {
  "kernelspec": {
   "display_name": "Julia 1.5.3",
   "language": "julia",
   "name": "julia-1.5"
  },
  "language_info": {
   "file_extension": ".jl",
   "mimetype": "application/julia",
   "name": "julia",
   "version": "1.5.3"
  }
 },
 "nbformat": 4,
 "nbformat_minor": 4
}
