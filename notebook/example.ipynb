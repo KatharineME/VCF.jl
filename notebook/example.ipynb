{
 "cells": [
  {
   "cell_type": "code",
   "execution_count": null,
   "metadata": {},
   "outputs": [],
   "source": [
    "using VCFTool"
   ]
  },
  {
   "cell_type": "markdown",
   "metadata": {},
   "source": [
    "## Read VCF"
   ]
  },
  {
   "cell_type": "code",
   "execution_count": null,
   "metadata": {},
   "outputs": [],
   "source": [
    "vcf_738 = read_vcf(\"../input/738_variants_copy.vcf.gz\")"
   ]
  },
  {
   "cell_type": "code",
   "execution_count": null,
   "metadata": {},
   "outputs": [],
   "source": [
    "vcf_example = read_vcf(\"../input/example.vcf.gz\")"
   ]
  },
  {
   "cell_type": "code",
   "execution_count": null,
   "metadata": {},
   "outputs": [],
   "source": [
    "vcf_to_use = vcf_738"
   ]
  },
  {
   "cell_type": "markdown",
   "metadata": {},
   "source": [
    "## Read BED"
   ]
  },
  {
   "cell_type": "code",
   "execution_count": 2,
   "metadata": {},
   "outputs": [
    {
     "data": {
      "text/html": [
       "<table class=\"data-frame\"><thead><tr><th></th><th>Column1</th><th>Column2</th><th>Column3</th><th>Column4</th></tr><tr><th></th><th>String</th><th>Int64</th><th>Int64</th><th>String</th></tr></thead><tbody><p>8 rows × 4 columns</p><tr><th>1</th><td>chr2</td><td>240630710</td><td>240630710</td><td>rs12468485</td></tr><tr><th>2</th><td>chr7</td><td>150999023</td><td>150999023</td><td>rs1799983</td></tr><tr><th>3</th><td>chr10</td><td>99836239</td><td>99836239</td><td>rs17222723</td></tr><tr><th>4</th><td>chr10</td><td>99851537</td><td>99851537</td><td>rs8187710</td></tr><tr><th>5</th><td>chr12</td><td>53211761</td><td>53211761</td><td>rs2229774(childhood cancer risk)</td></tr><tr><th>6</th><td>chr16</td><td>88646828</td><td>88646828</td><td>rs4673</td></tr><tr><th>7</th><td>chr19</td><td>51354484</td><td>51354484</td><td>rs79338777</td></tr><tr><th>8</th><td>chr21</td><td>36146408</td><td>36146408</td><td>rs1056892</td></tr></tbody></table>"
      ],
      "text/latex": [
       "\\begin{tabular}{r|cccc}\n",
       "\t& Column1 & Column2 & Column3 & Column4\\\\\n",
       "\t\\hline\n",
       "\t& String & Int64 & Int64 & String\\\\\n",
       "\t\\hline\n",
       "\t1 & chr2 & 240630710 & 240630710 & rs12468485 \\\\\n",
       "\t2 & chr7 & 150999023 & 150999023 & rs1799983 \\\\\n",
       "\t3 & chr10 & 99836239 & 99836239 & rs17222723 \\\\\n",
       "\t4 & chr10 & 99851537 & 99851537 & rs8187710 \\\\\n",
       "\t5 & chr12 & 53211761 & 53211761 & rs2229774(childhood cancer risk) \\\\\n",
       "\t6 & chr16 & 88646828 & 88646828 & rs4673 \\\\\n",
       "\t7 & chr19 & 51354484 & 51354484 & rs79338777 \\\\\n",
       "\t8 & chr21 & 36146408 & 36146408 & rs1056892 \\\\\n",
       "\\end{tabular}\n"
      ],
      "text/plain": [
       "\u001b[1m8×4 DataFrame\u001b[0m\n",
       "\u001b[1m Row \u001b[0m│\u001b[1m Column1 \u001b[0m\u001b[1m Column2   \u001b[0m\u001b[1m Column3   \u001b[0m\u001b[1m Column4                          \u001b[0m\n",
       "\u001b[1m     \u001b[0m│\u001b[90m String  \u001b[0m\u001b[90m Int64     \u001b[0m\u001b[90m Int64     \u001b[0m\u001b[90m String                           \u001b[0m\n",
       "─────┼─────────────────────────────────────────────────────────────────\n",
       "   1 │ chr2     240630710  240630710  rs12468485\n",
       "   2 │ chr7     150999023  150999023  rs1799983\n",
       "   3 │ chr10     99836239   99836239  rs17222723\n",
       "   4 │ chr10     99851537   99851537  rs8187710\n",
       "   5 │ chr12     53211761   53211761  rs2229774(childhood cancer risk)\n",
       "   6 │ chr16     88646828   88646828  rs4673\n",
       "   7 │ chr19     51354484   51354484  rs79338777\n",
       "   8 │ chr21     36146408   36146408  rs1056892"
      ]
     },
     "execution_count": 2,
     "metadata": {},
     "output_type": "execute_result"
    }
   ],
   "source": [
    "using DataFrames\n",
    "using CSV: File\n",
    "\n",
    "io = open(\"../input/cardiotoxicity.bed\")\n",
    "\n",
    "df = DataFrame(File(io; delim='\\t', header=false))"
   ]
  },
  {
   "cell_type": "code",
   "execution_count": null,
   "metadata": {},
   "outputs": [],
   "source": []
  },
  {
   "cell_type": "markdown",
   "metadata": {},
   "source": [
    "## Check Variants\n",
    "\n",
    "https://cardiooncologyjournal.biomedcentral.com/articles/10.1186/s40959-020-00060-0/tables/3"
   ]
  },
  {
   "cell_type": "code",
   "execution_count": null,
   "metadata": {},
   "outputs": [],
   "source": [
    "# rs1799983\n",
    "\n",
    "using Query, DataFrames\n",
    "\n",
    "x = @from i in vcf_to_use begin\n",
    "    @where i.CHROM==\"chr7\"\n",
    "    @where i.POS==150999023\n",
    "    @select {i.CHROM, i.POS, i.REF, i.ALT, i.FORMAT, i.Germ}\n",
    "    @collect DataFrame\n",
    "end\n",
    "\n",
    "println(x)"
   ]
  }
 ],
 "metadata": {
  "kernelspec": {
   "display_name": "Julia 1.5.3",
   "language": "julia",
   "name": "julia-1.5"
  },
  "language_info": {
   "file_extension": ".jl",
   "mimetype": "application/julia",
   "name": "julia",
   "version": "1.5.3"
  }
 },
 "nbformat": 4,
 "nbformat_minor": 4
}
