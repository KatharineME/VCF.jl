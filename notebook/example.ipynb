{
 "cells": [
  {
   "cell_type": "code",
   "execution_count": 1,
   "metadata": {},
   "outputs": [
    {
     "name": "stderr",
     "output_type": "stream",
     "text": [
      "┌ Info: Precompiling VCFTool [8f8d80d9-e796-45a3-8ef2-c0461a3110a4]\n",
      "└ @ Base loading.jl:1278\n"
     ]
    }
   ],
   "source": [
    "using VCFTool"
   ]
  },
  {
   "cell_type": "markdown",
   "metadata": {},
   "source": [
    "## read_vcf"
   ]
  },
  {
   "cell_type": "code",
   "execution_count": 2,
   "metadata": {},
   "outputs": [
    {
     "data": {
      "text/html": [
       "<table class=\"data-frame\"><thead><tr><th></th><th>#CHROM</th><th>POS</th><th>ID</th><th>REF</th><th>ALT</th><th>QUAL</th><th>FILTER</th><th>INFO</th></tr><tr><th></th><th>String</th><th>Int64</th><th>String</th><th>String</th><th>String</th><th>Int64</th><th>String</th><th>String</th></tr></thead><tbody><p>11 rows × 15 columns (omitted printing of 7 columns)</p><tr><th>1</th><td>1</td><td>10</td><td>1:10</td><td>A</td><td>T</td><td>100</td><td>PASS</td><td>NS=5;AC=0;AN=10;AF=0.000000</td></tr><tr><th>2</th><td>1</td><td>20</td><td>1:20</td><td>G</td><td>C</td><td>100</td><td>PASS</td><td>NS=0;AC=0;AN=0</td></tr><tr><th>3</th><td>1</td><td>30</td><td>1:30</td><td>C</td><td>A</td><td>100</td><td>PASS</td><td>NS=6;AC=0;AN=12;AF=0.000000</td></tr><tr><th>4</th><td>1</td><td>40</td><td>1:40</td><td>A</td><td>C</td><td>100</td><td>PASS</td><td>NS=6;AC=0;AN=12;AF=0.000000</td></tr><tr><th>5</th><td>1</td><td>10000</td><td>1:10000</td><td>G</td><td>C</td><td>100</td><td>PASS</td><td>NS=6;AC=0;AN=12;AF=0.000000</td></tr><tr><th>6</th><td>1</td><td>20000</td><td>1:20000</td><td>T</td><td>A</td><td>100</td><td>PASS</td><td>NS=6;AC=12;AN=12;AF=1.000000</td></tr><tr><th>7</th><td>4</td><td>5000</td><td>4:5000</td><td>A</td><td>T</td><td>100</td><td>PASS</td><td>NS=6;AC=12;AN=12;AF=1.000000</td></tr><tr><th>8</th><td>4</td><td>6000</td><td>4:6000</td><td>C</td><td>T</td><td>100</td><td>PASS</td><td>NS=6;AC=11;AN=12;AF=0.916667</td></tr><tr><th>9</th><td>X</td><td>800</td><td>X:800</td><td>A</td><td>C</td><td>100</td><td>PASS</td><td>NS=6;AC=12;AN=12;AF=1.000000</td></tr><tr><th>10</th><td>X</td><td>900</td><td>X:900</td><td>A</td><td>T</td><td>100</td><td>PASS</td><td>NS=6;AC=12;AN=12;AF=1.000000</td></tr><tr><th>11</th><td>X</td><td>1000</td><td>X:1000</td><td>T</td><td>G</td><td>100</td><td>PASS</td><td>NS=5;AC=10;AN=10;AF=1.000000</td></tr></tbody></table>"
      ],
      "text/latex": [
       "\\begin{tabular}{r|ccccccccc}\n",
       "\t& \\#CHROM & POS & ID & REF & ALT & QUAL & FILTER & INFO & \\\\\n",
       "\t\\hline\n",
       "\t& String & Int64 & String & String & String & Int64 & String & String & \\\\\n",
       "\t\\hline\n",
       "\t1 & 1 & 10 & 1:10 & A & T & 100 & PASS & NS=5;AC=0;AN=10;AF=0.000000 & $\\dots$ \\\\\n",
       "\t2 & 1 & 20 & 1:20 & G & C & 100 & PASS & NS=0;AC=0;AN=0 & $\\dots$ \\\\\n",
       "\t3 & 1 & 30 & 1:30 & C & A & 100 & PASS & NS=6;AC=0;AN=12;AF=0.000000 & $\\dots$ \\\\\n",
       "\t4 & 1 & 40 & 1:40 & A & C & 100 & PASS & NS=6;AC=0;AN=12;AF=0.000000 & $\\dots$ \\\\\n",
       "\t5 & 1 & 10000 & 1:10000 & G & C & 100 & PASS & NS=6;AC=0;AN=12;AF=0.000000 & $\\dots$ \\\\\n",
       "\t6 & 1 & 20000 & 1:20000 & T & A & 100 & PASS & NS=6;AC=12;AN=12;AF=1.000000 & $\\dots$ \\\\\n",
       "\t7 & 4 & 5000 & 4:5000 & A & T & 100 & PASS & NS=6;AC=12;AN=12;AF=1.000000 & $\\dots$ \\\\\n",
       "\t8 & 4 & 6000 & 4:6000 & C & T & 100 & PASS & NS=6;AC=11;AN=12;AF=0.916667 & $\\dots$ \\\\\n",
       "\t9 & X & 800 & X:800 & A & C & 100 & PASS & NS=6;AC=12;AN=12;AF=1.000000 & $\\dots$ \\\\\n",
       "\t10 & X & 900 & X:900 & A & T & 100 & PASS & NS=6;AC=12;AN=12;AF=1.000000 & $\\dots$ \\\\\n",
       "\t11 & X & 1000 & X:1000 & T & G & 100 & PASS & NS=5;AC=10;AN=10;AF=1.000000 & $\\dots$ \\\\\n",
       "\\end{tabular}\n"
      ],
      "text/plain": [
       "\u001b[1m11×15 DataFrame\u001b[0m\n",
       "\u001b[1m Row \u001b[0m│\u001b[1m #CHROM \u001b[0m\u001b[1m POS   \u001b[0m\u001b[1m ID      \u001b[0m\u001b[1m REF    \u001b[0m\u001b[1m ALT    \u001b[0m\u001b[1m QUAL  \u001b[0m\u001b[1m FILTER \u001b[0m\u001b[1m INFO            \u001b[0m ⋯\n",
       "\u001b[1m     \u001b[0m│\u001b[90m String \u001b[0m\u001b[90m Int64 \u001b[0m\u001b[90m String  \u001b[0m\u001b[90m String \u001b[0m\u001b[90m String \u001b[0m\u001b[90m Int64 \u001b[0m\u001b[90m String \u001b[0m\u001b[90m String          \u001b[0m ⋯\n",
       "─────┼──────────────────────────────────────────────────────────────────────────\n",
       "   1 │ 1          10  1:10     A       T         100  PASS    NS=5;AC=0;AN=10; ⋯\n",
       "   2 │ 1          20  1:20     G       C         100  PASS    NS=0;AC=0;AN=0\n",
       "   3 │ 1          30  1:30     C       A         100  PASS    NS=6;AC=0;AN=12;\n",
       "   4 │ 1          40  1:40     A       C         100  PASS    NS=6;AC=0;AN=12;\n",
       "   5 │ 1       10000  1:10000  G       C         100  PASS    NS=6;AC=0;AN=12; ⋯\n",
       "   6 │ 1       20000  1:20000  T       A         100  PASS    NS=6;AC=12;AN=12\n",
       "   7 │ 4        5000  4:5000   A       T         100  PASS    NS=6;AC=12;AN=12\n",
       "   8 │ 4        6000  4:6000   C       T         100  PASS    NS=6;AC=11;AN=12\n",
       "   9 │ X         800  X:800    A       C         100  PASS    NS=6;AC=12;AN=12 ⋯\n",
       "  10 │ X         900  X:900    A       T         100  PASS    NS=6;AC=12;AN=12\n",
       "  11 │ X        1000  X:1000   T       G         100  PASS    NS=5;AC=10;AN=10\n",
       "\u001b[31m                                                               8 columns omitted\u001b[0m"
      ]
     },
     "execution_count": 2,
     "metadata": {},
     "output_type": "execute_result"
    }
   ],
   "source": [
    "vcf_738 = read_vcf(\"../input/example.vcf.gz\")"
   ]
  },
  {
   "cell_type": "code",
   "execution_count": 13,
   "metadata": {},
   "outputs": [
    {
     "data": {
      "text/plain": [
       "11-element Array{String,1}:\n",
       " \"1\"\n",
       " \"1\"\n",
       " \"1\"\n",
       " \"1\"\n",
       " \"1\"\n",
       " \"1\"\n",
       " \"4\"\n",
       " \"4\"\n",
       " \"X\"\n",
       " \"X\"\n",
       " \"X\""
      ]
     },
     "execution_count": 13,
     "metadata": {},
     "output_type": "execute_result"
    }
   ],
   "source": [
    "using DataFrames\n",
    "\n",
    "vcf_738.\"#CHROM\""
   ]
  },
  {
   "cell_type": "code",
   "execution_count": 3,
   "metadata": {},
   "outputs": [
    {
     "ename": "LoadError",
     "evalue": "LoadError: MethodError: no method matching @from(::LineNumberNode, ::Module, ::Expr)\nClosest candidates are:\n  @from(::LineNumberNode, ::Module, ::Expr, !Matched::Expr) at /Users/kate/.julia/packages/Query/85Sw7/src/Query.jl:22\nin expression starting at /Users/kate/.julia/packages/Query/85Sw7/src/Query.jl:33",
     "output_type": "error",
     "traceback": [
      "LoadError: MethodError: no method matching @from(::LineNumberNode, ::Module, ::Expr)\nClosest candidates are:\n  @from(::LineNumberNode, ::Module, ::Expr, !Matched::Expr) at /Users/kate/.julia/packages/Query/85Sw7/src/Query.jl:22\nin expression starting at /Users/kate/.julia/packages/Query/85Sw7/src/Query.jl:33",
      "",
      "Stacktrace:",
      " [1] include_string(::Function, ::Module, ::String, ::String) at ./loading.jl:1091"
     ]
    }
   ],
   "source": [
    "using Query, DataFrames\n",
    "\n",
    "x = @from i in vcf_738 begin\n",
    "    @where i.Column2=13284\n",
    "    @collect Dict\n",
    "end\n",
    "\n",
    "println(x)"
   ]
  },
  {
   "cell_type": "markdown",
   "metadata": {},
   "source": [
    "## Understanding Query.jl"
   ]
  },
  {
   "cell_type": "code",
   "execution_count": 6,
   "metadata": {},
   "outputs": [
    {
     "data": {
      "text/html": [
       "<table class=\"data-frame\"><thead><tr><th></th><th>name</th><th>age</th><th>children</th></tr><tr><th></th><th>String</th><th>Float64</th><th>Int64</th></tr></thead><tbody><p>3 rows × 3 columns</p><tr><th>1</th><td>John</td><td>23.0</td><td>3</td></tr><tr><th>2</th><td>Sally</td><td>42.0</td><td>5</td></tr><tr><th>3</th><td>Kirk</td><td>59.0</td><td>2</td></tr></tbody></table>"
      ],
      "text/latex": [
       "\\begin{tabular}{r|ccc}\n",
       "\t& name & age & children\\\\\n",
       "\t\\hline\n",
       "\t& String & Float64 & Int64\\\\\n",
       "\t\\hline\n",
       "\t1 & John & 23.0 & 3 \\\\\n",
       "\t2 & Sally & 42.0 & 5 \\\\\n",
       "\t3 & Kirk & 59.0 & 2 \\\\\n",
       "\\end{tabular}\n"
      ],
      "text/plain": [
       "\u001b[1m3×3 DataFrame\u001b[0m\n",
       "\u001b[1m Row \u001b[0m│\u001b[1m name   \u001b[0m\u001b[1m age     \u001b[0m\u001b[1m children \u001b[0m\n",
       "\u001b[1m     \u001b[0m│\u001b[90m String \u001b[0m\u001b[90m Float64 \u001b[0m\u001b[90m Int64    \u001b[0m\n",
       "─────┼───────────────────────────\n",
       "   1 │ John       23.0         3\n",
       "   2 │ Sally      42.0         5\n",
       "   3 │ Kirk       59.0         2"
      ]
     },
     "execution_count": 6,
     "metadata": {},
     "output_type": "execute_result"
    }
   ],
   "source": [
    "df = DataFrame(name=[\"John\", \"Sally\", \"Kirk\"], age=[23., 42., 59.], children=[3,5,2])"
   ]
  },
  {
   "cell_type": "code",
   "execution_count": 8,
   "metadata": {},
   "outputs": [
    {
     "ename": "LoadError",
     "evalue": "ArgumentError: column name :column not found in the data frame",
     "output_type": "error",
     "traceback": [
      "ArgumentError: column name :column not found in the data frame",
      "",
      "Stacktrace:",
      " [1] lookupname at /Users/kate/.julia/packages/DataFrames/yqToF/src/other/index.jl:288 [inlined]",
      " [2] getindex at /Users/kate/.julia/packages/DataFrames/yqToF/src/other/index.jl:297 [inlined]",
      " [3] getindex(::DataFrame, ::typeof(!), ::Symbol) at /Users/kate/.julia/packages/DataFrames/yqToF/src/dataframe/dataframe.jl:440",
      " [4] getproperty(::DataFrame, ::Symbol) at /Users/kate/.julia/packages/DataFrames/yqToF/src/abstractdataframe/abstractdataframe.jl:348",
      " [5] top-level scope at In[8]:1",
      " [6] include_string(::Function, ::Module, ::String, ::String) at ./loading.jl:1091"
     ]
    }
   ],
   "source": [
    "df.column"
   ]
  },
  {
   "cell_type": "code",
   "execution_count": null,
   "metadata": {},
   "outputs": [],
   "source": [
    "using Query, DataFrames\n",
    "\n",
    "x = @from i in df begin\n",
    "    @where i.age>50\n",
    "    @select {i.name, i.children}\n",
    "    @collect Dict\n",
    "end\n",
    "\n",
    "println(x)"
   ]
  },
  {
   "cell_type": "code",
   "execution_count": null,
   "metadata": {},
   "outputs": [],
   "source": []
  }
 ],
 "metadata": {
  "kernelspec": {
   "display_name": "Julia 1.5.3",
   "language": "julia",
   "name": "julia-1.5"
  },
  "language_info": {
   "file_extension": ".jl",
   "mimetype": "application/julia",
   "name": "julia",
   "version": "1.5.3"
  }
 },
 "nbformat": 4,
 "nbformat_minor": 4
}
