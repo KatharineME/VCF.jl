{
 "cells": [
  {
   "cell_type": "code",
   "execution_count": 1,
   "metadata": {},
   "outputs": [],
   "source": [
    "using VCFTool"
   ]
  },
  {
   "cell_type": "code",
   "execution_count": 11,
   "metadata": {},
   "outputs": [
    {
     "data": {
      "text/plain": [
       "\"../input/example.vcf.gz\""
      ]
     },
     "execution_count": 11,
     "metadata": {},
     "output_type": "execute_result"
    }
   ],
   "source": [
    "input_dir = \"../input/\"\n",
    "\n",
    "output_dir = \"../output/\"\n",
    "\n",
    "vcf_738_file_path = joinpath(input_dir, \"738_variants.vcf.gz\")\n",
    "\n",
    "vcf_example_file_path = joinpath(input_dir, \"example.vcf.gz\")"
   ]
  },
  {
   "cell_type": "code",
   "execution_count": 6,
   "metadata": {},
   "outputs": [
    {
     "data": {
      "text/html": [
       "<table class=\"data-frame\"><thead><tr><th></th><th>CHROM</th><th>POS</th><th>ID</th><th>REF</th><th>ALT</th><th>QUAL</th><th>FILTER</th><th>INFO</th></tr><tr><th></th><th>String</th><th>Int64</th><th>String</th><th>String</th><th>String</th><th>Int64</th><th>String</th><th>String</th></tr></thead><tbody><p>11 rows × 15 columns (omitted printing of 7 columns)</p><tr><th>1</th><td>1</td><td>10</td><td>1:10</td><td>A</td><td>T</td><td>100</td><td>PASS</td><td>NS=5;AC=0;AN=10;AF=0.000000</td></tr><tr><th>2</th><td>1</td><td>20</td><td>1:20</td><td>G</td><td>C</td><td>100</td><td>PASS</td><td>NS=0;AC=0;AN=0</td></tr><tr><th>3</th><td>1</td><td>30</td><td>1:30</td><td>C</td><td>A</td><td>100</td><td>PASS</td><td>NS=6;AC=0;AN=12;AF=0.000000</td></tr><tr><th>4</th><td>1</td><td>40</td><td>1:40</td><td>A</td><td>C</td><td>100</td><td>PASS</td><td>NS=6;AC=0;AN=12;AF=0.000000</td></tr><tr><th>5</th><td>1</td><td>10000</td><td>1:10000</td><td>G</td><td>C</td><td>100</td><td>PASS</td><td>NS=6;AC=0;AN=12;AF=0.000000</td></tr><tr><th>6</th><td>1</td><td>20000</td><td>1:20000</td><td>T</td><td>A</td><td>100</td><td>PASS</td><td>NS=6;AC=12;AN=12;AF=1.000000</td></tr><tr><th>7</th><td>4</td><td>5000</td><td>4:5000</td><td>A</td><td>T</td><td>100</td><td>PASS</td><td>NS=6;AC=12;AN=12;AF=1.000000</td></tr><tr><th>8</th><td>4</td><td>6000</td><td>4:6000</td><td>C</td><td>T</td><td>100</td><td>PASS</td><td>NS=6;AC=11;AN=12;AF=0.916667</td></tr><tr><th>9</th><td>X</td><td>800</td><td>X:800</td><td>A</td><td>C</td><td>100</td><td>PASS</td><td>NS=6;AC=12;AN=12;AF=1.000000</td></tr><tr><th>10</th><td>X</td><td>900</td><td>X:900</td><td>A</td><td>T</td><td>100</td><td>PASS</td><td>NS=6;AC=12;AN=12;AF=1.000000</td></tr><tr><th>11</th><td>X</td><td>1000</td><td>X:1000</td><td>T</td><td>G</td><td>100</td><td>PASS</td><td>NS=5;AC=10;AN=10;AF=1.000000</td></tr></tbody></table>"
      ],
      "text/latex": [
       "\\begin{tabular}{r|ccccccccc}\n",
       "\t& CHROM & POS & ID & REF & ALT & QUAL & FILTER & INFO & \\\\\n",
       "\t\\hline\n",
       "\t& String & Int64 & String & String & String & Int64 & String & String & \\\\\n",
       "\t\\hline\n",
       "\t1 & 1 & 10 & 1:10 & A & T & 100 & PASS & NS=5;AC=0;AN=10;AF=0.000000 & $\\dots$ \\\\\n",
       "\t2 & 1 & 20 & 1:20 & G & C & 100 & PASS & NS=0;AC=0;AN=0 & $\\dots$ \\\\\n",
       "\t3 & 1 & 30 & 1:30 & C & A & 100 & PASS & NS=6;AC=0;AN=12;AF=0.000000 & $\\dots$ \\\\\n",
       "\t4 & 1 & 40 & 1:40 & A & C & 100 & PASS & NS=6;AC=0;AN=12;AF=0.000000 & $\\dots$ \\\\\n",
       "\t5 & 1 & 10000 & 1:10000 & G & C & 100 & PASS & NS=6;AC=0;AN=12;AF=0.000000 & $\\dots$ \\\\\n",
       "\t6 & 1 & 20000 & 1:20000 & T & A & 100 & PASS & NS=6;AC=12;AN=12;AF=1.000000 & $\\dots$ \\\\\n",
       "\t7 & 4 & 5000 & 4:5000 & A & T & 100 & PASS & NS=6;AC=12;AN=12;AF=1.000000 & $\\dots$ \\\\\n",
       "\t8 & 4 & 6000 & 4:6000 & C & T & 100 & PASS & NS=6;AC=11;AN=12;AF=0.916667 & $\\dots$ \\\\\n",
       "\t9 & X & 800 & X:800 & A & C & 100 & PASS & NS=6;AC=12;AN=12;AF=1.000000 & $\\dots$ \\\\\n",
       "\t10 & X & 900 & X:900 & A & T & 100 & PASS & NS=6;AC=12;AN=12;AF=1.000000 & $\\dots$ \\\\\n",
       "\t11 & X & 1000 & X:1000 & T & G & 100 & PASS & NS=5;AC=10;AN=10;AF=1.000000 & $\\dots$ \\\\\n",
       "\\end{tabular}\n"
      ],
      "text/plain": [
       "11×15 DataFrame. Omitted printing of 8 columns\n",
       "│ Row │ CHROM  │ POS   │ ID      │ REF    │ ALT    │ QUAL  │ FILTER │\n",
       "│     │ \u001b[90mString\u001b[39m │ \u001b[90mInt64\u001b[39m │ \u001b[90mString\u001b[39m  │ \u001b[90mString\u001b[39m │ \u001b[90mString\u001b[39m │ \u001b[90mInt64\u001b[39m │ \u001b[90mString\u001b[39m │\n",
       "├─────┼────────┼───────┼─────────┼────────┼────────┼───────┼────────┤\n",
       "│ 1   │ 1      │ 10    │ 1:10    │ A      │ T      │ 100   │ PASS   │\n",
       "│ 2   │ 1      │ 20    │ 1:20    │ G      │ C      │ 100   │ PASS   │\n",
       "│ 3   │ 1      │ 30    │ 1:30    │ C      │ A      │ 100   │ PASS   │\n",
       "│ 4   │ 1      │ 40    │ 1:40    │ A      │ C      │ 100   │ PASS   │\n",
       "│ 5   │ 1      │ 10000 │ 1:10000 │ G      │ C      │ 100   │ PASS   │\n",
       "│ 6   │ 1      │ 20000 │ 1:20000 │ T      │ A      │ 100   │ PASS   │\n",
       "│ 7   │ 4      │ 5000  │ 4:5000  │ A      │ T      │ 100   │ PASS   │\n",
       "│ 8   │ 4      │ 6000  │ 4:6000  │ C      │ T      │ 100   │ PASS   │\n",
       "│ 9   │ X      │ 800   │ X:800   │ A      │ C      │ 100   │ PASS   │\n",
       "│ 10  │ X      │ 900   │ X:900   │ A      │ T      │ 100   │ PASS   │\n",
       "│ 11  │ X      │ 1000  │ X:1000  │ T      │ G      │ 100   │ PASS   │"
      ]
     },
     "execution_count": 6,
     "metadata": {},
     "output_type": "execute_result"
    }
   ],
   "source": [
    "vcf_738 = read_vcf(vcf_738_file_path)\n",
    "\n",
    "vcf_example = read_vcf(vcf_example_file_path)\n",
    "\n",
    "vcf_to_use = vcf_example"
   ]
  },
  {
   "cell_type": "markdown",
   "metadata": {},
   "source": [
    "## Tabix Regions"
   ]
  },
  {
   "cell_type": "code",
   "execution_count": 26,
   "metadata": {},
   "outputs": [
    {
     "ename": "LoadError",
     "evalue": "UndefVarError: tabix_regions_from_file not defined",
     "output_type": "error",
     "traceback": [
      "UndefVarError: tabix_regions_from_file not defined",
      "",
      "Stacktrace:",
      " [1] top-level scope at In[26]:3",
      " [2] include_string(::Function, ::Module, ::String, ::String) at ./loading.jl:1091"
     ]
    }
   ],
   "source": [
    "bed_file_path = joinpath(input_dir, \"cardiotoxicity.bed\")\n",
    "\n",
    "tabix_regions_from_file(\n",
    "    bed_file_path,\n",
    "    vcf_738_file_path,\n",
    "    output_dir,\n",
    ")"
   ]
  },
  {
   "cell_type": "markdown",
   "metadata": {},
   "source": [
    "## Julia DataFrame Query "
   ]
  },
  {
   "cell_type": "code",
   "execution_count": 6,
   "metadata": {
    "collapsed": true,
    "jupyter": {
     "outputs_hidden": true
    }
   },
   "outputs": [
    {
     "name": "stdout",
     "output_type": "stream",
     "text": [
      "chr10\n",
      "99851537\n",
      "\n",
      "\n",
      "0×5 DataFrame\n",
      "\n",
      "chr16\n",
      "88646828\n",
      "\n",
      "\n",
      "0×5 DataFrame\n",
      "\n",
      "chr19\n",
      "51354484\n",
      "\n",
      "\n",
      "0×5 DataFrame\n",
      "\n",
      "chr7\n",
      "150999023\n",
      "\n",
      "\n",
      "0×5 DataFrame\n",
      "\n",
      "chr2\n",
      "240630710\n",
      "\n",
      "\n",
      "0×5 DataFrame\n",
      "\n",
      "chr21\n",
      "36146408\n",
      "\n",
      "\n",
      "0×5 DataFrame\n",
      "\n",
      "\n",
      "Took 2 milliseconds.\n",
      "\n"
     ]
    }
   ],
   "source": [
    "regions = Dict([\n",
    "        (\"chr2\", 240630710),\n",
    "        (\"chr7\", 150999023),\n",
    "        (\"chr10\", 99836239),\n",
    "        (\"chr10\", 99851537),\n",
    "        (\"chr16\", 88646828),\n",
    "        (\"chr19\", 51354484),\n",
    "        (\"chr21\", 36146408),\n",
    "        ])\n",
    "\n",
    "query_regions(\n",
    "    regions, \n",
    "    vcf_to_use,\n",
    "    output_dir,\n",
    ")"
   ]
  },
  {
   "cell_type": "markdown",
   "metadata": {},
   "source": [
    "## JuliaDB\n",
    "\n",
    "An unzipped VCF file can be loaded into an indextable or ndsparse array directly using loadtable() or ndsparese() respectively. However, its much faster to query variants if they are in an ndsparse array because the chromosome and position are both part of the index."
   ]
  },
  {
   "cell_type": "code",
   "execution_count": 31,
   "metadata": {},
   "outputs": [
    {
     "data": {
      "text/plain": [
       "Table with 2846 rows, 10 columns:\n",
       "Columns:\n",
       "\u001b[1m#   \u001b[22m\u001b[1mcolname  \u001b[22m\u001b[1mtype\u001b[22m\n",
       "───────────────────\n",
       "1   CHROM    String\n",
       "2   POS      Int64\n",
       "3   ID       String\n",
       "4   REF      String\n",
       "5   ALT      String\n",
       "6   QUAL     Int64\n",
       "7   FILTER   String\n",
       "8   INFO     String\n",
       "9   FORMAT   String\n",
       "10  GERM     String"
      ]
     },
     "execution_count": 31,
     "metadata": {},
     "output_type": "execute_result"
    }
   ],
   "source": [
    "using JuliaDB\n",
    "\n",
    "vcf_table = loadtable(\n",
    "    joinpath(input_dir, \"738_variants.vcf\"), \n",
    "    delim='\\t',\n",
    "    skiplines_begin=261,\n",
    "    header_exists=false,\n",
    "    colnames=[:CHROM, :POS, :ID, :REF, :ALT, :QUAL, :FILTER, :INFO, :FORMAT, :GERM],\n",
    ")"
   ]
  },
  {
   "cell_type": "code",
   "execution_count": 33,
   "metadata": {},
   "outputs": [
    {
     "name": "stdout",
     "output_type": "stream",
     "text": [
      "\n",
      "Took 40 milliseconds.\n",
      "\n"
     ]
    }
   ],
   "source": [
    "using Dates\n",
    "\n",
    "start_time = now()\n",
    "\n",
    "for item in vcf_table\n",
    "    if :POS == 10439\n",
    "        print(\"yes\")\n",
    "    end\n",
    "end\n",
    "\n",
    "# vcf_table[\"chr1\"][10439, 13284, 13868, 16731]]\n",
    "\n",
    "end_time = now()\n",
    "\n",
    "println(\"\\nTook $(canonicalize(Dates.CompoundPeriod(end_time - start_time))).\\n\")"
   ]
  },
  {
   "cell_type": "code",
   "execution_count": 34,
   "metadata": {},
   "outputs": [
    {
     "data": {
      "text/plain": [
       "2-d NDSparse with 2846 values (8 field named tuples):\n",
       "    \u001b[4mDimensions\u001b[24m\u001b[1m#  \u001b[22m\u001b[1mcolname  \u001b[22m\u001b[1mtype\u001b[22m\n",
       "──────────────────\n",
       "1  CHROM    String\n",
       "2  POS      Int64\n",
       "    \u001b[4mValues\u001b[24m\u001b[1m#   \u001b[22m\u001b[1mcolname  \u001b[22m\u001b[1mtype\u001b[22m\n",
       "───────────────────\n",
       "3   ID       String\n",
       "4   REF      String\n",
       "5   ALT      String\n",
       "6   QUAL     Int64\n",
       "7   FILTER   String\n",
       "8   INFO     String\n",
       "9   FORMAT   String\n",
       "10  GERM     String"
      ]
     },
     "execution_count": 34,
     "metadata": {},
     "output_type": "execute_result"
    }
   ],
   "source": [
    "vcf_ndsparse = loadndsparse(\n",
    "    joinpath(input_dir, \"738_variants.vcf\"),\n",
    "    delim='\\t',\n",
    "    skiplines_begin=261,\n",
    "    header_exists=false, \n",
    "    colnames=[:CHROM, :POS, :ID, :REF, :ALT, :QUAL, :FILTER, :INFO, :FORMAT, :GERM],\n",
    "    indexcols=[:CHROM, :POS]\n",
    ")"
   ]
  },
  {
   "cell_type": "code",
   "execution_count": 36,
   "metadata": {},
   "outputs": [
    {
     "name": "stdout",
     "output_type": "stream",
     "text": [
      "\n",
      "Took empty period.\n",
      "\n"
     ]
    }
   ],
   "source": [
    "using Dates\n",
    "\n",
    "start_time = now()\n",
    "\n",
    "vcf_ndsparse[\"chr1\", [28558]]\n",
    "\n",
    "end_time = now()\n",
    "\n",
    "println(\"\\nTook $(canonicalize(Dates.CompoundPeriod(end_time - start_time))).\\n\")"
   ]
  }
 ],
 "metadata": {
  "kernelspec": {
   "display_name": "Julia 1.5.3",
   "language": "julia",
   "name": "julia-1.5"
  },
  "language_info": {
   "file_extension": ".jl",
   "mimetype": "application/julia",
   "name": "julia",
   "version": "1.5.3"
  }
 },
 "nbformat": 4,
 "nbformat_minor": 4
}
