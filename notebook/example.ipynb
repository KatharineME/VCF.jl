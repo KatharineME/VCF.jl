{
 "cells": [
  {
   "cell_type": "code",
   "execution_count": 1,
   "metadata": {},
   "outputs": [],
   "source": [
    "using VCFTool"
   ]
  },
  {
   "cell_type": "markdown",
   "metadata": {},
   "source": [
    "## read_vcf"
   ]
  },
  {
   "cell_type": "code",
   "execution_count": 2,
   "metadata": {},
   "outputs": [
    {
     "data": {
      "text/html": [
       "<table class=\"data-frame\"><thead><tr><th></th><th>Column1</th><th>Column2</th><th>Column3</th><th>Column4</th><th>Column5</th><th>Column6</th><th>Column7</th><th>Column8</th></tr><tr><th></th><th>String</th><th>Int64</th><th>String</th><th>String</th><th>String</th><th>Int64</th><th>String</th><th>String</th></tr></thead><tbody><p>11 rows × 15 columns (omitted printing of 7 columns)</p><tr><th>1</th><td>1</td><td>10</td><td>1:10</td><td>A</td><td>T</td><td>100</td><td>PASS</td><td>NS=5;AC=0;AN=10;AF=0.000000</td></tr><tr><th>2</th><td>1</td><td>20</td><td>1:20</td><td>G</td><td>C</td><td>100</td><td>PASS</td><td>NS=0;AC=0;AN=0</td></tr><tr><th>3</th><td>1</td><td>30</td><td>1:30</td><td>C</td><td>A</td><td>100</td><td>PASS</td><td>NS=6;AC=0;AN=12;AF=0.000000</td></tr><tr><th>4</th><td>1</td><td>40</td><td>1:40</td><td>A</td><td>C</td><td>100</td><td>PASS</td><td>NS=6;AC=0;AN=12;AF=0.000000</td></tr><tr><th>5</th><td>1</td><td>10000</td><td>1:10000</td><td>G</td><td>C</td><td>100</td><td>PASS</td><td>NS=6;AC=0;AN=12;AF=0.000000</td></tr><tr><th>6</th><td>1</td><td>20000</td><td>1:20000</td><td>T</td><td>A</td><td>100</td><td>PASS</td><td>NS=6;AC=12;AN=12;AF=1.000000</td></tr><tr><th>7</th><td>4</td><td>5000</td><td>4:5000</td><td>A</td><td>T</td><td>100</td><td>PASS</td><td>NS=6;AC=12;AN=12;AF=1.000000</td></tr><tr><th>8</th><td>4</td><td>6000</td><td>4:6000</td><td>C</td><td>T</td><td>100</td><td>PASS</td><td>NS=6;AC=11;AN=12;AF=0.916667</td></tr><tr><th>9</th><td>X</td><td>800</td><td>X:800</td><td>A</td><td>C</td><td>100</td><td>PASS</td><td>NS=6;AC=12;AN=12;AF=1.000000</td></tr><tr><th>10</th><td>X</td><td>900</td><td>X:900</td><td>A</td><td>T</td><td>100</td><td>PASS</td><td>NS=6;AC=12;AN=12;AF=1.000000</td></tr><tr><th>11</th><td>X</td><td>1000</td><td>X:1000</td><td>T</td><td>G</td><td>100</td><td>PASS</td><td>NS=5;AC=10;AN=10;AF=1.000000</td></tr></tbody></table>"
      ],
      "text/latex": [
       "\\begin{tabular}{r|ccccccccc}\n",
       "\t& Column1 & Column2 & Column3 & Column4 & Column5 & Column6 & Column7 & Column8 & \\\\\n",
       "\t\\hline\n",
       "\t& String & Int64 & String & String & String & Int64 & String & String & \\\\\n",
       "\t\\hline\n",
       "\t1 & 1 & 10 & 1:10 & A & T & 100 & PASS & NS=5;AC=0;AN=10;AF=0.000000 & $\\dots$ \\\\\n",
       "\t2 & 1 & 20 & 1:20 & G & C & 100 & PASS & NS=0;AC=0;AN=0 & $\\dots$ \\\\\n",
       "\t3 & 1 & 30 & 1:30 & C & A & 100 & PASS & NS=6;AC=0;AN=12;AF=0.000000 & $\\dots$ \\\\\n",
       "\t4 & 1 & 40 & 1:40 & A & C & 100 & PASS & NS=6;AC=0;AN=12;AF=0.000000 & $\\dots$ \\\\\n",
       "\t5 & 1 & 10000 & 1:10000 & G & C & 100 & PASS & NS=6;AC=0;AN=12;AF=0.000000 & $\\dots$ \\\\\n",
       "\t6 & 1 & 20000 & 1:20000 & T & A & 100 & PASS & NS=6;AC=12;AN=12;AF=1.000000 & $\\dots$ \\\\\n",
       "\t7 & 4 & 5000 & 4:5000 & A & T & 100 & PASS & NS=6;AC=12;AN=12;AF=1.000000 & $\\dots$ \\\\\n",
       "\t8 & 4 & 6000 & 4:6000 & C & T & 100 & PASS & NS=6;AC=11;AN=12;AF=0.916667 & $\\dots$ \\\\\n",
       "\t9 & X & 800 & X:800 & A & C & 100 & PASS & NS=6;AC=12;AN=12;AF=1.000000 & $\\dots$ \\\\\n",
       "\t10 & X & 900 & X:900 & A & T & 100 & PASS & NS=6;AC=12;AN=12;AF=1.000000 & $\\dots$ \\\\\n",
       "\t11 & X & 1000 & X:1000 & T & G & 100 & PASS & NS=5;AC=10;AN=10;AF=1.000000 & $\\dots$ \\\\\n",
       "\\end{tabular}\n"
      ],
      "text/plain": [
       "\u001b[1m11×15 DataFrame\u001b[0m\n",
       "\u001b[1m Row \u001b[0m│\u001b[1m Column1 \u001b[0m\u001b[1m Column2 \u001b[0m\u001b[1m Column3 \u001b[0m\u001b[1m Column4 \u001b[0m\u001b[1m Column5 \u001b[0m\u001b[1m Column6 \u001b[0m\u001b[1m Column7 \u001b[0m\u001b[1m Column8 \u001b[0m ⋯\n",
       "\u001b[1m     \u001b[0m│\u001b[90m String  \u001b[0m\u001b[90m Int64   \u001b[0m\u001b[90m String  \u001b[0m\u001b[90m String  \u001b[0m\u001b[90m String  \u001b[0m\u001b[90m Int64   \u001b[0m\u001b[90m String  \u001b[0m\u001b[90m String  \u001b[0m ⋯\n",
       "─────┼──────────────────────────────────────────────────────────────────────────\n",
       "   1 │ 1             10  1:10     A        T            100  PASS     NS=5;AC= ⋯\n",
       "   2 │ 1             20  1:20     G        C            100  PASS     NS=0;AC=\n",
       "   3 │ 1             30  1:30     C        A            100  PASS     NS=6;AC=\n",
       "   4 │ 1             40  1:40     A        C            100  PASS     NS=6;AC=\n",
       "   5 │ 1          10000  1:10000  G        C            100  PASS     NS=6;AC= ⋯\n",
       "   6 │ 1          20000  1:20000  T        A            100  PASS     NS=6;AC=\n",
       "   7 │ 4           5000  4:5000   A        T            100  PASS     NS=6;AC=\n",
       "   8 │ 4           6000  4:6000   C        T            100  PASS     NS=6;AC=\n",
       "   9 │ X            800  X:800    A        C            100  PASS     NS=6;AC= ⋯\n",
       "  10 │ X            900  X:900    A        T            100  PASS     NS=6;AC=\n",
       "  11 │ X           1000  X:1000   T        G            100  PASS     NS=5;AC=\n",
       "\u001b[31m                                                               8 columns omitted\u001b[0m"
      ]
     },
     "execution_count": 2,
     "metadata": {},
     "output_type": "execute_result"
    }
   ],
   "source": [
    "read_vcf(\"../input/738_variants.vcf.gz\")"
   ]
  }
 ],
 "metadata": {
  "kernelspec": {
   "display_name": "Julia 1.5.3",
   "language": "julia",
   "name": "julia-1.5"
  },
  "language_info": {
   "file_extension": ".jl",
   "mimetype": "application/julia",
   "name": "julia",
   "version": "1.5.3"
  }
 },
 "nbformat": 4,
 "nbformat_minor": 4
}
