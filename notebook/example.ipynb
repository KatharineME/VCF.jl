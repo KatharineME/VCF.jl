{
 "cells": [
  {
   "cell_type": "code",
   "execution_count": 1,
   "metadata": {},
   "outputs": [],
   "source": [
    "using VCFTool"
   ]
  },
  {
   "cell_type": "code",
   "execution_count": 2,
   "metadata": {},
   "outputs": [
    {
     "data": {
      "text/plain": [
       "\"../input/example.vcf.gz\""
      ]
     },
     "execution_count": 2,
     "metadata": {},
     "output_type": "execute_result"
    }
   ],
   "source": [
    "input_dir = \"../input/\"\n",
    "\n",
    "output_dir = \"../output/\"\n",
    "\n",
    "vcf_738_file_path = joinpath(input_dir, \"738_variants.vcf.gz\")\n",
    "\n",
    "vcf_example_file_path = joinpath(input_dir, \"example.vcf.gz\")"
   ]
  },
  {
   "cell_type": "code",
   "execution_count": 3,
   "metadata": {
    "collapsed": true,
    "jupyter": {
     "outputs_hidden": true
    }
   },
   "outputs": [
    {
     "data": {
      "text/html": [
       "<table class=\"data-frame\"><thead><tr><th></th><th>CHROM</th><th>POS</th><th>ID</th><th>REF</th><th>ALT</th><th>QUAL</th><th>FILTER</th></tr><tr><th></th><th>String</th><th>Int64</th><th>String</th><th>String</th><th>String</th><th>String</th><th>String</th></tr></thead><tbody><p>5,217,068 rows × 10 columns (omitted printing of 3 columns)</p><tr><th>1</th><td>chr1</td><td>10439</td><td>.</td><td>AC</td><td>A</td><td>72</td><td>PASS</td></tr><tr><th>2</th><td>chr1</td><td>13284</td><td>.</td><td>G</td><td>A</td><td>60</td><td>LowGQX;NoPassedVariantGTs</td></tr><tr><th>3</th><td>chr1</td><td>13868</td><td>.</td><td>A</td><td>G</td><td>1</td><td>LowGQX;LowDepth;NoPassedVariantGTs</td></tr><tr><th>4</th><td>chr1</td><td>15274</td><td>.</td><td>A</td><td>G</td><td>1</td><td>LowGQX;LowDepth;NoPassedVariantGTs</td></tr><tr><th>5</th><td>chr1</td><td>15903</td><td>.</td><td>G</td><td>GC</td><td>209</td><td>PASS</td></tr><tr><th>6</th><td>chr1</td><td>16683</td><td>.</td><td>T</td><td>G</td><td>0</td><td>LowGQX;NoPassedVariantGTs</td></tr><tr><th>7</th><td>chr1</td><td>16713</td><td>.</td><td>T</td><td>G</td><td>0</td><td>LowGQX;LowDepth;NoPassedVariantGTs</td></tr><tr><th>8</th><td>chr1</td><td>16731</td><td>.</td><td>C</td><td>G</td><td>0</td><td>LowGQX;NoPassedVariantGTs</td></tr><tr><th>9</th><td>chr1</td><td>16734</td><td>.</td><td>T</td><td>G</td><td>4</td><td>LowGQX;NoPassedVariantGTs</td></tr><tr><th>10</th><td>chr1</td><td>19322</td><td>.</td><td>C</td><td>T</td><td>0</td><td>LowGQX;NoPassedVariantGTs</td></tr><tr><th>11</th><td>chr1</td><td>19795</td><td>.</td><td>T</td><td>C</td><td>14</td><td>LowGQX;NoPassedVariantGTs</td></tr><tr><th>12</th><td>chr1</td><td>28494</td><td>.</td><td>T</td><td>C</td><td>1</td><td>LowGQX;LowDepth;NoPassedVariantGTs</td></tr><tr><th>13</th><td>chr1</td><td>28511</td><td>.</td><td>G</td><td>A</td><td>1</td><td>LowGQX;LowDepth;NoPassedVariantGTs</td></tr><tr><th>14</th><td>chr1</td><td>28558</td><td>.</td><td>C</td><td>T</td><td>1</td><td>LowGQX;LowDepth;NoPassedVariantGTs</td></tr><tr><th>15</th><td>chr1</td><td>28563</td><td>.</td><td>A</td><td>G</td><td>1</td><td>LowGQX;LowDepth;NoPassedVariantGTs</td></tr><tr><th>16</th><td>chr1</td><td>31029</td><td>.</td><td>G</td><td>A</td><td>1</td><td>LowGQX;LowDepth;NoPassedVariantGTs</td></tr><tr><th>17</th><td>chr1</td><td>38928</td><td>.</td><td>A</td><td>T</td><td>0</td><td>LowGQX;LowDepth;NoPassedVariantGTs</td></tr><tr><th>18</th><td>chr1</td><td>39015</td><td>.</td><td>A</td><td>C</td><td>0</td><td>LowGQX;NoPassedVariantGTs</td></tr><tr><th>19</th><td>chr1</td><td>39255</td><td>.</td><td>A</td><td>C</td><td>156</td><td>LowGQX;NoPassedVariantGTs</td></tr><tr><th>20</th><td>chr1</td><td>39261</td><td>.</td><td>T</td><td>C</td><td>217</td><td>LowGQX;NoPassedVariantGTs</td></tr><tr><th>21</th><td>chr1</td><td>39292</td><td>.</td><td>G</td><td>T</td><td>0</td><td>LowGQX;NoPassedVariantGTs</td></tr><tr><th>22</th><td>chr1</td><td>39430</td><td>.</td><td>A</td><td>C</td><td>0</td><td>LowGQX;NoPassedVariantGTs</td></tr><tr><th>23</th><td>chr1</td><td>39487</td><td>.</td><td>A</td><td>C</td><td>0</td><td>LowGQX;NoPassedVariantGTs</td></tr><tr><th>24</th><td>chr1</td><td>39578</td><td>.</td><td>C</td><td>T</td><td>25</td><td>LowGQX;NoPassedVariantGTs</td></tr><tr><th>25</th><td>chr1</td><td>47138</td><td>.</td><td>T</td><td>G</td><td>0</td><td>LowGQX;NoPassedVariantGTs</td></tr><tr><th>26</th><td>chr1</td><td>47461</td><td>.</td><td>T</td><td>G</td><td>0</td><td>LowGQX;NoPassedVariantGTs</td></tr><tr><th>27</th><td>chr1</td><td>48324</td><td>.</td><td>T</td><td>G</td><td>0</td><td>LowGQX;LowDepth;NoPassedVariantGTs</td></tr><tr><th>28</th><td>chr1</td><td>48953</td><td>.</td><td>C</td><td>T</td><td>0</td><td>LowGQX;NoPassedVariantGTs</td></tr><tr><th>29</th><td>chr1</td><td>49094</td><td>.</td><td>T</td><td>G</td><td>0</td><td>LowGQX;NoPassedVariantGTs</td></tr><tr><th>30</th><td>chr1</td><td>49298</td><td>.</td><td>T</td><td>C</td><td>258</td><td>PASS</td></tr><tr><th>&vellip;</th><td>&vellip;</td><td>&vellip;</td><td>&vellip;</td><td>&vellip;</td><td>&vellip;</td><td>&vellip;</td><td>&vellip;</td></tr></tbody></table>"
      ],
      "text/latex": [
       "\\begin{tabular}{r|cccccccc}\n",
       "\t& CHROM & POS & ID & REF & ALT & QUAL & FILTER & \\\\\n",
       "\t\\hline\n",
       "\t& String & Int64 & String & String & String & String & String & \\\\\n",
       "\t\\hline\n",
       "\t1 & chr1 & 10439 & . & AC & A & 72 & PASS & $\\dots$ \\\\\n",
       "\t2 & chr1 & 13284 & . & G & A & 60 & LowGQX;NoPassedVariantGTs & $\\dots$ \\\\\n",
       "\t3 & chr1 & 13868 & . & A & G & 1 & LowGQX;LowDepth;NoPassedVariantGTs & $\\dots$ \\\\\n",
       "\t4 & chr1 & 15274 & . & A & G & 1 & LowGQX;LowDepth;NoPassedVariantGTs & $\\dots$ \\\\\n",
       "\t5 & chr1 & 15903 & . & G & GC & 209 & PASS & $\\dots$ \\\\\n",
       "\t6 & chr1 & 16683 & . & T & G & 0 & LowGQX;NoPassedVariantGTs & $\\dots$ \\\\\n",
       "\t7 & chr1 & 16713 & . & T & G & 0 & LowGQX;LowDepth;NoPassedVariantGTs & $\\dots$ \\\\\n",
       "\t8 & chr1 & 16731 & . & C & G & 0 & LowGQX;NoPassedVariantGTs & $\\dots$ \\\\\n",
       "\t9 & chr1 & 16734 & . & T & G & 4 & LowGQX;NoPassedVariantGTs & $\\dots$ \\\\\n",
       "\t10 & chr1 & 19322 & . & C & T & 0 & LowGQX;NoPassedVariantGTs & $\\dots$ \\\\\n",
       "\t11 & chr1 & 19795 & . & T & C & 14 & LowGQX;NoPassedVariantGTs & $\\dots$ \\\\\n",
       "\t12 & chr1 & 28494 & . & T & C & 1 & LowGQX;LowDepth;NoPassedVariantGTs & $\\dots$ \\\\\n",
       "\t13 & chr1 & 28511 & . & G & A & 1 & LowGQX;LowDepth;NoPassedVariantGTs & $\\dots$ \\\\\n",
       "\t14 & chr1 & 28558 & . & C & T & 1 & LowGQX;LowDepth;NoPassedVariantGTs & $\\dots$ \\\\\n",
       "\t15 & chr1 & 28563 & . & A & G & 1 & LowGQX;LowDepth;NoPassedVariantGTs & $\\dots$ \\\\\n",
       "\t16 & chr1 & 31029 & . & G & A & 1 & LowGQX;LowDepth;NoPassedVariantGTs & $\\dots$ \\\\\n",
       "\t17 & chr1 & 38928 & . & A & T & 0 & LowGQX;LowDepth;NoPassedVariantGTs & $\\dots$ \\\\\n",
       "\t18 & chr1 & 39015 & . & A & C & 0 & LowGQX;NoPassedVariantGTs & $\\dots$ \\\\\n",
       "\t19 & chr1 & 39255 & . & A & C & 156 & LowGQX;NoPassedVariantGTs & $\\dots$ \\\\\n",
       "\t20 & chr1 & 39261 & . & T & C & 217 & LowGQX;NoPassedVariantGTs & $\\dots$ \\\\\n",
       "\t21 & chr1 & 39292 & . & G & T & 0 & LowGQX;NoPassedVariantGTs & $\\dots$ \\\\\n",
       "\t22 & chr1 & 39430 & . & A & C & 0 & LowGQX;NoPassedVariantGTs & $\\dots$ \\\\\n",
       "\t23 & chr1 & 39487 & . & A & C & 0 & LowGQX;NoPassedVariantGTs & $\\dots$ \\\\\n",
       "\t24 & chr1 & 39578 & . & C & T & 25 & LowGQX;NoPassedVariantGTs & $\\dots$ \\\\\n",
       "\t25 & chr1 & 47138 & . & T & G & 0 & LowGQX;NoPassedVariantGTs & $\\dots$ \\\\\n",
       "\t26 & chr1 & 47461 & . & T & G & 0 & LowGQX;NoPassedVariantGTs & $\\dots$ \\\\\n",
       "\t27 & chr1 & 48324 & . & T & G & 0 & LowGQX;LowDepth;NoPassedVariantGTs & $\\dots$ \\\\\n",
       "\t28 & chr1 & 48953 & . & C & T & 0 & LowGQX;NoPassedVariantGTs & $\\dots$ \\\\\n",
       "\t29 & chr1 & 49094 & . & T & G & 0 & LowGQX;NoPassedVariantGTs & $\\dots$ \\\\\n",
       "\t30 & chr1 & 49298 & . & T & C & 258 & PASS & $\\dots$ \\\\\n",
       "\t$\\dots$ & $\\dots$ & $\\dots$ & $\\dots$ & $\\dots$ & $\\dots$ & $\\dots$ & $\\dots$ &  \\\\\n",
       "\\end{tabular}\n"
      ],
      "text/plain": [
       "\u001b[1m5217068×10 DataFrame\u001b[0m\n",
       "\u001b[1m     Row \u001b[0m│\u001b[1m CHROM  \u001b[0m\u001b[1m POS   \u001b[0m\u001b[1m ID     \u001b[0m\u001b[1m REF    \u001b[0m\u001b[1m ALT    \u001b[0m\u001b[1m QUAL   \u001b[0m\u001b[1m FILTER              \u001b[0m ⋯\n",
       "\u001b[1m         \u001b[0m│\u001b[90m String \u001b[0m\u001b[90m Int64 \u001b[0m\u001b[90m String \u001b[0m\u001b[90m String \u001b[0m\u001b[90m String \u001b[0m\u001b[90m String \u001b[0m\u001b[90m String              \u001b[0m ⋯\n",
       "─────────┼──────────────────────────────────────────────────────────────────────\n",
       "       1 │ chr1    10439  .       AC      A       72      PASS                 ⋯\n",
       "       2 │ chr1    13284  .       G       A       60      LowGQX;NoPassedVaria\n",
       "       3 │ chr1    13868  .       A       G       1       LowGQX;LowDepth;NoPa\n",
       "       4 │ chr1    15274  .       A       G       1       LowGQX;LowDepth;NoPa\n",
       "       5 │ chr1    15903  .       G       GC      209     PASS                 ⋯\n",
       "       6 │ chr1    16683  .       T       G       0       LowGQX;NoPassedVaria\n",
       "       7 │ chr1    16713  .       T       G       0       LowGQX;LowDepth;NoPa\n",
       "       8 │ chr1    16731  .       C       G       0       LowGQX;NoPassedVaria\n",
       "       9 │ chr1    16734  .       T       G       4       LowGQX;NoPassedVaria ⋯\n",
       "      10 │ chr1    19322  .       C       T       0       LowGQX;NoPassedVaria\n",
       "      11 │ chr1    19795  .       T       C       14      LowGQX;NoPassedVaria\n",
       "    ⋮    │   ⋮       ⋮      ⋮       ⋮       ⋮       ⋮                     ⋮    ⋱\n",
       " 5217059 │ chrM    12372  .       G       A       3070    PASS\n",
       " 5217060 │ chrM    13617  .       T       C       3070    PASS                 ⋯\n",
       " 5217061 │ chrM    14766  .       C       T       3070    PASS\n",
       " 5217062 │ chrM    14793  .       A       G       3070    PASS\n",
       " 5217063 │ chrM    15218  .       A       G       3070    PASS\n",
       " 5217064 │ chrM    15326  .       A       G       3070    PASS                 ⋯\n",
       " 5217065 │ chrM    15924  .       A       G       3070    PASS\n",
       " 5217066 │ chrM    16256  .       C       T       3070    PASS\n",
       " 5217067 │ chrM    16270  .       C       T       3070    PASS\n",
       " 5217068 │ chrM    16399  .       A       G       3070    PASS                 ⋯\n",
       "\u001b[31m                                              4 columns and 5217047 rows omitted\u001b[0m"
      ]
     },
     "execution_count": 3,
     "metadata": {},
     "output_type": "execute_result"
    }
   ],
   "source": [
    "vcf_738 = read_vcf(vcf_738_file_path)\n",
    "\n",
    "vcf_example = read_vcf(vcf_example_file_path)\n",
    "\n",
    "vcf_to_use = vcf_738"
   ]
  },
  {
   "cell_type": "code",
   "execution_count": 4,
   "metadata": {},
   "outputs": [
    {
     "data": {
      "text/plain": [
       "\"../input/cardiotoxicity.bed\""
      ]
     },
     "execution_count": 4,
     "metadata": {},
     "output_type": "execute_result"
    }
   ],
   "source": [
    "bed_file_path = joinpath(input_dir, \"cardiotoxicity.bed\")"
   ]
  },
  {
   "cell_type": "markdown",
   "metadata": {},
   "source": [
    "## Check BED"
   ]
  },
  {
   "cell_type": "code",
   "execution_count": 5,
   "metadata": {},
   "outputs": [
    {
     "name": "stdout",
     "output_type": "stream",
     "text": [
      "\u001b[1m8×4 DataFrame\u001b[0m\n",
      "\u001b[1m Row \u001b[0m│\u001b[1m Column1 \u001b[0m\u001b[1m Column2   \u001b[0m\u001b[1m Column3   \u001b[0m\u001b[1m Column4                          \u001b[0m\n",
      "\u001b[1m     \u001b[0m│\u001b[90m String  \u001b[0m\u001b[90m Int64     \u001b[0m\u001b[90m Int64     \u001b[0m\u001b[90m String                           \u001b[0m\n",
      "─────┼─────────────────────────────────────────────────────────────────\n",
      "   1 │ chr2     240630710  240630710  rs12468485\n",
      "   2 │ chr7     150999023  150999023  rs1799983\n",
      "   3 │ chr10     99836239   99836239  rs17222723\n",
      "   4 │ chr10     99851537   99851537  rs8187710\n",
      "   5 │ chr12     53211761   53211761  rs2229774(childhood cancer risk)\n",
      "   6 │ chr16     88646828   88646828  rs4673\n",
      "   7 │ chr19     51354484   51354484  rs79338777\n",
      "   8 │ chr21     36146408   36146408  rs1056892\n"
     ]
    }
   ],
   "source": [
    "using DataFrames\n",
    "\n",
    "using CSV: File\n",
    "\n",
    "bed_io = open(\"../input/cardiotoxicity.bed\")\n",
    "\n",
    "bed = DataFrame(File(bed_io; delim='\\t', header=false))\n",
    "\n",
    "println(bed)\n",
    "\n",
    "close(bed_io)"
   ]
  },
  {
   "cell_type": "markdown",
   "metadata": {},
   "source": [
    "## Tabix Regions"
   ]
  },
  {
   "cell_type": "code",
   "execution_count": 7,
   "metadata": {},
   "outputs": [
    {
     "ename": "LoadError",
     "evalue": "MethodError: no method matching print_and_run_cmd(::Cmd, ::String)\nClosest candidates are:\n  print_and_run_cmd(::Base.AbstractCmd) at /Users/kate/github/VCFTool.jl/src/print_and_run_cmd.jl:1",
     "output_type": "error",
     "traceback": [
      "MethodError: no method matching print_and_run_cmd(::Cmd, ::String)\nClosest candidates are:\n  print_and_run_cmd(::Base.AbstractCmd) at /Users/kate/github/VCFTool.jl/src/print_and_run_cmd.jl:1",
      "",
      "Stacktrace:",
      " [1] tabix_regions_from_file(::String, ::String, ::String) at ./In[6]:15",
      " [2] top-level scope at In[7]:1",
      " [3] include_string(::Function, ::Module, ::String, ::String) at ./loading.jl:1091"
     ]
    }
   ],
   "source": [
    "tabix_regions_from_file(\n",
    "    bed_file_path,\n",
    "    vcf_738_file_path,\n",
    "    output_dir,\n",
    ")"
   ]
  },
  {
   "cell_type": "markdown",
   "metadata": {},
   "source": [
    "## Check Variants\n",
    "\n",
    "https://cardiooncologyjournal.biomedcentral.com/articles/10.1186/s40959-020-00060-0/tables/3"
   ]
  },
  {
   "cell_type": "code",
   "execution_count": null,
   "metadata": {},
   "outputs": [],
   "source": [
    "# rs1799983\n",
    "\n",
    "using Query, DataFrames\n",
    "\n",
    "x = @from i in vcf_to_use begin\n",
    "    @where i.CHROM==\"chr7\"\n",
    "    @where i.POS==150999023\n",
    "    @select {i.CHROM, i.POS, i.REF, i.ALT, i.FORMAT, i.Germ}\n",
    "    @collect DataFrame\n",
    "end\n",
    "\n",
    "println(x)"
   ]
  }
 ],
 "metadata": {
  "kernelspec": {
   "display_name": "Julia 1.5.3",
   "language": "julia",
   "name": "julia-1.5"
  },
  "language_info": {
   "file_extension": ".jl",
   "mimetype": "application/julia",
   "name": "julia",
   "version": "1.5.3"
  }
 },
 "nbformat": 4,
 "nbformat_minor": 4
}
