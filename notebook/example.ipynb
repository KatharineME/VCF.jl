{
 "cells": [
  {
   "cell_type": "markdown",
   "metadata": {},
   "source": [
    "## TO DO\n",
    "\n",
    "3. check reference chromosome\n",
    "\n",
    "4. pull data from gene and variant databases (prefereably already hosted online)"
   ]
  },
  {
   "cell_type": "code",
   "execution_count": 1,
   "metadata": {},
   "outputs": [
    {
     "name": "stderr",
     "output_type": "stream",
     "text": [
      "┌ Info: Precompiling VCFTool [8f8d80d9-e796-45a3-8ef2-c0461a3110a4]\n",
      "└ @ Base loading.jl:1278\n",
      "WARNING: using IndexedTables.rename in module VCFTool conflicts with an existing identifier.\n"
     ]
    }
   ],
   "source": [
    "using JuliaDB\n",
    "using IndexedTables\n",
    "using Dagger\n",
    "using VCFTool\n",
    "\n",
    "# For viewing DataFrames\n",
    "\n",
    "ENV[\"COLUMNS\"]=100\n",
    "\n",
    "ENV[\"LINES\"]=200\n",
    "\n",
    "# For viewing JuliaDB tables and arrays\n",
    "\n",
    "IndexedTables.set_show_compact!(false);"
   ]
  },
  {
   "cell_type": "code",
   "execution_count": 2,
   "metadata": {},
   "outputs": [],
   "source": [
    "input_dir = \"../input/\"\n",
    "\n",
    "output_dir = \"../output/\"\n",
    "\n",
    "vcf_738_file_path = joinpath(input_dir, \"738_variants.vcf.gz\")\n",
    "\n",
    "vcf_738_1000_file_path = joinpath(input_dir, \"738_variants_1000.vcf.gz\")\n",
    "\n",
    "vcf_738_1000_dagger_file_path = joinpath(input_dir, \"738_variants_1000.vcf.dagger\")\n",
    "\n",
    "vcf_769_3_file_path = joinpath(input_dir, \"769_3_variants.vcf.gz\")\n",
    "\n",
    "vcf_test_file_path = joinpath(input_dir, \"test.vcf.gz\")\n",
    "\n",
    "vcf_file_path_to_use = vcf_738_1000_file_path;"
   ]
  },
  {
   "cell_type": "code",
   "execution_count": null,
   "metadata": {},
   "outputs": [],
   "source": [
    "# https://www.snpedia.com/index.php/Rs1042522\n",
    "rs1042522 = [\"chr17\", 7676154]\n",
    "\n",
    "# TP53\n",
    "tp53 = [\"chr17\", 7661779:7687550]"
   ]
  },
  {
   "cell_type": "markdown",
   "metadata": {},
   "source": [
    "## Tabix Regions"
   ]
  },
  {
   "cell_type": "code",
   "execution_count": null,
   "metadata": {},
   "outputs": [],
   "source": [
    "# bed_file_path = joinpath(input_dir, \"cardiotoxicity.bed\")\n",
    "\n",
    "# tabix_regions_from_file(\n",
    "#     bed_file_path,\n",
    "#     vcf_738_file_path,\n",
    "#     output_dir,\n",
    "# )"
   ]
  },
  {
   "cell_type": "code",
   "execution_count": 23,
   "metadata": {},
   "outputs": [
    {
     "data": {
      "text/plain": [
       "search_region_with_tabix (generic function with 1 method)"
      ]
     },
     "execution_count": 23,
     "metadata": {},
     "output_type": "execute_result"
    }
   ],
   "source": [
    "function search_region_with_tabix(vcf_gz_file_path, chromosome, start_position, end_position)\n",
    "    \n",
    "    out = Pipe()\n",
    "\n",
    "    err = Pipe()\n",
    "    \n",
    "    process = run(pipeline(ignorestatus(`tabix $vcf_gz_file_path $chromosome:$start_position-$end_position`), stdout=out, stderr=err))\n",
    "    \n",
    "    close(out.in)\n",
    "    \n",
    "    close(err.in)\n",
    "    \n",
    "    (\n",
    "        stdout = String(read(out)),\n",
    "        \n",
    "        stderr = String(read(err)),\n",
    "        \n",
    "        exitcode = process.exitcode\n",
    "    \n",
    "    )\n",
    "    \n",
    "end"
   ]
  },
  {
   "cell_type": "code",
   "execution_count": 25,
   "metadata": {},
   "outputs": [
    {
     "data": {
      "text/plain": [
       "(stdout = \"chr1\\t10439\\t.\\tAC\\tA\\t72\\tPASS\\tCIGAR=1M1D;RU=C;REFREP=4;IDREP=3;MQ=9\\tGT:GQ:GQX:DPI:AD:ADF:ADR:FT:PL\\t0/1:31:5:7:2,5:0,1:2,4:PASS:108,0,28\\n\", stderr = \"\", exitcode = 0)"
      ]
     },
     "execution_count": 25,
     "metadata": {},
     "output_type": "execute_result"
    }
   ],
   "source": [
    "result = search_region_with_tabix(vcf_file_path_to_use, \"chr1\", 1200, 12000)"
   ]
  },
  {
   "cell_type": "code",
   "execution_count": 17,
   "metadata": {},
   "outputs": [
    {
     "data": {
      "text/plain": [
       "(stdout = \"example.ipynb\\nspeed_test.ipynb\\n\", stderr = \"\", code = 0)"
      ]
     },
     "execution_count": 17,
     "metadata": {},
     "output_type": "execute_result"
    }
   ],
   "source": [
    "# Run a Cmd object, returning the stdout & stderr contents plus the exit code\"\n",
    "\n",
    "function execute(cmd::Cmd)\n",
    "    \n",
    "    out = Pipe()\n",
    "    \n",
    "    err = Pipe()\n",
    "    \n",
    "    process = run(pipeline(ignorestatus(cmd), stdout=out, stderr=err))\n",
    " \n",
    "    close(out.in)\n",
    "  \n",
    "    close(err.in)\n",
    "\n",
    "  (\n",
    "  \n",
    "    stdout = String(read(out)), \n",
    "        \n",
    "    stderr = String(read(err)),  \n",
    "        \n",
    "    code = process.exitcode\n",
    "        \n",
    "  )\n",
    "    \n",
    "end\n",
    "\n",
    "x = execute(`ls`)"
   ]
  },
  {
   "cell_type": "code",
   "execution_count": 11,
   "metadata": {},
   "outputs": [
    {
     "name": "stdout",
     "output_type": "stream",
     "text": [
      "chr1\t10439\t.\tAC\tA\t72\tPASS\tCIGAR=1M1D;RU=C;REFREP=4;IDREP=3;MQ=9\tGT:GQ:GQX:DPI:AD:ADF:ADR:FT:PL\t0/1:31:5:7:2,5:0,1:2,4:PASS:108,0,28\n"
     ]
    },
    {
     "data": {
      "text/plain": [
       "Process(`\u001b[4mtabix\u001b[24m \u001b[4m../input/738_variants_1000.vcf.gz\u001b[24m \u001b[4mchr1:1200-12000\u001b[24m`, ProcessExited(0))"
      ]
     },
     "execution_count": 11,
     "metadata": {},
     "output_type": "execute_result"
    }
   ],
   "source": [
    "search_region_with_tabix(vcf_file_path_to_use, \"chr1\", 1200, 12000)"
   ]
  },
  {
   "cell_type": "markdown",
   "metadata": {},
   "source": [
    "## Develop faidx"
   ]
  },
  {
   "cell_type": "code",
   "execution_count": 9,
   "metadata": {},
   "outputs": [],
   "source": [
    "benchmark_chrom = \"chr1\"\n",
    "\n",
    "benchmark_chrom_int = 1\n",
    "\n",
    "benchmark_variant = 13868\n",
    "\n",
    "benchmark_region_start = 10000\n",
    "\n",
    "benchmark_region_end = 900000;\n",
    "\n",
    "benchmark_variant_2 = 19322\n",
    "\n",
    "benchmark_region_2_start = 500000\n",
    "\n",
    "benchmark_region_2_end = 800000;"
   ]
  },
  {
   "cell_type": "code",
   "execution_count": null,
   "metadata": {},
   "outputs": [],
   "source": [
    ";samtools faidx ../input/reference/GCA_000001405.15_GRCh38_no_alt_analysis_set.fna chr1:12000-12200"
   ]
  },
  {
   "cell_type": "markdown",
   "metadata": {},
   "source": [
    "## Search for region of VCF using Julia DB"
   ]
  },
  {
   "cell_type": "code",
   "execution_count": null,
   "metadata": {},
   "outputs": [],
   "source": [
    "vcf_table = make_vcf_indexedtable(vcf_file_path_to_use);"
   ]
  },
  {
   "cell_type": "code",
   "execution_count": null,
   "metadata": {},
   "outputs": [],
   "source": [
    "search_region(vcf_738_1000_dagger_file_path, \"chr1\", 13867, 13869)"
   ]
  },
  {
   "cell_type": "code",
   "execution_count": null,
   "metadata": {},
   "outputs": [],
   "source": [
    "search_region(vcf_738_1000_dagger_file_path, \"chr1\", 12000, 16000)"
   ]
  }
 ],
 "metadata": {
  "kernelspec": {
   "display_name": "Julia 1.5.3",
   "language": "julia",
   "name": "julia-1.5"
  },
  "language_info": {
   "file_extension": ".jl",
   "mimetype": "application/julia",
   "name": "julia",
   "version": "1.5.3"
  }
 },
 "nbformat": 4,
 "nbformat_minor": 4
}
