{
 "cells": [
  {
   "cell_type": "code",
   "execution_count": null,
   "metadata": {},
   "outputs": [],
   "source": [
    "using VCFTool"
   ]
  },
  {
   "cell_type": "markdown",
   "metadata": {},
   "source": [
    "## Read VCF"
   ]
  },
  {
   "cell_type": "code",
   "execution_count": null,
   "metadata": {},
   "outputs": [],
   "source": [
    "vcf_738 = read_vcf(\"../input/738_variants_copy.vcf.gz\")"
   ]
  },
  {
   "cell_type": "code",
   "execution_count": null,
   "metadata": {},
   "outputs": [],
   "source": [
    "vcf_example = read_vcf(\"../input/example.vcf.gz\")"
   ]
  },
  {
   "cell_type": "code",
   "execution_count": null,
   "metadata": {},
   "outputs": [],
   "source": [
    "vcf_to_use = vcf_738"
   ]
  },
  {
   "cell_type": "markdown",
   "metadata": {},
   "source": [
    "## Check Variants\n",
    "\n",
    "https://cardiooncologyjournal.biomedcentral.com/articles/10.1186/s40959-020-00060-0/tables/3"
   ]
  },
  {
   "cell_type": "code",
   "execution_count": null,
   "metadata": {},
   "outputs": [],
   "source": [
    "# rs1799983\n",
    "\n",
    "using Query, DataFrames\n",
    "\n",
    "x = @from i in vcf_to_use begin\n",
    "    @where i.CHROM==\"chr7\"\n",
    "    @where i.POS==150999023\n",
    "    @select {i.CHROM, i.POS, i.REF, i.ALT, i.FORMAT, i.Germ}\n",
    "    @collect DataFrame\n",
    "end\n",
    "\n",
    "println(x)"
   ]
  },
  {
   "cell_type": "code",
   "execution_count": null,
   "metadata": {},
   "outputs": [],
   "source": [
    "# rs79338777\n",
    "\n",
    "using Query, DataFrames\n",
    "\n",
    "x = @from i in vcf_to_use begin\n",
    "    @where i.CHROM==\"chr19\"\n",
    "    @where i.POS==51354484\n",
    "    @select {i.CHROM, i.POS, i.REF, i.ALT, i.FORMAT, i.Germ}\n",
    "    @collect DataFrame\n",
    "end\n",
    "\n",
    "println(x)"
   ]
  },
  {
   "cell_type": "code",
   "execution_count": null,
   "metadata": {},
   "outputs": [],
   "source": [
    "# rs1056892\n",
    "\n",
    "using Query, DataFrames\n",
    "\n",
    "x = @from i in vcf_to_use begin\n",
    "    @where i.CHROM==\"chr21\"\n",
    "    @where i.POS==36146408\n",
    "    @select {i.CHROM, i.POS, i.REF, i.ALT, i.FORMAT, i.Germ}\n",
    "    @collect DataFrame\n",
    "end\n",
    "\n",
    "println(x)"
   ]
  },
  {
   "cell_type": "code",
   "execution_count": null,
   "metadata": {},
   "outputs": [],
   "source": [
    "# rs17222723 \n",
    "\n",
    "using Query, DataFrames\n",
    "\n",
    "x = @from i in vcf_to_use begin\n",
    "    @where i.CHROM==\"chr10\"\n",
    "    @where i.POS==99836239\n",
    "    @select {i.CHROM, i.POS, i.REF, i.ALT, i.FORMAT, i.Germ}\n",
    "    @collect DataFrame\n",
    "end\n",
    "\n",
    "println(x)"
   ]
  },
  {
   "cell_type": "code",
   "execution_count": null,
   "metadata": {},
   "outputs": [],
   "source": []
  }
 ],
 "metadata": {
  "kernelspec": {
   "display_name": "Julia 1.5.3",
   "language": "julia",
   "name": "julia-1.5"
  },
  "language_info": {
   "file_extension": ".jl",
   "mimetype": "application/julia",
   "name": "julia",
   "version": "1.5.3"
  }
 },
 "nbformat": 4,
 "nbformat_minor": 4
}
