{
 "cells": [
  {
   "cell_type": "code",
   "execution_count": 1,
   "metadata": {},
   "outputs": [],
   "source": [
    "using VCFTool"
   ]
  },
  {
   "cell_type": "code",
   "execution_count": 2,
   "metadata": {},
   "outputs": [
    {
     "data": {
      "text/plain": [
       "false"
      ]
     },
     "execution_count": 2,
     "metadata": {},
     "output_type": "execute_result"
    }
   ],
   "source": [
    "# For viewing DataFrames\n",
    "\n",
    "ENV[\"COLUMNS\"]=100\n",
    "\n",
    "ENV[\"LINES\"]=200\n",
    "\n",
    "# For viewing JuliaDB tables and arrays\n",
    "\n",
    "using IndexedTables\n",
    "\n",
    "IndexedTables.set_show_compact!(false)"
   ]
  },
  {
   "cell_type": "code",
   "execution_count": 3,
   "metadata": {},
   "outputs": [],
   "source": [
    "# JuliaDB.tracktime(f)"
   ]
  },
  {
   "cell_type": "code",
   "execution_count": 4,
   "metadata": {},
   "outputs": [
    {
     "data": {
      "text/plain": [
       "\"../input/test.vcf.gz\""
      ]
     },
     "execution_count": 4,
     "metadata": {},
     "output_type": "execute_result"
    }
   ],
   "source": [
    "input_dir = \"../input/\"\n",
    "\n",
    "vcf_738_file_path = joinpath(input_dir, \"738_variants.vcf.gz\")\n",
    "\n",
    "vcf_738_1000_file_path = joinpath(input_dir, \"738_variants_1000.vcf.gz\")\n",
    "\n",
    "vcf_769_3_file_path = joinpath(input_dir, \"769_3_variants.vcf.gz\")\n",
    "\n",
    "vcf_test_file_path = joinpath(input_dir, \"test.vcf.gz\")\n",
    "\n",
    "vcf_file_path_to_use = vcf_test_file_path"
   ]
  },
  {
   "cell_type": "markdown",
   "metadata": {},
   "source": [
    "## Search by Variant"
   ]
  },
  {
   "cell_type": "code",
   "execution_count": 5,
   "metadata": {},
   "outputs": [
    {
     "data": {
      "text/plain": [
       "1-d NDSparse with 10 values (10 field named tuples):\n",
       "1  │ CHROM   POS      ID   REF   ALT  QUAL   FILTER                                INFO                                      FORMAT                                  GERM\n",
       "───┼─────────────────────────────────────────────────────────────────────────────────────────────────────────────────────────────────────────────────────────────────────────────────────────────────────────────────────\n",
       "2  │ \"chr1\"  \"10144\"  \".\"  \"T\"   \"C\"  \"0\"    \"LowGQX;NoPassedVariantGTs\"           \"SNVHPOL=4;MQ=5\"                          \"GT:GQ:GQX:DP:DPF:AD:ADF:ADR:SB:FT:PL\"  \"0/1:16:0:3:0:2,1:2,1:0,0:0.0:LowGQX:19,0,52\"\n",
       "3  │ \"chr1\"  \"10296\"  \".\"  \"C\"   \"G\"  \"0\"    \"LowGQX;NoPassedVariantGTs\"           \"SNVHPOL=4;MQ=9\"                          \"GT:GQ:GQX:DP:DPF:AD:ADF:ADR:SB:FT:PL\"  \"0/1:22:0:3:9:2,1:0,1:2,0:0.0:LowGQX:25,0,33\"\n",
       "4  │ \"chr1\"  \"10327\"  \".\"  \"T\"   \"C\"  \"0\"    \"LowGQX;NoPassedVariantGTs\"           \"SNVHPOL=4;MQ=11\"                         \"GT:GQ:GQX:DP:DPF:AD:ADF:ADR:SB:FT:PL\"  \"0/1:11:0:5:14:4,1:1,0:3,1:0.0:LowGQX:13,0,83\"\n",
       "5  │ \"chr1\"  \"10329\"  \".\"  \"AC\"  \"A\"  \"15\"   \"LowGQX;NoPassedVariantGTs\"           \"CIGAR=1M1D;RU=C;REFREP=4;IDREP=3;MQ=10\"  \"GT:GQ:GQX:DPI:AD:ADF:ADR:FT:PL\"        \"0/1:53:1:19:7,3:2,0:5,3:LowGQX:50,0,128\"\n",
       "6  │ \"chr1\"  \"10407\"  \".\"  \"T\"   \"C\"  \"0\"    \"LowGQX;NoPassedVariantGTs\"           \"SNVHPOL=4;MQ=7\"                          \"GT:GQ:GQX:DP:DPF:AD:ADF:ADR:SB:FT:PL\"  \"0/1:13:0:5:8:4,1:1,0:3,1:0.0:LowGQX:15,0,61\"\n",
       "7  │ \"chr1\"  \"10622\"  \".\"  \"T\"   \"G\"  \"8\"    \"LowGQX;LowDepth;NoPassedVariantGTs\"  \"SNVHPOL=2;MQ=46\"                         \"GT:GQ:GQX:DP:DPF:AD:ADF:ADR:SB:FT:PL\"  \"0/1:3:0:1:0:0,1:0,0:0,1:0.0:LowGQX;LowDepth:42,3,0\"\n",
       "8  │ \"chr1\"  \"13273\"  \".\"  \"G\"   \"C\"  \"134\"  \"LowGQX;NoPassedVariantGTs\"           \"SNVHPOL=2;MQ=19\"                         \"GT:GQ:GQX:DP:DPF:AD:ADF:ADR:SB:FT:PL\"  \"1/1:27:2:10:0:0,10:0,4:0,6:-16.4:LowGQX:172,30,0\"\n",
       "9  │ \"chr1\"  \"14671\"  \".\"  \"G\"   \"C\"  \"0\"    \"LowGQX;NoPassedVariantGTs\"           \"SNVHPOL=7;MQ=17\"                         \"GT:GQ:GQX:DP:DPF:AD:ADF:ADR:SB:FT:PL\"  \"0/1:3:0:8:0:7,1:2,1:5,0:0.0:LowGQX:3,0,112\"\n",
       "10 │ \"chr1\"  \"16257\"  \".\"  \"G\"   \"C\"  \"1\"    \"LowGQX;NoPassedVariantGTs\"           \"SNVHPOL=4;MQ=26\"                         \"GT:GQ:GQX:DP:DPF:AD:ADF:ADR:SB:FT:PL\"  \"0/1:28:1:23:0:19,4:11,3:8,1:0.0:LowGQX:30,0,234\"\n",
       "11 │ \"chr1\"  \"16378\"  \".\"  \"T\"   \"C\"  \"22\"   \"LowGQX;NoPassedVariantGTs\"           \"SNVHPOL=5;MQ=21\"                         \"GT:GQ:GQX:DP:DPF:AD:ADF:ADR:SB:FT:PL\"  \"0/1:55:2:17:0:9,8:6,0:3,8:4.2:LowGQX:57,0,146\""
      ]
     },
     "execution_count": 5,
     "metadata": {},
     "output_type": "execute_result"
    }
   ],
   "source": [
    "vcf = make_vcf_ndsparse(vcf_file_path_to_use)"
   ]
  },
  {
   "cell_type": "code",
   "execution_count": 6,
   "metadata": {},
   "outputs": [],
   "source": [
    "# Convert position strings to position numbers\n",
    "\n",
    "position_string = columns(vcf)[2]\n",
    "\n",
    "position_numeric = []\n",
    "\n",
    "for item in position_string\n",
    "\n",
    "    parts = split(item, \"\")\n",
    "\n",
    "    position_number = parts[length(parts)]\n",
    "\n",
    "    push!(position_numeric, parse(Int, position_number))\n",
    "\n",
    "end"
   ]
  },
  {
   "cell_type": "code",
   "execution_count": 11,
   "metadata": {},
   "outputs": [
    {
     "data": {
      "text/plain": [
       "10-element Array{Any,1}:\n",
       " 1\n",
       " 1\n",
       " 1\n",
       " 1\n",
       " 1\n",
       " 1\n",
       " 1\n",
       " 1\n",
       " 1\n",
       " 1"
      ]
     },
     "execution_count": 11,
     "metadata": {},
     "output_type": "execute_result"
    }
   ],
   "source": [
    "position_numeric"
   ]
  },
  {
   "cell_type": "code",
   "execution_count": 15,
   "metadata": {},
   "outputs": [
    {
     "ename": "LoadError",
     "evalue": "MethodError: no method matching getindex(::ColDict{NDSparse{NamedTuple{(:CHROM, :POS, :ID, :REF, :ALT, :QUAL, :FILTER, :INFO, :FORMAT, :GERM),NTuple{10,String}},Tuple{Int64},StructArrays.StructArray{Tuple{Int64},1,Tuple{Array{Int64,1}},Int64},StructArrays.StructArray{NamedTuple{(:CHROM, :POS, :ID, :REF, :ALT, :QUAL, :FILTER, :INFO, :FORMAT, :GERM),NTuple{10,String}},1,NamedTuple{(:CHROM, :POS, :ID, :REF, :ALT, :QUAL, :FILTER, :INFO, :FORMAT, :GERM),NTuple{10,WeakRefStrings.StringArray{String,1}}},Int64}}})\nClosest candidates are:\n  getindex(::ColDict, !Matched::AbstractArray) at /Users/kate/.julia/packages/IndexedTables/tRvfu/src/columns.jl:363\n  getindex(::ColDict, !Matched::Any) at /Users/kate/.julia/packages/IndexedTables/tRvfu/src/columns.jl:362",
     "output_type": "error",
     "traceback": [
      "MethodError: no method matching getindex(::ColDict{NDSparse{NamedTuple{(:CHROM, :POS, :ID, :REF, :ALT, :QUAL, :FILTER, :INFO, :FORMAT, :GERM),NTuple{10,String}},Tuple{Int64},StructArrays.StructArray{Tuple{Int64},1,Tuple{Array{Int64,1}},Int64},StructArrays.StructArray{NamedTuple{(:CHROM, :POS, :ID, :REF, :ALT, :QUAL, :FILTER, :INFO, :FORMAT, :GERM),NTuple{10,String}},1,NamedTuple{(:CHROM, :POS, :ID, :REF, :ALT, :QUAL, :FILTER, :INFO, :FORMAT, :GERM),NTuple{10,WeakRefStrings.StringArray{String,1}}},Int64}}})\nClosest candidates are:\n  getindex(::ColDict, !Matched::AbstractArray) at /Users/kate/.julia/packages/IndexedTables/tRvfu/src/columns.jl:363\n  getindex(::ColDict, !Matched::Any) at /Users/kate/.julia/packages/IndexedTables/tRvfu/src/columns.jl:362",
      "",
      "Stacktrace:",
      " [1] transform(::NDSparse{NamedTuple{(:CHROM, :POS, :ID, :REF, :ALT, :QUAL, :FILTER, :INFO, :FORMAT, :GERM),NTuple{10,String}},Tuple{Int64},StructArrays.StructArray{Tuple{Int64},1,Tuple{Array{Int64,1}},Int64},StructArrays.StructArray{NamedTuple{(:CHROM, :POS, :ID, :REF, :ALT, :QUAL, :FILTER, :INFO, :FORMAT, :GERM),NTuple{10,String}},1,NamedTuple{(:CHROM, :POS, :ID, :REF, :ALT, :QUAL, :FILTER, :INFO, :FORMAT, :GERM),NTuple{10,WeakRefStrings.StringArray{String,1}}},Int64}}, ::Pair{Symbol,Array{Any,1}}) at /Users/kate/.julia/packages/IndexedTables/tRvfu/src/columns.jl:461",
      " [2] top-level scope at In[15]:1",
      " [3] include_string(::Function, ::Module, ::String, ::String) at ./loading.jl:1091"
     ]
    }
   ],
   "source": [
    "transform(vcf, :CHROM => position_numeric)"
   ]
  },
  {
   "cell_type": "code",
   "execution_count": null,
   "metadata": {},
   "outputs": [],
   "source": [
    "rows(vcf)\n",
    "\n",
    "n_rows = length(rows(vcf))\n",
    "\n",
    "vcf_new = vcf[1:end .!=1]\n",
    "\n",
    "# keys(vcf)\n",
    "\n",
    "# IndexedTables.where()\n",
    "\n",
    "# Base.getindex()\n",
    "\n",
    "# Base.filter()\n",
    "# filter(val -> val == \"A\", vcf.:ALT)"
   ]
  },
  {
   "cell_type": "code",
   "execution_count": null,
   "metadata": {},
   "outputs": [],
   "source": [
    "cols = columns(vcf_table)\n",
    "\n",
    "new_cols = keys(cols)[2:end]\n",
    "\n",
    "new_vals = values(vcf_table)[1]\n",
    "\n",
    "getindex(vcf_table, [:POS, :ID])"
   ]
  },
  {
   "cell_type": "code",
   "execution_count": 9,
   "metadata": {},
   "outputs": [
    {
     "data": {
      "text/plain": [
       "Table with 11 rows, 10 columns:\n",
       "\u001b[1mCHROM     \u001b[22mPOS      ID    REF    ALT    QUAL    FILTER                                INFO                                      FORMAT                                  GERM\n",
       "───────────────────────────────────────────────────────────────────────────────────────────────────────────────────────────────────────────────────────────────────────────────────────────────────────────────────────────\n",
       "\"#CHROM\"  \"POS\"    \"ID\"  \"REF\"  \"ALT\"  \"QUAL\"  \"FILTER\"                              \"INFO\"                                    \"FORMAT\"                                \"Germ\"\n",
       "\"chr1\"    \"10144\"  \".\"   \"T\"    \"C\"    \"0\"     \"LowGQX;NoPassedVariantGTs\"           \"SNVHPOL=4;MQ=5\"                          \"GT:GQ:GQX:DP:DPF:AD:ADF:ADR:SB:FT:PL\"  \"0/1:16:0:3:0:2,1:2,1:0,0:0.0:LowGQX:19,0,52\"\n",
       "\"chr1\"    \"10296\"  \".\"   \"C\"    \"G\"    \"0\"     \"LowGQX;NoPassedVariantGTs\"           \"SNVHPOL=4;MQ=9\"                          \"GT:GQ:GQX:DP:DPF:AD:ADF:ADR:SB:FT:PL\"  \"0/1:22:0:3:9:2,1:0,1:2,0:0.0:LowGQX:25,0,33\"\n",
       "\"chr1\"    \"10327\"  \".\"   \"T\"    \"C\"    \"0\"     \"LowGQX;NoPassedVariantGTs\"           \"SNVHPOL=4;MQ=11\"                         \"GT:GQ:GQX:DP:DPF:AD:ADF:ADR:SB:FT:PL\"  \"0/1:11:0:5:14:4,1:1,0:3,1:0.0:LowGQX:13,0,83\"\n",
       "\"chr1\"    \"10329\"  \".\"   \"AC\"   \"A\"    \"15\"    \"LowGQX;NoPassedVariantGTs\"           \"CIGAR=1M1D;RU=C;REFREP=4;IDREP=3;MQ=10\"  \"GT:GQ:GQX:DPI:AD:ADF:ADR:FT:PL\"        \"0/1:53:1:19:7,3:2,0:5,3:LowGQX:50,0,128\"\n",
       "\"chr1\"    \"10407\"  \".\"   \"T\"    \"C\"    \"0\"     \"LowGQX;NoPassedVariantGTs\"           \"SNVHPOL=4;MQ=7\"                          \"GT:GQ:GQX:DP:DPF:AD:ADF:ADR:SB:FT:PL\"  \"0/1:13:0:5:8:4,1:1,0:3,1:0.0:LowGQX:15,0,61\"\n",
       "\"chr1\"    \"10622\"  \".\"   \"T\"    \"G\"    \"8\"     \"LowGQX;LowDepth;NoPassedVariantGTs\"  \"SNVHPOL=2;MQ=46\"                         \"GT:GQ:GQX:DP:DPF:AD:ADF:ADR:SB:FT:PL\"  \"0/1:3:0:1:0:0,1:0,0:0,1:0.0:LowGQX;LowDepth:42,3,0\"\n",
       "\"chr1\"    \"13273\"  \".\"   \"G\"    \"C\"    \"134\"   \"LowGQX;NoPassedVariantGTs\"           \"SNVHPOL=2;MQ=19\"                         \"GT:GQ:GQX:DP:DPF:AD:ADF:ADR:SB:FT:PL\"  \"1/1:27:2:10:0:0,10:0,4:0,6:-16.4:LowGQX:172,30,0\"\n",
       "\"chr1\"    \"14671\"  \".\"   \"G\"    \"C\"    \"0\"     \"LowGQX;NoPassedVariantGTs\"           \"SNVHPOL=7;MQ=17\"                         \"GT:GQ:GQX:DP:DPF:AD:ADF:ADR:SB:FT:PL\"  \"0/1:3:0:8:0:7,1:2,1:5,0:0.0:LowGQX:3,0,112\"\n",
       "\"chr1\"    \"16257\"  \".\"   \"G\"    \"C\"    \"1\"     \"LowGQX;NoPassedVariantGTs\"           \"SNVHPOL=4;MQ=26\"                         \"GT:GQ:GQX:DP:DPF:AD:ADF:ADR:SB:FT:PL\"  \"0/1:28:1:23:0:19,4:11,3:8,1:0.0:LowGQX:30,0,234\"\n",
       "\"chr1\"    \"16378\"  \".\"   \"T\"    \"C\"    \"22\"    \"LowGQX;NoPassedVariantGTs\"           \"SNVHPOL=5;MQ=21\"                         \"GT:GQ:GQX:DP:DPF:AD:ADF:ADR:SB:FT:PL\"  \"0/1:55:2:17:0:9,8:6,0:3,8:4.2:LowGQX:57,0,146\""
      ]
     },
     "execution_count": 9,
     "metadata": {},
     "output_type": "execute_result"
    }
   ],
   "source": [
    "using JuliaDB\n",
    "\n",
    "vcf_table = loadtable(\n",
    "    \"../input/test.vcf\",\n",
    "    delim='\\t',\n",
    "    header_exists=false, \n",
    "    colnames=[:CHROM, :POS, :ID, :REF, :ALT, :QUAL, :FILTER, :INFO, :FORMAT, :GERM],\n",
    "    indexcols=[:CHROM],\n",
    ")"
   ]
  },
  {
   "cell_type": "code",
   "execution_count": 13,
   "metadata": {},
   "outputs": [
    {
     "data": {
      "text/plain": [
       "Table with 10 rows, 10 columns:\n",
       "\u001b[1mCHROM   \u001b[22mPOS      ID   REF   ALT  QUAL   FILTER                                INFO                                      FORMAT                                  GERM\n",
       "────────────────────────────────────────────────────────────────────────────────────────────────────────────────────────────────────────────────────────────────────────────────────────────────────────────────────\n",
       "\"chr1\"  \"10144\"  \".\"  \"T\"   \"C\"  \"0\"    \"LowGQX;NoPassedVariantGTs\"           \"SNVHPOL=4;MQ=5\"                          \"GT:GQ:GQX:DP:DPF:AD:ADF:ADR:SB:FT:PL\"  \"0/1:16:0:3:0:2,1:2,1:0,0:0.0:LowGQX:19,0,52\"\n",
       "\"chr1\"  \"10296\"  \".\"  \"C\"   \"G\"  \"0\"    \"LowGQX;NoPassedVariantGTs\"           \"SNVHPOL=4;MQ=9\"                          \"GT:GQ:GQX:DP:DPF:AD:ADF:ADR:SB:FT:PL\"  \"0/1:22:0:3:9:2,1:0,1:2,0:0.0:LowGQX:25,0,33\"\n",
       "\"chr1\"  \"10327\"  \".\"  \"T\"   \"C\"  \"0\"    \"LowGQX;NoPassedVariantGTs\"           \"SNVHPOL=4;MQ=11\"                         \"GT:GQ:GQX:DP:DPF:AD:ADF:ADR:SB:FT:PL\"  \"0/1:11:0:5:14:4,1:1,0:3,1:0.0:LowGQX:13,0,83\"\n",
       "\"chr1\"  \"10329\"  \".\"  \"AC\"  \"A\"  \"15\"   \"LowGQX;NoPassedVariantGTs\"           \"CIGAR=1M1D;RU=C;REFREP=4;IDREP=3;MQ=10\"  \"GT:GQ:GQX:DPI:AD:ADF:ADR:FT:PL\"        \"0/1:53:1:19:7,3:2,0:5,3:LowGQX:50,0,128\"\n",
       "\"chr1\"  \"10407\"  \".\"  \"T\"   \"C\"  \"0\"    \"LowGQX;NoPassedVariantGTs\"           \"SNVHPOL=4;MQ=7\"                          \"GT:GQ:GQX:DP:DPF:AD:ADF:ADR:SB:FT:PL\"  \"0/1:13:0:5:8:4,1:1,0:3,1:0.0:LowGQX:15,0,61\"\n",
       "\"chr1\"  \"10622\"  \".\"  \"T\"   \"G\"  \"8\"    \"LowGQX;LowDepth;NoPassedVariantGTs\"  \"SNVHPOL=2;MQ=46\"                         \"GT:GQ:GQX:DP:DPF:AD:ADF:ADR:SB:FT:PL\"  \"0/1:3:0:1:0:0,1:0,0:0,1:0.0:LowGQX;LowDepth:42,3,0\"\n",
       "\"chr1\"  \"13273\"  \".\"  \"G\"   \"C\"  \"134\"  \"LowGQX;NoPassedVariantGTs\"           \"SNVHPOL=2;MQ=19\"                         \"GT:GQ:GQX:DP:DPF:AD:ADF:ADR:SB:FT:PL\"  \"1/1:27:2:10:0:0,10:0,4:0,6:-16.4:LowGQX:172,30,0\"\n",
       "\"chr1\"  \"14671\"  \".\"  \"G\"   \"C\"  \"0\"    \"LowGQX;NoPassedVariantGTs\"           \"SNVHPOL=7;MQ=17\"                         \"GT:GQ:GQX:DP:DPF:AD:ADF:ADR:SB:FT:PL\"  \"0/1:3:0:8:0:7,1:2,1:5,0:0.0:LowGQX:3,0,112\"\n",
       "\"chr1\"  \"16257\"  \".\"  \"G\"   \"C\"  \"1\"    \"LowGQX;NoPassedVariantGTs\"           \"SNVHPOL=4;MQ=26\"                         \"GT:GQ:GQX:DP:DPF:AD:ADF:ADR:SB:FT:PL\"  \"0/1:28:1:23:0:19,4:11,3:8,1:0.0:LowGQX:30,0,234\"\n",
       "\"chr1\"  \"16378\"  \".\"  \"T\"   \"C\"  \"22\"   \"LowGQX;NoPassedVariantGTs\"           \"SNVHPOL=5;MQ=21\"                         \"GT:GQ:GQX:DP:DPF:AD:ADF:ADR:SB:FT:PL\"  \"0/1:55:2:17:0:9,8:6,0:3,8:4.2:LowGQX:57,0,146\""
      ]
     },
     "execution_count": 13,
     "metadata": {},
     "output_type": "execute_result"
    }
   ],
   "source": [
    "n_rows = length(rows(vcf_table))\n",
    "\n",
    "vcf_table = vcf_table[2:n_rows]"
   ]
  },
  {
   "cell_type": "code",
   "execution_count": 14,
   "metadata": {},
   "outputs": [
    {
     "data": {
      "text/plain": [
       "Table with 10 rows, 10 columns:\n",
       "\u001b[1mCHROM  \u001b[22mPOS      ID   REF   ALT  QUAL   FILTER                                INFO                                      FORMAT                                  GERM\n",
       "───────────────────────────────────────────────────────────────────────────────────────────────────────────────────────────────────────────────────────────────────────────────────────────────────────────────────\n",
       "1      \"10144\"  \".\"  \"T\"   \"C\"  \"0\"    \"LowGQX;NoPassedVariantGTs\"           \"SNVHPOL=4;MQ=5\"                          \"GT:GQ:GQX:DP:DPF:AD:ADF:ADR:SB:FT:PL\"  \"0/1:16:0:3:0:2,1:2,1:0,0:0.0:LowGQX:19,0,52\"\n",
       "1      \"10296\"  \".\"  \"C\"   \"G\"  \"0\"    \"LowGQX;NoPassedVariantGTs\"           \"SNVHPOL=4;MQ=9\"                          \"GT:GQ:GQX:DP:DPF:AD:ADF:ADR:SB:FT:PL\"  \"0/1:22:0:3:9:2,1:0,1:2,0:0.0:LowGQX:25,0,33\"\n",
       "1      \"10327\"  \".\"  \"T\"   \"C\"  \"0\"    \"LowGQX;NoPassedVariantGTs\"           \"SNVHPOL=4;MQ=11\"                         \"GT:GQ:GQX:DP:DPF:AD:ADF:ADR:SB:FT:PL\"  \"0/1:11:0:5:14:4,1:1,0:3,1:0.0:LowGQX:13,0,83\"\n",
       "1      \"10329\"  \".\"  \"AC\"  \"A\"  \"15\"   \"LowGQX;NoPassedVariantGTs\"           \"CIGAR=1M1D;RU=C;REFREP=4;IDREP=3;MQ=10\"  \"GT:GQ:GQX:DPI:AD:ADF:ADR:FT:PL\"        \"0/1:53:1:19:7,3:2,0:5,3:LowGQX:50,0,128\"\n",
       "1      \"10407\"  \".\"  \"T\"   \"C\"  \"0\"    \"LowGQX;NoPassedVariantGTs\"           \"SNVHPOL=4;MQ=7\"                          \"GT:GQ:GQX:DP:DPF:AD:ADF:ADR:SB:FT:PL\"  \"0/1:13:0:5:8:4,1:1,0:3,1:0.0:LowGQX:15,0,61\"\n",
       "1      \"10622\"  \".\"  \"T\"   \"G\"  \"8\"    \"LowGQX;LowDepth;NoPassedVariantGTs\"  \"SNVHPOL=2;MQ=46\"                         \"GT:GQ:GQX:DP:DPF:AD:ADF:ADR:SB:FT:PL\"  \"0/1:3:0:1:0:0,1:0,0:0,1:0.0:LowGQX;LowDepth:42,3,0\"\n",
       "1      \"13273\"  \".\"  \"G\"   \"C\"  \"134\"  \"LowGQX;NoPassedVariantGTs\"           \"SNVHPOL=2;MQ=19\"                         \"GT:GQ:GQX:DP:DPF:AD:ADF:ADR:SB:FT:PL\"  \"1/1:27:2:10:0:0,10:0,4:0,6:-16.4:LowGQX:172,30,0\"\n",
       "1      \"14671\"  \".\"  \"G\"   \"C\"  \"0\"    \"LowGQX;NoPassedVariantGTs\"           \"SNVHPOL=7;MQ=17\"                         \"GT:GQ:GQX:DP:DPF:AD:ADF:ADR:SB:FT:PL\"  \"0/1:3:0:8:0:7,1:2,1:5,0:0.0:LowGQX:3,0,112\"\n",
       "1      \"16257\"  \".\"  \"G\"   \"C\"  \"1\"    \"LowGQX;NoPassedVariantGTs\"           \"SNVHPOL=4;MQ=26\"                         \"GT:GQ:GQX:DP:DPF:AD:ADF:ADR:SB:FT:PL\"  \"0/1:28:1:23:0:19,4:11,3:8,1:0.0:LowGQX:30,0,234\"\n",
       "1      \"16378\"  \".\"  \"T\"   \"C\"  \"22\"   \"LowGQX;NoPassedVariantGTs\"           \"SNVHPOL=5;MQ=21\"                         \"GT:GQ:GQX:DP:DPF:AD:ADF:ADR:SB:FT:PL\"  \"0/1:55:2:17:0:9,8:6,0:3,8:4.2:LowGQX:57,0,146\""
      ]
     },
     "execution_count": 14,
     "metadata": {},
     "output_type": "execute_result"
    }
   ],
   "source": [
    "transform(vcf_table, :CHROM => position_numeric)"
   ]
  },
  {
   "cell_type": "code",
   "execution_count": 21,
   "metadata": {},
   "outputs": [
    {
     "data": {
      "text/plain": [
       "10-element Array{Any,1}:\n",
       " 10144\n",
       " 10296\n",
       " 10327\n",
       " 10329\n",
       " 10407\n",
       " 10622\n",
       " 13273\n",
       " 14671\n",
       " 16257\n",
       " 16378"
      ]
     },
     "execution_count": 21,
     "metadata": {},
     "output_type": "execute_result"
    }
   ],
   "source": [
    "# Convert positions to numbers\n",
    "\n",
    "positions_string = Array(columns(vcf_table)[2])\n",
    "\n",
    "positions_numeric = []\n",
    "\n",
    "for item in positions_string\n",
    "\n",
    "    push!(positions_numeric, parse(Int, item))\n",
    "    \n",
    "end\n",
    "\n",
    "positions_numeric"
   ]
  },
  {
   "cell_type": "code",
   "execution_count": null,
   "metadata": {},
   "outputs": [],
   "source": [
    "using JuliaDB \n",
    "\n",
    "function make_vcf_indexedtable(vcf_gz_file_path)\n",
    "    \n",
    "    vcf_file_path = string(Array(split(vcf_gz_file_path, \".gz\"))[1])\n",
    "\n",
    "    if isfile(vcf_file_path) == false\n",
    "        \n",
    "        io_gz = open(vcf_gz_file_path)\n",
    "\n",
    "        io = GzipDecompressorStream(io_gz)\n",
    "\n",
    "        file = CSV.File(io, comment=\"##\", delim='\\t', header=1)\n",
    "\n",
    "        CSV.write(vcf_file_path, delim='\\t', file)\n",
    "\n",
    "        close(io)\n",
    "\n",
    "    end\n",
    "    \n",
    "    vcf_table = loadtable(\n",
    "        vcf_file_path,\n",
    "        delim='\\t',\n",
    "        header_exists=false, \n",
    "        colnames=[:CHROM, :POS, :ID, :REF, :ALT, :QUAL, :FILTER, :INFO, :FORMAT, :GERM],\n",
    "        indexcols=[:CHROM],\n",
    "    )\n",
    "\n",
    "    # Remove header row\n",
    "    \n",
    "    n_rows = length(rows(vcf_table))\n",
    "\n",
    "    vcf_table = vcf_table[2:n_rows]\n",
    "    \n",
    "    # Convert position strings to position numbers\n",
    "\n",
    "    positions_string = Array(columns(vcf_table)[1])\n",
    "\n",
    "    positions_numeric = []\n",
    "\n",
    "    for item in positions_string\n",
    "\n",
    "        parts = split(item, \"\")\n",
    "\n",
    "        position_number = parts[length(parts)]\n",
    "\n",
    "        push!(positions_numeric, parse(Int, position_number))\n",
    "\n",
    "    end\n",
    "end"
   ]
  },
  {
   "cell_type": "code",
   "execution_count": null,
   "metadata": {},
   "outputs": [],
   "source": [
    "# https://www.snpedia.com/index.php/Rs1042522\n",
    "rs1042522 = [\"chr17\", 7676154]\n",
    "\n",
    "# TP53\n",
    "tp53 = [\"chr17\", 7661779:7687550]\n",
    "\n",
    "# test set\n",
    "t = [\"chr1\", 10000:12000]"
   ]
  },
  {
   "cell_type": "code",
   "execution_count": null,
   "metadata": {},
   "outputs": [],
   "source": [
    "using Dates\n",
    "\n",
    "start_time = now()\n",
    "\n",
    "for value in vcf[\"chr17\", 7661779]\n",
    "    \n",
    "    genotype = []\n",
    "    \n",
    "    allele_ref = value[:REF]\n",
    "    \n",
    "    allele_alt = value[:ALT]\n",
    "    \n",
    "    numeric_genotype = split(split(value[:GERM], \":\")[1], \"/\")\n",
    "    \n",
    "    if occursin(\"|\", numeric_genotype[1])\n",
    "        \n",
    "        numeric_genotype = split(numeric_genotype[1], \"|\")\n",
    "        \n",
    "    end\n",
    "    \n",
    "    counter = 1\n",
    "    \n",
    "        while counter < 3\n",
    "        \n",
    "            if \"0\" == numeric_genotype[counter]\n",
    "\n",
    "                push!(genotype, allele_ref)\n",
    "\n",
    "            elseif \"1\" == numeric_genotype[counter]\n",
    "\n",
    "                push!(genotype, split(allele_alt, \",\")[1])\n",
    "\n",
    "            elseif \"2\" == numeric_genotype[counter]\n",
    "\n",
    "                push!(genotype, split(allele_alt, \",\")[2])\n",
    "        \n",
    "            end    \n",
    "    \n",
    "        counter += 1\n",
    "        \n",
    "        end\n",
    "\n",
    "    println(\"Genotype: $genotype\")\n",
    "    \n",
    "    println(\"\\n\")\n",
    "    \n",
    "end\n",
    "  \n",
    "end_time = now()\n",
    "\n",
    "println(\"\\nTook $(canonicalize(Dates.CompoundPeriod(end_time - start_time))).\\n\")"
   ]
  },
  {
   "cell_type": "code",
   "execution_count": null,
   "metadata": {},
   "outputs": [],
   "source": [
    "import Pkg; Pkg.add(\"Dagger\")\n",
    "\n",
    "using Dagger\n",
    "\n",
    "Dagger.save(vcf, \"../input/test_vcf_ndsparse_save.vcf\")"
   ]
  },
  {
   "cell_type": "code",
   "execution_count": null,
   "metadata": {},
   "outputs": [],
   "source": [
    "using Dagger\n",
    "\n",
    "dagger_load_vcf = Dagger.load(\"../input/test_vcf_ndsparse_save.vcf\")"
   ]
  },
  {
   "cell_type": "markdown",
   "metadata": {},
   "source": [
    "## Search by Gene"
   ]
  },
  {
   "cell_type": "markdown",
   "metadata": {},
   "source": [
    "## Search by Region"
   ]
  },
  {
   "cell_type": "markdown",
   "metadata": {},
   "source": [
    "## Tabix Regions"
   ]
  },
  {
   "cell_type": "code",
   "execution_count": null,
   "metadata": {},
   "outputs": [],
   "source": [
    "bed_file_path = joinpath(input_dir, \"cardiotoxicity.bed\")\n",
    "\n",
    "tabix_regions_from_file(\n",
    "    bed_file_path,\n",
    "    vcf_738_file_path,\n",
    "    output_dir,\n",
    ")"
   ]
  },
  {
   "cell_type": "markdown",
   "metadata": {},
   "source": [
    "## JuliaDB\n",
    "\n",
    "An unzipped VCF file can be loaded into an indextable or ndsparse array directly using loadtable() or ndsparese() respectively. However, its much faster to query variants if they are in an ndsparse array because the position and position are both part of the index."
   ]
  },
  {
   "cell_type": "code",
   "execution_count": null,
   "metadata": {},
   "outputs": [],
   "source": [
    "vcf_ndsparse_738 = make_ndsparse(\"../input/738_variants.vcf.gz\")"
   ]
  },
  {
   "cell_type": "code",
   "execution_count": null,
   "metadata": {},
   "outputs": [],
   "source": [
    "for item in vcf_ndsparse_738\n",
    "    \n",
    "    println(item) \n",
    "\n",
    "    println(item[:REF])\n",
    "\n",
    "    end\n",
    "    \n",
    "end"
   ]
  }
 ],
 "metadata": {
  "kernelspec": {
   "display_name": "Julia 1.5.3",
   "language": "julia",
   "name": "julia-1.5"
  },
  "language_info": {
   "file_extension": ".jl",
   "mimetype": "application/julia",
   "name": "julia",
   "version": "1.5.3"
  }
 },
 "nbformat": 4,
 "nbformat_minor": 4
}
