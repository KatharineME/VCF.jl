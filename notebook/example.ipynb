{
 "cells": [
  {
   "cell_type": "code",
   "execution_count": 1,
   "metadata": {},
   "outputs": [
    {
     "name": "stderr",
     "output_type": "stream",
     "text": [
      "┌ Info: Precompiling VCFTool [8f8d80d9-e796-45a3-8ef2-c0461a3110a4]\n",
      "└ @ Base loading.jl:1278\n"
     ]
    }
   ],
   "source": [
    "using VCFTool"
   ]
  },
  {
   "cell_type": "markdown",
   "metadata": {},
   "source": [
    "## Read VCF"
   ]
  },
  {
   "cell_type": "code",
   "execution_count": null,
   "metadata": {},
   "outputs": [],
   "source": [
    "input_dir = \"../input/\""
   ]
  },
  {
   "cell_type": "code",
   "execution_count": null,
   "metadata": {},
   "outputs": [],
   "source": [
    "vcf_738 = read_vcf(joinpath(input_dir, \"738_variants.vcf.gz\"))\n",
    "\n",
    "vcf_example = read_vcf(joinpath(input_dir, \"example.vcf.gz\"))\n",
    "\n",
    "vcf_to_use = vcf_738"
   ]
  },
  {
   "cell_type": "markdown",
   "metadata": {},
   "source": [
    "## Read BED"
   ]
  },
  {
   "cell_type": "code",
   "execution_count": null,
   "metadata": {},
   "outputs": [],
   "source": [
    "using DataFrames\n",
    "using CSV: File\n",
    "\n",
    "bed_file_path = joinpath(input_dir, \"cardiotoxicity.bed\")\n",
    "\n",
    "bed_io = open(\"../input/cardiotoxicity.bed\")\n",
    "\n",
    "bed = DataFrame(File(io; delim='\\t', header=false))"
   ]
  },
  {
   "cell_type": "code",
   "execution_count": null,
   "metadata": {},
   "outputs": [],
   "source": [
    "print_and_run_cmd(`tabix -R `)"
   ]
  },
  {
   "cell_type": "markdown",
   "metadata": {},
   "source": [
    "## Check Variants\n",
    "\n",
    "https://cardiooncologyjournal.biomedcentral.com/articles/10.1186/s40959-020-00060-0/tables/3"
   ]
  },
  {
   "cell_type": "code",
   "execution_count": null,
   "metadata": {},
   "outputs": [],
   "source": [
    "# rs1799983\n",
    "\n",
    "using Query, DataFrames\n",
    "\n",
    "x = @from i in vcf_to_use begin\n",
    "    @where i.CHROM==\"chr7\"\n",
    "    @where i.POS==150999023\n",
    "    @select {i.CHROM, i.POS, i.REF, i.ALT, i.FORMAT, i.Germ}\n",
    "    @collect DataFrame\n",
    "end\n",
    "\n",
    "println(x)"
   ]
  }
 ],
 "metadata": {
  "kernelspec": {
   "display_name": "Julia 1.5.3",
   "language": "julia",
   "name": "julia-1.5"
  },
  "language_info": {
   "file_extension": ".jl",
   "mimetype": "application/julia",
   "name": "julia",
   "version": "1.5.3"
  }
 },
 "nbformat": 4,
 "nbformat_minor": 4
}
