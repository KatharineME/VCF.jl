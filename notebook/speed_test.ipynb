{
 "cells": [
  {
   "cell_type": "code",
   "execution_count": 1,
   "metadata": {},
   "outputs": [],
   "source": [
    "using JuliaDB\n",
    "using IndexedTables\n",
    "using Dagger\n",
    "\n",
    "using VCFTool"
   ]
  },
  {
   "cell_type": "code",
   "execution_count": 6,
   "metadata": {},
   "outputs": [
    {
     "data": {
      "text/plain": [
       "\"../input/738_variants_1000.vcf.gz\""
      ]
     },
     "execution_count": 6,
     "metadata": {},
     "output_type": "execute_result"
    }
   ],
   "source": [
    "input_dir = \"../input/\"\n",
    "\n",
    "vcf_738_1000_file_path = joinpath(input_dir, \"738_variants_1000.vcf.gz\")\n",
    "\n",
    "vcf_file_path_to_use = vcf_738_1000_file_path"
   ]
  },
  {
   "cell_type": "code",
   "execution_count": 7,
   "metadata": {},
   "outputs": [
    {
     "data": {
      "text/plain": [
       "Table with 999 rows, 10 columns:\n",
       "Columns:\n",
       "\u001b[1m#   \u001b[22m\u001b[1mcolname  \u001b[22m\u001b[1mtype\u001b[22m\n",
       "───────────────────\n",
       "1   CHROM    Any\n",
       "2   POS      Any\n",
       "3   ID       String\n",
       "4   REF      String\n",
       "5   ALT      String\n",
       "6   QUAL     String\n",
       "7   FILTER   String\n",
       "8   INFO     String\n",
       "9   FORMAT   String\n",
       "10  GERM     String"
      ]
     },
     "execution_count": 7,
     "metadata": {},
     "output_type": "execute_result"
    }
   ],
   "source": [
    "vcf_table = make_vcf_indexedtable(vcf_file_path_to_use)"
   ]
  },
  {
   "cell_type": "code",
   "execution_count": 11,
   "metadata": {},
   "outputs": [
    {
     "data": {
      "text/plain": [
       "1-d NDSparse with 999 values (10 field named tuples):\n",
       "    \u001b[4mDimensions\u001b[24m\u001b[1m#  \u001b[22m\u001b[1mcolname  \u001b[22m\u001b[1mtype\u001b[22m\n",
       "─────────────────\n",
       "1  1        Int64\n",
       "    \u001b[4mValues\u001b[24m\u001b[1m#   \u001b[22m\u001b[1mcolname  \u001b[22m\u001b[1mtype\u001b[22m\n",
       "───────────────────\n",
       "2   CHROM    String\n",
       "3   POS      String\n",
       "4   ID       String\n",
       "5   REF      String\n",
       "6   ALT      String\n",
       "7   QUAL     String\n",
       "8   FILTER   String\n",
       "9   INFO     String\n",
       "10  FORMAT   String\n",
       "11  GERM     String"
      ]
     },
     "execution_count": 11,
     "metadata": {},
     "output_type": "execute_result"
    }
   ],
   "source": [
    "vcf_ndsparse = make_vcf_ndsparse(vcf_file_path_to_use)"
   ]
  },
  {
   "cell_type": "code",
   "execution_count": 4,
   "metadata": {},
   "outputs": [
    {
     "data": {
      "text/plain": [
       "Table with 999 rows, 10 columns:\n",
       "Columns:\n",
       "\u001b[1m#   \u001b[22m\u001b[1mcolname  \u001b[22m\u001b[1mtype\u001b[22m\n",
       "───────────────────\n",
       "1   CHROM    Any\n",
       "2   POS      Any\n",
       "3   ID       String\n",
       "4   REF      String\n",
       "5   ALT      String\n",
       "6   QUAL     String\n",
       "7   FILTER   String\n",
       "8   INFO     String\n",
       "9   FORMAT   String\n",
       "10  GERM     String"
      ]
     },
     "execution_count": 4,
     "metadata": {},
     "output_type": "execute_result"
    }
   ],
   "source": [
    "Dagger.save(vcf_table, \"../input/738_variants_1000.vcf.dagger\")"
   ]
  },
  {
   "cell_type": "code",
   "execution_count": 5,
   "metadata": {},
   "outputs": [
    {
     "data": {
      "text/plain": [
       "Table with 999 rows, 10 columns:\n",
       "Columns:\n",
       "\u001b[1m#   \u001b[22m\u001b[1mcolname  \u001b[22m\u001b[1mtype\u001b[22m\n",
       "───────────────────\n",
       "1   CHROM    Any\n",
       "2   POS      Any\n",
       "3   ID       String\n",
       "4   REF      String\n",
       "5   ALT      String\n",
       "6   QUAL     String\n",
       "7   FILTER   String\n",
       "8   INFO     String\n",
       "9   FORMAT   String\n",
       "10  GERM     String"
      ]
     },
     "execution_count": 5,
     "metadata": {},
     "output_type": "execute_result"
    }
   ],
   "source": [
    "using Dagger\n",
    "\n",
    "vcf_table_dagger = Dagger.load(\"../input/738_variants_1000.vcf.dagger\")"
   ]
  },
  {
   "cell_type": "markdown",
   "metadata": {},
   "source": [
    "# Dagger load v.s. load from file\n",
    "\n",
    "Here we compare how long it takes to access a particular variant and a chromosomal region in a regular JuliaDB IndexedTable that was loaded directly from a file versus an index file that was created via `Dagger.save` and loaded here via `Dagger.load`. Using Dagger to save and load a VCF adds another step and dependency to data prep, so this speed test will tell if its worth it."
   ]
  },
  {
   "cell_type": "code",
   "execution_count": 8,
   "metadata": {},
   "outputs": [
    {
     "data": {
      "text/plain": [
       "3-element Array{Int64,1}:\n",
       "      1\n",
       "  10000\n",
       " 100000"
      ]
     },
     "execution_count": 8,
     "metadata": {},
     "output_type": "execute_result"
    }
   ],
   "source": [
    "benchmark_variant = [1, 13868]\n",
    "\n",
    "benchmark_region = [1, 10000, 100000]"
   ]
  },
  {
   "cell_type": "markdown",
   "metadata": {},
   "source": [
    "#### IndexedTable from file"
   ]
  },
  {
   "cell_type": "code",
   "execution_count": 9,
   "metadata": {},
   "outputs": [
    {
     "name": "stdout",
     "output_type": "stream",
     "text": [
      "  4.418017 seconds (6.68 M allocations: 377.287 MiB, 2.02% gc time)\n"
     ]
    },
    {
     "data": {
      "text/plain": [
       "Table with 1 rows, 10 columns:\n",
       "Columns:\n",
       "\u001b[1m#   \u001b[22m\u001b[1mcolname  \u001b[22m\u001b[1mtype\u001b[22m\n",
       "───────────────────\n",
       "1   CHROM    Any\n",
       "2   POS      Any\n",
       "3   ID       String\n",
       "4   REF      String\n",
       "5   ALT      String\n",
       "6   QUAL     String\n",
       "7   FILTER   String\n",
       "8   INFO     String\n",
       "9   FORMAT   String\n",
       "10  GERM     String"
      ]
     },
     "execution_count": 9,
     "metadata": {},
     "output_type": "execute_result"
    }
   ],
   "source": [
    "@time filter(i -> (i.CHROM == benchmark_variant[1]) && (i.POS == benchmark_variant[2]), vcf_table)"
   ]
  },
  {
   "cell_type": "markdown",
   "metadata": {},
   "source": [
    "#### Dagger file"
   ]
  },
  {
   "cell_type": "code",
   "execution_count": 10,
   "metadata": {},
   "outputs": [
    {
     "name": "stdout",
     "output_type": "stream",
     "text": [
      "  0.090228 seconds (81.61 k allocations: 4.295 MiB)\n"
     ]
    },
    {
     "data": {
      "text/plain": [
       "Table with 1 rows, 10 columns:\n",
       "Columns:\n",
       "\u001b[1m#   \u001b[22m\u001b[1mcolname  \u001b[22m\u001b[1mtype\u001b[22m\n",
       "───────────────────\n",
       "1   CHROM    Any\n",
       "2   POS      Any\n",
       "3   ID       String\n",
       "4   REF      String\n",
       "5   ALT      String\n",
       "6   QUAL     String\n",
       "7   FILTER   String\n",
       "8   INFO     String\n",
       "9   FORMAT   String\n",
       "10  GERM     String"
      ]
     },
     "execution_count": 10,
     "metadata": {},
     "output_type": "execute_result"
    }
   ],
   "source": [
    "@time filter(i -> (i.CHROM == benchmark_variant[1]) && (i.POS == benchmark_variant[2]), vcf_table_dagger)"
   ]
  },
  {
   "cell_type": "markdown",
   "metadata": {},
   "source": [
    "# Access VCF data from NDSParse v.s. IndexedTable\n",
    "\n",
    "Indexed Table should win."
   ]
  },
  {
   "cell_type": "code",
   "execution_count": null,
   "metadata": {},
   "outputs": [],
   "source": [
    "benchmark_variant_2 = [1, 19322]\n",
    "\n",
    "benchmark_region_2 = [1, 500000, 800000]"
   ]
  },
  {
   "cell_type": "markdown",
   "metadata": {},
   "source": [
    "#### NDSparse"
   ]
  },
  {
   "cell_type": "code",
   "execution_count": null,
   "metadata": {},
   "outputs": [],
   "source": [
    "@time filter(i -> (i.CHROM == benchmark_variant_2[1]) && (i.POS == benchmark_variant_2[2]), vcf_ndsparse)"
   ]
  },
  {
   "cell_type": "markdown",
   "metadata": {},
   "source": [
    "#### IndexedTable"
   ]
  },
  {
   "cell_type": "code",
   "execution_count": null,
   "metadata": {},
   "outputs": [],
   "source": [
    "@time filter(i -> (i.CHROM == benchmark_variant_2[1]) && (i.POS == benchmark_variant_2[2]), vcf_table)"
   ]
  }
 ],
 "metadata": {
  "kernelspec": {
   "display_name": "Julia 1.5.3",
   "language": "julia",
   "name": "julia-1.5"
  },
  "language_info": {
   "file_extension": ".jl",
   "mimetype": "application/julia",
   "name": "julia",
   "version": "1.5.3"
  }
 },
 "nbformat": 4,
 "nbformat_minor": 4
}
