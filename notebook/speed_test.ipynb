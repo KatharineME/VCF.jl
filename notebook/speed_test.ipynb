{
 "cells": [
  {
   "cell_type": "code",
   "execution_count": 1,
   "metadata": {},
   "outputs": [],
   "source": [
    "using JuliaDB\n",
    "using IndexedTables\n",
    "using Dagger\n",
    "\n",
    "using VCFTool"
   ]
  },
  {
   "cell_type": "code",
   "execution_count": 24,
   "metadata": {},
   "outputs": [],
   "source": [
    "input_dir = \"../input/\"\n",
    "\n",
    "vcf_738_1000_file_path = joinpath(input_dir, \"738_variants_1000.vcf.gz\")\n",
    "\n",
    "vcf_file_path_to_use = vcf_738_1000_file_path;"
   ]
  },
  {
   "cell_type": "code",
   "execution_count": 23,
   "metadata": {},
   "outputs": [],
   "source": [
    "vcf_table = make_vcf_indexedtable(vcf_file_path_to_use);"
   ]
  },
  {
   "cell_type": "code",
   "execution_count": 15,
   "metadata": {},
   "outputs": [],
   "source": [
    "vcf_ndsparse = make_vcf_ndsparse(vcf_file_path_to_use);"
   ]
  },
  {
   "cell_type": "code",
   "execution_count": 16,
   "metadata": {},
   "outputs": [],
   "source": [
    "Dagger.save(vcf_table, \"../input/738_variants_1000.vcf.dagger\");"
   ]
  },
  {
   "cell_type": "code",
   "execution_count": 17,
   "metadata": {},
   "outputs": [],
   "source": [
    "using Dagger\n",
    "\n",
    "vcf_table_dagger = Dagger.load(\"../input/738_variants_1000.vcf.dagger\");"
   ]
  },
  {
   "cell_type": "markdown",
   "metadata": {},
   "source": [
    "# Dagger load v.s. load from file\n",
    "\n",
    "Here we compare how long it takes to access a particular variant and a chromosomal region in a regular JuliaDB IndexedTable that was loaded directly from a file versus an index file that was created via `Dagger.save` and loaded here via `Dagger.load`. Using Dagger to save and load a VCF adds another step and dependency to data prep, so this speed test will tell if its worth it."
   ]
  },
  {
   "cell_type": "code",
   "execution_count": 8,
   "metadata": {},
   "outputs": [
    {
     "data": {
      "text/plain": [
       "3-element Array{Int64,1}:\n",
       "      1\n",
       "  10000\n",
       " 100000"
      ]
     },
     "execution_count": 8,
     "metadata": {},
     "output_type": "execute_result"
    }
   ],
   "source": [
    "benchmark_variant = [1, 13868]\n",
    "\n",
    "benchmark_region = [1, 10000, 100000]"
   ]
  },
  {
   "cell_type": "markdown",
   "metadata": {},
   "source": [
    "## Variant\n",
    "\n",
    "#### IndexedTable from file"
   ]
  },
  {
   "cell_type": "code",
   "execution_count": 18,
   "metadata": {},
   "outputs": [
    {
     "name": "stdout",
     "output_type": "stream",
     "text": [
      "  0.102539 seconds (81.61 k allocations: 4.294 MiB)\n"
     ]
    }
   ],
   "source": [
    "@time filter(i -> (i.CHROM == benchmark_variant[1]) && (i.POS == benchmark_variant[2]), vcf_table);"
   ]
  },
  {
   "cell_type": "markdown",
   "metadata": {},
   "source": [
    "#### Dagger file"
   ]
  },
  {
   "cell_type": "code",
   "execution_count": 19,
   "metadata": {},
   "outputs": [
    {
     "name": "stdout",
     "output_type": "stream",
     "text": [
      "  0.102654 seconds (81.62 k allocations: 4.295 MiB)\n"
     ]
    }
   ],
   "source": [
    "@time filter(i -> (i.CHROM == benchmark_variant[1]) && (i.POS == benchmark_variant[2]), vcf_table_dagger);"
   ]
  },
  {
   "cell_type": "markdown",
   "metadata": {},
   "source": [
    "## Region\n",
    "\n",
    "#### IndexedTable from file"
   ]
  },
  {
   "cell_type": "code",
   "execution_count": 28,
   "metadata": {},
   "outputs": [
    {
     "name": "stdout",
     "output_type": "stream",
     "text": [
      "  0.105188 seconds (84.73 k allocations: 4.462 MiB)\n"
     ]
    }
   ],
   "source": [
    "@time filter(i -> (i.CHROM == benchmark_region[1]) && (i.POS > benchmark_region[2]) && (i.POS < benchmark_region[3]), vcf_table);"
   ]
  },
  {
   "cell_type": "markdown",
   "metadata": {},
   "source": [
    "#### Dagger file"
   ]
  },
  {
   "cell_type": "code",
   "execution_count": 30,
   "metadata": {},
   "outputs": [
    {
     "name": "stdout",
     "output_type": "stream",
     "text": [
      "  0.105930 seconds (84.73 k allocations: 4.461 MiB)\n"
     ]
    }
   ],
   "source": [
    "@time filter(i -> (i.CHROM == benchmark_region[1]) && (i.POS > benchmark_region[2]) && (i.POS < benchmark_region[3]), vcf_table_dagger);"
   ]
  },
  {
   "cell_type": "markdown",
   "metadata": {},
   "source": [
    "# Access VCF data from NDSParse v.s. IndexedTable\n",
    "\n",
    "Indexed Table should win."
   ]
  },
  {
   "cell_type": "code",
   "execution_count": 20,
   "metadata": {},
   "outputs": [
    {
     "data": {
      "text/plain": [
       "3-element Array{Int64,1}:\n",
       "      1\n",
       " 500000\n",
       " 800000"
      ]
     },
     "execution_count": 20,
     "metadata": {},
     "output_type": "execute_result"
    }
   ],
   "source": [
    "benchmark_variant_2 = [1, 19322]\n",
    "\n",
    "benchmark_region_2 = [1, 500000, 800000]"
   ]
  },
  {
   "cell_type": "markdown",
   "metadata": {},
   "source": [
    "## Variant\n",
    "\n",
    "#### NDSparse"
   ]
  },
  {
   "cell_type": "code",
   "execution_count": 42,
   "metadata": {},
   "outputs": [
    {
     "name": "stdout",
     "output_type": "stream",
     "text": [
      "  0.114877 seconds (81.05 k allocations: 4.354 MiB)\n"
     ]
    },
    {
     "data": {
      "text/plain": [
       "2-d NDSparse with 0 values (10 field named tuples):\n",
       "CHROM  POS │ CHROM  POS  ID  REF  ALT  QUAL  FILTER  INFO\n",
       "───────────┼─────────────────────────────────────────────"
      ]
     },
     "execution_count": 42,
     "metadata": {},
     "output_type": "execute_result"
    }
   ],
   "source": [
    "@time filter(i -> (i.CHROM == benchmark_variant_2[1]) && (i.POS == benchmark_variant_2[2]), vcf_ndsparse)"
   ]
  },
  {
   "cell_type": "markdown",
   "metadata": {},
   "source": [
    "#### IndexedTable"
   ]
  },
  {
   "cell_type": "code",
   "execution_count": 43,
   "metadata": {},
   "outputs": [
    {
     "name": "stdout",
     "output_type": "stream",
     "text": [
      "  0.102852 seconds (81.61 k allocations: 4.301 MiB)\n"
     ]
    },
    {
     "data": {
      "text/plain": [
       "Table with 1 rows, 10 columns:\n",
       "\u001b[1mCHROM  \u001b[22m\u001b[1mPOS    \u001b[22mID   REF  ALT  QUAL  FILTER                       INFO               FORMAT                                  GERM\n",
       "────────────────────────────────────────────────────────────────────────────────────────────────────────────────────────────────────────────────────────────────────────────\n",
       "1      19322  \".\"  \"C\"  \"T\"  \"0\"   \"LowGQX;NoPassedVariantGTs\"  \"SNVHPOL=3;MQ=13\"  \"GT:GQ:GQX:DP:DPF:AD:ADF:ADR:SB:FT:PL\"  \"0/1:15:0:17:0:14,3:10,1:4,2:0.0:LowGQX:17,0,146\""
      ]
     },
     "execution_count": 43,
     "metadata": {},
     "output_type": "execute_result"
    }
   ],
   "source": [
    "@time filter(i -> (i.CHROM == benchmark_variant_2[1]) && (i.POS == benchmark_variant_2[2]), vcf_table)"
   ]
  },
  {
   "cell_type": "markdown",
   "metadata": {},
   "source": [
    "## Region\n",
    "\n",
    "#### NDSparse"
   ]
  },
  {
   "cell_type": "code",
   "execution_count": 46,
   "metadata": {},
   "outputs": [
    {
     "name": "stdout",
     "output_type": "stream",
     "text": [
      "  0.108096 seconds (82.02 k allocations: 4.396 MiB)\n"
     ]
    },
    {
     "data": {
      "text/plain": [
       "2-d NDSparse with 0 values (10 field named tuples):\n",
       "CHROM  POS │ CHROM  POS  ID  REF  ALT  QUAL  FILTER  INFO\n",
       "───────────┼─────────────────────────────────────────────"
      ]
     },
     "execution_count": 46,
     "metadata": {},
     "output_type": "execute_result"
    }
   ],
   "source": [
    "@time filter(i -> (i.CHROM == benchmark_region[1]) && (i.POS > benchmark_region[2]) && (i.POS < benchmark_region[3]), vcf_ndsparse)"
   ]
  },
  {
   "cell_type": "markdown",
   "metadata": {},
   "source": [
    "#### IndexedTable"
   ]
  },
  {
   "cell_type": "code",
   "execution_count": 47,
   "metadata": {
    "collapsed": true,
    "jupyter": {
     "outputs_hidden": true
    }
   },
   "outputs": [
    {
     "name": "stdout",
     "output_type": "stream",
     "text": [
      "  0.105148 seconds (84.73 k allocations: 4.467 MiB)\n"
     ]
    },
    {
     "data": {
      "text/plain": [
       "Table with 95 rows, 10 columns:\n",
       "\u001b[1mCHROM  \u001b[22m\u001b[1mPOS    \u001b[22mID   REF   ALT      QUAL   FILTER                                INFO                                           FORMAT                                  GERM\n",
       "──────────────────────────────────────────────────────────────────────────────────────────────────────────────────────────────────────────────────────────────────────────────────────────────────────────────────────────────\n",
       "1      10439  \".\"  \"AC\"  \"A\"      \"72\"   \"PASS\"                                \"CIGAR=1M1D;RU=C;REFREP=4;IDREP=3;MQ=9\"        \"GT:GQ:GQX:DPI:AD:ADF:ADR:FT:PL\"        \"0/1:31:5:7:2,5:0,1:2,4:PASS:108,0,28\"\n",
       "1      13284  \".\"  \"G\"   \"A\"      \"60\"   \"LowGQX;NoPassedVariantGTs\"           \"SNVHPOL=4;MQ=17\"                              \"GT:GQ:GQX:DP:DPF:AD:ADF:ADR:SB:FT:PL\"  \"0/1:93:1:30:1:19,11:12,8:7,3:-9.2:LowGQX:95,0,157\"\n",
       "1      13868  \".\"  \"A\"   \"G\"      \"1\"    \"LowGQX;LowDepth;NoPassedVariantGTs\"  \"SNVHPOL=3;MQ=4\"                               \"GT:GQ:GQX:DP:DPF:AD:ADF:ADR:SB:FT:PL\"  \"0/1:3:0:1:0:0,1:0,0:0,1:0.0:LowGQX;LowDepth:28,3,0\"\n",
       "1      15274  \".\"  \"A\"   \"G\"      \"1\"    \"LowGQX;LowDepth;NoPassedVariantGTs\"  \"SNVHPOL=2;MQ=3\"                               \"GT:GQ:GQX:DP:DPF:AD:ADF:ADR:SB:FT:PL\"  \"0/1:3:0:1:0:0,1:0,0:0,1:0.0:LowGQX;LowDepth:27,3,0\"\n",
       "1      15903  \".\"  \"G\"   \"GC\"     \"209\"  \"PASS\"                                \"CIGAR=1M1I;RU=C;REFREP=2;IDREP=3;MQ=17\"       \"GT:GQ:GQX:DPI:AD:ADF:ADR:FT:PL\"        \"1/1:24:17:9:0,9:0,9:0,0:PASS:255,27,0\"\n",
       "1      16683  \".\"  \"T\"   \"G\"      \"0\"    \"LowGQX;NoPassedVariantGTs\"           \"SNVHPOL=7;MQ=10\"                              \"GT:GQ:GQX:DP:DPF:AD:ADF:ADR:SB:FT:PL\"  \"0/1:20:0:3:1:2,1:0,0:2,1:0.0:LowGQX:23,0,42\"\n",
       "1      16713  \".\"  \"T\"   \"G\"      \"0\"    \"LowGQX;LowDepth;NoPassedVariantGTs\"  \"SNVHPOL=6;MQ=11\"                              \"GT:GQ:GQX:DP:DPF:AD:ADF:ADR:SB:FT:PL\"  \"0/1:16:0:2:2:1,1:0,0:1,1:0.0:LowGQX;LowDepth:21,0,20\"\n",
       "1      16731  \".\"  \"C\"   \"G\"      \"0\"    \"LowGQX;NoPassedVariantGTs\"           \"SNVHPOL=8;MQ=16\"                              \"GT:GQ:GQX:DP:DPF:AD:ADF:ADR:SB:FT:PL\"  \"0/1:22:0:6:10:4,2:0,0:4,2:0.0:LowGQX:25,0,58\"\n",
       "1      16734  \".\"  \"T\"   \"G\"      \"4\"    \"LowGQX;NoPassedVariantGTs\"           \"SNVHPOL=8;MQ=15\"                              \"GT:GQ:GQX:DP:DPF:AD:ADF:ADR:SB:FT:PL\"  \"0/1:33:0:6:9:3,3:0,0:3,3:0.0:LowGQX:37,0,35\"\n",
       "1      19322  \".\"  \"C\"   \"T\"      \"0\"    \"LowGQX;NoPassedVariantGTs\"           \"SNVHPOL=3;MQ=13\"                              \"GT:GQ:GQX:DP:DPF:AD:ADF:ADR:SB:FT:PL\"  \"0/1:15:0:17:0:14,3:10,1:4,2:0.0:LowGQX:17,0,146\"\n",
       "1      19795  \".\"  \"T\"   \"C\"      \"14\"   \"LowGQX;NoPassedVariantGTs\"           \"SNVHPOL=4;MQ=18\"                              \"GT:GQ:GQX:DP:DPF:AD:ADF:ADR:SB:FT:PL\"  \"0/1:47:1:11:0:9,2:2,1:7,1:-3.2:LowGQX:48,0,130\"\n",
       "1      28494  \".\"  \"T\"   \"C\"      \"1\"    \"LowGQX;LowDepth;NoPassedVariantGTs\"  \"SNVHPOL=3;MQ=5\"                               \"GT:GQ:GQX:DP:DPF:AD:ADF:ADR:SB:FT:PL\"  \"0/1:3:0:1:0:0,1:0,1:0,0:0.0:LowGQX;LowDepth:27,3,0\"\n",
       "⋮\n",
       "1      94824  \".\"  \"CT\"  \"C\"      \"141\"  \"PASS\"                                \"CIGAR=1M1D;RU=T;REFREP=23;IDREP=22;MQ=30\"     \"GT:GQ:GQX:DPI:AD:ADF:ADR:FT:PL\"        \"0/1:50:3:49:16,24:15,16:1,8:PASS:142,0,47\"\n",
       "1      96124  \".\"  \"C\"   \"T\"      \"0\"    \"LowGQX;LowDepth;NoPassedVariantGTs\"  \"SNVHPOL=2;MQ=5\"                               \"GT:GQ:GQX:DP:DPF:AD:ADF:ADR:SB:FT:PL\"  \"0/1:17:0:2:0:1,1:0,1:1,0:0.0:LowGQX;LowDepth:22,0,21\"\n",
       "1      96163  \".\"  \"C\"   \"T\"      \"0\"    \"LowGQX;NoPassedVariantGTs\"           \"SNVHPOL=3;MQ=9\"                               \"GT:GQ:GQX:DP:DPF:AD:ADF:ADR:SB:FT:PL\"  \"0/1:11:0:6:0:5,1:3,1:2,0:0.0:LowGQX:13,0,95\"\n",
       "1      96355  \".\"  \"G\"   \"A\"      \"0\"    \"LowGQX;NoPassedVariantGTs\"           \"SNVHPOL=2;MQ=8\"                               \"GT:GQ:GQX:DP:DPF:AD:ADF:ADR:SB:FT:PL\"  \"0/1:15:0:4:0:3,1:3,1:0,0:0.0:LowGQX:18,0,57\"\n",
       "1      98583  \".\"  \"T\"   \"A\"      \"122\"  \"LowGQX;NoPassedVariantGTs\"           \"SNVHPOL=2;MQ=27\"                              \"GT:GQ:GQX:DP:DPF:AD:ADF:ADR:SB:FT:PL\"  \"0/1:155:2:56:0:34,22:19,13:15,9:-16.6:LowGQX:156,0,279\"\n",
       "1      98945  \".\"  \"C\"   \"T\"      \"0\"    \"LowGQX;NoPassedVariantGTs\"           \"SNVHPOL=2;MQ=31\"                              \"GT:GQ:GQX:DP:DPF:AD:ADF:ADR:SB:FT:PL\"  \"0/1:13:0:52:1:45,7:14,4:31,3:0.0:LowGQX:15,0,370\"\n",
       "1      98999  \".\"  \"T\"   \"TTTTA\"  \"713\"  \"PASS\"                                \"CIGAR=1M4I;RU=TTTA;REFREP=10;IDREP=11;MQ=34\"  \"GT:GQ:GQX:DPI:AD:ADF:ADR:FT:PL\"        \"0/1:100:4:67:12,39:6,23:6,16:PASS:723,0,97\"\n",
       "1      99117  \".\"  \"G\"   \"T\"      \"5\"    \"LowGQX;NoPassedVariantGTs\"           \"SNVHPOL=25;MQ=18\"                             \"GT:GQ:GQX:DP:DPF:AD:ADF:ADR:SB:FT:PL\"  \"0/1:37:0:17:1:13,4:0,4:13,0:9.0:LowGQX:38,0,146\"\n",
       "1      99118  \".\"  \"G\"   \"T\"      \"0\"    \"LowGQX;NoPassedVariantGTs\"           \"SNVHPOL=2;MQ=16\"                              \"GT:GQ:GQX:DP:DPF:AD:ADF:ADR:SB:FT:PL\"  \"0/1:15:0:15:1:13,2:0,2:13,0:0.0:LowGQX:17,0,149\"\n",
       "1      99874  \".\"  \"C\"   \"T\"      \"0\"    \"LowGQX;NoPassedVariantGTs\"           \"SNVHPOL=2;MQ=15\"                              \"GT:GQ:GQX:DP:DPF:AD:ADF:ADR:SB:FT:PL\"  \"0/1:5:0:14:0:12,2:0,0:12,2:0.0:LowGQX:5,0,143\"\n",
       "1      99887  \".\"  \"C\"   \"G\"      \"0\"    \"LowGQX;NoPassedVariantGTs\"           \"SNVHPOL=2;MQ=14\"                              \"GT:GQ:GQX:DP:DPF:AD:ADF:ADR:SB:FT:PL\"  \"0/1:8:0:13:0:11,2:0,0:11,2:0.0:LowGQX:9,0,130\""
      ]
     },
     "execution_count": 47,
     "metadata": {},
     "output_type": "execute_result"
    }
   ],
   "source": [
    "@time filter(i -> (i.CHROM == benchmark_region[1]) && (i.POS > benchmark_region[2]) && (i.POS < benchmark_region[3]), vcf_table)"
   ]
  },
  {
   "cell_type": "code",
   "execution_count": null,
   "metadata": {},
   "outputs": [],
   "source": []
  }
 ],
 "metadata": {
  "kernelspec": {
   "display_name": "Julia 1.5.3",
   "language": "julia",
   "name": "julia-1.5"
  },
  "language_info": {
   "file_extension": ".jl",
   "mimetype": "application/julia",
   "name": "julia",
   "version": "1.5.3"
  }
 },
 "nbformat": 4,
 "nbformat_minor": 4
}
