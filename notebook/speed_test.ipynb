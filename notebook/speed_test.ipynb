{
 "cells": [
  {
   "cell_type": "code",
   "execution_count": 1,
   "metadata": {},
   "outputs": [],
   "source": [
    "using JuliaDB\n",
    "using IndexedTables\n",
    "using Dagger\n",
    "using VCFTool"
   ]
  },
  {
   "cell_type": "code",
   "execution_count": 2,
   "metadata": {},
   "outputs": [],
   "source": [
    "input_dir = \"../input/\"\n",
    "\n",
    "vcf_738_file_path = joinpath(input_dir, \"738_variants.vcf.gz\")\n",
    "\n",
    "vcf_738_dagger_file_path = joinpath(input_dir, \"738_variants.vcf.dagger\")\n",
    "\n",
    "vcf_738_1000_file_path = joinpath(input_dir, \"738_variants_1000.vcf.gz\")\n",
    "\n",
    "vcf_738_1000_dagger_file_path = joinpath(input_dir, \"738_variants_1000.vcf.dagger\")\n",
    "\n",
    "vcf_file_path_to_use = vcf_738_1000_file_path\n",
    "\n",
    "vcf_dagger_path_to_use = vcf_738_1000_dagger_file_path;"
   ]
  },
  {
   "cell_type": "code",
   "execution_count": 3,
   "metadata": {},
   "outputs": [
    {
     "name": "stdout",
     "output_type": "stream",
     "text": [
      "Loading Dagger file...\n",
      "\n",
      "Dagger file loaded.\n"
     ]
    }
   ],
   "source": [
    "vcf_table = make_vcf_indexedtable(vcf_file_path_to_use)\n",
    "\n",
    "vcf_table_dagger = Dagger.load(vcf_dagger_path_to_use)\n",
    "\n",
    "vcf_ndsparse = make_vcf_ndsparse(vcf_file_path_to_use);"
   ]
  },
  {
   "cell_type": "code",
   "execution_count": 17,
   "metadata": {},
   "outputs": [],
   "source": [
    "benchmark_chrom = \"chr1\"\n",
    "\n",
    "benchmark_chrom_int = 1\n",
    "\n",
    "benchmark_variant = 13868\n",
    "\n",
    "benchmark_region_start = 10000\n",
    "\n",
    "benchmark_region_end = 900000;\n",
    "\n",
    "benchmark_variant_2 = 19322\n",
    "\n",
    "benchmark_region_2_start = 500000\n",
    "\n",
    "benchmark_region_2_end = 800000;"
   ]
  },
  {
   "cell_type": "markdown",
   "metadata": {},
   "source": [
    "# NDSParse v.s. IndexedTable v.s. tabix\n",
    "\n",
    "Past tests show tabix takes about .01 seconds to complete a query - about 10X faster than either NDSparse or IndexedTable. On the fist query, IndexedTable will take a few seconds. On all following queries, both NDSparse and Indexedtable will take about .1 seconds."
   ]
  },
  {
   "cell_type": "markdown",
   "metadata": {},
   "source": [
    "## Variant"
   ]
  },
  {
   "cell_type": "code",
   "execution_count": 8,
   "metadata": {},
   "outputs": [
    {
     "name": "stdout",
     "output_type": "stream",
     "text": [
      "  0.113088 seconds (80.85 k allocations: 4.349 MiB)\n"
     ]
    }
   ],
   "source": [
    "@time filter(i -> (i.CHROM == benchmark_chrom) && (i.POS == benchmark_variant), vcf_ndsparse);"
   ]
  },
  {
   "cell_type": "code",
   "execution_count": 9,
   "metadata": {},
   "outputs": [
    {
     "name": "stdout",
     "output_type": "stream",
     "text": [
      "  0.104540 seconds (81.84 k allocations: 4.336 MiB)\n"
     ]
    }
   ],
   "source": [
    "@time filter(i -> (i.CHROM == benchmark_chrom) && (i.POS == benchmark_variant), vcf_table);"
   ]
  },
  {
   "cell_type": "code",
   "execution_count": 10,
   "metadata": {},
   "outputs": [
    {
     "name": "stdout",
     "output_type": "stream",
     "text": [
      "chr1\t13868\t.\tA\tG\t1\tLowGQX;LowDepth;NoPassedVariantGTs\tSNVHPOL=3;MQ=4\tGT:GQ:GQX:DP:DPF:AD:ADF:ADR:SB:FT:PL\t0/1:3:0:1:0:0,1:0,0:0,1:0.0:LowGQX;LowDepth:28,3,0\n",
      "  0.010808 seconds (96 allocations: 4.516 KiB)\n"
     ]
    },
    {
     "data": {
      "text/plain": [
       "Process(`\u001b[4mtabix\u001b[24m \u001b[4m../input/738_variants_1000.vcf.gz\u001b[24m \u001b[4mchr1:13868-13868\u001b[24m`, ProcessExited(0))"
      ]
     },
     "execution_count": 10,
     "metadata": {},
     "output_type": "execute_result"
    }
   ],
   "source": [
    "@time run(`tabix $vcf_file_path_to_use $benchmark_chrom:$benchmark_variant-$benchmark_variant`)"
   ]
  },
  {
   "cell_type": "markdown",
   "metadata": {},
   "source": [
    "## Region"
   ]
  },
  {
   "cell_type": "code",
   "execution_count": null,
   "metadata": {},
   "outputs": [],
   "source": [
    "@time filter(i -> (i.CHROM == benchmark_chrom) && (i.POS > benchmark_region_2_start) && (i.POS < benchmark_region_2_end), vcf_table);"
   ]
  },
  {
   "cell_type": "code",
   "execution_count": null,
   "metadata": {},
   "outputs": [],
   "source": [
    "@time run(`tabix $vcf_file_path_to_use $benchmark_chrom:$benchmark_region_2_start-$benchmark_region_2_end`)"
   ]
  },
  {
   "cell_type": "markdown",
   "metadata": {},
   "source": [
    "# IndexedTable: indexed by ints vs. strings\n",
    "\n",
    "Past tests show using chromosome ints is a few milliseconds faster."
   ]
  },
  {
   "cell_type": "code",
   "execution_count": null,
   "metadata": {},
   "outputs": [],
   "source": [
    "# Convert chromosome strings to chromosome integers\n",
    "\n",
    "chromosomes_string = Array(columns(vcf_table)[1])\n",
    "\n",
    "chromosomes_int = []\n",
    "\n",
    "for item in chromosomes_string\n",
    "\n",
    "   parts = split(item, \"\")\n",
    "\n",
    "   number = parts[length(parts)]\n",
    "\n",
    "   push!(chromosomes_int, parse(Int, number))\n",
    "\n",
    "end\n",
    "\n",
    "vcf_table_chrom_int = IndexedTables.transform(vcf_table, :CHROM => chromosomes_int);"
   ]
  },
  {
   "cell_type": "markdown",
   "metadata": {},
   "source": [
    "## Variant"
   ]
  },
  {
   "cell_type": "code",
   "execution_count": null,
   "metadata": {},
   "outputs": [],
   "source": [
    "@time filter(i -> (i.CHROM == benchmark_chrom) && (i.POS == benchmark_variant), vcf_table);"
   ]
  },
  {
   "cell_type": "code",
   "execution_count": null,
   "metadata": {},
   "outputs": [],
   "source": [
    "@time filter(i -> (i.CHROM == benchmark_chrom_int) && (i.POS == benchmark_variant), vcf_table_chrom_int);"
   ]
  },
  {
   "cell_type": "markdown",
   "metadata": {},
   "source": [
    "## Region"
   ]
  },
  {
   "cell_type": "code",
   "execution_count": null,
   "metadata": {},
   "outputs": [],
   "source": [
    "@time filter(i -> (i.CHROM == benchmark_chrom) && (i.POS > benchmark_region_start) && (i.POS < benchmark_region_end), vcf_table);"
   ]
  },
  {
   "cell_type": "code",
   "execution_count": null,
   "metadata": {},
   "outputs": [],
   "source": [
    "@time filter(i -> (i.CHROM == benchmark_chrom_int) && (i.POS > benchmark_region_start) && (i.POS < benchmark_region_end), vcf_table_chrom_int);"
   ]
  },
  {
   "cell_type": "markdown",
   "metadata": {},
   "source": [
    "# IndexedTable: load from vcf v.s. load from Dagger file\n",
    "\n",
    "`Dagger.load` is well documented to be faster than `loadtable()` which loads a table from a regular text file. However, here we test whether it makes a difference on query speed once the data object has been loaded.\n",
    "\n",
    "Past tests show query speeds are very similar, within .01 seconds of each other."
   ]
  },
  {
   "cell_type": "markdown",
   "metadata": {},
   "source": [
    "## Variant"
   ]
  },
  {
   "cell_type": "code",
   "execution_count": 11,
   "metadata": {},
   "outputs": [
    {
     "name": "stdout",
     "output_type": "stream",
     "text": [
      "  0.112802 seconds (81.84 k allocations: 4.336 MiB)\n"
     ]
    }
   ],
   "source": [
    "@time filter(i -> (i.CHROM == benchmark_chrom) && (i.POS == benchmark_variant), vcf_table);"
   ]
  },
  {
   "cell_type": "code",
   "execution_count": 12,
   "metadata": {},
   "outputs": [
    {
     "name": "stdout",
     "output_type": "stream",
     "text": [
      "  0.104337 seconds (81.83 k allocations: 4.337 MiB)\n"
     ]
    }
   ],
   "source": [
    "@time filter(i -> (i.CHROM == benchmark_chrom) && (i.POS == benchmark_variant), vcf_table_dagger);"
   ]
  },
  {
   "cell_type": "markdown",
   "metadata": {},
   "source": [
    "## Region"
   ]
  },
  {
   "cell_type": "code",
   "execution_count": 20,
   "metadata": {},
   "outputs": [
    {
     "name": "stdout",
     "output_type": "stream",
     "text": [
      "  0.109939 seconds (96.15 k allocations: 5.516 MiB)\n"
     ]
    }
   ],
   "source": [
    "@time filter(i -> (i.CHROM == benchmark_chrom) && (i.POS > benchmark_region_start) && (i.POS < benchmark_region_end), vcf_table);"
   ]
  },
  {
   "cell_type": "code",
   "execution_count": 21,
   "metadata": {},
   "outputs": [
    {
     "name": "stdout",
     "output_type": "stream",
     "text": [
      "  0.104267 seconds (96.15 k allocations: 5.516 MiB)\n"
     ]
    }
   ],
   "source": [
    "@time filter(i -> (i.CHROM == benchmark_chrom) && (i.POS > benchmark_region_start) && (i.POS < benchmark_region_end), vcf_table_dagger);"
   ]
  }
 ],
 "metadata": {
  "kernelspec": {
   "display_name": "Julia 1.5.3",
   "language": "julia",
   "name": "julia-1.5"
  },
  "language_info": {
   "file_extension": ".jl",
   "mimetype": "application/julia",
   "name": "julia",
   "version": "1.5.3"
  }
 },
 "nbformat": 4,
 "nbformat_minor": 4
}
