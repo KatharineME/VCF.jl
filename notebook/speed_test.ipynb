{
 "cells": [
  {
   "cell_type": "code",
   "execution_count": 1,
   "metadata": {},
   "outputs": [
    {
     "name": "stderr",
     "output_type": "stream",
     "text": [
      "┌ Info: Precompiling VCFTool [8f8d80d9-e796-45a3-8ef2-c0461a3110a4]\n",
      "└ @ Base loading.jl:1278\n",
      "WARNING: using IndexedTables.rename in module VCFTool conflicts with an existing identifier.\n"
     ]
    }
   ],
   "source": [
    "using JuliaDB\n",
    "using IndexedTables\n",
    "using Dagger\n",
    "using VCFTool"
   ]
  },
  {
   "cell_type": "code",
   "execution_count": 3,
   "metadata": {},
   "outputs": [],
   "source": [
    "input_dir = \"../input/\"\n",
    "\n",
    "vcf_738_file_path = joinpath(input_dir, \"738_variants.vcf.gz\")\n",
    "\n",
    "vcf_738_dagger_file_path = joinpath(input_dir, \"738_variants.vcf.dagger\")\n",
    "\n",
    "vcf_738_1000_file_path = joinpath(input_dir, \"738_variants_1000.vcf.gz\")\n",
    "\n",
    "vcf_738_1000_dagger_file_path = joinpath(input_dir, \"738_variants_1000.vcf.dagger\")\n",
    "\n",
    "vcf_file_path_to_use = vcf_738_file_path;"
   ]
  },
  {
   "cell_type": "code",
   "execution_count": 4,
   "metadata": {},
   "outputs": [],
   "source": [
    "vcf_table = make_vcf_indexedtable(vcf_file_path_to_use);"
   ]
  },
  {
   "cell_type": "code",
   "execution_count": 15,
   "metadata": {},
   "outputs": [],
   "source": [
    "vcf_ndsparse = make_vcf_ndsparse(vcf_file_path_to_use);"
   ]
  },
  {
   "cell_type": "code",
   "execution_count": 9,
   "metadata": {},
   "outputs": [],
   "source": [
    "Dagger.save(vcf_table, vcf_738_dagger_file_path);"
   ]
  },
  {
   "cell_type": "code",
   "execution_count": 10,
   "metadata": {},
   "outputs": [],
   "source": [
    "vcf_table_dagger = Dagger.load(vcf_738_dagger_file_path);"
   ]
  },
  {
   "cell_type": "code",
   "execution_count": 6,
   "metadata": {},
   "outputs": [
    {
     "data": {
      "text/plain": [
       "Table with 5217068 rows, 10 columns:\n",
       "\u001b[1mCHROM   \u001b[22m\u001b[1mPOS       \u001b[22mID   REF    ALT      QUAL   FILTER                                INFO                                                   FORMAT                                     GERM\n",
       "────────────────────────────────────────────────────────────────────────────────────────────────────────────────────────────────────────────────────────────────────────────────────────────────────────────────────────────────────────────────────\n",
       "\"chr1\"  10439     \".\"  \"AC\"   \"A\"      \"72\"   \"PASS\"                                \"CIGAR=1M1D;RU=C;REFREP=4;IDREP=3;MQ=9\"                \"GT:GQ:GQX:DPI:AD:ADF:ADR:FT:PL\"           \"0/1:31:5:7:2,5:0,1:2,4:PASS:108,0,28\"\n",
       "\"chr1\"  13284     \".\"  \"G\"    \"A\"      \"60\"   \"LowGQX;NoPassedVariantGTs\"           \"SNVHPOL=4;MQ=17\"                                      \"GT:GQ:GQX:DP:DPF:AD:ADF:ADR:SB:FT:PL\"     \"0/1:93:1:30:1:19,11:12,8:7,3:-9.2:LowGQX:95,0,157\"\n",
       "\"chr1\"  13868     \".\"  \"A\"    \"G\"      \"1\"    \"LowGQX;LowDepth;NoPassedVariantGTs\"  \"SNVHPOL=3;MQ=4\"                                       \"GT:GQ:GQX:DP:DPF:AD:ADF:ADR:SB:FT:PL\"     \"0/1:3:0:1:0:0,1:0,0:0,1:0.0:LowGQX;LowDepth:28,3,0\"\n",
       "\"chr1\"  15274     \".\"  \"A\"    \"G\"      \"1\"    \"LowGQX;LowDepth;NoPassedVariantGTs\"  \"SNVHPOL=2;MQ=3\"                                       \"GT:GQ:GQX:DP:DPF:AD:ADF:ADR:SB:FT:PL\"     \"0/1:3:0:1:0:0,1:0,0:0,1:0.0:LowGQX;LowDepth:27,3,0\"\n",
       "\"chr1\"  15903     \".\"  \"G\"    \"GC\"     \"209\"  \"PASS\"                                \"CIGAR=1M1I;RU=C;REFREP=2;IDREP=3;MQ=17\"               \"GT:GQ:GQX:DPI:AD:ADF:ADR:FT:PL\"           \"1/1:24:17:9:0,9:0,9:0,0:PASS:255,27,0\"\n",
       "\"chr1\"  16683     \".\"  \"T\"    \"G\"      \"0\"    \"LowGQX;NoPassedVariantGTs\"           \"SNVHPOL=7;MQ=10\"                                      \"GT:GQ:GQX:DP:DPF:AD:ADF:ADR:SB:FT:PL\"     \"0/1:20:0:3:1:2,1:0,0:2,1:0.0:LowGQX:23,0,42\"\n",
       "\"chr1\"  16713     \".\"  \"T\"    \"G\"      \"0\"    \"LowGQX;LowDepth;NoPassedVariantGTs\"  \"SNVHPOL=6;MQ=11\"                                      \"GT:GQ:GQX:DP:DPF:AD:ADF:ADR:SB:FT:PL\"     \"0/1:16:0:2:2:1,1:0,0:1,1:0.0:LowGQX;LowDepth:21,0,20\"\n",
       "\"chr1\"  16731     \".\"  \"C\"    \"G\"      \"0\"    \"LowGQX;NoPassedVariantGTs\"           \"SNVHPOL=8;MQ=16\"                                      \"GT:GQ:GQX:DP:DPF:AD:ADF:ADR:SB:FT:PL\"     \"0/1:22:0:6:10:4,2:0,0:4,2:0.0:LowGQX:25,0,58\"\n",
       "\"chr1\"  16734     \".\"  \"T\"    \"G\"      \"4\"    \"LowGQX;NoPassedVariantGTs\"           \"SNVHPOL=8;MQ=15\"                                      \"GT:GQ:GQX:DP:DPF:AD:ADF:ADR:SB:FT:PL\"     \"0/1:33:0:6:9:3,3:0,0:3,3:0.0:LowGQX:37,0,35\"\n",
       "\"chr1\"  19322     \".\"  \"C\"    \"T\"      \"0\"    \"LowGQX;NoPassedVariantGTs\"           \"SNVHPOL=3;MQ=13\"                                      \"GT:GQ:GQX:DP:DPF:AD:ADF:ADR:SB:FT:PL\"     \"0/1:15:0:17:0:14,3:10,1:4,2:0.0:LowGQX:17,0,146\"\n",
       "\"chr1\"  19795     \".\"  \"T\"    \"C\"      \"14\"   \"LowGQX;NoPassedVariantGTs\"           \"SNVHPOL=4;MQ=18\"                                      \"GT:GQ:GQX:DP:DPF:AD:ADF:ADR:SB:FT:PL\"     \"0/1:47:1:11:0:9,2:2,1:7,1:-3.2:LowGQX:48,0,130\"\n",
       "\"chr1\"  28494     \".\"  \"T\"    \"C\"      \"1\"    \"LowGQX;LowDepth;NoPassedVariantGTs\"  \"SNVHPOL=3;MQ=5\"                                       \"GT:GQ:GQX:DP:DPF:AD:ADF:ADR:SB:FT:PL\"     \"0/1:3:0:1:0:0,1:0,1:0,0:0.0:LowGQX;LowDepth:27,3,0\"\n",
       "⋮\n",
       "\"chrY\"  56886992  \".\"  \"T\"    \"C\"      \"504\"  \"LowGQX;NoPassedVariantGTs\"           \"SNVHPOL=4;MQ=55\"                                      \"GT:GQ:GQX:DP:DPF:AD:ADF:ADR:SB:FT:PL\"     \"0/1:164:1:70:1:20,50:9,26:11,24:-59.1:LowGQX:370,0,161\"\n",
       "\"chrY\"  56887043  \".\"  \"C\"    \"T\"      \"131\"  \"LowGQX;NoPassedVariantGTs\"           \"SNVHPOL=3;MQ=54\"                                      \"GT:GQ:GQX:DP:DPF:AD:ADF:ADR:SB:FT:PL\"     \"0/1:164:0:72:1:51,21:23,12:28,9:-13.8:LowGQX:166,0,370\"\n",
       "\"chrY\"  56887138  \".\"  \"TGT\"  \"TG,TT\"  \"474\"  \"PASS\"                                \"CIGAR=2M1D,1M1D1M;RU=T,G;REFREP=5,1;IDREP=4,0;MQ=50\"  \"GT:GQ:GQX:DPI:AD:ADF:ADR:FT:PL\"           \"0/1:15:7:50:11,25,11:6,6,4:5,19,7:PASS:523,17,168,268,0,386\"\n",
       "\"chrY\"  56887153  \".\"  \"C\"    \"T\"      \"339\"  \"LowGQX;NoPassedVariantGTs\"           \"SNVHPOL=3;MQ=50\"                                      \"GT:GQ:GQX:DP:DPF:AD:ADF:ADR:SB:FT:PL\"     \"0/1:145:1:48:2:13,35:7,9:6,26:-22.1:LowGQX:370,0,142\"\n",
       "\"chrY\"  56887210  \".\"  \"A\"    \"C\"      \"94\"   \"LowGQX;NoPassedVariantGTs\"           \"SNVHPOL=2;MQ=49\"                                      \"GT:GQ:GQX:DP:DPF:AD:ADF:ADR:SB:FT:PL\"     \"0/1:127:0:34:6:21,13:13,4:8,9:-7.6:LowGQX:129,0,274\"\n",
       "\"chrY\"  56887228  \".\"  \"T\"    \"C\"      \"108\"  \"LowGQX;NoPassedVariantGTs\"           \"SNVHPOL=3;MQ=48\"                                      \"GT:GQ:GQX:DP:DPF:AD:ADF:ADR:SB:FT:PL\"     \"0/1:141:0:37:6:22,15:14,3:8,12:-1.6:LowGQX:143,0,290\"\n",
       "\"chrY\"  56887276  \".\"  \"T\"    \"TC\"     \"347\"  \"LowGQX;NoPassedVariantGTs\"           \"CIGAR=1M1I;RU=C;REFREP=5;IDREP=6;MQ=48\"               \"GT:GQ:GQX:DPI:AD:ADF:ADR:FT:PL:PS\"        \"0|1:266:1:40:18,20:12,1:6,19:LowGQX:379,0,263:56887276\"\n",
       "\"chrY\"  56887285  \".\"  \"A\"    \"C\"      \"170\"  \"LowGQX;NoPassedVariantGTs\"           \"SNVHPOL=6;MQ=49\"                                      \"GT:GQ:GQX:DP:DPF:AD:ADF:ADR:SB:FT:PL:PS\"  \"0|1:120:0:29:9:10,19:3,1:7,18:-5.7:LowGQX:205,0,117:56887276\"\n",
       "\"chrY\"  56887316  \".\"  \"G\"    \"A\"      \"144\"  \"LowGQX;NoPassedVariantGTs\"           \"SNVHPOL=4;MQ=46\"                                      \"GT:GQ:GQX:DP:DPF:AD:ADF:ADR:SB:FT:PL\"     \"0/1:144:0:26:6:9,17:3,0:6,17:2.1:LowGQX:179,0,141\"\n",
       "\"chrY\"  56887463  \".\"  \"C\"    \"A\"      \"0\"    \"LowGQX;NoPassedVariantGTs\"           \"SNVHPOL=2;MQ=42\"                                      \"GT:GQ:GQX:DP:DPF:AD:ADF:ADR:SB:FT:PL\"     \"0/1:4:0:23:0:20,3:7,0:13,3:0.0:LowGQX:3,0,287\"\n",
       "\"chrY\"  56887583  \".\"  \"G\"    \"A\"      \"271\"  \"PASS\"                                \"SNVHPOL=2;MQ=46\"                                      \"GT:GQ:GQX:DP:DPF:AD:ADF:ADR:SB:FT:PL\"     \"1/1:45:18:16:0:0,16:0,5:0,11:-25.9:PASS:309,48,0\""
      ]
     },
     "execution_count": 6,
     "metadata": {},
     "output_type": "execute_result"
    }
   ],
   "source": [
    "IndexedTables.set_show_compact!(false);\n",
    "\n",
    "vcf_table"
   ]
  },
  {
   "cell_type": "markdown",
   "metadata": {},
   "source": [
    "# Load directly from vcf v.s. load from Dagger file\n",
    "\n",
    "Here we compare how long it takes to access a particular variant and a chromosomal region in a regular JuliaDB IndexedTable that was loaded directly from a file versus an index file that was created via `Dagger.save` and loaded here via `Dagger.load`. Using Dagger to save and load a VCF adds another step and dependency to data prep, so this speed test will tell if its worth it."
   ]
  },
  {
   "cell_type": "code",
   "execution_count": 7,
   "metadata": {},
   "outputs": [],
   "source": [
    "benchmark_chrom = \"chr1\"\n",
    "\n",
    "benchmark_variant = 13868\n",
    "\n",
    "benchmark_region_start = 10000\n",
    "\n",
    "benchmark_region_end = 700000;"
   ]
  },
  {
   "cell_type": "markdown",
   "metadata": {},
   "source": [
    "## Variant"
   ]
  },
  {
   "cell_type": "code",
   "execution_count": 8,
   "metadata": {},
   "outputs": [
    {
     "name": "stdout",
     "output_type": "stream",
     "text": [
      "  9.684306 seconds (95.35 M allocations: 5.512 GiB, 9.04% gc time)\n"
     ]
    }
   ],
   "source": [
    "@time filter(i -> (i.CHROM == benchmark_chrom) && (i.POS == benchmark_variant), vcf_table);"
   ]
  },
  {
   "cell_type": "code",
   "execution_count": 11,
   "metadata": {},
   "outputs": [
    {
     "name": "stdout",
     "output_type": "stream",
     "text": [
      "  6.444005 seconds (88.75 M allocations: 5.148 GiB, 17.71% gc time)\n"
     ]
    }
   ],
   "source": [
    "@time filter(i -> (i.CHROM == benchmark_chrom) && (i.POS == benchmark_variant), vcf_table_dagger);"
   ]
  },
  {
   "cell_type": "markdown",
   "metadata": {},
   "source": [
    "## Region"
   ]
  },
  {
   "cell_type": "code",
   "execution_count": 12,
   "metadata": {},
   "outputs": [
    {
     "name": "stdout",
     "output_type": "stream",
     "text": [
      "  5.696883 seconds (88.76 M allocations: 5.149 GiB, 14.29% gc time)\n"
     ]
    }
   ],
   "source": [
    "@time filter(i -> (i.CHROM == benchmark_chrom) && (i.POS > benchmark_region_start) && (i.POS < benchmark_region_end), vcf_table);"
   ]
  },
  {
   "cell_type": "code",
   "execution_count": 13,
   "metadata": {},
   "outputs": [
    {
     "name": "stdout",
     "output_type": "stream",
     "text": [
      "  5.710947 seconds (88.76 M allocations: 5.149 GiB, 14.23% gc time)\n"
     ]
    }
   ],
   "source": [
    "@time filter(i -> (i.CHROM == benchmark_chrom) && (i.POS > benchmark_region_start) && (i.POS < benchmark_region_end), vcf_table_dagger);"
   ]
  },
  {
   "cell_type": "markdown",
   "metadata": {},
   "source": [
    "# NDSParse v.s. IndexedTable v.s. tabix"
   ]
  },
  {
   "cell_type": "code",
   "execution_count": 14,
   "metadata": {},
   "outputs": [
    {
     "data": {
      "text/plain": [
       "800000"
      ]
     },
     "execution_count": 14,
     "metadata": {},
     "output_type": "execute_result"
    }
   ],
   "source": [
    "benchmark_variant_2 = 19322\n",
    "\n",
    "benchmark_region_2_start = 500000\n",
    "\n",
    "benchmark_region_2_end = 800000"
   ]
  },
  {
   "cell_type": "markdown",
   "metadata": {},
   "source": [
    "## Variant"
   ]
  },
  {
   "cell_type": "code",
   "execution_count": 16,
   "metadata": {},
   "outputs": [
    {
     "name": "stdout",
     "output_type": "stream",
     "text": [
      "  6.410873 seconds (84.95 M allocations: 5.303 GiB, 20.67% gc time)\n"
     ]
    }
   ],
   "source": [
    "@time filter(i -> (i.CHROM == benchmark_chrom) && (i.POS == benchmark_variant_2), vcf_ndsparse);"
   ]
  },
  {
   "cell_type": "code",
   "execution_count": 17,
   "metadata": {},
   "outputs": [
    {
     "name": "stdout",
     "output_type": "stream",
     "text": [
      "  6.471574 seconds (88.76 M allocations: 5.148 GiB, 12.02% gc time)\n"
     ]
    }
   ],
   "source": [
    "@time filter(i -> (i.CHROM == benchmark_chrom) && (i.POS == benchmark_variant_2), vcf_table);"
   ]
  },
  {
   "cell_type": "code",
   "execution_count": null,
   "metadata": {},
   "outputs": [],
   "source": [
    "@time run(`tabix $vcf_file_path_to_use $benchmark_chrom:$benchmark_variant_2-$benchmark_variant_2`)"
   ]
  },
  {
   "cell_type": "markdown",
   "metadata": {},
   "source": [
    "## Region"
   ]
  },
  {
   "cell_type": "code",
   "execution_count": null,
   "metadata": {},
   "outputs": [],
   "source": [
    "@time filter(i -> (i.CHROM == benchmark_chrom) && (i.POS > benchmark_region_2_start) && (i.POS < benchmark_region_2_end), vcf_ndsparse);"
   ]
  },
  {
   "cell_type": "code",
   "execution_count": null,
   "metadata": {},
   "outputs": [],
   "source": [
    "@time filter(i -> (i.CHROM == benchmark_chrom) && (i.POS > benchmark_region_2_start) && (i.POS < benchmark_region_2_end), vcf_table);"
   ]
  },
  {
   "cell_type": "code",
   "execution_count": null,
   "metadata": {},
   "outputs": [],
   "source": [
    "@time run(`tabix $vcf_file_path_to_use $benchmark_chrom:$benchmark_region_2_start-$benchmark_region_2_end`)"
   ]
  }
 ],
 "metadata": {
  "kernelspec": {
   "display_name": "Julia 1.5.3",
   "language": "julia",
   "name": "julia-1.5"
  },
  "language_info": {
   "file_extension": ".jl",
   "mimetype": "application/julia",
   "name": "julia",
   "version": "1.5.3"
  }
 },
 "nbformat": 4,
 "nbformat_minor": 4
}
