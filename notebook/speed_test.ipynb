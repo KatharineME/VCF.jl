{
 "cells": [
  {
   "cell_type": "code",
   "execution_count": 1,
   "metadata": {},
   "outputs": [
    {
     "name": "stderr",
     "output_type": "stream",
     "text": [
      "┌ Info: Precompiling VCFTool [8f8d80d9-e796-45a3-8ef2-c0461a3110a4]\n",
      "└ @ Base loading.jl:1278\n",
      "WARNING: using IndexedTables.rename in module VCFTool conflicts with an existing identifier.\n"
     ]
    }
   ],
   "source": [
    "using JuliaDB\n",
    "using IndexedTables\n",
    "using Dagger\n",
    "using VCFTool"
   ]
  },
  {
   "cell_type": "code",
   "execution_count": 3,
   "metadata": {},
   "outputs": [],
   "source": [
    "input_dir = \"../input/\"\n",
    "\n",
    "vcf_738_file_path = joinpath(input_dir, \"738_variants.vcf.gz\")\n",
    "\n",
    "vcf_738_dagger_file_path = joinpath(input_dir, \"738_variants.vcf.dagger\")\n",
    "\n",
    "vcf_738_1000_file_path = joinpath(input_dir, \"738_variants_1000.vcf.gz\")\n",
    "\n",
    "vcf_738_1000_dagger_file_path = joinpath(input_dir, \"738_variants_1000.vcf.dagger\")\n",
    "\n",
    "vcf_file_path_to_use = vcf_738_file_path;"
   ]
  },
  {
   "cell_type": "code",
   "execution_count": 4,
   "metadata": {},
   "outputs": [],
   "source": [
    "vcf_table = make_vcf_indexedtable(vcf_file_path_to_use);"
   ]
  },
  {
   "cell_type": "code",
   "execution_count": 15,
   "metadata": {},
   "outputs": [],
   "source": [
    "vcf_ndsparse = make_vcf_ndsparse(vcf_file_path_to_use);"
   ]
  },
  {
   "cell_type": "code",
   "execution_count": 9,
   "metadata": {},
   "outputs": [],
   "source": [
    "Dagger.save(vcf_table, vcf_738_dagger_file_path);"
   ]
  },
  {
   "cell_type": "code",
   "execution_count": 10,
   "metadata": {},
   "outputs": [],
   "source": [
    "vcf_table_dagger = Dagger.load(vcf_738_dagger_file_path);"
   ]
  },
  {
   "cell_type": "code",
   "execution_count": 6,
   "metadata": {},
   "outputs": [
    {
     "data": {
      "text/plain": [
       "Table with 5217068 rows, 10 columns:\n",
       "\u001b[1mCHROM   \u001b[22m\u001b[1mPOS       \u001b[22mID   REF    ALT      QUAL   FILTER                                INFO                                                   FORMAT                                     GERM\n",
       "────────────────────────────────────────────────────────────────────────────────────────────────────────────────────────────────────────────────────────────────────────────────────────────────────────────────────────────────────────────────────\n",
       "\"chr1\"  10439     \".\"  \"AC\"   \"A\"      \"72\"   \"PASS\"                                \"CIGAR=1M1D;RU=C;REFREP=4;IDREP=3;MQ=9\"                \"GT:GQ:GQX:DPI:AD:ADF:ADR:FT:PL\"           \"0/1:31:5:7:2,5:0,1:2,4:PASS:108,0,28\"\n",
       "\"chr1\"  13284     \".\"  \"G\"    \"A\"      \"60\"   \"LowGQX;NoPassedVariantGTs\"           \"SNVHPOL=4;MQ=17\"                                      \"GT:GQ:GQX:DP:DPF:AD:ADF:ADR:SB:FT:PL\"     \"0/1:93:1:30:1:19,11:12,8:7,3:-9.2:LowGQX:95,0,157\"\n",
       "\"chr1\"  13868     \".\"  \"A\"    \"G\"      \"1\"    \"LowGQX;LowDepth;NoPassedVariantGTs\"  \"SNVHPOL=3;MQ=4\"                                       \"GT:GQ:GQX:DP:DPF:AD:ADF:ADR:SB:FT:PL\"     \"0/1:3:0:1:0:0,1:0,0:0,1:0.0:LowGQX;LowDepth:28,3,0\"\n",
       "\"chr1\"  15274     \".\"  \"A\"    \"G\"      \"1\"    \"LowGQX;LowDepth;NoPassedVariantGTs\"  \"SNVHPOL=2;MQ=3\"                                       \"GT:GQ:GQX:DP:DPF:AD:ADF:ADR:SB:FT:PL\"     \"0/1:3:0:1:0:0,1:0,0:0,1:0.0:LowGQX;LowDepth:27,3,0\"\n",
       "\"chr1\"  15903     \".\"  \"G\"    \"GC\"     \"209\"  \"PASS\"                                \"CIGAR=1M1I;RU=C;REFREP=2;IDREP=3;MQ=17\"               \"GT:GQ:GQX:DPI:AD:ADF:ADR:FT:PL\"           \"1/1:24:17:9:0,9:0,9:0,0:PASS:255,27,0\"\n",
       "\"chr1\"  16683     \".\"  \"T\"    \"G\"      \"0\"    \"LowGQX;NoPassedVariantGTs\"           \"SNVHPOL=7;MQ=10\"                                      \"GT:GQ:GQX:DP:DPF:AD:ADF:ADR:SB:FT:PL\"     \"0/1:20:0:3:1:2,1:0,0:2,1:0.0:LowGQX:23,0,42\"\n",
       "\"chr1\"  16713     \".\"  \"T\"    \"G\"      \"0\"    \"LowGQX;LowDepth;NoPassedVariantGTs\"  \"SNVHPOL=6;MQ=11\"                                      \"GT:GQ:GQX:DP:DPF:AD:ADF:ADR:SB:FT:PL\"     \"0/1:16:0:2:2:1,1:0,0:1,1:0.0:LowGQX;LowDepth:21,0,20\"\n",
       "\"chr1\"  16731     \".\"  \"C\"    \"G\"      \"0\"    \"LowGQX;NoPassedVariantGTs\"           \"SNVHPOL=8;MQ=16\"                                      \"GT:GQ:GQX:DP:DPF:AD:ADF:ADR:SB:FT:PL\"     \"0/1:22:0:6:10:4,2:0,0:4,2:0.0:LowGQX:25,0,58\"\n",
       "\"chr1\"  16734     \".\"  \"T\"    \"G\"      \"4\"    \"LowGQX;NoPassedVariantGTs\"           \"SNVHPOL=8;MQ=15\"                                      \"GT:GQ:GQX:DP:DPF:AD:ADF:ADR:SB:FT:PL\"     \"0/1:33:0:6:9:3,3:0,0:3,3:0.0:LowGQX:37,0,35\"\n",
       "\"chr1\"  19322     \".\"  \"C\"    \"T\"      \"0\"    \"LowGQX;NoPassedVariantGTs\"           \"SNVHPOL=3;MQ=13\"                                      \"GT:GQ:GQX:DP:DPF:AD:ADF:ADR:SB:FT:PL\"     \"0/1:15:0:17:0:14,3:10,1:4,2:0.0:LowGQX:17,0,146\"\n",
       "\"chr1\"  19795     \".\"  \"T\"    \"C\"      \"14\"   \"LowGQX;NoPassedVariantGTs\"           \"SNVHPOL=4;MQ=18\"                                      \"GT:GQ:GQX:DP:DPF:AD:ADF:ADR:SB:FT:PL\"     \"0/1:47:1:11:0:9,2:2,1:7,1:-3.2:LowGQX:48,0,130\"\n",
       "\"chr1\"  28494     \".\"  \"T\"    \"C\"      \"1\"    \"LowGQX;LowDepth;NoPassedVariantGTs\"  \"SNVHPOL=3;MQ=5\"                                       \"GT:GQ:GQX:DP:DPF:AD:ADF:ADR:SB:FT:PL\"     \"0/1:3:0:1:0:0,1:0,1:0,0:0.0:LowGQX;LowDepth:27,3,0\"\n",
       "⋮\n",
       "\"chrY\"  56886992  \".\"  \"T\"    \"C\"      \"504\"  \"LowGQX;NoPassedVariantGTs\"           \"SNVHPOL=4;MQ=55\"                                      \"GT:GQ:GQX:DP:DPF:AD:ADF:ADR:SB:FT:PL\"     \"0/1:164:1:70:1:20,50:9,26:11,24:-59.1:LowGQX:370,0,161\"\n",
       "\"chrY\"  56887043  \".\"  \"C\"    \"T\"      \"131\"  \"LowGQX;NoPassedVariantGTs\"           \"SNVHPOL=3;MQ=54\"                                      \"GT:GQ:GQX:DP:DPF:AD:ADF:ADR:SB:FT:PL\"     \"0/1:164:0:72:1:51,21:23,12:28,9:-13.8:LowGQX:166,0,370\"\n",
       "\"chrY\"  56887138  \".\"  \"TGT\"  \"TG,TT\"  \"474\"  \"PASS\"                                \"CIGAR=2M1D,1M1D1M;RU=T,G;REFREP=5,1;IDREP=4,0;MQ=50\"  \"GT:GQ:GQX:DPI:AD:ADF:ADR:FT:PL\"           \"0/1:15:7:50:11,25,11:6,6,4:5,19,7:PASS:523,17,168,268,0,386\"\n",
       "\"chrY\"  56887153  \".\"  \"C\"    \"T\"      \"339\"  \"LowGQX;NoPassedVariantGTs\"           \"SNVHPOL=3;MQ=50\"                                      \"GT:GQ:GQX:DP:DPF:AD:ADF:ADR:SB:FT:PL\"     \"0/1:145:1:48:2:13,35:7,9:6,26:-22.1:LowGQX:370,0,142\"\n",
       "\"chrY\"  56887210  \".\"  \"A\"    \"C\"      \"94\"   \"LowGQX;NoPassedVariantGTs\"           \"SNVHPOL=2;MQ=49\"                                      \"GT:GQ:GQX:DP:DPF:AD:ADF:ADR:SB:FT:PL\"     \"0/1:127:0:34:6:21,13:13,4:8,9:-7.6:LowGQX:129,0,274\"\n",
       "\"chrY\"  56887228  \".\"  \"T\"    \"C\"      \"108\"  \"LowGQX;NoPassedVariantGTs\"           \"SNVHPOL=3;MQ=48\"                                      \"GT:GQ:GQX:DP:DPF:AD:ADF:ADR:SB:FT:PL\"     \"0/1:141:0:37:6:22,15:14,3:8,12:-1.6:LowGQX:143,0,290\"\n",
       "\"chrY\"  56887276  \".\"  \"T\"    \"TC\"     \"347\"  \"LowGQX;NoPassedVariantGTs\"           \"CIGAR=1M1I;RU=C;REFREP=5;IDREP=6;MQ=48\"               \"GT:GQ:GQX:DPI:AD:ADF:ADR:FT:PL:PS\"        \"0|1:266:1:40:18,20:12,1:6,19:LowGQX:379,0,263:56887276\"\n",
       "\"chrY\"  56887285  \".\"  \"A\"    \"C\"      \"170\"  \"LowGQX;NoPassedVariantGTs\"           \"SNVHPOL=6;MQ=49\"                                      \"GT:GQ:GQX:DP:DPF:AD:ADF:ADR:SB:FT:PL:PS\"  \"0|1:120:0:29:9:10,19:3,1:7,18:-5.7:LowGQX:205,0,117:56887276\"\n",
       "\"chrY\"  56887316  \".\"  \"G\"    \"A\"      \"144\"  \"LowGQX;NoPassedVariantGTs\"           \"SNVHPOL=4;MQ=46\"                                      \"GT:GQ:GQX:DP:DPF:AD:ADF:ADR:SB:FT:PL\"     \"0/1:144:0:26:6:9,17:3,0:6,17:2.1:LowGQX:179,0,141\"\n",
       "\"chrY\"  56887463  \".\"  \"C\"    \"A\"      \"0\"    \"LowGQX;NoPassedVariantGTs\"           \"SNVHPOL=2;MQ=42\"                                      \"GT:GQ:GQX:DP:DPF:AD:ADF:ADR:SB:FT:PL\"     \"0/1:4:0:23:0:20,3:7,0:13,3:0.0:LowGQX:3,0,287\"\n",
       "\"chrY\"  56887583  \".\"  \"G\"    \"A\"      \"271\"  \"PASS\"                                \"SNVHPOL=2;MQ=46\"                                      \"GT:GQ:GQX:DP:DPF:AD:ADF:ADR:SB:FT:PL\"     \"1/1:45:18:16:0:0,16:0,5:0,11:-25.9:PASS:309,48,0\""
      ]
     },
     "execution_count": 6,
     "metadata": {},
     "output_type": "execute_result"
    }
   ],
   "source": [
    "IndexedTables.set_show_compact!(false);\n",
    "\n",
    "vcf_table"
   ]
  },
  {
   "cell_type": "markdown",
   "metadata": {},
   "source": [
    "# Load directly from vcf v.s. load from Dagger file\n",
    "\n",
    "Here we compare how long it takes to access a particular variant and a chromosomal region in a regular JuliaDB IndexedTable that was loaded directly from a file versus an index file that was created via `Dagger.save` and loaded here via `Dagger.load`. Using Dagger to save and load a VCF adds another step and dependency to data prep, so this speed test will tell if its worth it."
   ]
  },
  {
   "cell_type": "code",
   "execution_count": 7,
   "metadata": {},
   "outputs": [],
   "source": [
    "benchmark_chrom = \"chr1\"\n",
    "\n",
    "benchmark_variant = 13868\n",
    "\n",
    "benchmark_region_start = 10000\n",
    "\n",
    "benchmark_region_end = 700000;"
   ]
  },
  {
   "cell_type": "markdown",
   "metadata": {},
   "source": [
    "## Variant"
   ]
  },
  {
   "cell_type": "code",
   "execution_count": 8,
   "metadata": {},
   "outputs": [
    {
     "name": "stdout",
     "output_type": "stream",
     "text": [
      "  9.684306 seconds (95.35 M allocations: 5.512 GiB, 9.04% gc time)\n"
     ]
    }
   ],
   "source": [
    "@time filter(i -> (i.CHROM == benchmark_chrom) && (i.POS == benchmark_variant), vcf_table);"
   ]
  },
  {
   "cell_type": "code",
   "execution_count": 11,
   "metadata": {},
   "outputs": [
    {
     "name": "stdout",
     "output_type": "stream",
     "text": [
      "  6.444005 seconds (88.75 M allocations: 5.148 GiB, 17.71% gc time)\n"
     ]
    }
   ],
   "source": [
    "@time filter(i -> (i.CHROM == benchmark_chrom) && (i.POS == benchmark_variant), vcf_table_dagger);"
   ]
  },
  {
   "cell_type": "markdown",
   "metadata": {},
   "source": [
    "## Region"
   ]
  },
  {
   "cell_type": "code",
   "execution_count": 12,
   "metadata": {},
   "outputs": [
    {
     "name": "stdout",
     "output_type": "stream",
     "text": [
      "  5.696883 seconds (88.76 M allocations: 5.149 GiB, 14.29% gc time)\n"
     ]
    }
   ],
   "source": [
    "@time filter(i -> (i.CHROM == benchmark_chrom) && (i.POS > benchmark_region_start) && (i.POS < benchmark_region_end), vcf_table);"
   ]
  },
  {
   "cell_type": "code",
   "execution_count": 13,
   "metadata": {},
   "outputs": [
    {
     "name": "stdout",
     "output_type": "stream",
     "text": [
      "  5.710947 seconds (88.76 M allocations: 5.149 GiB, 14.23% gc time)\n"
     ]
    }
   ],
   "source": [
    "@time filter(i -> (i.CHROM == benchmark_chrom) && (i.POS > benchmark_region_start) && (i.POS < benchmark_region_end), vcf_table_dagger);"
   ]
  },
  {
   "cell_type": "markdown",
   "metadata": {},
   "source": [
    "# NDSParse v.s. IndexedTable v.s. tabix"
   ]
  },
  {
   "cell_type": "code",
   "execution_count": 14,
   "metadata": {},
   "outputs": [
    {
     "data": {
      "text/plain": [
       "800000"
      ]
     },
     "execution_count": 14,
     "metadata": {},
     "output_type": "execute_result"
    }
   ],
   "source": [
    "benchmark_variant_2 = 19322\n",
    "\n",
    "benchmark_region_2_start = 500000\n",
    "\n",
    "benchmark_region_2_end = 800000"
   ]
  },
  {
   "cell_type": "markdown",
   "metadata": {},
   "source": [
    "## Variant"
   ]
  },
  {
   "cell_type": "code",
   "execution_count": 16,
   "metadata": {},
   "outputs": [
    {
     "name": "stdout",
     "output_type": "stream",
     "text": [
      "  6.410873 seconds (84.95 M allocations: 5.303 GiB, 20.67% gc time)\n"
     ]
    }
   ],
   "source": [
    "@time filter(i -> (i.CHROM == benchmark_chrom) && (i.POS == benchmark_variant_2), vcf_ndsparse);"
   ]
  },
  {
   "cell_type": "code",
   "execution_count": 17,
   "metadata": {},
   "outputs": [
    {
     "name": "stdout",
     "output_type": "stream",
     "text": [
      "  6.471574 seconds (88.76 M allocations: 5.148 GiB, 12.02% gc time)\n"
     ]
    }
   ],
   "source": [
    "@time filter(i -> (i.CHROM == benchmark_chrom) && (i.POS == benchmark_variant_2), vcf_table);"
   ]
  },
  {
   "cell_type": "code",
   "execution_count": 18,
   "metadata": {},
   "outputs": [
    {
     "name": "stdout",
     "output_type": "stream",
     "text": [
      "chr1\t19322\t.\tC\tT\t0\tLowGQX;NoPassedVariantGTs\tSNVHPOL=3;MQ=13\tGT:GQ:GQX:DP:DPF:AD:ADF:ADR:SB:FT:PL\t0/1:15:0:17:0:14,3:10,1:4,2:0.0:LowGQX:17,0,146\n",
      "  0.183753 seconds (112.63 k allocations: 5.410 MiB)\n"
     ]
    },
    {
     "data": {
      "text/plain": [
       "Process(`\u001b[4mtabix\u001b[24m \u001b[4m../input/738_variants.vcf.gz\u001b[24m \u001b[4mchr1:19322-19322\u001b[24m`, ProcessExited(0))"
      ]
     },
     "execution_count": 18,
     "metadata": {},
     "output_type": "execute_result"
    }
   ],
   "source": [
    "@time run(`tabix $vcf_file_path_to_use $benchmark_chrom:$benchmark_variant_2-$benchmark_variant_2`)"
   ]
  },
  {
   "cell_type": "markdown",
   "metadata": {},
   "source": [
    "## Region"
   ]
  },
  {
   "cell_type": "code",
   "execution_count": null,
   "metadata": {},
   "outputs": [],
   "source": [
    "@time filter(i -> (i.CHROM == benchmark_chrom) && (i.POS > benchmark_region_2_start) && (i.POS < benchmark_region_2_end), vcf_ndsparse);"
   ]
  },
  {
   "cell_type": "code",
   "execution_count": 20,
   "metadata": {},
   "outputs": [
    {
     "name": "stdout",
     "output_type": "stream",
     "text": [
      "  6.288781 seconds (88.76 M allocations: 5.148 GiB, 13.70% gc time)\n"
     ]
    }
   ],
   "source": [
    "@time filter(i -> (i.CHROM == benchmark_chrom) && (i.POS > benchmark_region_2_start) && (i.POS < benchmark_region_2_end), vcf_table);"
   ]
  },
  {
   "cell_type": "code",
   "execution_count": 21,
   "metadata": {},
   "outputs": [
    {
     "name": "stdout",
     "output_type": "stream",
     "text": [
      "chr1\t502747\t.\tG\tC\t43\tLowGQX;NoPassedVariantGTs\tSNVHPOL=3;MQ=17\tGT:GQ:GQX:DP:DPF:AD:ADF:ADR:SB:FT:PL\t0/1:76:3:14:0:9,5:1,1:8,4:-4.8:LowGQX:77,0,106\n",
      "chr1\t505158\t.\tA\tC\t0\tLowGQX;NoPassedVariantGTs\tSNVHPOL=2;MQ=12\tGT:GQ:GQX:DP:DPF:AD:ADF:ADR:SB:FT:PL\t0/1:10:0:4:0:3,1:3,0:0,1:0.0:LowGQX:12,0,48\n",
      "chr1\t505572\t.\tT\tG\t0\tLowGQX;NoPassedVariantGTs\tSNVHPOL=2;MQ=12\tGT:GQ:GQX:DP:DPF:AD:ADF:ADR:SB:FT:PL\t0/1:9:0:6:1:5,1:3,0:2,1:0.0:LowGQX:11,0,97\n",
      "chr1\t505764\t.\tC\tT\t0\tLowGQX;NoPassedVariantGTs\tSNVHPOL=4;MQ=13\tGT:GQ:GQX:DP:DPF:AD:ADF:ADR:SB:FT:PL\t0/1:22:0:4:0:3,1:1,0:2,1:0.0:LowGQX:25,0,86\n",
      "chr1\t505782\t.\tC\tT\t1\tLowGQX;LowDepth;NoPassedVariantGTs\tSNVHPOL=3;MQ=5\tGT:GQ:GQX:DP:DPF:AD:ADF:ADR:SB:FT:PL\t0/1:3:0:1:0:0,1:0,0:0,1:0.0:LowGQX;LowDepth:26,3,0\n",
      "chr1\t507222\t.\tG\tA\t0\tLowGQX;NoPassedVariantGTs\tSNVHPOL=4;MQ=14\tGT:GQ:GQX:DP:DPF:AD:ADF:ADR:SB:FT:PL\t0/1:14:0:6:0:5,1:2,0:3,1:0.0:LowGQX:16,0,103\n",
      "chr1\t514187\t.\tA\tC\t4\tLowGQX;LowDepth;NoPassedVariantGTs\tSNVHPOL=5;MQ=20\tGT:GQ:GQX:DP:DPF:AD:ADF:ADR:SB:FT:PL\t0/1:30:0:2:4:1,1:0,1:1,0:0.7:LowGQX;LowDepth:36,0,31\n",
      "chr1\t528863\t.\tA\tT\t78\tLowGQX;NoPassedVariantGTs\tSNVHPOL=3;MQ=10\tGT:GQ:GQX:DP:DPF:AD:ADF:ADR:SB:FT:PL\t1/1:12:0:5:0:0,5:0,3:0,2:-10.2:LowGQX:115,15,0\n",
      "chr1\t531707\t.\tA\tT\t1\tLowGQX;LowDepth;NoPassedVariantGTs\tSNVHPOL=2;MQ=12\tGT:GQ:GQX:DP:DPF:AD:ADF:ADR:SB:FT:PL\t0/1:3:0:1:0:0,1:0,1:0,0:0.0:LowGQX;LowDepth:26,3,0\n",
      "chr1\t586069\t.\tT\tA\t0\tLowGQX;LowDepth;NoPassedVariantGTs\tSNVHPOL=2;MQ=16\tGT:GQ:GQX:DP:DPF:AD:ADF:ADR:SB:FT:PL\t0/1:19:0:2:0:1,1:1,1:0,0:0.0:LowGQX;LowDepth:23,0,29\n",
      "chr1\t586223\t.\tG\tA\t63\tPASS\tSNVHPOL=2;MQ=20\tGT:GQ:GQX:DP:DPF:AD:ADF:ADR:SB:FT:PL\t0/1:96:5:19:0:11,8:10,5:1,3:-10.2:PASS:98,0,127\n",
      "chr1\t586393\t.\tG\tA\t1\tLowGQX;NoPassedVariantGTs\tSNVHPOL=2;MQ=13\tGT:GQ:GQX:DP:DPF:AD:ADF:ADR:SB:FT:PL\t0/1:24:0:10:0:7,3:5,3:2,0:0.0:LowGQX:26,0,90\n",
      "chr1\t588568\t.\tC\tT\t0\tLowGQX;NoPassedVariantGTs\tSNVHPOL=3;MQ=14\tGT:GQ:GQX:DP:DPF:AD:ADF:ADR:SB:FT:PL\t0/1:14:0:9:0:7,2:4,0:3,2:0.0:LowGQX:15,0,94\n",
      "chr1\t591181\t.\tT\tG\t1\tLowGQX;NoPassedVariantGTs\tSNVHPOL=2;MQ=29\tGT:GQ:GQX:DP:DPF:AD:ADF:ADR:SB:FT:PL\t0/1:28:1:26:0:21,5:14,5:7,0:0.0:LowGQX:30,0,233\n",
      "chr1\t591218\t.\tT\tC\t36\tPASS\tSNVHPOL=3;MQ=32\tGT:GQ:GQX:DP:DPF:AD:ADF:ADR:SB:FT:PL\t0/1:69:8:32:0:25,7:14,6:11,1:-1.8:PASS:70,0,278\n",
      "chr1\t591413\t.\tA\tG\t105\tPASS\tSNVHPOL=3;MQ=43\tGT:GQ:GQX:DP:DPF:AD:ADF:ADR:SB:FT:PL\t0/1:138:11:36:0:25,11:11,4:14,7:-13.1:PASS:140,0,316\n",
      "chr1\t591460\t.\tT\tC\t61\tPASS\tSNVHPOL=5;MQ=33\tGT:GQ:GQX:DP:DPF:AD:ADF:ADR:SB:FT:PL\t0/1:94:7:23:0:16,7:8,1:8,6:-4.5:PASS:95,0,218\n",
      "chr1\t591478\t.\tT\tG\t58\tPASS\tSNVHPOL=3;MQ=29\tGT:GQ:GQX:DP:DPF:AD:ADF:ADR:SB:FT:PL\t0/1:91:6:19:0:13,6:6,1:7,5:-5.9:PASS:92,0,200\n",
      "chr1\t591590\t.\tT\tC\t120\tPASS\tSNVHPOL=4;MQ=34\tGT:GQ:GQX:DP:DPF:AD:ADF:ADR:SB:FT:PL:PS\t0|1:153:11:24:0:13,11:7,4:6,7:-11.3:PASS:155,0,200:591590\n",
      "chr1\t591602\t.\tT\tC\t116\tPASS\tSNVHPOL=6;MQ=35\tGT:GQ:GQX:DP:DPF:AD:ADF:ADR:SB:FT:PL:PS\t0|1:149:11:25:0:14,11:8,4:6,7:-10.6:PASS:151,0,205:591590\n",
      "chr1\t591650\t.\tC\tT\t108\tPASS\tSNVHPOL=4;MQ=35\tGT:GQ:GQX:DP:DPF:AD:ADF:ADR:SB:FT:PL\t0/1:141:11:26:3:15,11:10,5:5,6:-10.6:PASS:143,0,223\n",
      "chr1\t591710\t.\tA\tG\t82\tLowGQX;NoPassedVariantGTs\tSNVHPOL=3;MQ=37\tGT:GQ:GQX:DP:DPF:AD:ADF:ADR:SB:FT:PL:PS\t0|1:115:3:23:8:15,8:11,5:4,3:-11.9:LowGQX:117,0,217:591710\n",
      "chr1\t591728\t.\tT\tC\t33\tLowGQX;NoPassedVariantGTs\tSNVHPOL=2;MQ=34\tGT:GQ:GQX:DP:DPF:AD:ADF:ADR:SB:FT:PL:PS\t0|1:66:2:18:5:14,4:8,3:6,1:-5.9:LowGQX:68,0,189:591710\n",
      "chr1\t591733\t.\tC\tCAA\t216\tPASS\tCIGAR=1M2I;RU=A;REFREP=18;IDREP=20;MQ=33\tGT:GQ:GQX:DPI:AD:ADF:ADR:FT:PL\t1/1:51:10:29:0,22:0,13:0,9:PASS:222,54,0\n",
      "chr1\t594082\t.\tG\tA\t30\tLowGQX;NoPassedVariantGTs\tSNVHPOL=6;MQ=18\tGT:GQ:GQX:DP:DPF:AD:ADF:ADR:SB:FT:PL\t0/1:63:3:10:0:6,4:6,4:0,0:0.0:LowGQX:65,0,76\n",
      "chr1\t594402\t.\tC\tT\t89\tPASS\tSNVHPOL=2;MQ=39\tGT:GQ:GQX:DP:DPF:AD:ADF:ADR:SB:FT:PL\t0/1:122:6:42:0:31,11:15,3:16,8:-8.1:PASS:124,0,355\n",
      "chr1\t594454\t.\tG\tA\t52\tPASS\tSNVHPOL=2;MQ=32\tGT:GQ:GQX:DP:DPF:AD:ADF:ADR:SB:FT:PL\t0/1:85:4:29:2:22,7:10,1:12,6:-2.0:PASS:87,0,286\n",
      "chr1\t594774\t.\tA\tC\t0\tLowGQX;NoPassedVariantGTs\tSNVHPOL=4;MQ=13\tGT:GQ:GQX:DP:DPF:AD:ADF:ADR:SB:FT:PL\t0/1:13:0:3:0:2,1:0,1:2,0:0.0:LowGQX:16,0,63\n",
      "chr1\t596561\t.\tT\tC\t0\tLowGQX;NoPassedVariantGTs\tSNVHPOL=3;MQ=24\tGT:GQ:GQX:DP:DPF:AD:ADF:ADR:SB:FT:PL\t0/1:10:0:10:4:9,1:5,0:4,1:0.0:LowGQX:12,0,191\n",
      "chr1\t596580\t.\tT\tC\t3\tLowGQX;NoPassedVariantGTs\tSNVHPOL=3;MQ=26\tGT:GQ:GQX:DP:DPF:AD:ADF:ADR:SB:FT:PL\t0/1:33:0:13:2:11,2:5,1:6,1:0.0:LowGQX:34,0,207\n",
      "chr1\t596704\t.\tT\tC\t0\tLowGQX;NoPassedVariantGTs\tSNVHPOL=2;MQ=48\tGT:GQ:GQX:DP:DPF:AD:ADF:ADR:SB:FT:PL\t0/1:8:0:18:4:16,2:9,2:7,0:0.0:LowGQX:8,0,263\n",
      "chr1\t597920\t.\tG\tA\t78\tPASS\tSNVHPOL=3;MQ=30\tGT:GQ:GQX:DP:DPF:AD:ADF:ADR:SB:FT:PL\t0/1:66:5:12:3:4,8:0,0:4,8:0.0:PASS:113,0,63\n",
      "chr1\t597967\t.\tG\tA\t2\tLowGQX;NoPassedVariantGTs\tSNVHPOL=3;MQ=34\tGT:GQ:GQX:DP:DPF:AD:ADF:ADR:SB:FT:PL\t0/1:31:0:12:5:10,2:0,0:10,2:0.0:LowGQX:33,0,142\n",
      "chr1\t598014\t.\tG\tA\t25\tLowGQX;NoPassedVariantGTs\tSNVHPOL=3;MQ=27\tGT:GQ:GQX:DP:DPF:AD:ADF:ADR:SB:FT:PL\t0/1:57:2:5:3:3,2:0,0:3,2:0.0:LowGQX:60,0,76\n",
      "chr1\t598616\t.\tA\tG\t4\tLowGQX;LowDepth;NoPassedVariantGTs\tSNVHPOL=3;MQ=14\tGT:GQ:GQX:DP:DPF:AD:ADF:ADR:SB:FT:PL\t0/1:3:0:1:0:0,1:0,1:0,0:0.0:LowGQX;LowDepth:37,3,0\n",
      "chr1\t598786\t.\tT\tG\t8\tLowGQX;NoPassedVariantGTs\tSNVHPOL=3;MQ=22\tGT:GQ:GQX:DP:DPF:AD:ADF:ADR:SB:FT:PL\t0/1:41:0:26:3:20,6:14,4:6,2:-4.4:LowGQX:42,0,246\n",
      "chr1\t598934\t.\tC\tG\t0\tLowGQX;NoPassedVariantGTs\tSNVHPOL=14;MQ=46\tGT:GQ:GQX:DP:DPF:AD:ADF:ADR:SB:FT:PL\t0/1:7:1:20:10:17,3:11,0:6,3:0.0:LowGQX:8,0,218\n",
      "chr1\t599067\t.\tCTGTT\tC\t0\tLowGQX;NoPassedVariantGTs\tCIGAR=1M4D;RU=TGTT;REFREP=1;IDREP=0;MQ=26\tGT:GQ:GQX:DPI:AD:ADF:ADR:FT:PL\t0/1:10:1:30:25,4:14,4:11,0:LowGQX:7,0,426\n",
      "chr1\t599165\t.\tG\tA\t0\tLowGQX;NoPassedVariantGTs\tSNVHPOL=3;MQ=38\tGT:GQ:GQX:DP:DPF:AD:ADF:ADR:SB:FT:PL\t0/1:13:0:45:0:39,6:25,2:14,4:0.0:LowGQX:15,0,370\n",
      "chr1\t599530\t.\tA\tT\t0\tLowGQX;NoPassedVariantGTs\tSNVHPOL=2;MQ=13\tGT:GQ:GQX:DP:DPF:AD:ADF:ADR:SB:FT:PL\t0/1:7:0:8:2:7,1:0,0:7,1:0.0:LowGQX:8,0,78\n",
      "chr1\t600579\t.\tG\tA\t44\tPASS\tSNVHPOL=3;MQ=29\tGT:GQ:GQX:DP:DPF:AD:ADF:ADR:SB:FT:PL\t0/1:77:4:18:3:12,5:5,1:7,4:-6.4:PASS:79,0,177\n",
      "chr1\t600694\t.\tG\tA\t0\tLowGQX;NoPassedVariantGTs\tSNVHPOL=2;MQ=22\tGT:GQ:GQX:DP:DPF:AD:ADF:ADR:SB:FT:PL\t0/1:9:0:16:4:14,2:6,0:8,2:0.0:LowGQX:10,0,186\n",
      "chr1\t600715\t.\tC\tT\t0\tLowGQX;NoPassedVariantGTs\tSNVHPOL=2;MQ=20\tGT:GQ:GQX:DP:DPF:AD:ADF:ADR:SB:FT:PL\t0/1:10:0:18:3:15,3:6,0:9,3:0.0:LowGQX:12,0,207\n",
      "chr1\t600754\t.\tC\tT\t11\tLowGQX;NoPassedVariantGTs\tSNVHPOL=2;MQ=19\tGT:GQ:GQX:DP:DPF:AD:ADF:ADR:SB:FT:PL\t0/1:43:0:26:3:19,7:6,0:13,7:4.2:LowGQX:45,0,224\n",
      "chr1\t600787\t.\tC\tT\t0\tLowGQX;NoPassedVariantGTs\tSNVHPOL=2;MQ=19\tGT:GQ:GQX:DP:DPF:AD:ADF:ADR:SB:FT:PL\t0/1:15:0:25:1:21,4:4,0:17,4:0.0:LowGQX:16,0,251\n",
      "chr1\t600874\t.\tC\tT\t0\tLowGQX;NoPassedVariantGTs\tSNVHPOL=2;MQ=16\tGT:GQ:GQX:DP:DPF:AD:ADF:ADR:SB:FT:PL\t0/1:11:0:10:0:9,1:5,0:4,1:0.0:LowGQX:13,0,150\n",
      "chr1\t600885\t.\tA\tC\t0\tLowGQX;NoPassedVariantGTs\tSNVHPOL=2;MQ=17\tGT:GQ:GQX:DP:DPF:AD:ADF:ADR:SB:FT:PL\t0/1:5:0:10:0:9,1:6,0:3,1:0.0:LowGQX:6,0,153\n",
      "chr1\t601324\t.\tG\tA\t74\tLowGQX;NoPassedVariantGTs\tSNVHPOL=2;MQ=20\tGT:GQ:GQX:DP:DPF:AD:ADF:ADR:SB:FT:PL\t0/1:90:3:13:0:5,8:1,0:4,8:0.7:LowGQX:109,0,87\n",
      "chr1\t602067\t.\tA\tG\t7\tLowGQX;NoPassedVariantGTs\tSNVHPOL=4;MQ=21\tGT:GQ:GQX:DP:DPF:AD:ADF:ADR:SB:FT:PL\t0/1:39:0:21:1:15,6:9,5:6,1:-1.1:LowGQX:41,0,196\n",
      "chr1\t602088\t.\tG\tT\t23\tLowGQX;NoPassedVariantGTs\tSNVHPOL=2;MQ=22\tGT:GQ:GQX:DP:DPF:AD:ADF:ADR:SB:FT:PL\t0/1:56:1:22:0:15,7:10,5:5,2:-5.1:LowGQX:58,0,204\n",
      "chr1\t602107\t.\tC\tT\t7\tLowGQX;NoPassedVariantGTs\tSNVHPOL=3;MQ=23\tGT:GQ:GQX:DP:DPF:AD:ADF:ADR:SB:FT:PL\t0/1:40:0:22:0:15,7:10,5:5,2:-3.9:LowGQX:41,0,204\n",
      "chr1\t602156\t.\tC\tG\t1\tLowGQX;NoPassedVariantGTs\tSNVHPOL=2;MQ=22\tGT:GQ:GQX:DP:DPF:AD:ADF:ADR:SB:FT:PL:PS\t0|1:29:0:20:1:15,5:6,3:9,2:0.0:LowGQX:30,0,203:602156\n",
      "chr1\t602157\t.\tA\tG\t3\tLowGQX;NoPassedVariantGTs\tSNVHPOL=3;MQ=22\tGT:GQ:GQX:DP:DPF:AD:ADF:ADR:SB:FT:PL:PS\t0|1:34:1:21:0:15,6:6,4:9,2:-1.1:LowGQX:35,0,194:602156\n",
      "chr1\t602161\t.\tT\tTC\t15\tPASS\tCIGAR=1M1I;RU=C;REFREP=3;IDREP=4;MQ=22\tGT:GQ:GQX:DPI:AD:ADF:ADR:FT:PL:PS\t0|1:57:9:20:14,4:6,3:8,1:PASS:54,0,272:602156\n",
      "chr1\t602227\t.\tA\tC\t0\tLowGQX;NoPassedVariantGTs\tSNVHPOL=3;MQ=29\tGT:GQ:GQX:DP:DPF:AD:ADF:ADR:SB:FT:PL\t0/1:16:0:12:5:10,2:1,2:9,0:0.0:LowGQX:18,0,132\n",
      "chr1\t602487\t.\tG\tC\t0\tLowGQX;NoPassedVariantGTs\tSNVHPOL=3;MQ=13\tGT:GQ:GQX:DP:DPF:AD:ADF:ADR:SB:FT:PL\t0/1:10:0:7:0:6,1:0,0:6,1:0.0:LowGQX:12,0,96\n",
      "chr1\t603266\t.\tG\tA\t7\tLowGQX;NoPassedVariantGTs\tSNVHPOL=4;MQ=30\tGT:GQ:GQX:DP:DPF:AD:ADF:ADR:SB:FT:PL\t0/1:39:2:37:0:31,6:18,3:13,3:-3.1:LowGQX:41,0,330\n",
      "chr1\t605137\t.\tC\tT\t28\tLowGQX;NoPassedVariantGTs\tSNVHPOL=4;MQ=17\tGT:GQ:GQX:DP:DPF:AD:ADF:ADR:SB:FT:PL\t0/1:61:2:13:0:8,5:8,5:0,0:0.0:LowGQX:63,0,113\n",
      "chr1\t607496\t.\tT\tA\t0\tLowGQX;NoPassedVariantGTs\tSNVHPOL=3;MQ=25\tGT:GQ:GQX:DP:DPF:AD:ADF:ADR:SB:FT:PL\t0/1:8:0:12:0:11,1:2,0:9,1:0.0:LowGQX:9,0,182\n",
      "chr1\t607702\t.\tT\tG\t0\tLowGQX;NoPassedVariantGTs\tSNVHPOL=5;MQ=16\tGT:GQ:GQX:DP:DPF:AD:ADF:ADR:SB:FT:PL\t0/1:12:0:6:0:5,1:1,0:4,1:0.0:LowGQX:14,0,94\n",
      "chr1\t607735\t.\tC\tT\t0\tLowGQX;NoPassedVariantGTs\tSNVHPOL=2;MQ=14\tGT:GQ:GQX:DP:DPF:AD:ADF:ADR:SB:FT:PL\t0/1:15:0:3:0:2,1:0,0:2,1:0.0:LowGQX:18,0,56\n",
      "chr1\t608139\t.\tA\tC\t0\tLowGQX;NoPassedVariantGTs\tSNVHPOL=6;MQ=6\tGT:GQ:GQX:DP:DPF:AD:ADF:ADR:SB:FT:PL\t0/1:14:0:3:0:2,1:2,1:0,0:0.0:LowGQX:17,0,39\n",
      "chr1\t609407\t.\tG\tC\t17\tLowGQX;NoPassedVariantGTs\tSNVHPOL=3;MQ=34\tGT:GQ:GQX:DP:DPF:AD:ADF:ADR:SB:FT:PL\t0/1:50:1:44:2:34,10:11,7:23,3:1.9:LowGQX:51,0,359\n",
      "chr1\t609435\t.\tG\tA\t69\tPASS\tSNVHPOL=3;MQ=30\tGT:GQ:GQX:DP:DPF:AD:ADF:ADR:SB:FT:PL\t0/1:102:4:24:6:16,8:3,2:13,6:-11.2:PASS:103,0,202\n",
      "chr1\t609507\t.\tG\tA\t10\tLowGQX;NoPassedVariantGTs\tSNVHPOL=3;MQ=17\tGT:GQ:GQX:DP:DPF:AD:ADF:ADR:SB:FT:PL\t0/1:42:1:7:0:4,3:0,0:4,3:0.0:LowGQX:44,0,64\n",
      "chr1\t609520\t.\tG\tA\t24\tLowGQX;NoPassedVariantGTs\tSNVHPOL=2;MQ=13\tGT:GQ:GQX:DP:DPF:AD:ADF:ADR:SB:FT:PL\t0/1:19:0:4:1:1,3:0,0:1,3:0.0:LowGQX:59,0,16\n",
      "chr1\t609544\t.\tA\tG\t1\tLowGQX;NoPassedVariantGTs\tSNVHPOL=4;MQ=14\tGT:GQ:GQX:DP:DPF:AD:ADF:ADR:SB:FT:PL\t0/1:27:0:4:0:3,1:0,0:3,1:0.0:LowGQX:30,0,57\n",
      "chr1\t609692\t.\tT\tA\t1\tLowGQX;LowDepth;NoPassedVariantGTs\tSNVHPOL=3;MQ=7\tGT:GQ:GQX:DP:DPF:AD:ADF:ADR:SB:FT:PL\t0/1:3:0:1:0:0,1:0,0:0,1:0.0:LowGQX;LowDepth:30,3,0\n",
      "chr1\t609975\t.\tG\tA\t2\tLowGQX;LowDepth;NoPassedVariantGTs\tSNVHPOL=3;MQ=9\tGT:GQ:GQX:DP:DPF:AD:ADF:ADR:SB:FT:PL\t0/1:3:0:1:0:0,1:0,0:0,1:0.0:LowGQX;LowDepth:32,3,0\n",
      "chr1\t610015\t.\tG\tC\t10\tLowGQX;LowDepth;NoPassedVariantGTs\tSNVHPOL=3;MQ=9\tGT:GQ:GQX:DP:DPF:AD:ADF:ADR:SB:FT:PL\t0/1:3:0:1:0:0,1:0,0:0,1:0.0:LowGQX;LowDepth:45,3,0\n",
      "chr1\t610547\t.\tC\tA\t1\tLowGQX;LowDepth;NoPassedVariantGTs\tSNVHPOL=2;MQ=7\tGT:GQ:GQX:DP:DPF:AD:ADF:ADR:SB:FT:PL\t0/1:3:0:1:0:0,1:0,1:0,0:0.0:LowGQX;LowDepth:31,3,0\n",
      "chr1\t610932\t.\tC\tT\t19\tLowGQX;NoPassedVariantGTs\tSNVHPOL=3;MQ=27\tGT:GQ:GQX:DP:DPF:AD:ADF:ADR:SB:FT:PL\t0/1:52:1:31:1:24,7:6,2:18,5:-5.2:LowGQX:54,0,278\n",
      "chr1\t611267\t.\tG\tA\t0\tLowGQX;NoPassedVariantGTs\tSNVHPOL=3;MQ=30\tGT:GQ:GQX:DP:DPF:AD:ADF:ADR:SB:FT:PL\t0/1:20:1:30:0:25,5:8,5:17,0:0.0:LowGQX:22,0,302\n",
      "chr1\t611304\t.\tG\tT\t31\tLowGQX;NoPassedVariantGTs\tSNVHPOL=5;MQ=38\tGT:GQ:GQX:DP:DPF:AD:ADF:ADR:SB:FT:PL\t0/1:64:0:42:1:34,8:15,2:19,6:-2.8:LowGQX:66,0,370\n",
      "chr1\t611317\t.\tA\tG\t167\tPASS\tSNVHPOL=4;MQ=38\tGT:GQ:GQX:DP:DPF:AD:ADF:ADR:SB:FT:PL\t0/1:200:5:41:4:22,19:6,11:16,8:-16.5:PASS:202,0,264\n",
      "chr1\t611584\t.\tC\tT\t1\tLowGQX;NoPassedVariantGTs\tSNVHPOL=4;MQ=18\tGT:GQ:GQX:DP:DPF:AD:ADF:ADR:SB:FT:PL\t0/1:24:0:4:1:3,1:1,0:2,1:0.0:LowGQX:27,0,97\n",
      "chr1\t611626\t.\tC\tT\t4\tLowGQX;NoPassedVariantGTs\tSNVHPOL=5;MQ=11\tGT:GQ:GQX:DP:DPF:AD:ADF:ADR:SB:FT:PL\t0/1:33:0:3:0:2,1:0,0:2,1:0.0:LowGQX:36,0,64\n",
      "chr1\t611688\t.\tC\tT\t10\tLowGQX;LowDepth;NoPassedVariantGTs\tSNVHPOL=4;MQ=7\tGT:GQ:GQX:DP:DPF:AD:ADF:ADR:SB:FT:PL\t0/1:3:0:1:0:0,1:0,0:0,1:0.0:LowGQX;LowDepth:45,3,0\n",
      "chr1\t611730\t.\tC\tT\t23\tLowGQX;NoPassedVariantGTs\tSNVHPOL=5;MQ=15\tGT:GQ:GQX:DP:DPF:AD:ADF:ADR:SB:FT:PL\t0/1:55:1:5:1:3,2:0,1:3,1:-5.7:LowGQX:57,0,72\n",
      "chr1\t611753\t.\tG\tA\t2\tLowGQX;NoPassedVariantGTs\tSNVHPOL=2;MQ=15\tGT:GQ:GQX:DP:DPF:AD:ADF:ADR:SB:FT:PL\t0/1:30:0:8:0:6,2:1,0:5,2:0.0:LowGQX:32,0,116\n",
      "chr1\t611812\t.\tC\tT\t0\tLowGQX;NoPassedVariantGTs\tSNVHPOL=3;MQ=14\tGT:GQ:GQX:DP:DPF:AD:ADF:ADR:SB:FT:PL\t0/1:16:0:9:0:8,1:2,0:6,1:0.0:LowGQX:18,0,144\n",
      "chr1\t611846\t.\tT\tC\t0\tLowGQX;NoPassedVariantGTs\tSNVHPOL=2;MQ=11\tGT:GQ:GQX:DP:DPF:AD:ADF:ADR:SB:FT:PL\t0/1:15:0:5:0:4,1:2,0:2,1:0.0:LowGQX:17,0,99\n",
      "chr1\t612403\t.\tG\tA\t6\tLowGQX;LowDepth;NoPassedVariantGTs\tSNVHPOL=2;MQ=15\tGT:GQ:GQX:DP:DPF:AD:ADF:ADR:SB:FT:PL\t0/1:35:0:2:1:1,1:0,0:1,1:0.0:LowGQX;LowDepth:40,0,39\n",
      "chr1\t612502\t.\tA\tG\t7\tLowGQX;NoPassedVariantGTs\tSNVHPOL=2;MQ=16\tGT:GQ:GQX:DP:DPF:AD:ADF:ADR:SB:FT:PL\t0/1:38:0:6:1:4,2:0,0:4,2:0.0:LowGQX:41,0,82\n",
      "chr1\t612516\t.\tT\tG\t5\tLowGQX;NoPassedVariantGTs\tSNVHPOL=3;MQ=16\tGT:GQ:GQX:DP:DPF:AD:ADF:ADR:SB:FT:PL\t0/1:36:0:7:1:5,2:0,0:5,2:0.0:LowGQX:38,0,87\n",
      "chr1\t614245\t.\tC\tT\t0\tLowGQX;NoPassedVariantGTs\tSNVHPOL=2;MQ=13\tGT:GQ:GQX:DP:DPF:AD:ADF:ADR:SB:FT:PL\t0/1:14:0:5:0:4,1:1,0:3,1:0.0:LowGQX:16,0,74\n",
      "chr1\t616179\t.\tA\tG\t0\tLowGQX;NoPassedVariantGTs\tSNVHPOL=2;MQ=17\tGT:GQ:GQX:DP:DPF:AD:ADF:ADR:SB:FT:PL\t0/1:19:0:8:0:7,1:3,1:4,0:0.0:LowGQX:21,0,118\n",
      "chr1\t618132\t.\tA\tC\t0\tLowGQX;LowDepth;NoPassedVariantGTs\tSNVHPOL=4;MQ=9\tGT:GQ:GQX:DP:DPF:AD:ADF:ADR:SB:FT:PL\t0/1:3:0:1:0:0,1:0,0:0,1:0.0:LowGQX;LowDepth:25,3,0\n",
      "chr1\t619620\t.\tA\tG\t0\tLowGQX;NoPassedVariantGTs\tSNVHPOL=2;MQ=16\tGT:GQ:GQX:DP:DPF:AD:ADF:ADR:SB:FT:PL\t0/1:10:0:9:0:8,1:0,0:8,1:0.0:LowGQX:12,0,122\n",
      "chr1\t626436\t.\tT\tG\t0\tLowGQX;NoPassedVariantGTs\tSNVHPOL=2;MQ=13\tGT:GQ:GQX:DP:DPF:AD:ADF:ADR:SB:FT:PL\t0/1:11:0:4:0:3,1:1,0:2,1:0.0:LowGQX:13,0,58\n",
      "chr1\t628245\t.\tT\tC\t1\tLowGQX;LowDepth;NoPassedVariantGTs\tSNVHPOL=4;MQ=13\tGT:GQ:GQX:DP:DPF:AD:ADF:ADR:SB:FT:PL\t0/1:3:0:1:0:0,1:0,0:0,1:0.0:LowGQX;LowDepth:29,3,0\n",
      "chr1\t631859\t.\tCG\tC\t581\tPASS\tCIGAR=1M1D;RU=G;REFREP=3;IDREP=2;MQ=38\tGT:GQ:GQX:DPI:AD:ADF:ADR:FT:PL\t1/1:66:17:23:0,23:0,6:0,17:PASS:623,69,0\n",
      "chr1\t633672\t.\tC\tT\t3\tLowGQX;NoPassedVariantGTs\tSNVHPOL=7;MQ=50\tGT:GQ:GQX:DP:DPF:AD:ADF:ADR:SB:FT:PL\t0/1:32:0:51:1:37,14:18,14:19,0:0.0:LowGQX:34,0,370\n",
      "chr1\t633824\t.\tT\tC\t9\tLowGQX;NoPassedVariantGTs\tSNVHPOL=2;MQ=50\tGT:GQ:GQX:DP:DPF:AD:ADF:ADR:SB:FT:PL\t0/1:42:0:34:3:26,8:9,7:17,1:4.2:LowGQX:44,0,329\n",
      "chr1\t634112\t.\tT\tC\t0\tLowGQX;NoPassedVariantGTs\tSNVHPOL=4;MQ=23\tGT:GQ:GQX:DP:DPF:AD:ADF:ADR:SB:FT:PL\t0/1:21:0:44:0:33,11:15,0:18,11:0.0:LowGQX:22,0,370\n",
      "chr1\t637064\t.\tG\tA\t0\tLowGQX;NoPassedVariantGTs\tSNVHPOL=2;MQ=20\tGT:GQ:GQX:DP:DPF:AD:ADF:ADR:SB:FT:PL\t0/1:19:0:23:0:19,4:10,4:9,0:0.0:LowGQX:21,0,214\n",
      "chr1\t638576\t.\tC\tA\t0\tLowGQX;NoPassedVariantGTs\tSNVHPOL=3;MQ=20\tGT:GQ:GQX:DP:DPF:AD:ADF:ADR:SB:FT:PL\t0/1:3:0:8:0:7,1:7,1:0,0:0.0:LowGQX:3,0,118\n",
      "chr1\t641263\t.\tG\tA\t39\tLowGQX;NoPassedVariantGTs\tSNVHPOL=3;MQ=17\tGT:GQ:GQX:DP:DPF:AD:ADF:ADR:SB:FT:PL\t0/1:72:2:12:0:7,5:5,4:2,1:-5.5:LowGQX:74,0,91\n",
      "chr1\t641308\t.\tG\tA\t48\tLowGQX;NoPassedVariantGTs\tSNVHPOL=3;MQ=15\tGT:GQ:GQX:DP:DPF:AD:ADF:ADR:SB:FT:PL\t0/1:67:2:9:0:4,5:3,4:1,1:-6.2:LowGQX:83,0,64\n",
      "chr1\t642930\t.\tG\tC\t1\tLowGQX;LowDepth;NoPassedVariantGTs\tSNVHPOL=4;MQ=8\tGT:GQ:GQX:DP:DPF:AD:ADF:ADR:SB:FT:PL\t0/1:3:0:1:0:0,1:0,1:0,0:0.0:LowGQX;LowDepth:26,3,0\n",
      "chr1\t643254\t.\tG\tT\t0\tLowGQX;NoPassedVariantGTs\tSNVHPOL=3;MQ=14\tGT:GQ:GQX:DP:DPF:AD:ADF:ADR:SB:FT:PL\t0/1:10:0:6:0:5,1:3,0:2,1:0.0:LowGQX:12,0,83\n",
      "chr1\t643358\t.\tG\tA\t1\tLowGQX;LowDepth;NoPassedVariantGTs\tSNVHPOL=3;MQ=7\tGT:GQ:GQX:DP:DPF:AD:ADF:ADR:SB:FT:PL\t0/1:3:0:1:0:0,1:0,0:0,1:0.0:LowGQX;LowDepth:27,3,0\n",
      "chr1\t645925\t.\tG\tT\t0\tLowGQX;NoPassedVariantGTs\tSNVHPOL=3;MQ=12\tGT:GQ:GQX:DP:DPF:AD:ADF:ADR:SB:FT:PL\t0/1:17:0:3:0:2,1:1,0:1,1:0.0:LowGQX:20,0,58\n",
      "chr1\t647044\t.\tA\tG\t0\tLowGQX;NoPassedVariantGTs\tSNVHPOL=4;MQ=13\tGT:GQ:GQX:DP:DPF:AD:ADF:ADR:SB:FT:PL\t0/1:8:0:6:0:5,1:4,0:1,1:0.0:LowGQX:10,0,78\n",
      "chr1\t656394\t.\tA\tG\t0\tLowGQX;NoPassedVariantGTs\tSNVHPOL=6;MQ=11\tGT:GQ:GQX:DP:DPF:AD:ADF:ADR:SB:FT:PL\t0/1:15:0:5:0:4,1:4,1:0,0:0.0:LowGQX:17,0,82\n",
      "chr1\t656480\t.\tA\tC\t0\tLowGQX;NoPassedVariantGTs\tSNVHPOL=3;MQ=16\tGT:GQ:GQX:DP:DPF:AD:ADF:ADR:SB:FT:PL\t0/1:5:0:9:0:8,1:8,1:0,0:0.0:LowGQX:5,0,111\n",
      "chr1\t657643\t.\tA\tC\t0\tLowGQX;NoPassedVariantGTs\tSNVHPOL=3;MQ=15\tGT:GQ:GQX:DP:DPF:AD:ADF:ADR:SB:FT:PL\t0/1:7:0:7:0:6,1:1,0:5,1:0.0:LowGQX:8,0,92\n",
      "chr1\t660002\t.\tG\tT\t9\tLowGQX;NoPassedVariantGTs\tSNVHPOL=2;MQ=10\tGT:GQ:GQX:DP:DPF:AD:ADF:ADR:SB:FT:PL\t0/1:41:0:10:0:5,5:4,5:1,0:0.7:LowGQX:43,0,66\n",
      "chr1\t660569\t.\tT\tG\t0\tLowGQX;NoPassedVariantGTs\tSNVHPOL=2;MQ=12\tGT:GQ:GQX:DP:DPF:AD:ADF:ADR:SB:FT:PL\t0/1:14:0:3:0:2,1:1,0:1,1:0.0:LowGQX:17,0,42\n",
      "chr1\t662131\t.\tG\tT\t1\tLowGQX;NoPassedVariantGTs\tSNVHPOL=5;MQ=30\tGT:GQ:GQX:DP:DPF:AD:ADF:ADR:SB:FT:PL\t0/1:29:1:30:0:26,4:14,1:12,3:0.0:LowGQX:31,0,314\n",
      "chr1\t662215\t.\tA\tG\t0\tLowGQX;NoPassedVariantGTs\tSNVHPOL=5;MQ=26\tGT:GQ:GQX:DP:DPF:AD:ADF:ADR:SB:FT:PL\t0/1:3:0:13:2:12,1:3,0:9,1:0.0:LowGQX:3,0,208\n",
      "chr1\t663453\t.\tT\tC\t110\tLowGQX;NoPassedVariantGTs\tSNVHPOL=6;MQ=19\tGT:GQ:GQX:DP:DPF:AD:ADF:ADR:SB:FT:PL\t0/1:66:3:19:0:5,14:2,9:3,5:-11.2:LowGQX:145,0,63\n",
      "chr1\t668728\t.\tA\tG\t0\tLowGQX;LowDepth;NoPassedVariantGTs\tSNVHPOL=3;MQ=19\tGT:GQ:GQX:DP:DPF:AD:ADF:ADR:SB:FT:PL\t0/1:17:0:2:2:1,1:0,0:1,1:0.0:LowGQX;LowDepth:21,0,41\n",
      "chr1\t668805\t.\tG\tA\t5\tLowGQX;LowDepth;NoPassedVariantGTs\tSNVHPOL=3;MQ=10\tGT:GQ:GQX:DP:DPF:AD:ADF:ADR:SB:FT:PL\t0/1:3:0:1:0:0,1:0,1:0,0:0.0:LowGQX;LowDepth:39,3,0\n",
      "chr1\t668898\t.\tA\tC\t8\tLowGQX;NoPassedVariantGTs\tSNVHPOL=2;MQ=29\tGT:GQ:GQX:DP:DPF:AD:ADF:ADR:SB:FT:PL\t0/1:41:1:9:1:7,2:2,1:5,1:-4.3:LowGQX:42,0,151\n",
      "chr1\t668925\t.\tA\tG\t0\tLowGQX;NoPassedVariantGTs\tSNVHPOL=6;MQ=30\tGT:GQ:GQX:DP:DPF:AD:ADF:ADR:SB:FT:PL\t0/1:15:0:10:1:9,1:3,1:6,0:0.0:LowGQX:17,0,162\n",
      "chr1\t669069\t.\tT\tG\t0\tLowGQX;NoPassedVariantGTs\tSNVHPOL=3;MQ=12\tGT:GQ:GQX:DP:DPF:AD:ADF:ADR:SB:FT:PL\t0/1:15:0:3:0:2,1:1,1:1,0:0.0:LowGQX:18,0,73\n",
      "chr1\t669134\t.\tC\tT\t2\tLowGQX;NoPassedVariantGTs\tSNVHPOL=3;MQ=13\tGT:GQ:GQX:DP:DPF:AD:ADF:ADR:SB:FT:PL\t0/1:30:0:3:0:2,1:1,1:1,0:0.0:LowGQX:33,0,54\n",
      "chr1\t669141\t.\tG\tA\t0\tLowGQX;LowDepth;NoPassedVariantGTs\tSNVHPOL=3;MQ=13\tGT:GQ:GQX:DP:DPF:AD:ADF:ADR:SB:FT:PL\t0/1:18:0:2:0:1,1:1,0:0,1:0.0:LowGQX;LowDepth:22,0,31\n",
      "chr1\t669150\t.\tG\tC\t0\tLowGQX;LowDepth;NoPassedVariantGTs\tSNVHPOL=5;MQ=13\tGT:GQ:GQX:DP:DPF:AD:ADF:ADR:SB:FT:PL\t0/1:15:0:2:0:1,1:1,0:0,1:0.0:LowGQX;LowDepth:19,0,36\n",
      "chr1\t669497\t.\tG\tA\t15\tLowGQX;NoPassedVariantGTs\tSNVHPOL=3;MQ=13\tGT:GQ:GQX:DP:DPF:AD:ADF:ADR:SB:FT:PL\t0/1:46:0:4:0:2,2:1,1:1,1:-4.8:LowGQX:49,0,57\n",
      "chr1\t669642\t.\tA\tC\t1\tLowGQX;LowDepth;NoPassedVariantGTs\tSNVHPOL=3;MQ=9\tGT:GQ:GQX:DP:DPF:AD:ADF:ADR:SB:FT:PL\t0/1:3:0:1:0:0,1:0,0:0,1:0.0:LowGQX;LowDepth:30,3,0\n",
      "chr1\t669728\t.\tA\tG\t1\tLowGQX;LowDepth;NoPassedVariantGTs\tSNVHPOL=3;MQ=13\tGT:GQ:GQX:DP:DPF:AD:ADF:ADR:SB:FT:PL\t0/1:26:0:2:0:1,1:1,1:0,0:0.0:LowGQX;LowDepth:31,0,33\n",
      "chr1\t670004\t.\tA\tC\t0\tLowGQX;NoPassedVariantGTs\tSNVHPOL=3;MQ=9\tGT:GQ:GQX:DP:DPF:AD:ADF:ADR:SB:FT:PL\t0/1:12:0:4:0:3,1:1,0:2,1:0.0:LowGQX:14,0,66\n",
      "chr1\t674626\t.\tA\tC\t0\tLowGQX;NoPassedVariantGTs\tSNVHPOL=3;MQ=17\tGT:GQ:GQX:DP:DPF:AD:ADF:ADR:SB:FT:PL\t0/1:7:0:9:0:8,1:8,1:0,0:0.0:LowGQX:8,0,99\n",
      "chr1\t674652\t.\tT\tA\t0\tLowGQX;NoPassedVariantGTs\tSNVHPOL=3;MQ=16\tGT:GQ:GQX:DP:DPF:AD:ADF:ADR:SB:FT:PL\t0/1:7:0:9:0:8,1:8,1:0,0:0.0:LowGQX:8,0,101\n",
      "chr1\t680283\t.\tC\tG\t0\tLowGQX;NoPassedVariantGTs\tSNVHPOL=3;MQ=16\tGT:GQ:GQX:DP:DPF:AD:ADF:ADR:SB:FT:PL\t0/1:7:0:6:0:5,1:0,0:5,1:0.0:LowGQX:8,0,79\n",
      "chr1\t680364\t.\tA\tG\t0\tLowGQX;NoPassedVariantGTs\tSNVHPOL=2;MQ=15\tGT:GQ:GQX:DP:DPF:AD:ADF:ADR:SB:FT:PL\t0/1:5:0:7:0:6,1:0,0:6,1:0.0:LowGQX:5,0,92\n",
      "chr1\t683006\t.\tT\tC\t0\tLowGQX;NoPassedVariantGTs\tSNVHPOL=4;MQ=15\tGT:GQ:GQX:DP:DPF:AD:ADF:ADR:SB:FT:PL\t0/1:11:0:15:0:12,3:5,0:7,3:0.0:LowGQX:12,0,136\n",
      "chr1\t683216\t.\tT\tG\t0\tLowGQX;NoPassedVariantGTs\tSNVHPOL=4;MQ=10\tGT:GQ:GQX:DP:DPF:AD:ADF:ADR:SB:FT:PL\t0/1:13:0:3:0:2,1:0,0:2,1:0.0:LowGQX:16,0,45\n",
      "chr1\t689810\t.\tA\tG\t0\tLowGQX;LowDepth;NoPassedVariantGTs\tSNVHPOL=2;MQ=8\tGT:GQ:GQX:DP:DPF:AD:ADF:ADR:SB:FT:PL\t0/1:14:0:2:0:1,1:1,1:0,0:0.0:LowGQX;LowDepth:18,0,34\n",
      "chr1\t689933\t.\tA\tC\t31\tLowGQX;LowDepth;NoPassedVariantGTs\tSNVHPOL=3;MQ=10\tGT:GQ:GQX:DP:DPF:AD:ADF:ADR:SB:FT:PL\t1/1:5:0:2:1:0,2:0,2:0,0:0.0:LowGQX;LowDepth:67,6,0\n",
      "chr1\t692049\t.\tC\tG\t0\tLowGQX;NoPassedVariantGTs\tSNVHPOL=3;MQ=16\tGT:GQ:GQX:DP:DPF:AD:ADF:ADR:SB:FT:PL\t0/1:12:0:5:0:4,1:1,0:3,1:0.0:LowGQX:14,0,76\n",
      "chr1\t692076\t.\tA\tG\t0\tLowGQX;NoPassedVariantGTs\tSNVHPOL=3;MQ=15\tGT:GQ:GQX:DP:DPF:AD:ADF:ADR:SB:FT:PL\t0/1:18:0:3:0:2,1:1,0:1,1:0.0:LowGQX:21,0,52\n",
      "chr1\t693124\t.\tA\tT\t0\tLowGQX;NoPassedVariantGTs\tSNVHPOL=3;MQ=12\tGT:GQ:GQX:DP:DPF:AD:ADF:ADR:SB:FT:PL\t0/1:8:0:6:0:5,1:3,1:2,0:0.0:LowGQX:10,0,87\n",
      "chr1\t697027\t.\tC\tT\t0\tLowGQX;NoPassedVariantGTs\tSNVHPOL=3;MQ=13\tGT:GQ:GQX:DP:DPF:AD:ADF:ADR:SB:FT:PL\t0/1:12:0:4:0:3,1:2,1:1,0:0.0:LowGQX:14,0,66\n",
      "chr1\t701016\t.\tT\tC\t1\tLowGQX;NoPassedVariantGTs\tSNVHPOL=5;MQ=16\tGT:GQ:GQX:DP:DPF:AD:ADF:ADR:SB:FT:PL\t0/1:27:0:3:0:2,1:2,1:0,0:0.0:LowGQX:30,0,54\n",
      "chr1\t701038\t.\tA\tG\t0\tLowGQX;NoPassedVariantGTs\tSNVHPOL=3;MQ=16\tGT:GQ:GQX:DP:DPF:AD:ADF:ADR:SB:FT:PL\t0/1:15:0:3:0:2,1:2,1:0,0:0.0:LowGQX:18,0,54\n",
      "chr1\t710225\t.\tT\tA\t60\tPASS\tSNVHPOL=4;MQ=23\tGT:GQ:GQX:DP:DPF:AD:ADF:ADR:SB:FT:PL\t0/1:93:5:15:0:9,6:3,1:6,5:-4.1:PASS:95,0,142\n",
      "chr1\t711885\t.\tC\tT\t7\tLowGQX;LowDepth;NoPassedVariantGTs\tSNVHPOL=4;MQ=6\tGT:GQ:GQX:DP:DPF:AD:ADF:ADR:SB:FT:PL\t0/1:3:0:1:0:0,1:0,1:0,0:0.0:LowGQX;LowDepth:41,3,0\n",
      "chr1\t712076\t.\tA\tT\t4\tLowGQX;LowDepth;NoPassedVariantGTs\tSNVHPOL=2;MQ=13\tGT:GQ:GQX:DP:DPF:AD:ADF:ADR:SB:FT:PL\t0/1:3:0:1:0:0,1:0,0:0,1:0.0:LowGQX;LowDepth:37,3,0\n",
      "chr1\t714717\t.\tA\tG\t118\tLowGQX;NoPassedVariantGTs\tSNVHPOL=4;MQ=17\tGT:GQ:GQX:DP:DPF:AD:ADF:ADR:SB:FT:PL\t1/1:18:2:7:1:0,7:0,5:0,2:-13.5:LowGQX:156,21,0\n",
      "chr1\t715045\t.\tT\tG\t0\tLowGQX;NoPassedVariantGTs\tSNVHPOL=2;MQ=9\tGT:GQ:GQX:DP:DPF:AD:ADF:ADR:SB:FT:PL\t0/1:12:0:4:0:3,1:0,0:3,1:0.0:LowGQX:14,0,54\n",
      "chr1\t722403\t.\tT\tA\t0\tLowGQX;NoPassedVariantGTs\tSNVHPOL=6;MQ=15\tGT:GQ:GQX:DP:DPF:AD:ADF:ADR:SB:FT:PL\t0/1:5:0:6:0:5,1:4,1:1,0:0.0:LowGQX:6,0,70\n",
      "chr1\t722408\t.\tG\tC\t70\tLowGQX;NoPassedVariantGTs\tSNVHPOL=5;MQ=14\tGT:GQ:GQX:DP:DPF:AD:ADF:ADR:SB:FT:PL\t1/1:15:1:6:0:0,6:0,5:0,1:-5.9:LowGQX:108,18,0\n",
      "chr1\t724791\t.\tC\tA\t57\tLowGQX;LowDepth;NoPassedVariantGTs\tSNVHPOL=3;MQ=12\tGT:GQ:GQX:DP:DPF:AD:ADF:ADR:SB:FT:PL\t1/1:5:0:2:0:0,2:0,1:0,1:-10.5:LowGQX;LowDepth:93,6,0\n",
      "chr1\t726821\t.\tG\tA\t31\tLowGQX;LowDepth;NoPassedVariantGTs\tSNVHPOL=3;MQ=9\tGT:GQ:GQX:DP:DPF:AD:ADF:ADR:SB:FT:PL\t1/1:5:0:2:0:0,2:0,2:0,0:0.0:LowGQX;LowDepth:67,6,0\n",
      "chr1\t727477\t.\tG\tA\t169\tPASS\tSNVHPOL=3;MQ=22\tGT:GQ:GQX:DP:DPF:AD:ADF:ADR:SB:FT:PL\t1/1:30:7:11:1:0,11:0,3:0,8:-13.1:PASS:207,33,0\n",
      "chr1\t727717\t.\tG\tC\t453\tPASS\tSNVHPOL=3;MQ=27\tGT:GQ:GQX:DP:DPF:AD:ADF:ADR:SB:FT:PL\t1/1:108:9:37:0:0,37:0,19:0,18:-55.5:PASS:370,111,0\n",
      "chr1\t729032\t.\tG\tA\t57\tLowGQX;LowDepth;NoPassedVariantGTs\tSNVHPOL=2;MQ=11\tGT:GQ:GQX:DP:DPF:AD:ADF:ADR:SB:FT:PL\t1/1:5:0:2:0:0,2:0,1:0,1:-10.5:LowGQX;LowDepth:93,6,0\n",
      "chr1\t729103\t.\tG\tT\t52\tLowGQX;LowDepth;NoPassedVariantGTs\tSNVHPOL=3;MQ=12\tGT:GQ:GQX:DP:DPF:AD:ADF:ADR:SB:FT:PL\t1/1:5:0:2:0:0,2:0,1:0,1:-9.6:LowGQX;LowDepth:88,6,0\n",
      "chr1\t729454\t.\tT\tG\t25\tLowGQX;LowDepth;NoPassedVariantGTs\tSNVHPOL=3;MQ=13\tGT:GQ:GQX:DP:DPF:AD:ADF:ADR:SB:FT:PL\t1/1:5:2:2:0:0,2:0,2:0,0:0.0:LowGQX;LowDepth:61,6,0\n",
      "chr1\t731670\t.\tT\tC\t4\tLowGQX;LowDepth;NoPassedVariantGTs\tSNVHPOL=2;MQ=5\tGT:GQ:GQX:DP:DPF:AD:ADF:ADR:SB:FT:PL\t0/1:3:0:1:0:0,1:0,1:0,0:0.0:LowGQX;LowDepth:37,3,0\n",
      "chr1\t732994\t.\tG\tA\t199\tPASS\tSNVHPOL=3;MQ=34\tGT:GQ:GQX:DP:DPF:AD:ADF:ADR:SB:FT:PL\t0/1:210:5:44:1:20,24:6,13:14,11:-21.3:PASS:234,0,207\n",
      "chr1\t734085\t.\tG\tT\t9\tLowGQX;NoPassedVariantGTs\tSNVHPOL=2;MQ=30\tGT:GQ:GQX:DP:DPF:AD:ADF:ADR:SB:FT:PL\t0/1:41:1:20:1:17,3:10,2:7,1:-3.4:LowGQX:43,0,262\n",
      "chr1\t735274\t.\tC\tA\t0\tLowGQX;NoPassedVariantGTs\tSNVHPOL=3;MQ=11\tGT:GQ:GQX:DP:DPF:AD:ADF:ADR:SB:FT:PL\t0/1:19:0:3:0:2,1:2,1:0,0:0.0:LowGQX:22,0,37\n",
      "chr1\t735714\t.\tC\tT\t0\tLowGQX;NoPassedVariantGTs\tSNVHPOL=2;MQ=12\tGT:GQ:GQX:DP:DPF:AD:ADF:ADR:SB:FT:PL\t0/1:15:0:4:0:3,1:1,1:2,0:0.0:LowGQX:18,0,61\n",
      "chr1\t735755\t.\tA\tT\t0\tLowGQX;NoPassedVariantGTs\tSNVHPOL=2;MQ=11\tGT:GQ:GQX:DP:DPF:AD:ADF:ADR:SB:FT:PL\t0/1:16:0:3:0:2,1:1,1:1,0:0.0:LowGQX:19,0,46\n",
      "chr1\t736493\t.\tG\tC\t0\tLowGQX;NoPassedVariantGTs\tSNVHPOL=2;MQ=21\tGT:GQ:GQX:DP:DPF:AD:ADF:ADR:SB:FT:PL\t0/1:17:0:13:0:11,2:10,1:1,1:0.0:LowGQX:18,0,166\n",
      "chr1\t736829\t.\tG\tA\t2\tLowGQX;NoPassedVariantGTs\tSNVHPOL=3;MQ=22\tGT:GQ:GQX:DP:DPF:AD:ADF:ADR:SB:FT:PL\t0/1:30:0:24:0:20,4:8,3:12,1:0.0:LowGQX:31,0,263\n",
      "chr1\t736961\t.\tC\tT\t22\tLowGQX;NoPassedVariantGTs\tSNVHPOL=2;MQ=10\tGT:GQ:GQX:DP:DPF:AD:ADF:ADR:SB:FT:PL\t0/1:52:0:8:0:4,4:0,0:4,4:0.0:LowGQX:57,0,53\n",
      "chr1\t737075\t.\tT\tC\t0\tLowGQX;NoPassedVariantGTs\tSNVHPOL=4;MQ=10\tGT:GQ:GQX:DP:DPF:AD:ADF:ADR:SB:FT:PL\t0/1:12:0:6:1:5,1:0,1:5,0:0.0:LowGQX:14,0,83\n",
      "chr1\t738081\t.\tC\tT\t0\tLowGQX;NoPassedVariantGTs\tSNVHPOL=3;MQ=15\tGT:GQ:GQX:DP:DPF:AD:ADF:ADR:SB:FT:PL\t0/1:4:0:9:0:8,1:0,0:8,1:0.0:LowGQX:4,0,113\n",
      "chr1\t739041\t.\tA\tT\t8\tLowGQX;NoPassedVariantGTs\tSNVHPOL=11;MQ=25\tGT:GQ:GQX:DP:DPF:AD:ADF:ADR:SB:FT:PL\t0/1:40:0:51:1:39,12:14,1:25,11:3.8:LowGQX:42,0,370\n",
      "chr1\t739076\t.\tG\tA\t0\tLowGQX;NoPassedVariantGTs\tSNVHPOL=2;MQ=27\tGT:GQ:GQX:DP:DPF:AD:ADF:ADR:SB:FT:PL\t0/1:4:1:64:0:54,10:21,2:33,8:0.0:LowGQX:3,0,370\n",
      "chr1\t740526\t.\tA\tC\t0\tLowGQX;NoPassedVariantGTs\tSNVHPOL=3;MQ=15\tGT:GQ:GQX:DP:DPF:AD:ADF:ADR:SB:FT:PL\t0/1:13:0:4:0:3,1:2,1:1,0:0.0:LowGQX:15,0,83\n",
      "chr1\t744224\t.\tC\tA\t105\tLowGQX;NoPassedVariantGTs\tSNVHPOL=2;MQ=15\tGT:GQ:GQX:DP:DPF:AD:ADF:ADR:SB:FT:PL\t1/1:18:2:7:0:0,7:0,3:0,4:-15.5:LowGQX:142,21,0\n",
      "chr1\t744408\t.\tT\tG\t1\tLowGQX;LowDepth;NoPassedVariantGTs\tSNVHPOL=4;MQ=7\tGT:GQ:GQX:DP:DPF:AD:ADF:ADR:SB:FT:PL\t0/1:3:0:1:0:0,1:0,0:0,1:0.0:LowGQX;LowDepth:27,3,0\n",
      "chr1\t749482\t.\tG\tA\t73\tLowGQX;NoPassedVariantGTs\tSNVHPOL=2;MQ=14\tGT:GQ:GQX:DP:DPF:AD:ADF:ADR:SB:FT:PL\t0/1:5:0:9:0:1,8:1,5:0,3:-11.1:LowGQX:106,0,1\n",
      "chr1\t753806\t.\tG\tA\t1\tLowGQX;LowDepth;NoPassedVariantGTs\tSNVHPOL=3;MQ=6\tGT:GQ:GQX:DP:DPF:AD:ADF:ADR:SB:FT:PL\t0/1:3:0:1:0:0,1:0,1:0,0:0.0:LowGQX;LowDepth:26,3,0\n",
      "chr1\t754008\t.\tA\tG\t1\tLowGQX;LowDepth;NoPassedVariantGTs\tSNVHPOL=3;MQ=8\tGT:GQ:GQX:DP:DPF:AD:ADF:ADR:SB:FT:PL\t0/1:3:0:1:0:0,1:0,0:0,1:0.0:LowGQX;LowDepth:26,3,0\n",
      "chr1\t754036\t.\tG\tA\t49\tLowGQX;NoPassedVariantGTs\tSNVHPOL=14;MQ=21\tGT:GQ:GQX:DP:DPF:AD:ADF:ADR:SB:FT:PL\t1/1:7:2:3:0:0,3:0,2:0,1:-7.1:LowGQX:86,9,0\n",
      "chr1\t754117\t.\tG\tA\t19\tLowGQX;LowDepth;NoPassedVariantGTs\tSNVHPOL=2;MQ=9\tGT:GQ:GQX:DP:DPF:AD:ADF:ADR:SB:FT:PL\t1/1:5:0:2:0:0,2:0,2:0,0:0.0:LowGQX;LowDepth:55,6,0\n",
      "chr1\t754192\t.\tG\tA\t1\tLowGQX;LowDepth;NoPassedVariantGTs\tSNVHPOL=4;MQ=4\tGT:GQ:GQX:DP:DPF:AD:ADF:ADR:SB:FT:PL\t0/1:3:0:1:0:0,1:0,0:0,1:0.0:LowGQX;LowDepth:27,3,0\n",
      "chr1\t754306\t.\tG\tA\t10\tLowGQX;LowDepth;NoPassedVariantGTs\tSNVHPOL=2;MQ=5\tGT:GQ:GQX:DP:DPF:AD:ADF:ADR:SB:FT:PL\t1/1:5:0:2:0:0,2:0,0:0,2:0.0:LowGQX;LowDepth:45,6,0\n",
      "chr1\t755282\t.\tT\tC\t1\tLowGQX;LowDepth;NoPassedVariantGTs\tSNVHPOL=6;MQ=9\tGT:GQ:GQX:DP:DPF:AD:ADF:ADR:SB:FT:PL\t0/1:3:0:1:0:0,1:0,1:0,0:0.0:LowGQX;LowDepth:28,3,0\n",
      "chr1\t760698\t.\tC\tA\t14\tLowGQX;NoPassedVariantGTs\tSNVHPOL=3;MQ=13\tGT:GQ:GQX:DP:DPF:AD:ADF:ADR:SB:FT:PL\t0/1:43:0:4:0:2,2:1,1:1,1:-5.0:LowGQX:48,0,43\n",
      "chr1\t762745\t.\tA\tG\t0\tLowGQX;NoPassedVariantGTs\tSNVHPOL=3;MQ=13\tGT:GQ:GQX:DP:DPF:AD:ADF:ADR:SB:FT:PL\t0/1:5:0:7:0:6,1:0,0:6,1:0.0:LowGQX:5,0,81\n",
      "chr1\t763514\t.\tG\tT\t1\tLowGQX;LowDepth;NoPassedVariantGTs\tSNVHPOL=4;MQ=8\tGT:GQ:GQX:DP:DPF:AD:ADF:ADR:SB:FT:PL\t0/1:20:0:2:0:1,1:1,1:0,0:0.0:LowGQX;LowDepth:26,0,23\n",
      "chr1\t766566\t.\tA\tG\t124\tPASS\tSNVHPOL=2;MQ=24\tGT:GQ:GQX:DP:DPF:AD:ADF:ADR:SB:FT:PL\t1/1:21:7:8:1:0,8:0,1:0,7:-6.9:PASS:161,24,0\n",
      "chr1\t767384\t.\tT\tA\t0\tLowGQX;NoPassedVariantGTs\tSNVHPOL=6;MQ=10\tGT:GQ:GQX:DP:DPF:AD:ADF:ADR:SB:FT:PL\t0/1:11:0:4:0:3,1:3,1:0,0:0.0:LowGQX:13,0,45\n",
      "chr1\t767401\t.\tA\tT\t0\tLowGQX;LowDepth;NoPassedVariantGTs\tSNVHPOL=2;MQ=9\tGT:GQ:GQX:DP:DPF:AD:ADF:ADR:SB:FT:PL\t0/1:17:0:2:0:1,1:1,1:0,0:0.0:LowGQX;LowDepth:22,0,21\n",
      "chr1\t768987\t.\tT\tC\t190\tPASS\tSNVHPOL=5;MQ=22\tGT:GQ:GQX:DP:DPF:AD:ADF:ADR:SB:FT:PL\t1/1:30:10:11:0:0,11:0,4:0,7:-22.8:PASS:227,33,0\n",
      "chr1\t769033\t.\tA\tC\t0\tLowGQX;NoPassedVariantGTs\tSNVHPOL=5;MQ=26\tGT:GQ:GQX:DP:DPF:AD:ADF:ADR:SB:FT:PL\t0/1:12:0:11:0:8,3:0,3:8,0:0.0:LowGQX:14,0,105\n",
      "chr1\t769942\t.\tA\tC\t0\tLowGQX;LowDepth;NoPassedVariantGTs\tSNVHPOL=6;MQ=10\tGT:GQ:GQX:DP:DPF:AD:ADF:ADR:SB:FT:PL\t0/1:17:0:2:0:1,1:1,1:0,0:0.0:LowGQX;LowDepth:21,0,25\n",
      "chr1\t770779\t.\tT\tA\t0\tLowGQX;NoPassedVariantGTs\tSNVHPOL=2;MQ=23\tGT:GQ:GQX:DP:DPF:AD:ADF:ADR:SB:FT:PL\t0/1:6:0:10:0:9,1:7,0:2,1:0.0:LowGQX:7,0,169\n",
      "chr1\t770988\t.\tA\tG\t118\tPASS\tSNVHPOL=2;MQ=36\tGT:GQ:GQX:DP:DPF:AD:ADF:ADR:SB:FT:PL\t0/1:151:11:21:2:12,9:6,7:6,2:-11.6:PASS:153,0,194\n",
      "chr1\t771097\t.\tA\tG\t1\tLowGQX;NoPassedVariantGTs\tSNVHPOL=2;MQ=13\tGT:GQ:GQX:DP:DPF:AD:ADF:ADR:SB:FT:PL\t0/1:24:0:3:0:2,1:1,1:1,0:0.0:LowGQX:27,0,73\n",
      "chr1\t771398\t.\tG\tA\t196\tPASS\tSNVHPOL=5;MQ=22\tGT:GQ:GQX:DP:DPF:AD:ADF:ADR:SB:FT:PL\t1/1:33:7:12:0:0,12:0,10:0,2:-14.0:PASS:234,36,0\n",
      "chr1\t772711\t.\tA\tG\t1\tLowGQX;LowDepth;NoPassedVariantGTs\tSNVHPOL=3;MQ=10\tGT:GQ:GQX:DP:DPF:AD:ADF:ADR:SB:FT:PL\t0/1:3:0:1:0:0,1:0,0:0,1:0.0:LowGQX;LowDepth:27,3,0\n",
      "chr1\t774055\t.\tG\tA\t5\tLowGQX;NoPassedVariantGTs\tSNVHPOL=4;MQ=11\tGT:GQ:GQX:DP:DPF:AD:ADF:ADR:SB:FT:PL\t0/1:34:0:3:0:2,1:0,0:2,1:0.0:LowGQX:38,0,43\n",
      "chr1\t775840\t.\tC\tCA\t77\tPASS\tCIGAR=1M1I;RU=A;REFREP=20;IDREP=21;MQ=22\tGT:GQ:GQX:DPI:AD:ADF:ADR:FT:PL\t1/1:12:9:12:1,8:1,5:0,3:PASS:81,15,0\n",
      "chr1\t775869\t.\tG\tA\t0\tLowGQX;NoPassedVariantGTs\tSNVHPOL=11;MQ=15\tGT:GQ:GQX:DP:DPF:AD:ADF:ADR:SB:FT:PL\t0/1:17:0:6:2:5,1:2,1:3,0:0.0:LowGQX:19,0,110\n",
      "chr1\t779047\t.\tG\tA\t623\tPASS\tSNVHPOL=2;MQ=52\tGT:GQ:GQX:DP:DPF:AD:ADF:ADR:SB:FT:PL\t1/1:129:18:44:2:0,44:0,20:0,24:-70.6:PASS:370,132,0\n",
      "chr1\t779968\t.\tT\tG\t549\tPASS\tSNVHPOL=3;MQ=59\tGT:GQ:GQX:DP:DPF:AD:ADF:ADR:SB:FT:PL\t1/1:108:22:37:2:0,37:0,16:0,21:-59.7:PASS:370,111,0\n",
      "chr1\t780616\t.\tA\tT\t273\tPASS\tSNVHPOL=10;MQ=25\tGT:GQ:GQX:DP:DPF:AD:ADF:ADR:SB:FT:PL\t1/1:60:14:21:1:0,21:0,11:0,10:-32.6:PASS:310,63,0\n",
      "chr1\t783006\t.\tA\tG\t275\tPASS\tSNVHPOL=3;MQ=35\tGT:GQ:GQX:DP:DPF:AD:ADF:ADR:SB:FT:PL\t1/1:54:14:19:0:0,19:0,16:0,3:-13.1:PASS:313,57,0\n",
      "chr1\t783175\t.\tT\tC\t579\tPASS\tSNVHPOL=2;MQ=53\tGT:GQ:GQX:DP:DPF:AD:ADF:ADR:SB:FT:PL\t1/1:114:18:39:0:0,39:0,28:0,11:-46.0:PASS:370,117,0\n",
      "chr1\t784860\t.\tT\tC\t592\tPASS\tSNVHPOL=2;MQ=48\tGT:GQ:GQX:DP:DPF:AD:ADF:ADR:SB:FT:PL\t1/1:123:18:42:1:0,42:0,22:0,20:-69.0:PASS:370,126,0\n",
      "chr1\t785417\t.\tG\tA\t300\tPASS\tSNVHPOL=4;MQ=32\tGT:GQ:GQX:DP:DPF:AD:ADF:ADR:SB:FT:PL\t1/1:57:14:20:1:0,20:0,8:0,12:-35.0:PASS:338,60,0\n",
      "chr1\t787522\t.\tG\tA\t141\tPASS\tSNVHPOL=6;MQ=39\tGT:GQ:GQX:DP:DPF:AD:ADF:ADR:SB:FT:PL\t0/1:162:17:27:0:12,15:5,8:7,7:-19.7:PASS:176,0,159\n",
      "chr1\t788418\t.\tCAG\tC\t645\tPASS\tCIGAR=1M2D;RU=AG;REFREP=3;IDREP=2;MQ=60\tGT:GQ:GQX:DPI:AD:ADF:ADR:FT:PL\t1/1:73:27:31:0,25:0,14:0,11:PASS:682,76,0\n",
      "chr1\t788511\t.\tG\tC\t395\tPASS\tSNVHPOL=3;MQ=55\tGT:GQ:GQX:DP:DPF:AD:ADF:ADR:SB:FT:PL\t1/1:75:18:26:1:0,26:0,10:0,16:-42.3:PASS:370,78,0\n",
      "chr1\t788757\t.\tT\tTAATGGAATGG\t561\tPASS\tCIGAR=1M10I;RU=AATGG;REFREP=10;IDREP=12;MQ=40\tGT:GQ:GQX:DPI:AD:ADF:ADR:FT:PL\t1/1:68:12:34:0,25:0,15:0,10:PASS:574,71,0\n",
      "chr1\t789481\t.\tG\tA\t0\tLowGQX;NoPassedVariantGTs\tSNVHPOL=2;MQ=41\tGT:GQ:GQX:DP:DPF:AD:ADF:ADR:SB:FT:PL\t0/1:16:0:27:0:22,4:10,4:12,0:0.0:LowGQX:17,0,280\n",
      "chr1\t789489\t.\tC\tA\t222\tLowGQX;NoPassedVariantGTs\tSNVHPOL=2;MQ=43\tGT:GQ:GQX:DP:DPF:AD:ADF:ADR:SB:FT:PL\t0/1:57:2:25:1:5,20:4,8:1,12:-24.2:LowGQX:257,0,54\n",
      "chr1\t789491\t.\tC\tG\t203\tLowGQX;NoPassedVariantGTs\tSNVHPOL=2;MQ=42\tGT:GQ:GQX:DP:DPF:AD:ADF:ADR:SB:FT:PL\t0/1:73:3:24:1:6,18:5,8:1,10:-23.7:LowGQX:238,0,70\n",
      "chr1\t789539\t.\tG\tA\t0\tLowGQX;NoPassedVariantGTs\tSNVHPOL=2;MQ=25\tGT:GQ:GQX:DP:DPF:AD:ADF:ADR:SB:FT:PL\t0/1:7:0:11:1:10,1:10,0:0,1:0.0:LowGQX:8,0,152\n",
      "chr1\t789568\t.\tT\tA\t36\tLowGQX;NoPassedVariantGTs\tSNVHPOL=3;MQ=12\tGT:GQ:GQX:DP:DPF:AD:ADF:ADR:SB:FT:PL\t0/1:69:0:15:3:11,4:11,3:0,1:-7.7:LowGQX:71,0,123\n",
      "chr1\t789573\t.\tA\tT\t32\tLowGQX;NoPassedVariantGTs\tSNVHPOL=3;MQ=6\tGT:GQ:GQX:DP:DPF:AD:ADF:ADR:SB:FT:PL\t0/1:62:0:6:1:2,4:1,4:1,0:0.7:LowGQX:67,0,64\n",
      "chr1\t789653\t.\tT\tA\t0\tLowGQX;NoPassedVariantGTs\tSNVHPOL=2;MQ=25\tGT:GQ:GQX:DP:DPF:AD:ADF:ADR:SB:FT:PL\t0/1:3:0:13:6:12,1:10,1:2,0:0.0:LowGQX:3,0,169\n",
      "chr1\t789680\t.\tA\tT\t6\tLowGQX;NoPassedVariantGTs\tSNVHPOL=3;MQ=14\tGT:GQ:GQX:DP:DPF:AD:ADF:ADR:SB:FT:PL\t0/1:38:0:16:4:13,3:11,2:2,1:-4.1:LowGQX:39,0,183\n",
      "chr1\t790503\t.\tA\tG\t0\tLowGQX;NoPassedVariantGTs\tSNVHPOL=3;MQ=32\tGT:GQ:GQX:DP:DPF:AD:ADF:ADR:SB:FT:PL\t0/1:4:0:44:7:38,6:18,3:20,3:0.0:LowGQX:3,0,370\n",
      "chr1\t790526\t.\tCGAATG\tC\t10\tLowGQX;NoPassedVariantGTs\tCIGAR=1M5D;RU=GAATG;REFREP=4;IDREP=3;MQ=31\tGT:GQ:GQX:DPI:AD:ADF:ADR:FT:PL\t0/1:49:1:56:40,8:22,3:18,5:LowGQX:46,0,661\n",
      "chr1\t790564\t.\tC\tA\t2\tLowGQX;NoPassedVariantGTs\tSNVHPOL=2;MQ=26\tGT:GQ:GQX:DP:DPF:AD:ADF:ADR:SB:FT:PL\t0/1:31:0:44:11:36,8:17,3:19,5:0.0:LowGQX:33,0,370\n",
      "chr1\t790684\t.\tA\tG\t1\tLowGQX;NoPassedVariantGTs\tSNVHPOL=2;MQ=27\tGT:GQ:GQX:DP:DPF:AD:ADF:ADR:SB:FT:PL\t0/1:24:0:56:3:44,12:19,5:25,7:0.0:LowGQX:26,0,370\n",
      "chr1\t790702\t.\tG\tC\t2\tLowGQX;NoPassedVariantGTs\tSNVHPOL=3;MQ=28\tGT:GQ:GQX:DP:DPF:AD:ADF:ADR:SB:FT:PL\t0/1:32:0:53:7:41,12:18,5:23,7:0.0:LowGQX:34,0,370\n",
      "chr1\t790727\t.\tT\tG\t0\tLowGQX;NoPassedVariantGTs\tSNVHPOL=2;MQ=30\tGT:GQ:GQX:DP:DPF:AD:ADF:ADR:SB:FT:PL\t0/1:22:0:48:8:38,10:19,4:19,6:0.0:LowGQX:24,0,370\n",
      "chr1\t790733\t.\tCAATGGAATGG\tC\t339\tPASS\tCIGAR=1M10D;RU=AATGG;REFREP=6;IDREP=4;MQ=29\tGT:GQ:GQX:DPI:AD:ADF:ADR:FT:PL\t0/1:272:9:55:20,24:12,11:8,13:PASS:365,0,269\n",
      "chr1\t790933\t.\tCGAATGGAATG\tC\t492\tPASS\tCIGAR=1M10D;RU=GAATG;REFREP=11;IDREP=9;MQ=35\tGT:GQ:GQX:DPI:AD:ADF:ADR:FT:PL\t1/1:54:12:32:1,25:0,10:1,15:PASS:503,57,0\n",
      "chr1\t791101\t.\tT\tG\t520\tPASS\tSNVHPOL=3;MQ=53\tGT:GQ:GQX:DP:DPF:AD:ADF:ADR:SB:FT:PL\t1/1:105:12:36:2:0,36:0,21:0,15:-55.7:PASS:370,108,0\n",
      "chr1\t791544\t.\tTGAATG\tT\t149\tPASS\tCIGAR=1M5D;RU=GAATG;REFREP=3;IDREP=2;MQ=20\tGT:GQ:GQX:DPI:AD:ADF:ADR:FT:PL\t0/1:7:3:19:2,11:1,8:1,3:PASS:187,0,3\n",
      "chr1\t791564\t.\tC\tG\t75\tLowGQX;NoPassedVariantGTs\tSNVHPOL=2;MQ=17\tGT:GQ:GQX:DP:DPF:AD:ADF:ADR:SB:FT:PL\t0/1:108:0:16:3:9,7:7,6:2,1:-6.2:LowGQX:110,0,143\n",
      "chr1\t792779\t.\tC\tT\t235\tPASS\tSNVHPOL=2;MQ=29\tGT:GQ:GQX:DP:DPF:AD:ADF:ADR:SB:FT:PL\t1/1:42:14:15:0:0,15:0,6:0,9:-26.5:PASS:272,45,0\n",
      "chr1\t792862\t.\tC\tG\t210\tPASS\tSNVHPOL=2;MQ=23\tGT:GQ:GQX:DP:DPF:AD:ADF:ADR:SB:FT:PL\t1/1:39:14:14:0:0,14:0,9:0,5:-25.0:PASS:248,42,0\n",
      "chr1\t794299\t.\tC\tG\t620\tPASS\tSNVHPOL=4;MQ=54\tGT:GQ:GQX:DP:DPF:AD:ADF:ADR:SB:FT:PL\t1/1:126:18:43:1:0,43:0,29:0,14:-52.6:PASS:370,129,0\n",
      "chr1\t795770\t.\tT\tC\t18\tLowGQX;NoPassedVariantGTs\tSNVHPOL=2;MQ=16\tGT:GQ:GQX:DP:DPF:AD:ADF:ADR:SB:FT:PL\t0/1:51:1:8:0:4,4:3,0:1,4:2.1:LowGQX:53,0,75\n",
      "chr1\t798618\t.\tC\tT\t169\tPASS\tSNVHPOL=3;MQ=27\tGT:GQ:GQX:DP:DPF:AD:ADF:ADR:SB:FT:PL\t1/1:27:8:10:1:0,10:0,4:0,6:-20.7:PASS:207,30,0\n",
      "chr1\t798662\t.\tG\tA\t252\tPASS\tSNVHPOL=3;MQ=34\tGT:GQ:GQX:DP:DPF:AD:ADF:ADR:SB:FT:PL\t1/1:42:14:15:2:0,15:0,7:0,8:-31.2:PASS:290,45,0\n",
      "chr1\t799082\t.\tG\tA\t154\tPASS\tSNVHPOL=15;MQ=25\tGT:GQ:GQX:DP:DPF:AD:ADF:ADR:SB:FT:PL\t1/1:21:6:8:1:0,8:0,3:0,5:-20.9:PASS:192,24,0\n",
      "chr1\t799111\t.\tT\tC\t146\tPASS\tSNVHPOL=2;MQ=27\tGT:GQ:GQX:DP:DPF:AD:ADF:ADR:SB:FT:PL\t1/1:27:7:10:0:0,10:0,1:0,9:-6.4:PASS:184,30,0\n",
      "  0.071180 seconds (245 allocations: 210.281 KiB)\n"
     ]
    },
    {
     "data": {
      "text/plain": [
       "Process(`\u001b[4mtabix\u001b[24m \u001b[4m../input/738_variants.vcf.gz\u001b[24m \u001b[4mchr1:500000-800000\u001b[24m`, ProcessExited(0))"
      ]
     },
     "execution_count": 21,
     "metadata": {},
     "output_type": "execute_result"
    }
   ],
   "source": [
    "@time run(`tabix $vcf_file_path_to_use $benchmark_chrom:$benchmark_region_2_start-$benchmark_region_2_end`)"
   ]
  }
 ],
 "metadata": {
  "kernelspec": {
   "display_name": "Julia 1.5.3",
   "language": "julia",
   "name": "julia-1.5"
  },
  "language_info": {
   "file_extension": ".jl",
   "mimetype": "application/julia",
   "name": "julia",
   "version": "1.5.3"
  }
 },
 "nbformat": 4,
 "nbformat_minor": 4
}
